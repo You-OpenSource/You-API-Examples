{
  "cells": [
    {
      "cell_type": "markdown",
      "metadata": {},
      "source": [
        "# LangChain Q & A bot with Web and PDF data retrieval"
      ]
    },
    {
      "cell_type": "markdown",
      "metadata": {},
      "source": [
        "Let's first create a chatbot that retrieves context from a proprietary datasource and the web to answer questions about Consumer Price Index (CPI) changes in the province of British Columbia (BC) in April 2024.  The proprietary datasource is a PDF report highlighting CPI changes in BC in April 2024 over a 12-month period.  The web data needed to answer the question is being retrieved using the You.com API.  The chatbot is implemented as a parallel chain in LangChain."
      ]
    },
    {
      "cell_type": "markdown",
      "metadata": {},
      "source": [
        "## Install all required packages"
      ]
    },
    {
      "cell_type": "code",
      "execution_count": 40,
      "metadata": {},
      "outputs": [],
      "source": [
        "%%capture\n",
        "! pip install openai==1.30.3\n",
        "! pip install langchain==0.2.1\n",
        "! pip install langchain_community==0.2.1\n",
        "! pip install langchain_openai==0.1.7\n",
        "! pip install langchain_text_splitters==0.2.0\n",
        "! pip install langchain_core==0.2.1\n",
        "! pip install numpy==1.26.4\n",
        "! pip install pandas==2.2.2\n",
        "! pip install python-dotenv==1.0.1\n",
        "! pip install pypdf==4.2.0\n",
        "! pip install faiss-cpu==1.8.0\n"
      ]
    },
    {
      "cell_type": "code",
      "execution_count": 41,
      "metadata": {},
      "outputs": [],
      "source": [
        "import langchain\n",
        "import os"
      ]
    },
    {
      "cell_type": "code",
      "execution_count": 42,
      "metadata": {},
      "outputs": [
        {
          "data": {
            "text/plain": [
              "True"
            ]
          },
          "execution_count": 42,
          "metadata": {},
          "output_type": "execute_result"
        }
      ],
      "source": [
        "# The YDC_API_KEY and OPENAI_API_KEY should be defined in a .env file\n",
        "# Let's load the API keys in from the .env file\n",
        "import dotenv\n",
        "dotenv.load_dotenv(\".env\", override=True)\n"
      ]
    },
    {
      "cell_type": "markdown",
      "metadata": {},
      "source": [
        "## Instantiating the You.com Retriever in LangChain"
      ]
    },
    {
      "cell_type": "markdown",
      "metadata": {},
      "source": [
        "LangChain provides a You.com retriever.  For more information, please visit: https://python.langchain.com/v0.1/docs/integrations/retrievers/you-retriever/"
      ]
    },
    {
      "cell_type": "code",
      "execution_count": 43,
      "metadata": {},
      "outputs": [],
      "source": [
        "from langchain_community.retrievers.you import YouRetriever\n",
        "\n",
        "ydc_retriever = YouRetriever(num_web_results = 10)"
      ]
    },
    {
      "cell_type": "code",
      "execution_count": 44,
      "metadata": {},
      "outputs": [
        {
          "data": {
            "text/plain": [
              "[Document(page_content=\"OTTAWA, Feb 20 (Reuters) - Canada's annual inflation rate slowed significantly more than expected to 2.9% in January and core price measures also eased, data showed on Tuesday, bringing forward bets for an early interest rate cut.\", metadata={'url': 'https://www.reuters.com/world/americas/canadas-inflation-rate-drops-more-than-expected-29-january-2024-02-20/', 'thumbnail_url': None, 'title': \"Canada's inflation rate slows and bolsters bets on early rate cut | Reuters\", 'description': \"Canada's annual inflation rate slowed significantly more than expected to 2.9% in January and core price measures also eased, data showed on Tuesday, bringing forward bets for an early interest rate cut.\"}),\n",
              " Document(page_content='The BoC projects headline inflation will remain around 3% in the first half of 2024, before cooling down to 2.5% by end-year. The central bank said last month that while interest rates had helped to bring down overall inflation, which touched a peak of 8.1% in June 2022, categories including shelter costs have fed underlying pressures.', metadata={'url': 'https://www.reuters.com/world/americas/canadas-inflation-rate-drops-more-than-expected-29-january-2024-02-20/', 'thumbnail_url': None, 'title': \"Canada's inflation rate slows and bolsters bets on early rate cut | Reuters\", 'description': \"Canada's annual inflation rate slowed significantly more than expected to 2.9% in January and core price measures also eased, data showed on Tuesday, bringing forward bets for an early interest rate cut.\"}),\n",
              " Document(page_content='Prices of store-bought food rose 3.4% - the slowest pace since August 2021 - also putting downward pressure on headline inflation. Excluding volatile food and energy, prices rose 3.1% compared with a 3.4% rise in December. The Canadian dollar reversed an early morning trend and weakened 0.25% to 1.3522 against the U.S. dollar at 1915 GMT. The two-year government bond yield dropped 13.9 basis points to 4.163%.', metadata={'url': 'https://www.reuters.com/world/americas/canadas-inflation-rate-drops-more-than-expected-29-january-2024-02-20/', 'thumbnail_url': None, 'title': \"Canada's inflation rate slows and bolsters bets on early rate cut | Reuters\", 'description': \"Canada's annual inflation rate slowed significantly more than expected to 2.9% in January and core price measures also eased, data showed on Tuesday, bringing forward bets for an early interest rate cut.\"})]"
            ]
          },
          "execution_count": 44,
          "metadata": {},
          "output_type": "execute_result"
        }
      ],
      "source": [
        "# Let's test it out\n",
        "response = ydc_retriever.invoke(\"Has the inflation in Canada dropped in 2024?\")\n",
        "# Let's take a look at the first 3 responses\n",
        "response[:3]"
      ]
    },
    {
      "cell_type": "markdown",
      "metadata": {},
      "source": [
        "## Creating a Vector DB retriever based on data from a PDF File"
      ]
    },
    {
      "cell_type": "markdown",
      "metadata": {},
      "source": [
        "We are going to load a PDF file using the PyPDFLoader in LangChain.  We will then use the RecursiveTextSplitter in LangChain to split the documents into chunks that can be vectorized.  The vectorized chunks of text will be stored in a Facebook AI Similarity Search (FAISS) vector store.  This vector store will be converted into a LangChain retriever."
      ]
    },
    {
      "cell_type": "code",
      "execution_count": 45,
      "metadata": {},
      "outputs": [],
      "source": [
        "from langchain_community.document_loaders import PyPDFLoader\n",
        "\n",
        "# The PDF file we are using can be downloaded from: https://www2.gov.bc.ca/assets/gov/data/statistics/economy/cpi/cpi_highlights.pdf\n",
        "# load the PDF file\n",
        "loader = PyPDFLoader(\"bc_cpi_highlights.pdf\")\n",
        "docs = loader.load()"
      ]
    },
    {
      "cell_type": "code",
      "execution_count": 46,
      "metadata": {},
      "outputs": [],
      "source": [
        "from langchain_community.vectorstores import FAISS\n",
        "from langchain_openai import OpenAIEmbeddings\n",
        "from langchain.text_splitter import RecursiveCharacterTextSplitter\n",
        "\n",
        "# split the document into chunks, and vectorize these chunks in a FAISS database\n",
        "text_splitter = RecursiveCharacterTextSplitter(chunk_size = 1000, chunk_overlap = 100)\n",
        "notes = text_splitter.split_documents(docs)\n",
        "embeddings = OpenAIEmbeddings()\n",
        "db = FAISS.from_documents(documents=notes, embedding=embeddings)"
      ]
    },
    {
      "cell_type": "code",
      "execution_count": 47,
      "metadata": {},
      "outputs": [
        {
          "data": {
            "text/plain": [
              "'(excluding fish, seafood, and other marine products) \\n(+2.1%). At the same time, fruit, fruit preparations, \\nand nut s was the only major food category to \\ndecrease in price (- 0.1%)  \\nBritish Columbians paid more for both  health (+2.7%) \\nand personal (+ 2.0%) care  when compared to \\n12-months ago. Services, instead of items within \\nthese categories, had the largest price increase. Personal services (such a hairdressing) cost 4.8% \\nmore when compared to 12 -months ago, while the \\ncost of health care services (such as eye and dental \\ncare) increased by 4.3%.  Consumer Price \\nIndex   \\n \\n \\nReference date:  April  2024  Issue:  #24-04 Released:  May 21 , 2024 \\n      \\n-5.8-1.91.92.22.32.62.82.96.8\\nClothing & FootwearHouseholdRecreationAlc., Tob., & CannabisHealth & PersonalFoodTransportationAll-itemsShelterInflation by Category\\n% change, same month previous year'"
            ]
          },
          "execution_count": 47,
          "metadata": {},
          "output_type": "execute_result"
        }
      ],
      "source": [
        "# test out the similarity search\n",
        "query = \"How much did food prices increase in April 2024?\"\n",
        "response = db.similarity_search(query, k=3)\n",
        "response[0].page_content"
      ]
    },
    {
      "cell_type": "code",
      "execution_count": 48,
      "metadata": {},
      "outputs": [],
      "source": [
        "# Create the retriever\n",
        "faiss_retriever = db.as_retriever()"
      ]
    },
    {
      "cell_type": "markdown",
      "metadata": {},
      "source": [
        "## Create an Ensemble Retriever using the You.Com Retriever and the FAISS Retriever"
      ]
    },
    {
      "cell_type": "markdown",
      "metadata": {},
      "source": [
        "The Ensemble Retriever in LangChain ensembles results from multiple retrievers.  We will create an Ensemble Retriever with the FAISS vector store retriever and the You.com retriever that we defined above as constituent retrievers."
      ]
    },
    {
      "cell_type": "code",
      "execution_count": 49,
      "metadata": {},
      "outputs": [],
      "source": [
        "from langchain.retrievers import EnsembleRetriever\n",
        "\n",
        "ensemble_retriever = EnsembleRetriever(\n",
        "    retrievers = [ydc_retriever, faiss_retriever], weights = [0.5, 0.5]\n",
        ")"
      ]
    },
    {
      "cell_type": "markdown",
      "metadata": {},
      "source": [
        "## Instantiate the LLM"
      ]
    },
    {
      "cell_type": "code",
      "execution_count": 50,
      "metadata": {},
      "outputs": [],
      "source": [
        "from langchain_openai import ChatOpenAI\n",
        "llm = ChatOpenAI(model=\"gpt-4o\", temperature=0.5)"
      ]
    },
    {
      "cell_type": "markdown",
      "metadata": {},
      "source": [
        "## Create the Prompt Template"
      ]
    },
    {
      "cell_type": "code",
      "execution_count": 51,
      "metadata": {},
      "outputs": [],
      "source": [
        "system_prompt = \"\"\"\n",
        "You are an assistant that answers questions pertaining to CPI (Consumer Price Index).  Please utilize the following retrieved context from the web and from a proprietary\n",
        "datasource to provide an accurate answer to the question.  Please try and utilize numbers where applicable to substantiate your answer.  If you do not know the answer, simply say you do not \n",
        "know the answer.  Please keep the response concise.\n",
        "\n",
        "{context}\n",
        "\"\"\""
      ]
    },
    {
      "cell_type": "code",
      "execution_count": 52,
      "metadata": {},
      "outputs": [],
      "source": [
        "from langchain_core.prompts import ChatPromptTemplate, MessagesPlaceholder\n",
        "\n",
        "qa_prompt = ChatPromptTemplate.from_messages(\n",
        "    [\n",
        "        (\"system\", system_prompt),\n",
        "        (\"human\", \"{input}\"),\n",
        "    ]\n",
        ")"
      ]
    },
    {
      "cell_type": "markdown",
      "metadata": {},
      "source": [
        "## Create a basic chain without chat history"
      ]
    },
    {
      "cell_type": "markdown",
      "metadata": {},
      "source": [
        "We will test our chain first without chat history."
      ]
    },
    {
      "cell_type": "code",
      "execution_count": 53,
      "metadata": {},
      "outputs": [],
      "source": [
        "from langchain.chains.combine_documents import create_stuff_documents_chain\n",
        "from langchain.chains import create_retrieval_chain\n",
        "\n",
        "qa_chain = create_stuff_documents_chain(llm, qa_prompt)\n",
        "rag_chain = create_retrieval_chain(ensemble_retriever, qa_chain)"
      ]
    },
    {
      "cell_type": "code",
      "execution_count": 54,
      "metadata": {},
      "outputs": [],
      "source": [
        "response = rag_chain.invoke({\"input\": \"How did the CPI in April 2024 in BC compare to the national CPI in Canada?\"})"
      ]
    },
    {
      "cell_type": "code",
      "execution_count": 55,
      "metadata": {},
      "outputs": [
        {
          "data": {
            "text/plain": [
              "\"In April 2024, British Columbia's Consumer Price Index (CPI) was 2.9% higher than in April 2023. Nationally, Canada's CPI increased by 2.7% over the same period. Therefore, the CPI growth in British Columbia was slightly higher than the national average.\""
            ]
          },
          "execution_count": 55,
          "metadata": {},
          "output_type": "execute_result"
        }
      ],
      "source": [
        "response[\"answer\"]"
      ]
    },
    {
      "cell_type": "markdown",
      "metadata": {},
      "source": [
        "## Add chat history to our chatbot"
      ]
    },
    {
      "cell_type": "markdown",
      "metadata": {},
      "source": [
        "Chat history is an integral component of any chat application, as the input query might require additional conversational context to be understood by the LLM.  We are going to add chat history to our chatbot and contextualize the input prompts with chat history."
      ]
    },
    {
      "cell_type": "code",
      "execution_count": 56,
      "metadata": {},
      "outputs": [],
      "source": [
        "# Create a prompt that utilizes the chat history as context to reformulate the most recent input, as a standalone question that the LLM can comprehend\n",
        "from langchain.chains import create_history_aware_retriever\n",
        "\n",
        "contextualize_q_system_prompt = \"\"\"\n",
        "Given a chat history and the latest question, which might reference context in the chat history, formulate a standalone question, which can be understood without chat history.\n",
        "Do not answer the question, just reformulate the question if necessary and return it as it otherwise.\n",
        "\"\"\"\n",
        "\n",
        "contextualize_q_prompt = ChatPromptTemplate.from_messages(\n",
        "    [\n",
        "        (\"system\", contextualize_q_system_prompt),\n",
        "        MessagesPlaceholder(\"chat_history\"),\n",
        "        (\"human\", \"{input}\")\n",
        "    ]\n",
        ")"
      ]
    },
    {
      "cell_type": "code",
      "execution_count": 57,
      "metadata": {},
      "outputs": [],
      "source": [
        "# Create a chain that takes conversation history and contextualizes the prompt\n",
        "history_aware_retriever = create_history_aware_retriever(llm, ensemble_retriever, contextualize_q_prompt)"
      ]
    },
    {
      "cell_type": "code",
      "execution_count": 58,
      "metadata": {},
      "outputs": [],
      "source": [
        "# rejig qa prompt to include the chat history\n",
        "qa_prompt = ChatPromptTemplate.from_messages(\n",
        "    [\n",
        "        (\"system\", system_prompt),\n",
        "        MessagesPlaceholder(\"chat_history\"),\n",
        "        (\"human\", \"{input}\")\n",
        "    ]\n",
        ")"
      ]
    },
    {
      "cell_type": "code",
      "execution_count": 59,
      "metadata": {},
      "outputs": [],
      "source": [
        "from langchain_core.chat_history import BaseChatMessageHistory\n",
        "from langchain_community.chat_message_histories import ChatMessageHistory\n",
        "\n",
        "# statefully manage session history\n",
        "store = {}\n",
        "\n",
        "def get_session_history(session_id: str) -> BaseChatMessageHistory:\n",
        "    if session_id not in store:\n",
        "        store[session_id] = ChatMessageHistory()\n",
        "        \n",
        "    return store[session_id]"
      ]
    },
    {
      "cell_type": "code",
      "execution_count": 60,
      "metadata": {},
      "outputs": [],
      "source": [
        "# create chains that include message history\n",
        "qa_chain = create_stuff_documents_chain(llm, qa_prompt)\n",
        "rag_chain = create_retrieval_chain(history_aware_retriever, qa_chain)"
      ]
    },
    {
      "cell_type": "code",
      "execution_count": 61,
      "metadata": {},
      "outputs": [],
      "source": [
        "from langchain_core.runnables.history import RunnableWithMessageHistory\n",
        "\n",
        "# create final chain that ties everything together\n",
        "\n",
        "conversation_rag_chain = RunnableWithMessageHistory(\n",
        "    rag_chain,\n",
        "    get_session_history,\n",
        "    input_messages_key = \"input\",\n",
        "    history_messages_key = \"chat_history\",\n",
        "    output_messages_key = \"answer\"\n",
        ")"
      ]
    },
    {
      "cell_type": "markdown",
      "metadata": {},
      "source": [
        "## Let's try it out!"
      ]
    },
    {
      "cell_type": "code",
      "execution_count": 62,
      "metadata": {},
      "outputs": [
        {
          "data": {
            "text/plain": [
              "'In April 2024, food prices in British Columbia increased by 2.6% compared to April 2023.'"
            ]
          },
          "execution_count": 62,
          "metadata": {},
          "output_type": "execute_result"
        }
      ],
      "source": [
        "conversation_rag_chain.invoke({\"input\": \"How much did food prices increase in April 2024 in BC compared to April 2023?\"}, config = {\"configurable\": {\"session_id\": \"xyz_789\"}})[\"answer\"]"
      ]
    },
    {
      "cell_type": "code",
      "execution_count": 63,
      "metadata": {},
      "outputs": [
        {
          "data": {
            "text/plain": [
              "'In April 2024, food prices in British Columbia increased by 2.6% compared to April 2023. Nationally, food prices in Canada increased by 2.3% over the same period. Therefore, the increase in food prices in British Columbia was slightly higher than the national average.'"
            ]
          },
          "execution_count": 63,
          "metadata": {},
          "output_type": "execute_result"
        }
      ],
      "source": [
        "conversation_rag_chain.invoke({\"input\": \"How does that compare to the increase in food prices across the nation?\"}, config = {\"configurable\": {\"session_id\": \"xyz_789\"}})[\"answer\"]"
      ]
    },
    {
      "cell_type": "code",
      "execution_count": 67,
      "metadata": {},
      "outputs": [
        {
          "data": {
            "text/plain": [
              "'The rising food prices in British Columbia in April 2024 were influenced by several factors:\\n\\n1. **General Inflation**: Overall inflationary pressures contributed to the rise in food prices.\\n2. **Supply Chain Disruptions**: Ongoing issues in the supply chain, including transportation and logistics challenges, impacted the availability and cost of food items.\\n3. **Climate Events**: Adverse climate events such as wildfires and flooding affected agricultural production, leading to higher prices for certain food products.\\n4. **Increased Production Costs**: Rising costs for labor, energy, and other inputs necessary for food production also played a role.\\n5. **High Demand for Specific Products**: Increased demand for items like meat, bakery goods, and vegetables drove up prices in these categories.\\n\\nThese factors combined to push food prices higher in British Columbia in April 2024.'"
            ]
          },
          "execution_count": 67,
          "metadata": {},
          "output_type": "execute_result"
        }
      ],
      "source": [
        "conversation_rag_chain.invoke({\"input\": \"What contributed to the rising food prices in BC in April 2024?\"}, config = {\"configurable\": {\"session_id\": \"xyz_789\"}})[\"answer\"]"
      ]
    },
    {
      "cell_type": "code",
      "execution_count": 66,
      "metadata": {},
      "outputs": [
        {
          "data": {
            "text/plain": [
              "\"In April 2024, the Consumer Price Index (CPI) in British Columbia increased by 2.9% compared to April 2023. Nationally, Canada's CPI was up by 2.7% over the same period. Therefore, the CPI increase in British Columbia was slightly higher than the national average.\""
            ]
          },
          "execution_count": 66,
          "metadata": {},
          "output_type": "execute_result"
        }
      ],
      "source": [
        "conversation_rag_chain.invoke({\"input\": \"How did the CPI in April 2024 in BC compare to the national CPI in Canada?\"}, config = {\"configurable\": {\"session_id\": \"xyz_789\"}})[\"answer\"]"
      ]
    },
    {
      "cell_type": "markdown",
      "metadata": {},
      "source": [
        "## Create a Python object that encapsulates the functionality of creating a chatbot that retrieves context from PDF files and the web"
      ]
    },
    {
      "cell_type": "markdown",
      "metadata": {},
      "source": [
        "Let's create a Python class that encapsulates the code above.  This will enable users to easily create chatbots for new use cases with custom PDF files and prompts."
      ]
    },
    {
      "cell_type": "code",
      "execution_count": 68,
      "metadata": {},
      "outputs": [],
      "source": [
        "import secrets\n",
        "class PDF_QA_Bot:\n",
        "    def __init__(self, llm: ChatOpenAI, pdf_files: list[str], system_prompt: str, num_web_results_to_fetch: int = 10):\n",
        "        \n",
        "        self._llm = llm\n",
        "        \n",
        "        docs = self._load_pdf_documents(pdf_files)\n",
        "        \n",
        "        # split the docs into chunks, vectorize the chunks and load them into a vector store\n",
        "        db = self._create_vector_store(docs)\n",
        "        \n",
        "        # create LangChain retriever from the vector store\n",
        "        self._faiss_retriever = db.as_retriever()\n",
        "        \n",
        "        # create YDC retriever\n",
        "        self._ydc_retriever = YouRetriever(num_web_results = num_web_results_to_fetch)\n",
        "\n",
        "        # create ensemble retriever \n",
        "        self._ensemble_retriever = EnsembleRetriever(\n",
        "            retrievers = [self._ydc_retriever, self._faiss_retriever], weights = [0.5, 0.5]\n",
        "        )\n",
        "\n",
        "        # create the system prompt from the user input\n",
        "        self._system_prompt = system_prompt + \"\\n\\n\" + \"{context}\"\n",
        "\n",
        "        self._contextualize_q_system_prompt = \"\"\"\n",
        "        Given a chat history and the latest question, which might reference context in the chat history, formulate a standalone question, which can be understood without chat history.\n",
        "        Do not answer the question, just reformulate the question if necessary and return it as it otherwise.\n",
        "        \"\"\"\n",
        "\n",
        "        # Create a prompt that utilizes the chat history as context to reformulate the most recent input, as a standalone question that the LLM can comprehend\n",
        "        self._contextualize_q_prompt = ChatPromptTemplate.from_messages(\n",
        "            [\n",
        "                (\"system\", self._contextualize_q_system_prompt),\n",
        "                MessagesPlaceholder(\"chat_history\"),\n",
        "                (\"human\", \"{input}\")\n",
        "            ]\n",
        "        )\n",
        "\n",
        "        self._history_aware_retriever = create_history_aware_retriever(self._llm, self._ensemble_retriever, self._contextualize_q_prompt)\n",
        "\n",
        "        self._qa_prompt = ChatPromptTemplate.from_messages(\n",
        "            [\n",
        "                (\"system\", self._system_prompt),\n",
        "                MessagesPlaceholder(\"chat_history\"),\n",
        "                (\"human\", \"{input}\")\n",
        "            ]\n",
        "        )\n",
        "\n",
        "        self._messages_store = {}\n",
        "        self._session_id = self._generate_session_id()\n",
        "\n",
        "        # create chains that include message history\n",
        "        self._qa_chain = create_stuff_documents_chain(self._llm, self._qa_prompt)\n",
        "        self._rag_chain = create_retrieval_chain(self._history_aware_retriever, self._qa_chain)\n",
        "\n",
        "        # create final chain that ties everything together\n",
        "        self._conversation_rag_chain = RunnableWithMessageHistory(\n",
        "            self._rag_chain,\n",
        "            self._get_session_history,\n",
        "            input_messages_key = \"input\",\n",
        "            history_messages_key = \"chat_history\",\n",
        "            output_messages_key = \"answer\"\n",
        "        )\n",
        "        \n",
        "    def _load_pdf_documents(self, pdf_files: list[str]) -> list:\n",
        "        docs = []\n",
        "        for file in pdf_files:\n",
        "            file_loader = PyPDFLoader(file)\n",
        "            docs.extend(file_loader.load())\n",
        "        return docs\n",
        "    \n",
        "    def _create_vector_store(self, docs: list):\n",
        "        text_splitter = RecursiveCharacterTextSplitter(chunk_size=1000, chunk_overlap=100)\n",
        "        chunked_docs = text_splitter.split_documents(docs)\n",
        "        embeddings = OpenAIEmbeddings()\n",
        "        return FAISS.from_documents(documents=chunked_docs, embedding=embeddings)\n",
        "    \n",
        "    \n",
        "    def _get_session_history(self, session_id) -> BaseChatMessageHistory:\n",
        "        \"\"\"Statefully manage chat history\"\"\"\n",
        "        if session_id not in self._messages_store:\n",
        "            self._messages_store[session_id] = ChatMessageHistory()\n",
        "            \n",
        "        return self._messages_store[self._session_id]\n",
        "    \n",
        "    def _generate_session_id(self) -> str:\n",
        "        session_id = secrets.token_urlsafe(16)\n",
        "        return session_id\n",
        "    \n",
        "    def invoke_bot(self, input_str: str) -> str:\n",
        "        input = {\"input\": input_str}\n",
        "        config = {\"configurable\": {\"session_id\": self._session_id}}\n",
        "        output = self._conversation_rag_chain.invoke(input, config)\n",
        "        return output[\"answer\"]\n",
        "        \n",
        "\n",
        "        "
      ]
    },
    {
      "cell_type": "markdown",
      "metadata": {},
      "source": [
        "## Let's try it out on a new use case with a different document!"
      ]
    },
    {
      "cell_type": "markdown",
      "metadata": {},
      "source": [
        "We will utilize our object to implement a chatbot that answers questions about student housing and residences at the University of Toronto.  The chatbot retrieves relevant context from a PDF brochure about student housing options at the University of Toronto and the web using the You.com API to answer questions."
      ]
    },
    {
      "cell_type": "code",
      "execution_count": 69,
      "metadata": {},
      "outputs": [],
      "source": [
        "llm = ChatOpenAI(model=\"gpt-4o\", temperature=0.5)\n",
        "conversational_rag_system_prompt = \"\"\"You are an assistant that answers questions pertaining to student housing and residence options at the University of Toronto (UofT).  Please utilize relevant context from the web and a brochure about student housing options\n",
        "to provide an accurate response to the question.  If you do not know the answer to a question, simply say you do not know the answer.\"\"\"\n",
        "\n",
        "# The PDF file being used in this example can be downloaded from: https://studentlife.utoronto.ca/wp-content/uploads/Student-Housing-Brochure.pdf\n",
        "conversational_rag = PDF_QA_Bot(llm, pdf_files=[\"Student-Housing-Brochure.pdf\"], system_prompt=conversational_rag_system_prompt, num_web_results_to_fetch=10)"
      ]
    },
    {
      "cell_type": "code",
      "execution_count": 70,
      "metadata": {},
      "outputs": [
        {
          "data": {
            "text/plain": [
              "'The residences at the University of Toronto that do not offer a mandatory meal plan are:\\n\\n- Innis College\\n- Woodsworth College\\n- Graduate House\\n- University Family Housing\\n\\nResidents of these accommodations can purchase optional meal plans for use around campus if they wish. For more information on optional meal plans, you can visit [foodservices.utoronto.ca](http://foodservices.utoronto.ca).'"
            ]
          },
          "execution_count": 70,
          "metadata": {},
          "output_type": "execute_result"
        }
      ],
      "source": [
        "conversational_rag.invoke_bot(\"Which residences at the University of Toronto do not offer a meal plan?\")"
      ]
    },
    {
      "cell_type": "code",
      "execution_count": 71,
      "metadata": {},
      "outputs": [
        {
          "data": {
            "text/plain": [
              "\"Nearby Innis College, you can find several food establishments that cater to various tastes and dietary preferences:\\n\\n1. **Innis Cafe**: Located within Innis College, this cafe offers freshly-made, healthy food with options for vegan and halal diets. It is known for its friendly staff and quick service, making it a popular spot for students.\\n\\n2. **MeeT You 177 on College**: Just minutes from U of T, this place offers bubble tea and Chinese food, including favorites like Kung Pao chicken, dumplings, and beef with vegetables.\\n\\n3. **Einstein's Pub**: Located on College Street, this pub is a go-to spot for students, especially after exams. It offers a variety of craft beers and a simple menu of bar food, including fantastic wings.\\n\\n4. **Diabolos' Coffee Bar**: Situated in the Junior Common Room of University College, this student-owned and operated cafe offers fair trade coffee, tea, and snacks, including freshly baked muffins and vegan treats.\\n\\n5. **Second Cup at New College**: If you're looking for a sweet treat or a healthy snack along with a nice cup of fair trade coffee or tea, this cafe offers vegan and vegetarian options as well.\\n\\nThese establishments provide a variety of options, from quick snacks and beverages to more substantial meals, catering to different dietary needs and preferences.\""
            ]
          },
          "execution_count": 71,
          "metadata": {},
          "output_type": "execute_result"
        }
      ],
      "source": [
        "conversational_rag.invoke_bot(\"What food establishments are located nearby the Innis College?\")"
      ]
    },
    {
      "cell_type": "code",
      "execution_count": 33,
      "metadata": {},
      "outputs": [
        {
          "data": {
            "text/plain": [
              "\"At the University of Toronto, the residences that are female-only are:\\n\\n1. **Loretto College**: This residence is specifically for female students and is affiliated with St. Michael's College.\\n\\nThese residences provide a supportive environment tailored to female students. If you have specific needs or preferences, it's always a good idea to contact the residence directly for more detailed information.\""
            ]
          },
          "execution_count": 33,
          "metadata": {},
          "output_type": "execute_result"
        }
      ],
      "source": [
        "conversational_rag.invoke_bot(\"Which residences are female only at UofT?\")"
      ]
    },
    {
      "cell_type": "code",
      "execution_count": 34,
      "metadata": {},
      "outputs": [
        {
          "data": {
            "text/plain": [
              "'Yes, a meal plan is mandatory at Loretto College. All residents are required to participate in the meal plan because there are no cooking facilities in the dorms. The dining hall offers a variety of food options, including vegan and halal choices, to cater to different dietary needs.'"
            ]
          },
          "execution_count": 34,
          "metadata": {},
          "output_type": "execute_result"
        }
      ],
      "source": [
        "conversational_rag.invoke_bot(\"Is a meal plan mandatory at Loretto College?\")"
      ]
    },
    {
      "cell_type": "code",
      "execution_count": 35,
      "metadata": {},
      "outputs": [
        {
          "data": {
            "text/plain": [
              "'The cost of the meal plan at Loretto College is included in the overall residence fees. For the 2023-24 academic year, the total cost for living at Loretto College ranges from $17,284 to $18,714. This fee covers both the accommodation and the mandatory meal plan.'"
            ]
          },
          "execution_count": 35,
          "metadata": {},
          "output_type": "execute_result"
        }
      ],
      "source": [
        "conversational_rag.invoke_bot(\"What is the cost of a meal plan at Loretto College?\")"
      ]
    },
    {
      "cell_type": "code",
      "execution_count": 36,
      "metadata": {},
      "outputs": [
        {
          "data": {
            "text/plain": [
              "'At Loretto College, the room types offered include:\\n\\n1. **Double Rooms**: Available for first-year students. Two double rooms share an ensuite washroom.\\n2. **Single Rooms**: Available for upper-year students. Single rooms have an individual sink in the room and share a common washroom with other single rooms.\\n\\nThese room types provide different levels of privacy and convenience, catering to the needs of both first-year and upper-year students.'"
            ]
          },
          "execution_count": 36,
          "metadata": {},
          "output_type": "execute_result"
        }
      ],
      "source": [
        "conversational_rag.invoke_bot(\"What room types are offered at Loretto College?\")"
      ]
    },
    {
      "cell_type": "code",
      "execution_count": 37,
      "metadata": {},
      "outputs": [
        {
          "data": {
            "text/plain": [
              "\"Yes, there are several attractions, museums, and fun activities near Loretto College, given its prime location in downtown Toronto. Here are some notable options:\\n\\n1. **Royal Ontario Museum (ROM)**: Just steps away from Loretto College, the ROM is one of North America's largest museums, featuring art, culture, and nature from around the globe.\\n\\n2. **Yorkville**: This vibrant neighborhood is known for its upscale shopping, dining, and cultural attractions. It's a great place to explore boutique stores, art galleries, and trendy cafes.\\n\\n3. **Bata Shoe Museum**: A unique museum dedicated to footwear from around the world, showcasing a collection of over 13,000 shoes.\\n\\n4. **Gardiner Museum**: Specializing in ceramics, this museum offers engaging exhibitions and hands-on workshops.\\n\\n5. **Casa Loma**: A short distance away, this historic castle offers tours, beautiful gardens, and themed events.\\n\\n6. **Queen’s Park**: A large public park that is perfect for a relaxing walk or a picnic. It’s also home to the Ontario Legislative Building.\\n\\n7. **Eaton Centre**: A large shopping mall with a wide variety of stores, dining options, and entertainment.\\n\\n8. **Art Gallery of Ontario (AGO)**: One of the most distinguished art museums in North America, featuring a vast collection of Canadian, Indigenous, and international art.\\n\\n9. **Kensington Market**: A diverse and eclectic neighborhood known for its vintage shops, international food markets, and vibrant street art.\\n\\nThese nearby attractions provide a variety of cultural, educational, and recreational activities for students living at Loretto College.\""
            ]
          },
          "execution_count": 37,
          "metadata": {},
          "output_type": "execute_result"
        }
      ],
      "source": [
        "conversational_rag.invoke_bot(\"Are there any attractions, museums, fun things to do close to Loretto College?\")"
      ]
    },
    {
      "cell_type": "code",
      "execution_count": 38,
      "metadata": {},
      "outputs": [
        {
          "data": {
            "text/plain": [
              "'Yorkville is one of Toronto\\'s most vibrant and upscale neighborhoods, offering a wide range of activities and attractions. Here are some things you can do in Yorkville:\\n\\n### Shopping:\\n1. **Designer Boutiques**: Explore high-end designer stores like Chanel, Gucci, Hermès, Louis Vuitton, and Prada. This stretch of Bloor Street is known as the \"Mink Mile\" due to its concentration of luxury brands.\\n2. **Holt Renfrew**: Visit this flagship luxury department store, which features brands like Giorgio Armani, Dolce & Gabbana, and Valentino, along with a salon, spa, restaurant, and cafe.\\n3. **Yorkville Village Shopping Center**: A chic shopping center with trendy fashion and lifestyle brands.\\n\\n### Dining:\\n1. **High-End Restaurants**: Enjoy fine dining at renowned restaurants offering a variety of international cuisines.\\n2. **Cafes and Bistros**: Relax at one of the many quaint cafes and bistros scattered throughout the neighborhood.\\n\\n### Art and Culture:\\n1. **Art Galleries**: Visit numerous art galleries showcasing contemporary and classic works of art.\\n2. **Royal Ontario Museum (ROM)**: Although technically just outside Yorkville, it\\'s within walking distance and features extensive collections of art, world culture, and natural history.\\n\\n### Entertainment:\\n1. **Varsity Cinemas**: Catch a movie at this upscale cinema located in the heart of Yorkville.\\n2. **Live Music and Events**: Some local venues offer live music and special events, providing a lively nightlife scene.\\n\\n### Parks and Leisure:\\n1. **Yorkville Park**: A small but charming park ideal for a rest or some people-watching. It features various sections representing different Canadian landscapes.\\n2. **Walking Tours**: Explore the neighborhood\\'s Victorian architecture and cobblestone streets, reflecting its historical background.\\n\\n### Wellness:\\n1. **Spas and Salons**: Indulge in a day of pampering at one of the many luxury spas and salons in the area.\\n2. **Fitness Studios**: Join a yoga class or a fitness session at one of the local studios.\\n\\n### Special Events:\\n1. **Fashion and Art Exhibitions**: Yorkville often hosts unique events, exhibitions, and pop-up stores, especially during the Toronto International Film Festival (TIFF).\\n\\n### Historical Exploration:\\n1. **Historical Sites**: Discover historical landmarks and learn about Yorkville\\'s past as a bohemian cultural center in the 1960s.\\n\\nWhether you\\'re interested in shopping, dining, art, or simply exploring, Yorkville offers a diverse array of activities to suit various interests.'"
            ]
          },
          "execution_count": 38,
          "metadata": {},
          "output_type": "execute_result"
        }
      ],
      "source": [
        "conversational_rag.invoke_bot(\"What is there to do in the Yorkville neighborhood?\")"
      ]
    },
    {
      "cell_type": "code",
      "execution_count": 39,
      "metadata": {},
      "outputs": [
        {
          "data": {
            "text/plain": [
              "\"Yorkville is home to a diverse and impressive array of restaurants, catering to various tastes and preferences. Here are some notable dining options in the neighborhood:\\n\\n### Fine Dining:\\n1. **Sassafraz**: Known for its contemporary Canadian cuisine, Sassafraz is set in a beautifully restored Victorian rowhouse and offers a magical dining experience.\\n2. **Café Boulud**: Located in the Four Seasons Hotel, this French brasserie by the renowned Chef Daniel Boulud offers a luxurious dining experience.\\n3. **ONE Restaurant**: Chef Mark McEwan’s culinary concept at The Hazelton Hotel, known for its French and Italian flavors, craft cocktails, and a spacious patio.\\n\\n### Casual and Contemporary Dining:\\n4. **Planta**: An upscale, plant-based restaurant that promotes environmental sustainability with innovative vegan cuisine.\\n5. **Alobar Yorkville**: A Michelin-starred restaurant offering a chic dining experience with a focus on upscale cocktails and contemporary dishes.\\n6. **Dimmi Bar & Trattoria**: Serving authentic Italian cuisine in a cozy, welcoming atmosphere.\\n\\n### International Cuisine:\\n7. **The Host Fine Indian Cuisine**: Known for its dedication to quality and consistency in Indian cuisine, offering both traditional and innovative dishes.\\n8. **Kasa Moto**: A swanky spot for contemporary sushi and Japanese dishes.\\n9. **Hemingway’s**: A popular bar offering New Zealand-inspired pub fare with a year-round rooftop patio.\\n\\n### Specialty and Unique Dining:\\n10. **Chabrol**: A tiny French bistro known for its intimate atmosphere and exquisite dishes like the quenelle de brochet.\\n11. **Avelo Restaurant**: Serving some of the city's finest plant-based cuisine in a heritage townhouse, geared towards adventurous diners.\\n12. **STK Steakhouse**: A high-energy dining experience that combines the quality of a traditional steakhouse with a vibrant dining atmosphere.\\n\\n### Cafes and Light Bites:\\n13. **Holt’s Café**: Located within Holt Renfrew, offering a sophisticated setting for a light meal or coffee.\\n14. **Dineen Outpost**: A chic café known for its excellent coffee and pastries.\\n\\n### Dessert and Sweets:\\n15. **Summer’s Ice Cream**: A beloved local spot for homemade ice cream with a variety of flavors.\\n\\nThese restaurants offer a range of dining experiences, from casual bites to luxurious meals, ensuring that there's something for everyone in Yorkville.\""
            ]
          },
          "execution_count": 39,
          "metadata": {},
          "output_type": "execute_result"
        }
      ],
      "source": [
        "conversational_rag.invoke_bot(\"What restaurants are located in the neighborhood?\")"
      ]
    }
  ],
  "metadata": {
    "kernelspec": {
      "display_name": "llm-practice",
      "language": "python",
      "name": "python3"
    },
    "language_info": {
      "codemirror_mode": {
        "name": "ipython",
        "version": 3
      },
      "file_extension": ".py",
      "mimetype": "text/x-python",
      "name": "python",
      "nbconvert_exporter": "python",
      "pygments_lexer": "ipython3",
      "version": "3.10.14"
    }
  },
  "nbformat": 4,
  "nbformat_minor": 2
}
