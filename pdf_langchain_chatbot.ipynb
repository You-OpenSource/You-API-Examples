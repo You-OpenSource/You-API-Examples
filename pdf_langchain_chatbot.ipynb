{
  "cells": [
    {
      "cell_type": "markdown",
      "metadata": {},
      "source": [
        "# LangChain Q & A bot with Web and PDF data retrieval"
      ]
    },
    {
      "cell_type": "markdown",
      "metadata": {},
      "source": [
        "Let's first create a chatbot that retrieves context from a proprietary datasource and the web to answer questions about Consumer Price Index (CPI) changes in the province of British Columbia (BC) in April 2024.  The proprietary datasource is a PDF report highlighting CPI changes in BC in April 2024 over a 12-month period.  The web data needed to answer the question is being retrieved using the You.com API.  The chatbot is implemented as a parallel chain in LangChain."
      ]
    },
    {
      "cell_type": "markdown",
      "metadata": {},
      "source": [
        "## Install all required packages"
      ]
    },
    {
      "cell_type": "code",
      "execution_count": 3,
      "metadata": {},
      "outputs": [],
      "source": [
        "%%capture\n",
        "! pip install openai==1.30.3\n",
        "! pip install langchain==0.2.1\n",
        "! pip install langchain_community==0.2.1\n",
        "! pip install langchain_openai==0.1.7\n",
        "! pip install langchain_text_splitters==0.2.0\n",
        "! pip install langchain_core==0.2.1\n",
        "! pip install numpy==1.26.4\n",
        "! pip install pandas==2.2.2\n",
        "! pip install python-dotenv==1.0.1\n",
        "! pip install pypdf==4.2.0\n",
        "! pip install faiss-cpu==1.8.0\n"
      ]
    },
    {
      "cell_type": "code",
      "execution_count": 4,
      "metadata": {},
      "outputs": [],
      "source": [
        "import langchain\n",
        "import os"
      ]
    },
    {
      "cell_type": "code",
      "execution_count": 5,
      "metadata": {},
      "outputs": [
        {
          "data": {
            "text/plain": [
              "True"
            ]
          },
          "execution_count": 5,
          "metadata": {},
          "output_type": "execute_result"
        }
      ],
      "source": [
        "# The YDC_API_KEY and OPENAI_API_KEY should be defined in a .env file\n",
        "# Let's load the API keys in from the .env file\n",
        "import dotenv\n",
        "dotenv.load_dotenv(\".env\", override=True)\n"
      ]
    },
    {
      "cell_type": "markdown",
      "metadata": {},
      "source": [
        "## Instantiating the You.com Retriever in LangChain"
      ]
    },
    {
      "cell_type": "markdown",
      "metadata": {},
      "source": [
        "LangChain provides a You.com retriever.  For more information, please visit: https://python.langchain.com/v0.1/docs/integrations/retrievers/you-retriever/"
      ]
    },
    {
      "cell_type": "code",
      "execution_count": 6,
      "metadata": {},
      "outputs": [],
      "source": [
        "from langchain_community.retrievers.you import YouRetriever\n",
        "\n",
        "ydc_retriever = YouRetriever(num_web_results = 10)"
      ]
    },
    {
      "cell_type": "code",
      "execution_count": 7,
      "metadata": {},
      "outputs": [
        {
          "data": {
            "text/plain": [
              "[Document(page_content=\"OTTAWA, Feb 20 (Reuters) - Canada's annual inflation rate slowed significantly more than expected to 2.9% in January and core price measures also eased, data showed on Tuesday, bringing forward bets for an early interest rate cut.\", metadata={'url': 'https://www.reuters.com/world/americas/canadas-inflation-rate-drops-more-than-expected-29-january-2024-02-20/', 'thumbnail_url': None, 'title': \"Canada's inflation rate slows and bolsters bets on early rate cut | Reuters\", 'description': \"Canada's annual inflation rate slowed significantly more than expected to 2.9% in January and core price measures also eased, data showed on Tuesday, bringing forward bets for an early interest rate cut.\"}),\n",
              " Document(page_content='The BoC projects headline inflation will remain around 3% in the first half of 2024, before cooling down to 2.5% by end-year. The central bank said last month that while interest rates had helped to bring down overall inflation, which touched a peak of 8.1% in June 2022, categories including shelter costs have fed underlying pressures.', metadata={'url': 'https://www.reuters.com/world/americas/canadas-inflation-rate-drops-more-than-expected-29-january-2024-02-20/', 'thumbnail_url': None, 'title': \"Canada's inflation rate slows and bolsters bets on early rate cut | Reuters\", 'description': \"Canada's annual inflation rate slowed significantly more than expected to 2.9% in January and core price measures also eased, data showed on Tuesday, bringing forward bets for an early interest rate cut.\"}),\n",
              " Document(page_content='Prices of store-bought food rose 3.4% - the slowest pace since August 2021 - also putting downward pressure on headline inflation. Excluding volatile food and energy, prices rose 3.1% compared with a 3.4% rise in December. The Canadian dollar reversed an early morning trend and weakened 0.25% to 1.3522 against the U.S. dollar at 1915 GMT. The two-year government bond yield dropped 13.9 basis points to 4.163%.', metadata={'url': 'https://www.reuters.com/world/americas/canadas-inflation-rate-drops-more-than-expected-29-january-2024-02-20/', 'thumbnail_url': None, 'title': \"Canada's inflation rate slows and bolsters bets on early rate cut | Reuters\", 'description': \"Canada's annual inflation rate slowed significantly more than expected to 2.9% in January and core price measures also eased, data showed on Tuesday, bringing forward bets for an early interest rate cut.\"})]"
            ]
          },
          "execution_count": 7,
          "metadata": {},
          "output_type": "execute_result"
        }
      ],
      "source": [
        "# Let's test it out\n",
        "response = ydc_retriever.invoke(\"Has the inflation in Canada dropped in 2024?\")\n",
        "# Let's take a look at the first 3 responses\n",
        "response[:3]"
      ]
    },
    {
      "cell_type": "markdown",
      "metadata": {},
      "source": [
        "## Creating a Vector DB retriever based on data from a PDF File"
      ]
    },
    {
      "cell_type": "markdown",
      "metadata": {},
      "source": [
        "We are going to load a PDF file using the PyPDFLoader in LangChain.  We will then use the RecursiveTextSplitter in LangChain to split the documents into chunks that can be vectorized.  The vectorized chunks of text will be stored in a Facebook AI Similarity Search (FAISS) vector store.  This vector store will be converted into a LangChain retriever."
      ]
    },
    {
      "cell_type": "code",
      "execution_count": 8,
      "metadata": {},
      "outputs": [],
      "source": [
        "from langchain_community.document_loaders import PyPDFLoader\n",
        "\n",
        "# The PDF file we are using can be downloaded from: https://www2.gov.bc.ca/assets/gov/data/statistics/economy/cpi/cpi_highlights.pdf\n",
        "# load the PDF file\n",
        "loader = PyPDFLoader(\"bc_cpi_highlights.pdf\")\n",
        "docs = loader.load()"
      ]
    },
    {
      "cell_type": "code",
      "execution_count": 9,
      "metadata": {},
      "outputs": [],
      "source": [
        "from langchain_community.vectorstores import FAISS\n",
        "from langchain_openai import OpenAIEmbeddings\n",
        "from langchain.text_splitter import RecursiveCharacterTextSplitter\n",
        "\n",
        "# split the document into chunks, and vectorize these chunks in a FAISS database\n",
        "text_splitter = RecursiveCharacterTextSplitter(chunk_size = 1000, chunk_overlap = 100)\n",
        "notes = text_splitter.split_documents(docs)\n",
        "embeddings = OpenAIEmbeddings()\n",
        "db = FAISS.from_documents(documents=notes, embedding=embeddings)"
      ]
    },
    {
      "cell_type": "code",
      "execution_count": 10,
      "metadata": {},
      "outputs": [
        {
          "data": {
            "text/plain": [
              "'(excluding fish, seafood, and other marine products) \\n(+2.1%). At the same time, fruit, fruit preparations, \\nand nut s was the only major food category to \\ndecrease in price (- 0.1%)  \\nBritish Columbians paid more for both  health (+2.7%) \\nand personal (+ 2.0%) care  when compared to \\n12-months ago. Services, instead of items within \\nthese categories, had the largest price increase. Personal services (such a hairdressing) cost 4.8% \\nmore when compared to 12 -months ago, while the \\ncost of health care services (such as eye and dental \\ncare) increased by 4.3%.  Consumer Price \\nIndex   \\n \\n \\nReference date:  April  2024  Issue:  #24-04 Released:  May 21 , 2024 \\n      \\n-5.8-1.91.92.22.32.62.82.96.8\\nClothing & FootwearHouseholdRecreationAlc., Tob., & CannabisHealth & PersonalFoodTransportationAll-itemsShelterInflation by Category\\n% change, same month previous year'"
            ]
          },
          "execution_count": 10,
          "metadata": {},
          "output_type": "execute_result"
        }
      ],
      "source": [
        "# test out the similarity search\n",
        "query = \"How much did food prices increase in April 2024?\"\n",
        "response = db.similarity_search(query, k=3)\n",
        "response[0].page_content"
      ]
    },
    {
      "cell_type": "code",
      "execution_count": 11,
      "metadata": {},
      "outputs": [],
      "source": [
        "# Create the retriever\n",
        "faiss_retriever = db.as_retriever()"
      ]
    },
    {
      "cell_type": "markdown",
      "metadata": {},
      "source": [
        "## Create an Ensemble Retriever using the You.Com Retriever and the FAISS Retriever"
      ]
    },
    {
      "cell_type": "markdown",
      "metadata": {},
      "source": [
        "The Ensemble Retriever in LangChain ensembles results from multiple retrievers.  We will create an Ensemble Retriever with the FAISS vector store retriever and the You.com retriever that we defined above as constituent retrievers."
      ]
    },
    {
      "cell_type": "code",
      "execution_count": 12,
      "metadata": {},
      "outputs": [],
      "source": [
        "from langchain.retrievers import EnsembleRetriever\n",
        "\n",
        "ensemble_retriever = EnsembleRetriever(\n",
        "    retrievers = [ydc_retriever, faiss_retriever], weights = [0.5, 0.5]\n",
        ")"
      ]
    },
    {
      "cell_type": "markdown",
      "metadata": {},
      "source": [
        "## Instantiate the LLM"
      ]
    },
    {
      "cell_type": "code",
      "execution_count": 13,
      "metadata": {},
      "outputs": [],
      "source": [
        "from langchain_openai import ChatOpenAI\n",
        "llm = ChatOpenAI(model=\"gpt-4o\", temperature=0.5)"
      ]
    },
    {
      "cell_type": "markdown",
      "metadata": {},
      "source": [
        "## Create the Prompt Template"
      ]
    },
    {
      "cell_type": "code",
      "execution_count": 14,
      "metadata": {},
      "outputs": [],
      "source": [
        "system_prompt = \"\"\"\n",
        "You are an assistant that answers questions pertaining to CPI (Consumer Price Index).  Please utilize the following retrieved context from the web and from a proprietary\n",
        "datasource to provide an accurate answer to the question.  Please try and utilize numbers where applicable to substantiate your answer.  If you do not know the answer, simply say you do not \n",
        "know the answer.  Please keep the response concise.\n",
        "\n",
        "{context}\n",
        "\"\"\""
      ]
    },
    {
      "cell_type": "code",
      "execution_count": 15,
      "metadata": {},
      "outputs": [],
      "source": [
        "from langchain_core.prompts import ChatPromptTemplate, MessagesPlaceholder\n",
        "\n",
        "qa_prompt = ChatPromptTemplate.from_messages(\n",
        "    [\n",
        "        (\"system\", system_prompt),\n",
        "        (\"human\", \"{input}\"),\n",
        "    ]\n",
        ")"
      ]
    },
    {
      "cell_type": "markdown",
      "metadata": {},
      "source": [
        "## Create a basic chain without chat history"
      ]
    },
    {
      "cell_type": "markdown",
      "metadata": {},
      "source": [
        "We will test our chain first without chat history."
      ]
    },
    {
      "cell_type": "code",
      "execution_count": 16,
      "metadata": {},
      "outputs": [],
      "source": [
        "from langchain.chains.combine_documents import create_stuff_documents_chain\n",
        "from langchain.chains import create_retrieval_chain\n",
        "\n",
        "qa_chain = create_stuff_documents_chain(llm, qa_prompt)\n",
        "rag_chain = create_retrieval_chain(ensemble_retriever, qa_chain)"
      ]
    },
    {
      "cell_type": "code",
      "execution_count": 17,
      "metadata": {},
      "outputs": [],
      "source": [
        "response = rag_chain.invoke({\"input\": \"How did the CPI in April 2024 in BC compare to the national CPI in Canada?\"})"
      ]
    },
    {
      "cell_type": "code",
      "execution_count": 18,
      "metadata": {},
      "outputs": [
        {
          "data": {
            "text/plain": [
              "\"In April 2024, the Consumer Price Index (CPI) in British Columbia (BC) increased by 2.9% compared to April 2023. Nationally, Canada's CPI was up 2.7% over the same period. Therefore, BC's CPI increase was slightly higher than the national average.\""
            ]
          },
          "execution_count": 18,
          "metadata": {},
          "output_type": "execute_result"
        }
      ],
      "source": [
        "response[\"answer\"]"
      ]
    },
    {
      "cell_type": "markdown",
      "metadata": {},
      "source": [
        "## Add chat history to our chatbot"
      ]
    },
    {
      "cell_type": "markdown",
      "metadata": {},
      "source": [
        "Chat history is an integral component of any chat application, as the input query might require additional conversational context to be understood by the LLM.  We are going to add chat history to our chatbot and contextualize the input prompts with chat history."
      ]
    },
    {
      "cell_type": "code",
      "execution_count": 19,
      "metadata": {},
      "outputs": [],
      "source": [
        "# Create a prompt that utilizes the chat history as context to reformulate the most recent input, as a standalone question that the LLM can comprehend\n",
        "from langchain.chains import create_history_aware_retriever\n",
        "\n",
        "contextualize_q_system_prompt = \"\"\"\n",
        "Given a chat history and the latest question, which might reference context in the chat history, formulate a standalone question, which can be understood without chat history.\n",
        "Do not answer the question, just reformulate the question if necessary and return it as it otherwise.\n",
        "\"\"\"\n",
        "\n",
        "contextualize_q_prompt = ChatPromptTemplate.from_messages(\n",
        "    [\n",
        "        (\"system\", contextualize_q_system_prompt),\n",
        "        MessagesPlaceholder(\"chat_history\"),\n",
        "        (\"human\", \"{input}\")\n",
        "    ]\n",
        ")"
      ]
    },
    {
      "cell_type": "code",
      "execution_count": 20,
      "metadata": {},
      "outputs": [],
      "source": [
        "# Create a chain that takes conversation history and contextualizes the prompt\n",
        "history_aware_retriever = create_history_aware_retriever(llm, ensemble_retriever, contextualize_q_prompt)"
      ]
    },
    {
      "cell_type": "code",
      "execution_count": 21,
      "metadata": {},
      "outputs": [],
      "source": [
        "# rejig qa prompt to include the chat history\n",
        "qa_prompt = ChatPromptTemplate.from_messages(\n",
        "    [\n",
        "        (\"system\", system_prompt),\n",
        "        MessagesPlaceholder(\"chat_history\"),\n",
        "        (\"human\", \"{input}\")\n",
        "    ]\n",
        ")"
      ]
    },
    {
      "cell_type": "code",
      "execution_count": 22,
      "metadata": {},
      "outputs": [],
      "source": [
        "from langchain_core.chat_history import BaseChatMessageHistory\n",
        "from langchain_community.chat_message_histories import ChatMessageHistory\n",
        "\n",
        "# statefully manage session history\n",
        "store = {}\n",
        "\n",
        "def get_session_history(session_id: str) -> BaseChatMessageHistory:\n",
        "    if session_id not in store:\n",
        "        store[session_id] = ChatMessageHistory()\n",
        "        \n",
        "    return store[session_id]"
      ]
    },
    {
      "cell_type": "code",
      "execution_count": 23,
      "metadata": {},
      "outputs": [],
      "source": [
        "# create chains that include message history\n",
        "qa_chain = create_stuff_documents_chain(llm, qa_prompt)\n",
        "rag_chain = create_retrieval_chain(history_aware_retriever, qa_chain)"
      ]
    },
    {
      "cell_type": "code",
      "execution_count": 24,
      "metadata": {},
      "outputs": [],
      "source": [
        "from langchain_core.runnables.history import RunnableWithMessageHistory\n",
        "\n",
        "# create final chain that ties everything together\n",
        "\n",
        "conversation_rag_chain = RunnableWithMessageHistory(\n",
        "    rag_chain,\n",
        "    get_session_history,\n",
        "    input_messages_key = \"input\",\n",
        "    history_messages_key = \"chat_history\",\n",
        "    output_messages_key = \"answer\"\n",
        ")"
      ]
    },
    {
      "cell_type": "markdown",
      "metadata": {},
      "source": [
        "## Let's try it out!"
      ]
    },
    {
      "cell_type": "code",
      "execution_count": 25,
      "metadata": {},
      "outputs": [
        {
          "data": {
            "text/plain": [
              "'In British Columbia, food prices increased by 2.6% in April 2024 compared to April 2023.'"
            ]
          },
          "execution_count": 25,
          "metadata": {},
          "output_type": "execute_result"
        }
      ],
      "source": [
        "conversation_rag_chain.invoke({\"input\": \"How much did food prices increase in April 2024 in BC compared to April 2023?\"}, config = {\"configurable\": {\"session_id\": \"xyz_789\"}})[\"answer\"]"
      ]
    },
    {
      "cell_type": "code",
      "execution_count": 26,
      "metadata": {},
      "outputs": [
        {
          "data": {
            "text/plain": [
              "'Nationally, food prices in Canada increased by 2.3% in April 2024 compared to April 2023. Therefore, the increase in food prices in British Columbia (2.6%) was slightly higher than the national average.'"
            ]
          },
          "execution_count": 26,
          "metadata": {},
          "output_type": "execute_result"
        }
      ],
      "source": [
        "conversation_rag_chain.invoke({\"input\": \"How does that compare to the increase in food prices across the nation?\"}, config = {\"configurable\": {\"session_id\": \"xyz_789\"}})[\"answer\"]"
      ]
    },
    {
      "cell_type": "code",
      "execution_count": 27,
      "metadata": {},
      "outputs": [
        {
          "data": {
            "text/plain": [
              "'Several factors contributed to the rising food prices in British Columbia in April 2024:\\n\\n1. **Beef and Veal Prices**: Beef and veal prices rose by 7.0% compared to April 2023, driven by tight supplies and strong demand.\\n\\n2. **Wholesale Pork Prices**: Wholesale pork prices increased by 18.3% over the year, due to higher demand after previous declines in 2022 and 2023.\\n\\n3. **Energy Costs**: Although the energy price index decreased by 3.9%, fluctuations in energy costs can indirectly affect food prices through transportation and production costs.\\n\\n4. **Global Events**: Factors such as climate events, including wildfires and flooding, have adversely affected harvests, contributing to higher food prices.\\n\\n5. **Supply Chain Issues**: Disruptions in the supply chain and increased costs for packaging and transportation also played a role.\\n\\nThese combined factors led to the overall increase in food prices observed in the province.'"
            ]
          },
          "execution_count": 27,
          "metadata": {},
          "output_type": "execute_result"
        }
      ],
      "source": [
        "conversation_rag_chain.invoke({\"input\": \"What contributed to the rising food prices in BC in April 2024?\"}, config = {\"configurable\": {\"session_id\": \"xyz_789\"}})[\"answer\"]"
      ]
    },
    {
      "cell_type": "code",
      "execution_count": 28,
      "metadata": {},
      "outputs": [
        {
          "data": {
            "text/plain": [
              "\"In April 2024, British Columbia's Consumer Price Index (CPI) increased by 2.9% compared to April 2023. Nationally, Canada's CPI rose by 2.7% over the same period. Thus, the CPI increase in British Columbia was slightly higher than the national average.\""
            ]
          },
          "execution_count": 28,
          "metadata": {},
          "output_type": "execute_result"
        }
      ],
      "source": [
        "conversation_rag_chain.invoke({\"input\": \"How did the CPI in April 2024 in BC compare to the national CPI in Canada?\"}, config = {\"configurable\": {\"session_id\": \"xyz_789\"}})[\"answer\"]"
      ]
    },
    {
      "cell_type": "markdown",
      "metadata": {},
      "source": [
        "## Create a Python object that encapsulates the functionality of creating a chatbot that retrieves context from PDF files and the web"
      ]
    },
    {
      "cell_type": "markdown",
      "metadata": {},
      "source": [
        "Let's create a Python class that encapsulates the code above.  This will enable users to easily create chatbots for new use cases with custom PDF files and prompts."
      ]
    },
    {
      "cell_type": "code",
      "execution_count": 29,
      "metadata": {},
      "outputs": [],
      "source": [
        "import secrets\n",
        "class PDF_QA_Bot:\n",
        "    def __init__(self, llm: ChatOpenAI, pdf_files: list[str], system_prompt: str, num_web_results_to_fetch: int = 10):\n",
        "        \n",
        "        self._llm = llm\n",
        "        \n",
        "        docs = self._load_pdf_documents(pdf_files)\n",
        "        \n",
        "        # split the docs into chunks, vectorize the chunks and load them into a vector store\n",
        "        db = self._create_vector_store(docs)\n",
        "        \n",
        "        # create LangChain retriever from the vector store\n",
        "        self._faiss_retriever = db.as_retriever()\n",
        "        \n",
        "        # create YDC retriever\n",
        "        self._ydc_retriever = YouRetriever(num_web_results = num_web_results_to_fetch)\n",
        "\n",
        "        # create ensemble retriever \n",
        "        self._ensemble_retriever = EnsembleRetriever(\n",
        "            retrievers = [self._ydc_retriever, self._faiss_retriever], weights = [0.5, 0.5]\n",
        "        )\n",
        "\n",
        "        # create the system prompt from the user input\n",
        "        self._system_prompt = system_prompt + \"\\n\\n\" + \"{context}\"\n",
        "\n",
        "        self._contextualize_q_system_prompt = \"\"\"\n",
        "        Given a chat history and the latest question, which might reference context in the chat history, formulate a standalone question, which can be understood without chat history.\n",
        "        Do not answer the question, just reformulate the question if necessary and return it as it otherwise.\n",
        "        \"\"\"\n",
        "\n",
        "        # Create a prompt that utilizes the chat history as context to reformulate the most recent input, as a standalone question that the LLM can comprehend\n",
        "        self._contextualize_q_prompt = ChatPromptTemplate.from_messages(\n",
        "            [\n",
        "                (\"system\", self._contextualize_q_system_prompt),\n",
        "                MessagesPlaceholder(\"chat_history\"),\n",
        "                (\"human\", \"{input}\")\n",
        "            ]\n",
        "        )\n",
        "\n",
        "        self._history_aware_retriever = create_history_aware_retriever(self._llm, self._ensemble_retriever, self._contextualize_q_prompt)\n",
        "\n",
        "        self._qa_prompt = ChatPromptTemplate.from_messages(\n",
        "            [\n",
        "                (\"system\", self._system_prompt),\n",
        "                MessagesPlaceholder(\"chat_history\"),\n",
        "                (\"human\", \"{input}\")\n",
        "            ]\n",
        "        )\n",
        "\n",
        "        self._messages_store = {}\n",
        "        self._session_id = self._generate_session_id()\n",
        "\n",
        "        # create chains that include message history\n",
        "        self._qa_chain = create_stuff_documents_chain(self._llm, self._qa_prompt)\n",
        "        self._rag_chain = create_retrieval_chain(self._history_aware_retriever, self._qa_chain)\n",
        "\n",
        "        # create final chain that ties everything together\n",
        "        self._conversation_rag_chain = RunnableWithMessageHistory(\n",
        "            self._rag_chain,\n",
        "            self._get_session_history,\n",
        "            input_messages_key = \"input\",\n",
        "            history_messages_key = \"chat_history\",\n",
        "            output_messages_key = \"answer\"\n",
        "        )\n",
        "        \n",
        "    def _load_pdf_documents(self, pdf_files: list[str]) -> list:\n",
        "        docs = []\n",
        "        for file in pdf_files:\n",
        "            file_loader = PyPDFLoader(file)\n",
        "            docs.extend(file_loader.load())\n",
        "        return docs\n",
        "    \n",
        "    def _create_vector_store(self, docs: list):\n",
        "        text_splitter = RecursiveCharacterTextSplitter(chunk_size=1000, chunk_overlap=100)\n",
        "        chunked_docs = text_splitter.split_documents(docs)\n",
        "        embeddings = OpenAIEmbeddings()\n",
        "        return FAISS.from_documents(documents=chunked_docs, embedding=embeddings)\n",
        "    \n",
        "    \n",
        "    def _get_session_history(self, session_id) -> BaseChatMessageHistory:\n",
        "        \"\"\"Statefully manage chat history\"\"\"\n",
        "        if session_id not in self._messages_store:\n",
        "            self._messages_store[session_id] = ChatMessageHistory()\n",
        "            \n",
        "        return self._messages_store[self._session_id]\n",
        "    \n",
        "    def _generate_session_id(self) -> str:\n",
        "        session_id = secrets.token_urlsafe(16)\n",
        "        return session_id\n",
        "    \n",
        "    def invoke_bot(self, input_str: str) -> str:\n",
        "        input = {\"input\": input_str}\n",
        "        config = {\"configurable\": {\"session_id\": self._session_id}}\n",
        "        output = self._conversation_rag_chain.invoke(input, config)\n",
        "        return output[\"answer\"]\n",
        "        \n",
        "\n",
        "        "
      ]
    },
    {
      "cell_type": "markdown",
      "metadata": {},
      "source": [
        "## Let's try it out on a new use case with a different document!"
      ]
    },
    {
      "cell_type": "markdown",
      "metadata": {},
      "source": [
        "We will utilize our object to implement a chatbot that answers questions about student housing and residences at the University of Toronto.  The chatbot retrieves relevant context from a PDF brochure about student housing options at the University of Toronto and the web using the You.com API to answer questions."
      ]
    },
    {
      "cell_type": "code",
      "execution_count": 31,
      "metadata": {},
      "outputs": [],
      "source": [
        "llm = ChatOpenAI(model=\"gpt-4o\", temperature=0.5)\n",
        "conversational_rag_system_prompt = \"\"\"You are an assistant that answers questions pertaining to student housing and residence options at the University of Toronto (UofT).  Please utilize relevant context from the web and a brochure about student housing options\n",
        "to provide an accurate response to the question.  If you do not know the answer to a question, simply say you do not know the answer.\"\"\"\n",
        "\n",
        "# The PDF file being used in this example can be downloaded from: https://studentlife.utoronto.ca/wp-content/uploads/Student-Housing-Brochure.pdf\n",
        "conversational_rag = PDF_QA_Bot(llm, pdf_files=[\"Student-Housing-Brochure.pdf\"], system_prompt=conversational_rag_system_prompt, num_web_results_to_fetch=10)"
      ]
    },
    {
      "cell_type": "code",
      "execution_count": 43,
      "metadata": {},
      "outputs": [
        {
          "data": {
            "text/plain": [
              "'At the University of Toronto, the following residences do not offer a mandatory meal plan:\\n\\n1. **Innis College**\\n2. **Woodsworth College**\\n3. **Graduate House**\\n4. **University Family Housing**\\n\\nResidents of these locations have the option to purchase meal plans if desired. For more information about optional meal plans, you can visit [U of T Food Services](https://foodservices.utoronto.ca).'"
            ]
          },
          "execution_count": 43,
          "metadata": {},
          "output_type": "execute_result"
        }
      ],
      "source": [
        "conversational_rag.invoke_bot(\"Which residences at the University of Toronto does not offer a meal plan?\")"
      ]
    },
    {
      "cell_type": "code",
      "execution_count": 44,
      "metadata": {},
      "outputs": [
        {
          "data": {
            "text/plain": [
              "\"Near Innis College at the University of Toronto, there are several food establishments that students frequent:\\n\\n1. **Innis Cafe**: Located within Innis College, this cafe offers freshly-made, healthy food with vegan and halal options. It's known for its friendly staff and quick service.\\n\\n2. **MeeT You 177 on College**: Just minutes from U of T, this spot offers bubble tea and Chinese food, including favorites like Kung Pao chicken, dumplings, and beef with vegetables.\\n\\n3. **Einstein's Pub and Café**: A popular pub on College Street known for its craft beers, bar food, and fantastic wings. It's a go-to spot for students, especially after exams.\\n\\n4. **Diabolos' Coffee Bar**: Located in the Junior Common Room of University College, this student-owned café offers fair trade coffee, tea, snacks, freshly baked muffins, and vegan treats.\\n\\n5. **Second Cup at Myhal Centre for Engineering Innovation and Entrepreneurship**: Offers a variety of sweet treats, healthy snacks, and fair trade coffee or tea. Vegan and vegetarian snacks are also available.\\n\\n6. **The Exchange Café**: Located within the Rotman School of Management, this café uses locally grown and sourced ingredients. It serves breakfast, lunch, freshly baked goods, and a variety of hot and cold beverages.\\n\\n7. **Café Reznikoff**: Offers a variety of hot and cold beverages, sandwiches, salads, baked goods, and confectionary items.\\n\\n8. **Kensington Market**: A short walk away, this vibrant neighborhood offers a wide range of unique food options, from street food to sit-down restaurants.\\n\\nThese establishments provide a range of options for students looking for meals, snacks, or a place to relax nearby Innis College.\""
            ]
          },
          "execution_count": 44,
          "metadata": {},
          "output_type": "execute_result"
        }
      ],
      "source": [
        "conversational_rag.invoke_bot(\"What food establishments are located nearby the Innis College?\")"
      ]
    },
    {
      "cell_type": "code",
      "execution_count": 45,
      "metadata": {},
      "outputs": [
        {
          "data": {
            "text/plain": [
              "\"At the University of Toronto, the following residences are female-only:\\n\\n1. **Loretto College**: Located on the St. George campus, Loretto College is an all-women's residence affiliated with St. Michael's College and the University of Toronto.\\n\\n2. **Annesley Hall**: Part of Victoria College, Annesley Hall is another all-women's residence. It is also a National Historic Site and was the first university residence for women in Canada.\\n\\nThese residences provide a supportive environment specifically for female students.\""
            ]
          },
          "execution_count": 45,
          "metadata": {},
          "output_type": "execute_result"
        }
      ],
      "source": [
        "conversational_rag.invoke_bot(\"Which residences are female only at UofT?\")"
      ]
    },
    {
      "cell_type": "code",
      "execution_count": 36,
      "metadata": {},
      "outputs": [
        {
          "data": {
            "text/plain": [
              "'Yes, a meal plan is mandatory at Loretto College. All residents are required to have a meal plan because there are no cooking facilities in any of the dorms. The meal plan includes access to the dining hall, which offers a variety of food stations.'"
            ]
          },
          "execution_count": 36,
          "metadata": {},
          "output_type": "execute_result"
        }
      ],
      "source": [
        "conversational_rag.invoke_bot(\"Is a meal plan mandatory at Loretto College?\")"
      ]
    },
    {
      "cell_type": "code",
      "execution_count": 37,
      "metadata": {},
      "outputs": [
        {
          "data": {
            "text/plain": [
              "'The cost of living at Loretto College, which includes the mandatory meal plan, ranges from $17,284 to $18,714 for the 2023-24 academic year. This fee encompasses both accommodation and the meal plan.'"
            ]
          },
          "execution_count": 37,
          "metadata": {},
          "output_type": "execute_result"
        }
      ],
      "source": [
        "conversational_rag.invoke_bot(\"What is the cost of a meal plan at Loretto College?\")"
      ]
    },
    {
      "cell_type": "code",
      "execution_count": 42,
      "metadata": {},
      "outputs": [
        {
          "data": {
            "text/plain": [
              "'Loretto College offers two main types of dormitory-style rooms:\\n\\n1. **Double Rooms**: These are available primarily for first-year students. Each double room is shared by two students and comes with an ensuite washroom that is shared with another double room (i.e., four students share one ensuite washroom).\\n\\n2. **Single Rooms**: These are typically available for upper-year students. Each single room has an individual sink, and residents share common washrooms located on each floor.\\n\\nBoth room types come fully furnished with essential amenities such as a bed, desk, chair, desk lamp, bookshelf, mirror, and plenty of closet and storage space. Additionally, weekly cleaning services are provided for all rooms.'"
            ]
          },
          "execution_count": 42,
          "metadata": {},
          "output_type": "execute_result"
        }
      ],
      "source": [
        "conversational_rag.invoke_bot(\"What room types are offered at Loretto College?\")"
      ]
    },
    {
      "cell_type": "code",
      "execution_count": 39,
      "metadata": {},
      "outputs": [
        {
          "data": {
            "text/plain": [
              "\"Yes, there are several attractions, museums, and fun activities close to Loretto College at the University of Toronto:\\n\\n1. **Royal Ontario Museum (ROM)**: Just steps from Loretto College, the ROM is Canada's largest museum and one of North America's most renowned cultural institutions. It features art, culture, and nature from around the globe.\\n\\n2. **Bata Shoe Museum**: Located a short walk away, this museum offers a unique perspective on history and culture through its extensive collection of footwear from different eras and regions.\\n\\n3. **Gardiner Museum**: Specializing in ceramic art, the Gardiner Museum is nearby and provides a range of exhibits and hands-on activities.\\n\\n4. **Yorkville**: This trendy neighborhood is known for its upscale boutiques, galleries, cafes, and restaurants. It's a great place to explore, shop, and dine.\\n\\n5. **Queen’s Park**: A beautiful green space perfect for a walk, picnic, or simply relaxing outdoors. It’s also home to the Ontario Legislative Building.\\n\\n6. **Kensington Market**: A vibrant and eclectic neighborhood offering a variety of unique shops, cafes, and street food. It’s a great place to experience Toronto’s diverse culture.\\n\\n7. **Art Gallery of Ontario (AGO)**: A bit further but still within walking distance, the AGO houses an extensive collection of art, including Canadian, Indigenous, and contemporary works.\\n\\n8. **Casa Loma**: A historic castle with beautiful gardens, secret passages, and stunning architecture. It’s a short distance away and offers a glimpse into Toronto’s past.\\n\\n9. **University of Toronto’s St. George Campus**: The campus itself is home to beautiful architecture, libraries, and various cultural and academic events throughout the year.\\n\\nThese attractions provide a variety of cultural, educational, and recreational activities for students living at Loretto College.\""
            ]
          },
          "execution_count": 39,
          "metadata": {},
          "output_type": "execute_result"
        }
      ],
      "source": [
        "conversational_rag.invoke_bot(\"Are there any attractions, museums, fun things to do close to Loretto College?\")"
      ]
    },
    {
      "cell_type": "code",
      "execution_count": 40,
      "metadata": {},
      "outputs": [
        {
          "data": {
            "text/plain": [
              "\"Yorkville, one of Toronto's most vibrant and upscale neighborhoods, offers a wide range of activities and attractions. Here are some highlights:\\n\\n1. **Royal Ontario Museum (ROM)**: A must-visit, the ROM showcases art, culture, and nature from around the world with extensive collections and fascinating exhibits.\\n\\n2. **Gardiner Museum**: Specializing in ceramics, this museum offers unique exhibits and interactive activities.\\n\\n3. **Bata Shoe Museum**: Discover the history of footwear from around the world with this museum's extensive and unique collection.\\n\\n4. **Shopping on Mink Mile**: Yorkville is known for its high-end shopping, with luxury retailers like Burberry, Gucci, Hermès, Louis Vuitton, and Chanel lining Bloor Street West.\\n\\n5. **Yorkville Park**: A small, beautifully designed park that celebrates the history and diversity of Canadian landscapes. It's a great spot for a rest or people-watching.\\n\\n6. **Art Galleries**: Yorkville is home to several prestigious galleries, including Liss Gallery, LUMAS Toronto, Gallery Gevik, and Kinsman Robinson Galleries.\\n\\n7. **Fine Dining and Cafes**: The neighborhood boasts numerous fine dining restaurants, chic cafes, and wine bars. Caren's Wine and Cheese Bar and various other eateries offer a range of culinary experiences.\\n\\n8. **Spas and Fitness**: For a premium workout experience, visit Equinox’s Yorkville location or catch a spin class at SoulCycle, both located within the Yorkville Village shopping complex.\\n\\n9. **Historic Walks**: Explore the charming streets lined with historic buildings, elegant prewar apartments, and Beaux Arts mansions.\\n\\n10. **Cultural Events**: Yorkville often hosts events, especially during the Toronto International Film Festival when the area becomes a hotspot for celebrities and film enthusiasts.\\n\\n11. **Manulife Centre**: This complex includes a cinema, shopping, dining, and more, providing a variety of entertainment options.\\n\\n12. **People Watching and Celebrity Spotting**: Yorkville is known for attracting celebrities, especially during film festivals, making it a great place for people-watching.\\n\\nWhether you're interested in culture, shopping, dining, or just exploring a beautiful neighborhood, Yorkville offers plenty of activities to keep you entertained.\""
            ]
          },
          "execution_count": 40,
          "metadata": {},
          "output_type": "execute_result"
        }
      ],
      "source": [
        "conversational_rag.invoke_bot(\"What is there to do in the Yorkville neighborhood?\")"
      ]
    },
    {
      "cell_type": "code",
      "execution_count": 41,
      "metadata": {},
      "outputs": [
        {
          "data": {
            "text/plain": [
              "\"Yorkville is renowned for its diverse and upscale dining options. Here are some notable restaurants in the neighborhood:\\n\\n1. **Sassafraz**: A beloved local landmark, Sassafraz offers contemporary Canadian cuisine in a beautifully restored Victorian rowhouse. It's known for its seasonal menu and elegant setting.\\n\\n2. **Café Boulud**: Located in the Four Seasons Hotel, this French brasserie by Chef Daniel Boulud features a seasonally changing menu rooted in French tradition.\\n\\n3. **ONE Restaurant**: Chef Mark McEwan’s culinary concept at The Hazelton Hotel, offering a contemporary dining experience with a sumptuous bar and spacious tree-lined patio.\\n\\n4. **Kasa Moto**: A sprawling two-story contemporary Japanese restaurant and lounge, known for its inventive sushi and chic ambiance.\\n\\n5. **Alobar Yorkville**: A hidden gem serving as a restaurant and bar, offering a full-scale dining experience with a chic and polished interior.\\n\\n6. **Jacques Bistro Du Parc**: A classic French bistro with a cozy atmosphere, known for its French onion soup and other traditional French dishes.\\n\\n7. **Hemingway’s**: A popular pub offering a more low-key, casual dining experience with a year-round rooftop patio and a menu featuring pub fare like lamb chops and fajitas.\\n\\n8. **Buca Yorkville**: Specializing in inventive and traditional Italian dishes, this restaurant features a sleek interior and a posh dining experience.\\n\\n9. **Chabrol**: A tiny but elegant bistro offering classic French cuisine, known for its intimate setting and high-quality dishes.\\n\\n10. **Trattoria Nervosa**: An Italian eatery known for its pasta and pizza, offering a cozy and inviting atmosphere.\\n\\n11. **Sofia**: A contemporary Italian restaurant with a luxurious setting, offering a refined menu and an extensive wine list.\\n\\n12. **STK Toronto**: A modern steakhouse known for its high-energy atmosphere, blending fine dining with a vibrant nightlife experience.\\n\\n13. **La Société**: A French bistro with a beautiful interior, offering classic French dishes and an extensive wine list.\\n\\n14. **Planta**: A plant-based restaurant offering innovative and delicious vegan dishes in a stylish setting.\\n\\nThese restaurants provide a wide range of culinary experiences, from casual pub fare to high-end dining, making Yorkville a top destination for food enthusiasts.\""
            ]
          },
          "execution_count": 41,
          "metadata": {},
          "output_type": "execute_result"
        }
      ],
      "source": [
        "conversational_rag.invoke_bot(\"What restaurants are located in the neighborhood?\")"
      ]
    }
  ],
  "metadata": {
    "kernelspec": {
      "display_name": "llm-practice",
      "language": "python",
      "name": "python3"
    },
    "language_info": {
      "codemirror_mode": {
        "name": "ipython",
        "version": 3
      },
      "file_extension": ".py",
      "mimetype": "text/x-python",
      "name": "python",
      "nbconvert_exporter": "python",
      "pygments_lexer": "ipython3",
      "version": "3.10.14"
    }
  },
  "nbformat": 4,
  "nbformat_minor": 2
}
