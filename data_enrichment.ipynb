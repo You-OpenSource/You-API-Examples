{
 "cells": [
  {
   "cell_type": "markdown",
   "metadata": {},
   "source": [
    "## Missing Tabular Data Enrichment With YOU Research API \n",
    "\n",
    "In this tutorial, we will enrich the missing values in a tabular dataset primarily using `You.com` research API. \n",
    "\n",
    "Firstly, set the environment variable `YDC_API_KEY` with your `You.com` api key."
   ]
  },
  {
   "cell_type": "code",
   "execution_count": null,
   "metadata": {},
   "outputs": [],
   "source": [
    "import os\n",
    "os.environ[\"YDC_API_KEY\"] = \"<YOUR YOU.COM API KEY>\""
   ]
  },
  {
   "cell_type": "markdown",
   "metadata": {},
   "source": [
    "### Creating a synthetic dataset for enrichment\n",
    "\n",
    "We will create a dataframe with a few company domains and columns such as number of employees, NAICS code, headquarter and year founded with missing values. Our aim is to fill these missing values using `You.com` research API.  "
   ]
  },
  {
   "cell_type": "code",
   "execution_count": 208,
   "metadata": {},
   "outputs": [
    {
     "data": {
      "text/html": [
       "<div>\n",
       "<style scoped>\n",
       "    .dataframe tbody tr th:only-of-type {\n",
       "        vertical-align: middle;\n",
       "    }\n",
       "\n",
       "    .dataframe tbody tr th {\n",
       "        vertical-align: top;\n",
       "    }\n",
       "\n",
       "    .dataframe thead th {\n",
       "        text-align: right;\n",
       "    }\n",
       "</style>\n",
       "<table border=\"1\" class=\"dataframe\">\n",
       "  <thead>\n",
       "    <tr style=\"text-align: right;\">\n",
       "      <th></th>\n",
       "      <th>company</th>\n",
       "      <th>number of employees</th>\n",
       "      <th>NAICS code(s)</th>\n",
       "      <th>headquarter location</th>\n",
       "      <th>founded year</th>\n",
       "    </tr>\n",
       "  </thead>\n",
       "  <tbody>\n",
       "    <tr>\n",
       "      <th>0</th>\n",
       "      <td>Apple</td>\n",
       "      <td></td>\n",
       "      <td></td>\n",
       "      <td></td>\n",
       "      <td></td>\n",
       "    </tr>\n",
       "    <tr>\n",
       "      <th>1</th>\n",
       "      <td>Canadian Tire</td>\n",
       "      <td></td>\n",
       "      <td></td>\n",
       "      <td></td>\n",
       "      <td></td>\n",
       "    </tr>\n",
       "    <tr>\n",
       "      <th>2</th>\n",
       "      <td>Home Depot</td>\n",
       "      <td></td>\n",
       "      <td></td>\n",
       "      <td></td>\n",
       "      <td></td>\n",
       "    </tr>\n",
       "    <tr>\n",
       "      <th>3</th>\n",
       "      <td>LinkedIn Corporation</td>\n",
       "      <td></td>\n",
       "      <td></td>\n",
       "      <td></td>\n",
       "      <td></td>\n",
       "    </tr>\n",
       "    <tr>\n",
       "      <th>4</th>\n",
       "      <td>General Dynamics</td>\n",
       "      <td></td>\n",
       "      <td></td>\n",
       "      <td></td>\n",
       "      <td></td>\n",
       "    </tr>\n",
       "  </tbody>\n",
       "</table>\n",
       "</div>"
      ],
      "text/plain": [
       "                company number of employees NAICS code(s)  \\\n",
       "0                 Apple                                     \n",
       "1         Canadian Tire                                     \n",
       "2            Home Depot                                     \n",
       "3  LinkedIn Corporation                                     \n",
       "4      General Dynamics                                     \n",
       "\n",
       "  headquarter location founded year  \n",
       "0                                    \n",
       "1                                    \n",
       "2                                    \n",
       "3                                    \n",
       "4                                    "
      ]
     },
     "execution_count": 208,
     "metadata": {},
     "output_type": "execute_result"
    }
   ],
   "source": [
    "import pandas as pd\n",
    "\n",
    "data = {\n",
    "    'company': [\"Apple\", 'Canadian Tire', 'Home Depot', 'LinkedIn Corporation', 'General Dynamics'],\n",
    "    'number of employees': ['', '', '', '', ''],\n",
    "    'NAICS code(s)': ['', '', '', '', ''],\n",
    "    'headquarter location': ['', '', '', '', ''],\n",
    "    'founded year': ['', '', '', '', ''],\n",
    "}\n",
    "\n",
    "# Convert to DataFrame\n",
    "df = pd.DataFrame(data)\n",
    "\n",
    "# Display the DataFrame\n",
    "df.head()"
   ]
  },
  {
   "cell_type": "markdown",
   "metadata": {},
   "source": [
    "### Searching and getting results with `You.com` API\n",
    "\n",
    "We will obtain the missing values with a simple call to `You.com` API"
   ]
  },
  {
   "cell_type": "code",
   "execution_count": 209,
   "metadata": {},
   "outputs": [],
   "source": [
    "import requests\n",
    "import os\n",
    "\n",
    "# obtain the API key from the environment\n",
    "headers = {'x-api-key': os.environ['YDC_API_KEY']}\n",
    "\n",
    "def get_research_data(company_name, missing_cols, mode=\"research\"):\n",
    "    \"\"\"\n",
    "    Run the query with the given company domain and missing columns to obtain the missing data\n",
    "    in the form of a JSON object.\n",
    "    \"\"\"\n",
    "    endpoint = f\"https://chat-api.you.com/{mode}\"\n",
    "    params = {\"query\": f\"\"\"\n",
    "              I am trying to find some missing information corresponding to {company_name}.\n",
    "              For these companies, get me more information on each of the following {missing_cols}.\n",
    "              \"\"\"\n",
    "        }\n",
    "    response = requests.get(endpoint, params=params, headers=headers)\n",
    "    return response.json()[\"answer\"]"
   ]
  },
  {
   "cell_type": "code",
   "execution_count": 210,
   "metadata": {},
   "outputs": [
    {
     "name": "stdout",
     "output_type": "stream",
     "text": [
      "# General Dynamics: Comprehensive Company Information\n",
      "\n",
      "## Number of Employees\n",
      "\n",
      "As of December 31, 2023, General Dynamics had 111,600 employees, marking an increase of 5,100 employees or 4.79% compared to the previous year [[1]](https://stockanalysis.com/stocks/gd/employees/#:~:text=General%20Dynamics%20had%20111%2C600%20employees%20on%20December%2031%2C%202023). This number is consistent across multiple sources, confirming the company's substantial workforce [[2]](https://www.forbes.com/companies/general-dynamics/#:~:text=Employees%20111%2C600)[[3]](https://www.gd.com/about-gd/faqs#:~:text=As%20of%20January%202021%2C%20General%20Dynamics%20had%20more%20than%20100%2C000%20full%2Dtime%20employees.%20About%2084%2C000%20of%20these%20are%20based%20in%20the%20United%20States%2C%20and%2016%2C000%20are%20based%20in%20more%20than%2070%20countries%20outside%20the%20United%20States).\n",
      "\n",
      "## NAICS Code(s)\n",
      "\n",
      "General Dynamics operates under the NAICS code 336414, which pertains to Guided Missile and Space Vehicle Manufacturing [[4]](https://leadiq.com/c/general-dynamics/5a1d95922300005a008441e4#:~:text=What%20is%20General%20Dynamics%20%27s%20SIC%20code%20NAICS%20code%20%3F%20General%20Dynamics%20%27s%20SIC%20code%20is%203761%20%2D%20Guided%20Missiles%20and%20Space%20Vehicles%20NAICS%20code%20is%20336414%20%2D%20Guided%20Missile%20and%20Space%20Vehicle%20Manufacturing). This classification aligns with the company's involvement in defense and aerospace manufacturing [[5]](https://leadiq.com/c/general-dynamics/5a1d95922300005a008441e4/employee-directory#:~:text=com%20Start%20free%20General%20Dynamics%20Employee%20Directory%20Defense%20and%20Space%20Manufacturing%20Virginia%2C%20United%20States%2010001%2B%20Employees%20From%20Gulfstream%20business%20jets%20and%20combat%20vehicles%20to%20nuclear%2Dpowered%20submarines%20and%20communications%20systems%2C%20people%20around%20the%20world%20depend%20on%20our%20products%20and%20services%20for%20their%20safety%20and%20security).\n",
      "\n",
      "## Headquarter Location\n",
      "\n",
      "The headquarters of General Dynamics is located at 11011 Sunset Hills Rd, Reston, Virginia 20190, USA [[6]](https://www.forbes.com/companies/general-dynamics/#:~:text=Headquarters%20Reston%2C%20Virginia)[[7]](https://leadiq.com/c/general-dynamics/5a1d95922300005a008441e4#:~:text=com%2022%25%20See%20more%20formats%20Frequently%20Asked%20Questions%20Where%20is%20General%20Dynamics%20%27s%20headquarters%20located%3F%20General%20Dynamics%20%27s%20main%20headquarters%20is%20located%20at%2011011%20Sunset%20Hills%20Rd%20Reston%2C%20Virginia%2020190%20US)[[8]](https://www.gd.com/about-gd/faqs#:~:text=Our%20corporate%20headquarters%20is%20in%20Reston%2C%20Virginia). This location serves as the central hub for the company's operations and strategic planning.\n",
      "\n",
      "![General Dynamics Headquarters](https://upload.wikimedia.org/wikipedia/commons/thumb/b/bb/General_Dynamics_Headquarters.jpg/500px-General_Dynamics_Headquarters.jpg)\n",
      "\n",
      "## Founded Year\n",
      "\n",
      "General Dynamics was founded in 1952 [[9]](https://www.forbes.com/companies/general-dynamics/#:~:text=Founded%201952)[[10]](https://leadiq.com/c/general-dynamics/5a1d95922300005a008441e4#:~:text=When%20was%20General%20Dynamics%20founded%3F%20General%20Dynamics%20was%20founded%20in%201952)[[11]](https://leadiq.com/c/general-dynamics/5a1d95922300005a008441e4/employee-directory#:~:text=founded%20in%201952). However, the company's roots trace back to 1899 with the establishment of the Electric Boat Company in Groton, Connecticut, which later evolved into General Dynamics [[12]](https://www.gd.com/about-gd/faqs#:~:text=General%20Dynamics%20was%20incorporated%20in%201952%2C%20but%20traces%20its%20legacy%20back%20to%201899%20with%20the%20founding%20of%20the%20Electric%20Boat%20Company%20in%20Groton%2C%20Connecticut).\n",
      "\n",
      "## Conclusion\n",
      "\n",
      "General Dynamics is a major player in the aerospace and defense industry, with a significant global workforce and a rich history dating back to the late 19th century. The company is headquartered in Reston, Virginia, and operates under the NAICS code 336414, reflecting its focus on guided missile and space vehicle manufacturing.\n",
      "\n",
      "![Gulfstream G650 departs Bristol](https://upload.wikimedia.org/wikipedia/commons/thumb/2/2e/Gulfstream_G650_departs_Bristol_23rdAug2014_arp.jpg/500px-Gulfstream_G650_departs_Bristol_23rdAug2014_arp.jpg)\n",
      "\n",
      "This report provides a detailed overview of General Dynamics, covering key aspects such as the number of employees, NAICS code, headquarters location, and founding year.\n"
     ]
    }
   ],
   "source": [
    "# Let's look at the results returned by the API for one of the companies\n",
    "you_response = get_research_data(\"General Dynamics\",\n",
    "                           ['number_of_employees', 'NAICS_code(s)', 'headquarter_location', 'founded_year'])\n",
    "print(you_response)"
   ]
  },
  {
   "cell_type": "markdown",
   "metadata": {},
   "source": [
    "### Value extraction with GPT function calling\n",
    "\n",
    "The response from You.com API is in long text format along with the relevant links. As we want to fill our table with the exact information, we will be using chatGPT funtion calling to extract the information for each of the missing fields. "
   ]
  },
  {
   "cell_type": "code",
   "execution_count": 207,
   "metadata": {},
   "outputs": [],
   "source": [
    "from openai import OpenAI\n",
    "import json\n",
    "\n",
    "os.environ[\"OPENAI_API_KEY\"] = \"<YOUR OPENAI API KEY>\"\n",
    "\n",
    "client = OpenAI(api_key=os.environ['OPENAI_API_KEY'])"
   ]
  },
  {
   "cell_type": "code",
   "execution_count": 221,
   "metadata": {},
   "outputs": [],
   "source": [
    "# Let's create a function to extract the missing data from the You.com response using chatGPT function calling\n",
    "def get_missing_data(you_com_response):\n",
    "    \"\"\"\n",
    "    Given the response from the You.com API, extract the missing data fields using function calling with chatGPT\n",
    "    and return the extracted data as a json object. \n",
    "    \"\"\"\n",
    "    prompt = f\"Given the {you_com_response}, extract number of employees, NAICS code, headquarter location, and founded year.\"\n",
    "\n",
    "    # function description to specify the format of the extracted data\n",
    "    function = [\n",
    "        {\n",
    "            \"name\": \"get_company_data\",\n",
    "            \"description\": \"Extract the relevant data corresponding to each field\",\n",
    "            \"parameters\": {\n",
    "                \"type\": \"object\",\n",
    "                \"properties\": {\n",
    "                    \"number of employees\": {\n",
    "                        \"type\": \"string\",\n",
    "                        \"description\": \"The number of employees working in the company\",\n",
    "                    },\n",
    "                    \"NAICS code(s)\": {\n",
    "                        \"type\": \"string\",\n",
    "                        \"description\": \"The NAICS code of the company\",\n",
    "                    },\n",
    "                    \"headquarter location\": {\n",
    "                        \"type\": \"string\",\n",
    "                        \"description\": \"The headquarter location of the company\",\n",
    "                    },\n",
    "                    \"founded year\": {\n",
    "                        \"type\": \"string\",\n",
    "                        \"description\": \"The year in which the company was founded\",\n",
    "                    },\n",
    "                },\n",
    "                \"required\": [\"number of employees\", \"NAICS code\", \"headquarter location\", \"founded year\"],\n",
    "            },\n",
    "        }\n",
    "    ]\n",
    "\n",
    "    # call the chatGPT model with the function calling\n",
    "    completion = client.chat.completions.create(\n",
    "        model=\"gpt-3.5-turbo\",\n",
    "        messages=[\n",
    "            {\"role\": \"user\", \"content\": prompt}\n",
    "        ],\n",
    "        functions=function,\n",
    "        function_call=\"auto\"\n",
    "    )\n",
    "\n",
    "    # get the message from the completion which contains the extracted data\n",
    "    output = completion.choices[0].message\n",
    "    # parse the output to extract the json object\n",
    "    json_output = json.loads(output.function_call.arguments)\n",
    "    \n",
    "    return json_output"
   ]
  },
  {
   "cell_type": "code",
   "execution_count": 222,
   "metadata": {},
   "outputs": [
    {
     "data": {
      "text/plain": [
       "{'number of employees': '111600',\n",
       " 'NAICS code(s)': '336414',\n",
       " 'headquarter location': 'Reston, Virginia, USA',\n",
       " 'founded year': '1952'}"
      ]
     },
     "execution_count": 222,
     "metadata": {},
     "output_type": "execute_result"
    }
   ],
   "source": [
    "# Let's look at the extracted missing data for the company from earlier\n",
    "get_missing_data(you_response)"
   ]
  },
  {
   "cell_type": "markdown",
   "metadata": {},
   "source": [
    "### Fill the missing data\n",
    "\n",
    "Finally, let's run our functions to first search and get the infromation using `You.com` research API then extract the values of the missing columns in `json` format with GPT function calling."
   ]
  },
  {
   "cell_type": "code",
   "execution_count": 224,
   "metadata": {},
   "outputs": [],
   "source": [
    "# call the API to get the missing data and update the DataFrame\n",
    "for index, row in df.iterrows():\n",
    "    missing_cols = [col for col in df.columns if row[col] == '']\n",
    "\n",
    "    if missing_cols:\n",
    "        # get the missing data from the You.com API\n",
    "        you_response = get_research_data(row['company'], missing_cols)\n",
    "\n",
    "        # extract the missing data using chatGPT function calling\n",
    "        json_response = get_missing_data(you_response)\n",
    "\n",
    "        # fill the data into original DataFrame\n",
    "        for col in missing_cols:\n",
    "            df.at[index, col] = json_response.get(col, '')"
   ]
  },
  {
   "cell_type": "code",
   "execution_count": 225,
   "metadata": {},
   "outputs": [
    {
     "data": {
      "text/html": [
       "<div>\n",
       "<style scoped>\n",
       "    .dataframe tbody tr th:only-of-type {\n",
       "        vertical-align: middle;\n",
       "    }\n",
       "\n",
       "    .dataframe tbody tr th {\n",
       "        vertical-align: top;\n",
       "    }\n",
       "\n",
       "    .dataframe thead th {\n",
       "        text-align: right;\n",
       "    }\n",
       "</style>\n",
       "<table border=\"1\" class=\"dataframe\">\n",
       "  <thead>\n",
       "    <tr style=\"text-align: right;\">\n",
       "      <th></th>\n",
       "      <th>company</th>\n",
       "      <th>number of employees</th>\n",
       "      <th>NAICS code(s)</th>\n",
       "      <th>headquarter location</th>\n",
       "      <th>founded year</th>\n",
       "    </tr>\n",
       "  </thead>\n",
       "  <tbody>\n",
       "    <tr>\n",
       "      <th>0</th>\n",
       "      <td>Apple</td>\n",
       "      <td>161,000</td>\n",
       "      <td>511210, 334111</td>\n",
       "      <td>Cupertino, California, 95014, United States</td>\n",
       "      <td>April 1, 1976</td>\n",
       "    </tr>\n",
       "    <tr>\n",
       "      <th>1</th>\n",
       "      <td>Canadian Tire</td>\n",
       "      <td>68,000</td>\n",
       "      <td>441310, 441320, 441110, 441120, 441210, 441222...</td>\n",
       "      <td>Toronto, Ontario</td>\n",
       "      <td>1922</td>\n",
       "    </tr>\n",
       "    <tr>\n",
       "      <th>2</th>\n",
       "      <td>Home Depot</td>\n",
       "      <td>463,100</td>\n",
       "      <td>444130, 444110, 23</td>\n",
       "      <td>2455 Paces Ferry Road, Atlanta, Georgia 30339,...</td>\n",
       "      <td>1978</td>\n",
       "    </tr>\n",
       "    <tr>\n",
       "      <th>3</th>\n",
       "      <td>LinkedIn Corporation</td>\n",
       "      <td>19,400</td>\n",
       "      <td>541511</td>\n",
       "      <td>Sunnyvale, California</td>\n",
       "      <td>2003</td>\n",
       "    </tr>\n",
       "    <tr>\n",
       "      <th>4</th>\n",
       "      <td>General Dynamics</td>\n",
       "      <td>111,600</td>\n",
       "      <td>336414</td>\n",
       "      <td>Reston, Virginia, USA</td>\n",
       "      <td>1952</td>\n",
       "    </tr>\n",
       "  </tbody>\n",
       "</table>\n",
       "</div>"
      ],
      "text/plain": [
       "                company number of employees  \\\n",
       "0                 Apple             161,000   \n",
       "1         Canadian Tire              68,000   \n",
       "2            Home Depot             463,100   \n",
       "3  LinkedIn Corporation              19,400   \n",
       "4      General Dynamics             111,600   \n",
       "\n",
       "                                       NAICS code(s)  \\\n",
       "0                                     511210, 334111   \n",
       "1  441310, 441320, 441110, 441120, 441210, 441222...   \n",
       "2                                 444130, 444110, 23   \n",
       "3                                             541511   \n",
       "4                                             336414   \n",
       "\n",
       "                                headquarter location   founded year  \n",
       "0        Cupertino, California, 95014, United States  April 1, 1976  \n",
       "1                                   Toronto, Ontario           1922  \n",
       "2  2455 Paces Ferry Road, Atlanta, Georgia 30339,...           1978  \n",
       "3                              Sunnyvale, California           2003  \n",
       "4                              Reston, Virginia, USA           1952  "
      ]
     },
     "execution_count": 225,
     "metadata": {},
     "output_type": "execute_result"
    }
   ],
   "source": [
    "# Finally, let's display the updated DataFrame with the missing data filled in\n",
    "df.head()"
   ]
  }
 ],
 "metadata": {
  "kernelspec": {
   "display_name": ".venv",
   "language": "python",
   "name": "python3"
  },
  "language_info": {
   "codemirror_mode": {
    "name": "ipython",
    "version": 3
   },
   "file_extension": ".py",
   "mimetype": "text/x-python",
   "name": "python",
   "nbconvert_exporter": "python",
   "pygments_lexer": "ipython3",
   "version": "3.10.4"
  }
 },
 "nbformat": 4,
 "nbformat_minor": 2
}
