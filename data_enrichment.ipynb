{
 "cells": [
  {
   "cell_type": "markdown",
   "metadata": {},
   "source": [
    "## Missing Tabular Data Enrichment With YOU Research API \n",
    "\n",
    "In this tutorial, we will enrich the missing values in a tabular dataset primarily using `You.com` research API. "
   ]
  },
  {
   "cell_type": "markdown",
   "metadata": {},
   "source": [
    "### Install required packages"
   ]
  },
  {
   "cell_type": "code",
   "execution_count": 1,
   "metadata": {},
   "outputs": [],
   "source": [
    "%%capture\n",
    "! pip install pandas\n",
    "! pip install openai\n",
    "! pip install openai\n",
    "! pip install python-dotenv\n",
    "! pip install requests"
   ]
  },
  {
   "cell_type": "markdown",
   "metadata": {},
   "source": [
    "### Loading API keys\n",
    "\n",
    "Set the environment variables `YDC_API_KEY` and `OPENAI_API_KEY` in a .env file which we will load using `dotenv`."
   ]
  },
  {
   "cell_type": "code",
   "execution_count": 2,
   "metadata": {},
   "outputs": [
    {
     "data": {
      "text/plain": [
       "True"
      ]
     },
     "execution_count": 2,
     "metadata": {},
     "output_type": "execute_result"
    }
   ],
   "source": [
    "import dotenv\n",
    "dotenv.load_dotenv(\".env\", override=True)"
   ]
  },
  {
   "cell_type": "markdown",
   "metadata": {},
   "source": [
    "### Creating a synthetic dataset for enrichment\n",
    "\n",
    "We will create a dataframe with a few company domains and columns such as number of employees, NAICS code, headquarter and year founded with missing values. Our aim is to fill these missing values using `You.com` research API.  "
   ]
  },
  {
   "cell_type": "code",
   "execution_count": 3,
   "metadata": {},
   "outputs": [
    {
     "data": {
      "text/html": [
       "<div>\n",
       "<style scoped>\n",
       "    .dataframe tbody tr th:only-of-type {\n",
       "        vertical-align: middle;\n",
       "    }\n",
       "\n",
       "    .dataframe tbody tr th {\n",
       "        vertical-align: top;\n",
       "    }\n",
       "\n",
       "    .dataframe thead th {\n",
       "        text-align: right;\n",
       "    }\n",
       "</style>\n",
       "<table border=\"1\" class=\"dataframe\">\n",
       "  <thead>\n",
       "    <tr style=\"text-align: right;\">\n",
       "      <th></th>\n",
       "      <th>company</th>\n",
       "      <th>number of employees</th>\n",
       "      <th>NAICS code(s)</th>\n",
       "      <th>headquarter location</th>\n",
       "      <th>founded year</th>\n",
       "    </tr>\n",
       "  </thead>\n",
       "  <tbody>\n",
       "    <tr>\n",
       "      <th>0</th>\n",
       "      <td>Apple</td>\n",
       "      <td></td>\n",
       "      <td></td>\n",
       "      <td></td>\n",
       "      <td></td>\n",
       "    </tr>\n",
       "    <tr>\n",
       "      <th>1</th>\n",
       "      <td>Canadian Tire</td>\n",
       "      <td></td>\n",
       "      <td></td>\n",
       "      <td></td>\n",
       "      <td></td>\n",
       "    </tr>\n",
       "    <tr>\n",
       "      <th>2</th>\n",
       "      <td>Home Depot</td>\n",
       "      <td></td>\n",
       "      <td></td>\n",
       "      <td></td>\n",
       "      <td></td>\n",
       "    </tr>\n",
       "    <tr>\n",
       "      <th>3</th>\n",
       "      <td>LinkedIn Corporation</td>\n",
       "      <td></td>\n",
       "      <td></td>\n",
       "      <td></td>\n",
       "      <td></td>\n",
       "    </tr>\n",
       "    <tr>\n",
       "      <th>4</th>\n",
       "      <td>General Dynamics</td>\n",
       "      <td></td>\n",
       "      <td></td>\n",
       "      <td></td>\n",
       "      <td></td>\n",
       "    </tr>\n",
       "  </tbody>\n",
       "</table>\n",
       "</div>"
      ],
      "text/plain": [
       "                company number of employees NAICS code(s)  \\\n",
       "0                 Apple                                     \n",
       "1         Canadian Tire                                     \n",
       "2            Home Depot                                     \n",
       "3  LinkedIn Corporation                                     \n",
       "4      General Dynamics                                     \n",
       "\n",
       "  headquarter location founded year  \n",
       "0                                    \n",
       "1                                    \n",
       "2                                    \n",
       "3                                    \n",
       "4                                    "
      ]
     },
     "execution_count": 3,
     "metadata": {},
     "output_type": "execute_result"
    }
   ],
   "source": [
    "import pandas as pd\n",
    "\n",
    "data = {\n",
    "    'company': [\"Apple\", 'Canadian Tire', 'Home Depot', 'LinkedIn Corporation', 'General Dynamics'],\n",
    "    'number of employees': ['', '', '', '', ''],\n",
    "    'NAICS code(s)': ['', '', '', '', ''],\n",
    "    'headquarter location': ['', '', '', '', ''],\n",
    "    'founded year': ['', '', '', '', ''],\n",
    "}\n",
    "\n",
    "# Convert to DataFrame\n",
    "df = pd.DataFrame(data)\n",
    "\n",
    "# Display the DataFrame\n",
    "df.head()"
   ]
  },
  {
   "cell_type": "markdown",
   "metadata": {},
   "source": [
    "### Searching and getting results with `You.com` API\n",
    "\n",
    "We will obtain the missing values with a simple call to `You.com` API"
   ]
  },
  {
   "cell_type": "code",
   "execution_count": 4,
   "metadata": {},
   "outputs": [],
   "source": [
    "# TODO - Switch out to use langchain/dspy implementation instead of reuests once available\n",
    "\n",
    "import requests\n",
    "import os\n",
    "\n",
    "# obtain the API key from the environment\n",
    "headers = {'x-api-key': os.environ['YDC_API_KEY']}\n",
    "\n",
    "def get_research_data(company_name, missing_cols, mode=\"research\"):\n",
    "    \"\"\"\n",
    "    Run the query with the given company domain and missing columns to obtain the missing data\n",
    "    in the form of a JSON object.\n",
    "    \"\"\"\n",
    "    endpoint = f\"https://chat-api.you.com/{mode}\"\n",
    "    params = {\"query\": f\"\"\"\n",
    "              I am trying to find some missing information corresponding to {company_name}.\n",
    "              For these companies, get me more information on each of the following {missing_cols}.\n",
    "              \"\"\"\n",
    "        }\n",
    "    response = requests.get(endpoint, params=params, headers=headers)\n",
    "    return response.json()[\"answer\"]"
   ]
  },
  {
   "cell_type": "code",
   "execution_count": 5,
   "metadata": {},
   "outputs": [
    {
     "name": "stdout",
     "output_type": "stream",
     "text": [
      "# General Dynamics: Comprehensive Company Overview\n",
      "\n",
      "## Number of Employees\n",
      "As of December 31, 2023, General Dynamics had 111,600 employees, marking an increase of 5,100 employees or 4.79% compared to the previous year [[1]](https://stockanalysis.com/stocks/gd/employees/#:~:text=General%20Dynamics%20had%20111%2C600%20employees%20on%20December%2031%2C%202023.%20The%20number%20of%20employees%20increased%20by%205%2C100%20or%204.79%25%20compared%20to%20the%20previous%20year). This number is consistent across multiple sources, confirming the company's substantial workforce [[2]](https://www.forbes.com/companies/general-dynamics/#:~:text=Employees%20111%2C600)[[3]](https://www.globaldata.com/company-profile/general-dynamics-corp/#:~:text=No%20of%20Employees%20111%2C600). In January 2021, the company reported having more than 100,000 full-time employees, with about 84,000 based in the United States and 16,000 in over 70 countries worldwide [[4]](https://www.gd.com/about-gd/faqs#:~:text=As%20of%20January%202021%2C%20General%20Dynamics%20had%20more%20than%20100%2C000%20full%2Dtime%20employees.%20About%2084%2C000%20of%20these%20are%20based%20in%20the%20United%20States%2C%20and%2016%2C000%20are%20based%20in%20more%20than%2070%20countries%20outside%20the%20United%20States).\n",
      "\n",
      "## NAICS Code(s)\n",
      "General Dynamics operates under multiple NAICS codes. The primary NAICS code is 336414, which pertains to Guided Missile and Space Vehicle Manufacturing [[5]](https://leadiq.com/c/general-dynamics/5a1d95922300005a008441e4#:~:text=NAICS%20code%20is%20336414%20%2D%20Guided%20Missile%20and%20Space%20Vehicle%20Manufacturing). Another relevant NAICS code is 336411, which is associated with Aircraft Manufacturing [[6]](https://siccode.com/business/general-dynamics-28#:~:text=NAICS%20CODE%20336411%20%2D%20Aircraft%20Manufacturing).\n",
      "\n",
      "## Headquarter Location\n",
      "The headquarters of General Dynamics is located at 11011 Sunset Hills Road, Reston, Virginia, 20190, United States [[7]](https://www.forbes.com/companies/general-dynamics/#:~:text=Headquarters%20Reston%2C%20Virginia)[[8]](https://www.gd.com/about-gd/faqs#:~:text=Our%20corporate%20headquarters%20is%20in%20Reston%2C%20Virginia)[[9]](https://leadiq.com/c/general-dynamics/5a1d95922300005a008441e4#:~:text=Sign%20up%20for%20free%20to%20view%20info%20Email%20Format%20Employee%20directory%20Company%20Overview%20Headquarters%2011011%20Sunset%20Hills%20Rd%20Reston%2C%20Virginia%2020190%20US%20Website%20generaldynamics)[[10]](https://www.globaldata.com/company-profile/general-dynamics-corp/#:~:text=Headquarters%20United%20States%20of%20America%20Address%2011011%20Sunset%20Hills%20Road%2C%20Reston%2C%20Virginia%2C%2020190).\n",
      "\n",
      "![General Dynamics Headquarters](https://upload.wikimedia.org/wikipedia/commons/thumb/b/bb/General_Dynamics_Headquarters.jpg/500px-General_Dynamics_Headquarters.jpg)\n",
      "\n",
      "## Founded Year\n",
      "General Dynamics was founded in 1952 [[11]](https://www.forbes.com/companies/general-dynamics/#:~:text=Founded%201952)[[12]](https://www.gd.com/about-gd/faqs#:~:text=General%20Dynamics%20was%20incorporated%20in%201952%2C%20but%20traces%20its%20legacy%20back%20to%201899%20with%20the%20founding%20of%20the%20Electric%20Boat%20Company%20in%20Groton%2C%20Connecticut)[[13]](https://leadiq.com/c/general-dynamics/5a1d95922300005a008441e4#:~:text=founded%20in%201952). The company traces its legacy back to 1899 with the founding of the Electric Boat Company in Groton, Connecticut [[12]](https://www.gd.com/about-gd/faqs#:~:text=General%20Dynamics%20was%20incorporated%20in%201952%2C%20but%20traces%20its%20legacy%20back%20to%201899%20with%20the%20founding%20of%20the%20Electric%20Boat%20Company%20in%20Groton%2C%20Connecticut).\n",
      "\n",
      "## Conclusion\n",
      "General Dynamics is a major player in the aerospace and defense industry, with a significant global workforce and a rich history dating back to the late 19th century. The company is headquartered in Reston, Virginia, and operates under several NAICS codes related to aerospace and defense manufacturing.\n",
      "\n",
      "### References\n",
      "- General Dynamics had 111,600 employees on December 31, 2023 [[1]](https://stockanalysis.com/stocks/gd/employees/#:~:text=General%20Dynamics%20had%20111%2C600%20employees%20on%20December%2031%2C%202023.%20The%20number%20of%20employees%20increased%20by%205%2C100%20or%204.79%25%20compared%20to%20the%20previous%20year).\n",
      "- Employees 111,600 [[2]](https://www.forbes.com/companies/general-dynamics/#:~:text=Employees%20111%2C600).\n",
      "- No of Employees 111,600 [[3]](https://www.globaldata.com/company-profile/general-dynamics-corp/#:~:text=No%20of%20Employees%20111%2C600).\n",
      "- As of January 2021, General Dynamics had more than 100,000 full-time employees [[4]](https://www.gd.com/about-gd/faqs#:~:text=As%20of%20January%202021%2C%20General%20Dynamics%20had%20more%20than%20100%2C000%20full%2Dtime%20employees.%20About%2084%2C000%20of%20these%20are%20based%20in%20the%20United%20States%2C%20and%2016%2C000%20are%20based%20in%20more%20than%2070%20countries%20outside%20the%20United%20States).\n",
      "- General Dynamics had more than 100,000 full-time employees [[14]](https://www.gd.com/about-gd/faqs#:~:text=General%20Dynamics%20had%20more%20than%20100%2C000%20full%2Dtime%20employees).\n",
      "- NAICS code is 336414 - Guided Missile and Space Vehicle Manufacturing [[5]](https://leadiq.com/c/general-dynamics/5a1d95922300005a008441e4#:~:text=NAICS%20code%20is%20336414%20%2D%20Guided%20Missile%20and%20Space%20Vehicle%20Manufacturing).\n",
      "- NAICS CODE 336411 - Aircraft Manufacturing [[6]](https://siccode.com/business/general-dynamics-28#:~:text=NAICS%20CODE%20336411%20%2D%20Aircraft%20Manufacturing).\n",
      "- Headquarters Reston, Virginia [[7]](https://www.forbes.com/companies/general-dynamics/#:~:text=Headquarters%20Reston%2C%20Virginia).\n",
      "- Our corporate headquarters is in Reston, Virginia [[8]](https://www.gd.com/about-gd/faqs#:~:text=Our%20corporate%20headquarters%20is%20in%20Reston%2C%20Virginia).\n",
      "- headquarters 11011 Sunset Hills Rd Reston, Virginia 20190 US [[9]](https://leadiq.com/c/general-dynamics/5a1d95922300005a008441e4#:~:text=Sign%20up%20for%20free%20to%20view%20info%20Email%20Format%20Employee%20directory%20Company%20Overview%20Headquarters%2011011%20Sunset%20Hills%20Rd%20Reston%2C%20Virginia%2020190%20US%20Website%20generaldynamics).\n",
      "- Headquarters United States of America Address 11011 Sunset Hills Road, Reston, Virginia, 20190 [[10]](https://www.globaldata.com/company-profile/general-dynamics-corp/#:~:text=Headquarters%20United%20States%20of%20America%20Address%2011011%20Sunset%20Hills%20Road%2C%20Reston%2C%20Virginia%2C%2020190).\n",
      "- Founded 1952 [[11]](https://www.forbes.com/companies/general-dynamics/#:~:text=Founded%201952).\n",
      "- General Dynamics was incorporated in 1952, but traces its legacy back to 1899 with the founding of the Electric Boat Company in Groton, Connecticut [[12]](https://www.gd.com/about-gd/faqs#:~:text=General%20Dynamics%20was%20incorporated%20in%201952%2C%20but%20traces%20its%20legacy%20back%20to%201899%20with%20the%20founding%20of%20the%20Electric%20Boat%20Company%20in%20Groton%2C%20Connecticut).\n",
      "- founded in 1952 [[13]](https://leadiq.com/c/general-dynamics/5a1d95922300005a008441e4#:~:text=founded%20in%201952)\n"
     ]
    }
   ],
   "source": [
    "# Let's look at the results returned by the API for one of the companies\n",
    "you_response = get_research_data(\"General Dynamics\",\n",
    "                           ['number_of_employees', 'NAICS_code(s)', 'headquarter_location', 'founded_year'])\n",
    "print(you_response)"
   ]
  },
  {
   "cell_type": "markdown",
   "metadata": {},
   "source": [
    "### Value extraction with GPT function calling\n",
    "\n",
    "The response from You.com API is in long text format along with the relevant links. As we want to fill our table with the exact information, we will be using chatGPT funtion calling to extract the information for each of the missing fields. "
   ]
  },
  {
   "cell_type": "code",
   "execution_count": 6,
   "metadata": {},
   "outputs": [],
   "source": [
    "from openai import OpenAI\n",
    "import json\n",
    "\n",
    "client = OpenAI()"
   ]
  },
  {
   "cell_type": "code",
   "execution_count": 7,
   "metadata": {},
   "outputs": [],
   "source": [
    "# Let's create a function to extract the missing data from the You.com response using chatGPT function calling\n",
    "def get_missing_data(you_com_response):\n",
    "    \"\"\"\n",
    "    Given the response from the You.com API, extract the missing data fields using function calling with chatGPT\n",
    "    and return the extracted data as a json object. \n",
    "    \"\"\"\n",
    "    prompt = f\"Given the {you_com_response}, extract number of employees, NAICS code, headquarter location, and founded year.\"\n",
    "\n",
    "    # function description to specify the format of the extracted data\n",
    "    function = [\n",
    "        {\n",
    "            \"name\": \"get_company_data\",\n",
    "            \"description\": \"Extract the relevant data corresponding to each field\",\n",
    "            \"parameters\": {\n",
    "                \"type\": \"object\",\n",
    "                \"properties\": {\n",
    "                    \"number of employees\": {\n",
    "                        \"type\": \"string\",\n",
    "                        \"description\": \"The number of employees working in the company\",\n",
    "                    },\n",
    "                    \"NAICS code(s)\": {\n",
    "                        \"type\": \"string\",\n",
    "                        \"description\": \"The NAICS code of the company\",\n",
    "                    },\n",
    "                    \"headquarter location\": {\n",
    "                        \"type\": \"string\",\n",
    "                        \"description\": \"The headquarter location of the company\",\n",
    "                    },\n",
    "                    \"founded year\": {\n",
    "                        \"type\": \"string\",\n",
    "                        \"description\": \"The year in which the company was founded\",\n",
    "                    },\n",
    "                },\n",
    "                \"required\": [\"number of employees\", \"NAICS code\", \"headquarter location\", \"founded year\"],\n",
    "            },\n",
    "        }\n",
    "    ]\n",
    "\n",
    "    # call the chatGPT model with the function calling\n",
    "    completion = client.chat.completions.create(\n",
    "        model=\"gpt-3.5-turbo\",\n",
    "        messages=[\n",
    "            {\"role\": \"user\", \"content\": prompt}\n",
    "        ],\n",
    "        functions=function,\n",
    "        function_call=\"auto\"\n",
    "    )\n",
    "\n",
    "    # get the message from the completion which contains the extracted data\n",
    "    output = completion.choices[0].message\n",
    "    # parse the output to extract the json object\n",
    "    json_output = json.loads(output.function_call.arguments)\n",
    "    \n",
    "    return json_output"
   ]
  },
  {
   "cell_type": "code",
   "execution_count": 8,
   "metadata": {},
   "outputs": [
    {
     "data": {
      "text/plain": [
       "{'number of employees': '111600',\n",
       " 'NAICS code(s)': '336414, 336411',\n",
       " 'headquarter location': 'Reston, Virginia, 20190, United States',\n",
       " 'founded year': '1952'}"
      ]
     },
     "execution_count": 8,
     "metadata": {},
     "output_type": "execute_result"
    }
   ],
   "source": [
    "# Let's look at the extracted missing data for the company from earlier\n",
    "get_missing_data(you_response)"
   ]
  },
  {
   "cell_type": "markdown",
   "metadata": {},
   "source": [
    "### Fill the missing data\n",
    "\n",
    "Finally, let's run our functions to first search and get the infromation using `You.com` research API then extract the values of the missing columns in `json` format with GPT function calling."
   ]
  },
  {
   "cell_type": "code",
   "execution_count": 9,
   "metadata": {},
   "outputs": [],
   "source": [
    "# call the API to get the missing data and update the DataFrame\n",
    "for index, row in df.iterrows():\n",
    "    missing_cols = [col for col in df.columns if row[col] == '']\n",
    "\n",
    "    if missing_cols:\n",
    "        # get the missing data from the You.com API\n",
    "        you_response = get_research_data(row['company'], missing_cols)\n",
    "\n",
    "        # extract the missing data using chatGPT function calling\n",
    "        json_response = get_missing_data(you_response)\n",
    "\n",
    "        # fill the data into original DataFrame\n",
    "        for col in missing_cols:\n",
    "            df.at[index, col] = json_response.get(col, '')"
   ]
  },
  {
   "cell_type": "code",
   "execution_count": 10,
   "metadata": {},
   "outputs": [
    {
     "data": {
      "text/html": [
       "<div>\n",
       "<style scoped>\n",
       "    .dataframe tbody tr th:only-of-type {\n",
       "        vertical-align: middle;\n",
       "    }\n",
       "\n",
       "    .dataframe tbody tr th {\n",
       "        vertical-align: top;\n",
       "    }\n",
       "\n",
       "    .dataframe thead th {\n",
       "        text-align: right;\n",
       "    }\n",
       "</style>\n",
       "<table border=\"1\" class=\"dataframe\">\n",
       "  <thead>\n",
       "    <tr style=\"text-align: right;\">\n",
       "      <th></th>\n",
       "      <th>company</th>\n",
       "      <th>number of employees</th>\n",
       "      <th>NAICS code(s)</th>\n",
       "      <th>headquarter location</th>\n",
       "      <th>founded year</th>\n",
       "    </tr>\n",
       "  </thead>\n",
       "  <tbody>\n",
       "    <tr>\n",
       "      <th>0</th>\n",
       "      <td>Apple</td>\n",
       "      <td>161,000</td>\n",
       "      <td>334111, 511210, 42, 42343, 33, 423, 334, 4234</td>\n",
       "      <td>Cupertino, California 95014, United States</td>\n",
       "      <td>1976</td>\n",
       "    </tr>\n",
       "    <tr>\n",
       "      <th>1</th>\n",
       "      <td>Canadian Tire</td>\n",
       "      <td>26,420</td>\n",
       "      <td>NAICS Code 44, NAICS Code 45</td>\n",
       "      <td>2180 Yonge St, Toronto, Ontario, M4S 2B9, Canada</td>\n",
       "      <td>1922</td>\n",
       "    </tr>\n",
       "    <tr>\n",
       "      <th>2</th>\n",
       "      <td>Home Depot</td>\n",
       "      <td>463100</td>\n",
       "      <td>444130, 444110</td>\n",
       "      <td>2455 Paces Ferry Road, Atlanta, Georgia 30339,...</td>\n",
       "      <td>1978</td>\n",
       "    </tr>\n",
       "    <tr>\n",
       "      <th>3</th>\n",
       "      <td>LinkedIn Corporation</td>\n",
       "      <td>19,400</td>\n",
       "      <td>541511</td>\n",
       "      <td>Sunnyvale, California</td>\n",
       "      <td>2003</td>\n",
       "    </tr>\n",
       "    <tr>\n",
       "      <th>4</th>\n",
       "      <td>General Dynamics</td>\n",
       "      <td>111600</td>\n",
       "      <td>336414,336411</td>\n",
       "      <td>11011 Sunset Hills Road, Reston, Virginia, 201...</td>\n",
       "      <td>1952</td>\n",
       "    </tr>\n",
       "  </tbody>\n",
       "</table>\n",
       "</div>"
      ],
      "text/plain": [
       "                company number of employees  \\\n",
       "0                 Apple             161,000   \n",
       "1         Canadian Tire              26,420   \n",
       "2            Home Depot              463100   \n",
       "3  LinkedIn Corporation              19,400   \n",
       "4      General Dynamics              111600   \n",
       "\n",
       "                                   NAICS code(s)  \\\n",
       "0  334111, 511210, 42, 42343, 33, 423, 334, 4234   \n",
       "1                   NAICS Code 44, NAICS Code 45   \n",
       "2                                 444130, 444110   \n",
       "3                                         541511   \n",
       "4                                  336414,336411   \n",
       "\n",
       "                                headquarter location founded year  \n",
       "0         Cupertino, California 95014, United States         1976  \n",
       "1   2180 Yonge St, Toronto, Ontario, M4S 2B9, Canada         1922  \n",
       "2  2455 Paces Ferry Road, Atlanta, Georgia 30339,...         1978  \n",
       "3                              Sunnyvale, California         2003  \n",
       "4  11011 Sunset Hills Road, Reston, Virginia, 201...         1952  "
      ]
     },
     "execution_count": 10,
     "metadata": {},
     "output_type": "execute_result"
    }
   ],
   "source": [
    "# Finally, let's display the updated DataFrame with the missing data filled in\n",
    "df.head()"
   ]
  },
  {
   "cell_type": "code",
   "execution_count": null,
   "metadata": {},
   "outputs": [],
   "source": []
  }
 ],
 "metadata": {
  "kernelspec": {
   "display_name": ".venv",
   "language": "python",
   "name": "python3"
  },
  "language_info": {
   "codemirror_mode": {
    "name": "ipython",
    "version": 3
   },
   "file_extension": ".py",
   "mimetype": "text/x-python",
   "name": "python",
   "nbconvert_exporter": "python",
   "pygments_lexer": "ipython3",
   "version": "3.10.14"
  }
 },
 "nbformat": 4,
 "nbformat_minor": 2
}
