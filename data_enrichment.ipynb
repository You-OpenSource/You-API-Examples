{
 "cells": [
  {
   "cell_type": "markdown",
   "metadata": {},
   "source": [
    "## Missing Tabular Data Enrichment With YOU Research API \n",
    "\n",
    "In this tutorial, we will enrich the missing values in a tabular dataset primarily using `You.com` research API. \n",
    "\n",
    "Firstly, set the environment variable `YDC_API_KEY` with your `You.com` api key."
   ]
  },
  {
   "cell_type": "code",
   "execution_count": null,
   "metadata": {},
   "outputs": [],
   "source": [
    "import os\n",
    "os.environ[\"YDC_API_KEY\"] = \"<YOUR YOU.COM API KEY>\""
   ]
  },
  {
   "cell_type": "markdown",
   "metadata": {},
   "source": [
    "#### Creating a synthetic dataset for enrichment\n",
    "\n",
    "We will create a dataframe with a few company domains and columns such as number of employees, NAICS code, headquarter and founded year with missing values. Our aim is to fill these missing values using `You.com` research API.  "
   ]
  },
  {
   "cell_type": "code",
   "execution_count": 62,
   "metadata": {},
   "outputs": [
    {
     "data": {
      "text/html": [
       "<div>\n",
       "<style scoped>\n",
       "    .dataframe tbody tr th:only-of-type {\n",
       "        vertical-align: middle;\n",
       "    }\n",
       "\n",
       "    .dataframe tbody tr th {\n",
       "        vertical-align: top;\n",
       "    }\n",
       "\n",
       "    .dataframe thead th {\n",
       "        text-align: right;\n",
       "    }\n",
       "</style>\n",
       "<table border=\"1\" class=\"dataframe\">\n",
       "  <thead>\n",
       "    <tr style=\"text-align: right;\">\n",
       "      <th></th>\n",
       "      <th>company</th>\n",
       "      <th>number_of_employees</th>\n",
       "      <th>NAICS_code</th>\n",
       "      <th>headquarter_location</th>\n",
       "      <th>founded_year</th>\n",
       "    </tr>\n",
       "  </thead>\n",
       "  <tbody>\n",
       "    <tr>\n",
       "      <th>0</th>\n",
       "      <td>https://www.enbridge.com/</td>\n",
       "      <td></td>\n",
       "      <td></td>\n",
       "      <td></td>\n",
       "      <td></td>\n",
       "    </tr>\n",
       "    <tr>\n",
       "      <th>1</th>\n",
       "      <td>https://www.canadiantire.ca/en.html</td>\n",
       "      <td></td>\n",
       "      <td></td>\n",
       "      <td></td>\n",
       "      <td></td>\n",
       "    </tr>\n",
       "    <tr>\n",
       "      <th>2</th>\n",
       "      <td>https://www.homedepot.ca/en/home.html</td>\n",
       "      <td></td>\n",
       "      <td></td>\n",
       "      <td></td>\n",
       "      <td></td>\n",
       "    </tr>\n",
       "    <tr>\n",
       "      <th>3</th>\n",
       "      <td>https://atsautomation.com/</td>\n",
       "      <td></td>\n",
       "      <td></td>\n",
       "      <td></td>\n",
       "      <td></td>\n",
       "    </tr>\n",
       "    <tr>\n",
       "      <th>4</th>\n",
       "      <td>https://www.gd.com/</td>\n",
       "      <td>106500</td>\n",
       "      <td></td>\n",
       "      <td></td>\n",
       "      <td>1952</td>\n",
       "    </tr>\n",
       "  </tbody>\n",
       "</table>\n",
       "</div>"
      ],
      "text/plain": [
       "                                 company number_of_employees NAICS_code  \\\n",
       "0              https://www.enbridge.com/                                  \n",
       "1    https://www.canadiantire.ca/en.html                                  \n",
       "2  https://www.homedepot.ca/en/home.html                                  \n",
       "3             https://atsautomation.com/                                  \n",
       "4                    https://www.gd.com/              106500              \n",
       "\n",
       "  headquarter_location founded_year  \n",
       "0                                    \n",
       "1                                    \n",
       "2                                    \n",
       "3                                    \n",
       "4                              1952  "
      ]
     },
     "execution_count": 62,
     "metadata": {},
     "output_type": "execute_result"
    }
   ],
   "source": [
    "import pandas as pd\n",
    "\n",
    "data = {\n",
    "    'company': ['https://www.enbridge.com/', 'https://www.canadiantire.ca/en.html', 'https://www.homedepot.ca/en/home.html', 'https://atsautomation.com/', \n",
    "                'https://www.gd.com/'],\n",
    "    'number_of_employees': ['', '', '', '', '106500'],\n",
    "    'NAICS_code': ['', '', '', '', ''],\n",
    "    'headquarter_location': ['', '', '', '', ''],\n",
    "    'founded_year': ['', '', '', '', '1952'],\n",
    "}\n",
    "\n",
    "# Convert to DataFrame\n",
    "df = pd.DataFrame(data)\n",
    "\n",
    "# Display the DataFrame\n",
    "df.head()"
   ]
  },
  {
   "cell_type": "markdown",
   "metadata": {},
   "source": [
    "#### Obtaining results with `You.com` API\n",
    "\n",
    "We will obtain the missing values with a simple call to `You.com` API"
   ]
  },
  {
   "cell_type": "code",
   "execution_count": 87,
   "metadata": {},
   "outputs": [],
   "source": [
    "import requests\n",
    "import os\n",
    "\n",
    "# obtain the API key from the environment\n",
    "headers = {'x-api-key': os.environ['YDC_API_KEY']}\n",
    "\n",
    "def get_research_data(company_domain, missing_cols, mode=\"research\"):\n",
    "    \"\"\"\n",
    "    Run the query with the given company domain and missing columns to obtain the missing data\n",
    "    in the form of a JSON object.\n",
    "    \"\"\"\n",
    "    endpoint = f\"https://chat-api.you.com/{mode}\"\n",
    "    params = {\"query\": f\"\"\"\n",
    "              I'm trying to enrcih data corresponding to {company_domain}. I have a few questions, and \n",
    "              the answer to them is a single word answer. Get me more information on {missing_cols}. \n",
    "              Return response as a JSON object.\n",
    "              \"\"\"\n",
    "        }\n",
    "    response = requests.get(endpoint, params=params, headers=headers)\n",
    "    return response.json()[\"answer\"]"
   ]
  },
  {
   "cell_type": "code",
   "execution_count": null,
   "metadata": {},
   "outputs": [],
   "source": [
    "# call the API to get the missing data and update the DataFrame\n",
    "for index, row in df.iterrows():\n",
    "    missing_cols = [col for col in df.columns if row[col] == '']\n",
    "\n",
    "    if missing_cols:\n",
    "        response = get_research_data(row['company'], missing_cols)\n",
    "\n",
    "        # TODO: add post-processing to get the correct column values\n",
    "        for col in missing_cols:\n",
    "            df.at[index, col] = response[col]"
   ]
  },
  {
   "cell_type": "code",
   "execution_count": 88,
   "metadata": {},
   "outputs": [
    {
     "name": "stdout",
     "output_type": "stream",
     "text": [
      "```json\n",
      "{\n",
      "  \"number_of_employees\": \"10,000+\",\n",
      "  \"NAICS_code\": \"441310\",\n",
      "  \"headquarter_location\": \"Toronto, Ontario\",\n",
      "  \"founded_year\": \"1922\"\n",
      "}\n",
      "```\n"
     ]
    }
   ],
   "source": [
    "empty_fields = df.apply(lambda row: [row['company']] + [col for col in df.columns if row[col] == ''], axis=1)[1]\n",
    "\n",
    "result = get_research_data(empty_fields[0], empty_fields[1:])\n",
    "print(result[\"answer\"])"
   ]
  },
  {
   "cell_type": "code",
   "execution_count": null,
   "metadata": {},
   "outputs": [],
   "source": []
  },
  {
   "cell_type": "code",
   "execution_count": null,
   "metadata": {},
   "outputs": [],
   "source": []
  }
 ],
 "metadata": {
  "kernelspec": {
   "display_name": ".venv",
   "language": "python",
   "name": "python3"
  },
  "language_info": {
   "codemirror_mode": {
    "name": "ipython",
    "version": 3
   },
   "file_extension": ".py",
   "mimetype": "text/x-python",
   "name": "python",
   "nbconvert_exporter": "python",
   "pygments_lexer": "ipython3",
   "version": "3.10.4"
  }
 },
 "nbformat": 4,
 "nbformat_minor": 2
}
