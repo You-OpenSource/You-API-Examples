{
 "cells": [
  {
   "cell_type": "code",
   "execution_count": 1,
   "metadata": {},
   "outputs": [
    {
     "data": {
      "text/plain": [
       "True"
      ]
     },
     "execution_count": 1,
     "metadata": {},
     "output_type": "execute_result"
    }
   ],
   "source": [
    "import os\n",
    "\n",
    "from dotenv import load_dotenv\n",
    "load_dotenv()  # Loads all key-value pairs from your `.env` file"
   ]
  },
  {
   "cell_type": "code",
   "execution_count": 3,
   "metadata": {},
   "outputs": [
    {
     "data": {
      "text/html": [
       "<div>\n",
       "<style scoped>\n",
       "    .dataframe tbody tr th:only-of-type {\n",
       "        vertical-align: middle;\n",
       "    }\n",
       "\n",
       "    .dataframe tbody tr th {\n",
       "        vertical-align: top;\n",
       "    }\n",
       "\n",
       "    .dataframe thead th {\n",
       "        text-align: right;\n",
       "    }\n",
       "</style>\n",
       "<table border=\"1\" class=\"dataframe\">\n",
       "  <thead>\n",
       "    <tr style=\"text-align: right;\">\n",
       "      <th></th>\n",
       "      <th>company</th>\n",
       "      <th>number_of_employees</th>\n",
       "      <th>NAICS_code</th>\n",
       "      <th>HQ</th>\n",
       "      <th>founded</th>\n",
       "    </tr>\n",
       "  </thead>\n",
       "  <tbody>\n",
       "    <tr>\n",
       "      <th>0</th>\n",
       "      <td>https://www.enbridge.com/</td>\n",
       "      <td></td>\n",
       "      <td></td>\n",
       "      <td></td>\n",
       "      <td></td>\n",
       "    </tr>\n",
       "    <tr>\n",
       "      <th>1</th>\n",
       "      <td>https://www.canadiantire.ca/en.html</td>\n",
       "      <td></td>\n",
       "      <td></td>\n",
       "      <td></td>\n",
       "      <td></td>\n",
       "    </tr>\n",
       "    <tr>\n",
       "      <th>2</th>\n",
       "      <td>https://www.homedepot.ca/en/home.html</td>\n",
       "      <td></td>\n",
       "      <td></td>\n",
       "      <td></td>\n",
       "      <td></td>\n",
       "    </tr>\n",
       "    <tr>\n",
       "      <th>3</th>\n",
       "      <td>https://atsautomation.com/</td>\n",
       "      <td></td>\n",
       "      <td></td>\n",
       "      <td></td>\n",
       "      <td></td>\n",
       "    </tr>\n",
       "    <tr>\n",
       "      <th>4</th>\n",
       "      <td>https://www.gd.com/</td>\n",
       "      <td>106500</td>\n",
       "      <td></td>\n",
       "      <td></td>\n",
       "      <td>1952</td>\n",
       "    </tr>\n",
       "  </tbody>\n",
       "</table>\n",
       "</div>"
      ],
      "text/plain": [
       "                                 company number_of_employees NAICS_code HQ  \\\n",
       "0              https://www.enbridge.com/                                     \n",
       "1    https://www.canadiantire.ca/en.html                                     \n",
       "2  https://www.homedepot.ca/en/home.html                                     \n",
       "3             https://atsautomation.com/                                     \n",
       "4                    https://www.gd.com/              106500                 \n",
       "\n",
       "  founded  \n",
       "0          \n",
       "1          \n",
       "2          \n",
       "3          \n",
       "4    1952  "
      ]
     },
     "execution_count": 3,
     "metadata": {},
     "output_type": "execute_result"
    }
   ],
   "source": [
    "import pandas as pd\n",
    "\n",
    "data = {\n",
    "    'company': ['https://www.enbridge.com/', 'https://www.canadiantire.ca/en.html', 'https://www.homedepot.ca/en/home.html', 'https://atsautomation.com/', 'https://www.gd.com/'],\n",
    "    'number_of_employees': ['', '', '', '', '106500'],\n",
    "    'NAICS_code': ['', '', '', '', ''],\n",
    "    'HQ': ['', '', '', '', ''],\n",
    "    'founded': ['', '', '', '', '1952'],\n",
    "}\n",
    "\n",
    "# Convert to DataFrame\n",
    "df = pd.DataFrame(data)\n",
    "\n",
    "# Display the DataFrame\n",
    "df.head()"
   ]
  },
  {
   "cell_type": "code",
   "execution_count": 5,
   "metadata": {},
   "outputs": [
    {
     "data": {
      "text/plain": [
       "'```json\\n{\\n  \"location\": \"Calgary, Alberta, Canada\",\\n  \"NAICS_code\": \"486210\"\\n}\\n```'"
      ]
     },
     "execution_count": 5,
     "metadata": {},
     "output_type": "execute_result"
    }
   ],
   "source": [
    "import requests\n",
    "import os\n",
    "\n",
    "def get_research_data(company_name, missing_data):\n",
    "    headers = {'x-api-key': os.environ['YDC_API_KEY']}\n",
    "    endpoint = \"https://chat-api.you.com/research\"\n",
    "\n",
    "    params = {\"query\": f\"\"\"\n",
    "              I'm trying to enrcih data correponding to {company_name}. I have a few questions, and \n",
    "              the answer to them is a single word answer. Get me more information on {missing_data}. Return a JSON response.\n",
    "              \"\"\"\n",
    "        }\n",
    "    response = requests.get(endpoint, params=params, headers=headers)\n",
    "    return response.json()\n",
    "\n",
    "results = get_research_data(\"https://www.enbridge.com/\", [\"location\", \"NAICS_code\"])\n",
    "\n",
    "\n",
    "results[\"answer\"]"
   ]
  },
  {
   "cell_type": "code",
   "execution_count": 6,
   "metadata": {},
   "outputs": [
    {
     "name": "stdout",
     "output_type": "stream",
     "text": [
      "{'answer': '```json\\n{\\n  \"number_of_employees\": \"11,000\",\\n  \"NAICS_code\": \"486210\",\\n  \"HQ\": \"Calgary, Alberta, Canada\",\\n  \"founded\": \"1949\"\\n}\\n```', 'search_results': []}\n",
      "{'answer': '```json\\n{\\n  \"number_of_employees\": \"500+ Locations\",\\n  \"NAICS_code\": \"N/A\",\\n  \"HQ\": \"Canadian Tire Corporation, Limited\",\\n  \"founded\": \"2024\"\\n}\\n```', 'search_results': []}\n",
      "{'answer': '```json\\n{\\n  \"number_of_employees\": \"unknown\",\\n  \"NAICS_code\": \"unknown\",\\n  \"HQ\": \"unknown\",\\n  \"founded\": \"unknown\"\\n}\\n```', 'search_results': []}\n",
      "{'answer': '```json\\n{\\n  \"number_of_employees\": \"4200\",\\n  \"NAICS_code\": \"333249\",\\n  \"HQ\": \"Cambridge, Ontario, Canada\",\\n  \"founded\": \"1978\"\\n}\\n```', 'search_results': []}\n",
      "{'answer': '```json\\n{\\n  \"NAICS_code\": \"336411\",\\n  \"HQ\": \"Reston, Virginia\"\\n}\\n```', 'search_results': []}\n"
     ]
    }
   ],
   "source": [
    "empty_fields = df.apply(lambda row: [row['company']] + [col for col in df.columns if row[col] == ''], axis=1)\n",
    "\n",
    "for fields in empty_fields:\n",
    "    result = get_research_data(fields[0], fields[1:])\n",
    "    print(result)"
   ]
  },
  {
   "cell_type": "code",
   "execution_count": 7,
   "metadata": {},
   "outputs": [
    {
     "data": {
      "text/html": [
       "<div>\n",
       "<style scoped>\n",
       "    .dataframe tbody tr th:only-of-type {\n",
       "        vertical-align: middle;\n",
       "    }\n",
       "\n",
       "    .dataframe tbody tr th {\n",
       "        vertical-align: top;\n",
       "    }\n",
       "\n",
       "    .dataframe thead th {\n",
       "        text-align: right;\n",
       "    }\n",
       "</style>\n",
       "<table border=\"1\" class=\"dataframe\">\n",
       "  <thead>\n",
       "    <tr style=\"text-align: right;\">\n",
       "      <th></th>\n",
       "      <th>company</th>\n",
       "      <th>number_of_employees</th>\n",
       "      <th>NAICS_code</th>\n",
       "      <th>HQ</th>\n",
       "      <th>founded</th>\n",
       "    </tr>\n",
       "  </thead>\n",
       "  <tbody>\n",
       "    <tr>\n",
       "      <th>0</th>\n",
       "      <td>https://www.enbridge.com/</td>\n",
       "      <td></td>\n",
       "      <td></td>\n",
       "      <td></td>\n",
       "      <td></td>\n",
       "    </tr>\n",
       "    <tr>\n",
       "      <th>1</th>\n",
       "      <td>https://www.canadiantire.ca/en.html</td>\n",
       "      <td></td>\n",
       "      <td></td>\n",
       "      <td></td>\n",
       "      <td></td>\n",
       "    </tr>\n",
       "    <tr>\n",
       "      <th>2</th>\n",
       "      <td>https://www.homedepot.ca/en/home.html</td>\n",
       "      <td></td>\n",
       "      <td></td>\n",
       "      <td></td>\n",
       "      <td></td>\n",
       "    </tr>\n",
       "    <tr>\n",
       "      <th>3</th>\n",
       "      <td>https://atsautomation.com/</td>\n",
       "      <td></td>\n",
       "      <td></td>\n",
       "      <td></td>\n",
       "      <td></td>\n",
       "    </tr>\n",
       "    <tr>\n",
       "      <th>4</th>\n",
       "      <td>https://www.gd.com/</td>\n",
       "      <td>106500</td>\n",
       "      <td></td>\n",
       "      <td></td>\n",
       "      <td>1952</td>\n",
       "    </tr>\n",
       "  </tbody>\n",
       "</table>\n",
       "</div>"
      ],
      "text/plain": [
       "                                 company number_of_employees NAICS_code HQ  \\\n",
       "0              https://www.enbridge.com/                                     \n",
       "1    https://www.canadiantire.ca/en.html                                     \n",
       "2  https://www.homedepot.ca/en/home.html                                     \n",
       "3             https://atsautomation.com/                                     \n",
       "4                    https://www.gd.com/              106500                 \n",
       "\n",
       "  founded  \n",
       "0          \n",
       "1          \n",
       "2          \n",
       "3          \n",
       "4    1952  "
      ]
     },
     "execution_count": 7,
     "metadata": {},
     "output_type": "execute_result"
    }
   ],
   "source": [
    "#display the enriched df\n",
    "df"
   ]
  },
  {
   "cell_type": "code",
   "execution_count": null,
   "metadata": {},
   "outputs": [],
   "source": []
  }
 ],
 "metadata": {
  "kernelspec": {
   "display_name": ".venv",
   "language": "python",
   "name": "python3"
  },
  "language_info": {
   "codemirror_mode": {
    "name": "ipython",
    "version": 3
   },
   "file_extension": ".py",
   "mimetype": "text/x-python",
   "name": "python",
   "nbconvert_exporter": "python",
   "pygments_lexer": "ipython3",
   "version": "3.10.10"
  }
 },
 "nbformat": 4,
 "nbformat_minor": 2
}
