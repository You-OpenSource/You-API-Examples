{
 "cells": [
  {
   "cell_type": "code",
   "execution_count": 1,
   "metadata": {},
   "outputs": [
    {
     "data": {
      "text/plain": [
       "True"
      ]
     },
     "execution_count": 1,
     "metadata": {},
     "output_type": "execute_result"
    }
   ],
   "source": [
    "import os\n",
    "\n",
    "from dotenv import load_dotenv\n",
    "load_dotenv()  # Loads all key-value pairs from your `.env` file"
   ]
  },
  {
   "cell_type": "code",
   "execution_count": 30,
   "metadata": {},
   "outputs": [
    {
     "name": "stdout",
     "output_type": "stream",
     "text": [
      "dict_keys(['answer', 'search_results'])\n"
     ]
    }
   ],
   "source": [
    "import requests\n",
    "\n",
    "headers = {'x-api-key': os.environ['YDC_API_KEY']}\n",
    "endpoint = \"https://chat-api.you.com/research\" # use /research for Research mode\n",
    "\n",
    "params = {\"query\": \"where does Aslesha pokhrel currently work. Give me one word answer.\"\n",
    "          \"Answer in the following format: {work: <company_name>, location: <city_name>, title:<title>}\",}\n",
    "response = requests.get(endpoint, params=params, headers=headers)\n",
    "print(response.json().keys())"
   ]
  },
  {
   "cell_type": "code",
   "execution_count": 31,
   "metadata": {},
   "outputs": [
    {
     "data": {
      "text/plain": [
       "'{work: Georgian, location: Toronto, title: Machine Learning Engineer}'"
      ]
     },
     "execution_count": 31,
     "metadata": {},
     "output_type": "execute_result"
    }
   ],
   "source": [
    "response.json()[\"answer\"]"
   ]
  },
  {
   "cell_type": "code",
   "execution_count": null,
   "metadata": {},
   "outputs": [],
   "source": []
  },
  {
   "cell_type": "code",
   "execution_count": 19,
   "metadata": {},
   "outputs": [
    {
     "data": {
      "text/plain": [
       "\"# Research Report: Where Does Aslesha Pokhrel Work?\\n\\n## Introduction\\nThis report aims to determine the current workplace of Aslesha Pokhrel by synthesizing information from various web sources. The findings are based on recent and relevant data points collected from multiple web pages.\\n\\n## Current Position and Workplace\\n\\n### Machine Learning Engineer at Georgian\\nAslesha Pokhrel is currently employed as a Machine Learning Engineer at Georgian, a company known for its focus on applied research and technology investments [[1]](https://georgian.io/team/#:~:text=Aslesha%20Pokhrel%20Machine%20Learning%20Engineer). This role involves working on advanced machine learning projects and contributing to the development of innovative AI solutions.\\n\\n### Academic Background\\nAslesha Pokhrel has a strong academic background in applied computing and artificial intelligence. She is a Master's student in Applied Computing at the University of Toronto [[2]](https://goldenberglab.ca/people.html#:~:text=Aslesha%20is%20a%20Master%27s%20student%20in%20Applied%20Computing%20at%20the%20University%20of%20Toronto). Additionally, she has been recognized with the Vector Scholarship in Artificial Intelligence, which highlights her expertise and potential in the field [[3]](https://goldenberglab.ca/people.html#:~:text=Awards%3A%20Vector%20Scholarship%20in%20Artificial%20Intelligence).\\n\\n![University of Toronto](https://upload.wikimedia.org/wikipedia/commons/thumb/a/a7/AirplaneInFrontOfUC.jpg/500px-AirplaneInFrontOfUC.jpg)\\n\\n### Graduate Researcher\\nIn addition to her role at Georgian, Aslesha is also involved in academic research. She is listed as a Graduate Researcher, which indicates her active participation in research projects, likely related to her studies at the University of Toronto [[4]](https://goldenberglab.ca/people.html#:~:text=Aslesha%20Pokhrel%20Graduate%20Researcher).\\n\\n### LinkedIn Profile\\nFor more detailed information about her professional journey and achievements, Aslesha Pokhrel's LinkedIn profile can be accessed [here](https://www.linkedin.com/in/aslesha-pokhrel/) [[5]](https://goldenberglab.ca/people.html#:~:text=Linkedin%3A%20https%3A//www.linkedin.com/in/aslesha%2Dpokhrel/).\\n\\n## Conclusion\\nAslesha Pokhrel is currently working as a Machine Learning Engineer at Georgian while also pursuing her Master's degree in Applied Computing at the University of Toronto. Her involvement in both professional and academic spheres underscores her commitment to advancing in the field of artificial intelligence and machine learning.\\n\\n![Diploma Icon](https://upload.wikimedia.org/wikipedia/commons/thumb/7/76/Diploma_icon.png/500px-Diploma_icon.png)\\n\\n## References\\n1. Aslesha is a Master's student in Applied Computing at the University of Toronto [[2]](https://goldenberglab.ca/people.html#:~:text=Aslesha%20is%20a%20Master%27s%20student%20in%20Applied%20Computing%20at%20the%20University%20of%20Toronto).\\n2. Aslesha Pokhrel Graduate Researcher [[4]](https://goldenberglab.ca/people.html#:~:text=Aslesha%20Pokhrel%20Graduate%20Researcher).\\n3. Awards: Vector Scholarship in Artificial Intelligence [[3]](https://goldenberglab.ca/people.html#:~:text=Awards%3A%20Vector%20Scholarship%20in%20Artificial%20Intelligence).\\n4. Linkedin: https://www.linkedin.com/in/aslesha-pokhrel/ [[5]](https://goldenberglab.ca/people.html#:~:text=Linkedin%3A%20https%3A//www.linkedin.com/in/aslesha%2Dpokhrel/).\\n5. Aslesha Pokhrel Machine Learning Engineer [[1]](https://georgian.io/team/#:~:text=Aslesha%20Pokhrel%20Machine%20Learning%20Engineer)\""
      ]
     },
     "execution_count": 19,
     "metadata": {},
     "output_type": "execute_result"
    }
   ],
   "source": [
    "response.json()[\"answer\"]"
   ]
  },
  {
   "cell_type": "code",
   "execution_count": 20,
   "metadata": {},
   "outputs": [
    {
     "data": {
      "text/plain": [
       "[{'url': 'https://georgian.io/team/#:~:text=Aslesha%20Pokhrel%20Machine%20Learning%20Engineer',\n",
       "  'name': 'Team | Georgian',\n",
       "  'snippet': ' | Aslesha Pokhrel Machine Learning Engineer...'},\n",
       " {'url': 'https://goldenberglab.ca/people.html#:~:text=Aslesha%20is%20a%20Master%27s%20student%20in%20Applied%20Computing%20at%20the%20University%20of%20Toronto',\n",
       "  'name': 'The Team',\n",
       "  'snippet': \" | Aslesha is a Master's student in Applied Computing at the University of Toronto...\"},\n",
       " {'url': 'https://goldenberglab.ca/people.html#:~:text=Awards%3A%20Vector%20Scholarship%20in%20Artificial%20Intelligence',\n",
       "  'name': 'The Team',\n",
       "  'snippet': ' | Awards: Vector Scholarship in Artificial Intelligence...'},\n",
       " {'url': 'https://goldenberglab.ca/people.html#:~:text=Aslesha%20Pokhrel%20Graduate%20Researcher',\n",
       "  'name': 'The Team',\n",
       "  'snippet': ' | Aslesha Pokhrel Graduate Researcher...'},\n",
       " {'url': 'https://goldenberglab.ca/people.html#:~:text=Linkedin%3A%20https%3A//www.linkedin.com/in/aslesha%2Dpokhrel/',\n",
       "  'name': 'The Team',\n",
       "  'snippet': ' | Linkedin: https://www.linkedin.com/in/aslesha-pokhrel/...'}]"
      ]
     },
     "execution_count": 20,
     "metadata": {},
     "output_type": "execute_result"
    }
   ],
   "source": [
    "response.json()[\"search_results\"]"
   ]
  },
  {
   "cell_type": "code",
   "execution_count": null,
   "metadata": {},
   "outputs": [],
   "source": []
  },
  {
   "cell_type": "code",
   "execution_count": 16,
   "metadata": {},
   "outputs": [
    {
     "data": {
      "text/plain": [
       "\"Aslesha Pokhrel works as a teaching assistant in the Department of Computer Science at the University of Toronto. She is also a Master's student in Applied Computing at the University of Toronto [[1]](https://goldenberglab.ca/people.html). Additionally, Aslesha Pokhrel has listed 7 jobs on her LinkedIn profile [[2]](https://ca.linkedin.com/in/aslesha-pokhrel).\""
      ]
     },
     "execution_count": 16,
     "metadata": {},
     "output_type": "execute_result"
    }
   ],
   "source": [
    "response.json()[\"answer\"]"
   ]
  },
  {
   "cell_type": "code",
   "execution_count": 17,
   "metadata": {},
   "outputs": [
    {
     "data": {
      "text/plain": [
       "[{'url': 'https://starsunfolded.com/aaslesha-thakuri/',\n",
       "  'name': 'Aaslesha Thakuri Age, Family, Boyfriend, Biography & More » StarsUnfolded',\n",
       "  'snippet': 'Some Lesser Known Facts About Aaslesha Thakuri Aaslesha Thakuri is an actress who mainly works in the Nepali Film Industry. Since her childhood, she has'},\n",
       " {'url': 'https://ca.linkedin.com/in/aslesha-pokhrel',\n",
       "  'name': 'Aslesha Pokhrel - Teaching Assistant - Department of Computer Science, University of Toronto | LinkedIn',\n",
       "  'snippet': \"View Aslesha Pokhrel’s profile on LinkedIn, the world's largest professional community. Aslesha has 7 jobs listed on their profile. See the complete profile on LinkedIn and discover Aslesha’s connections and jobs at similar companies.\"},\n",
       " {'url': 'https://www.facebook.com/public/Ashlesha-Pokhrel',\n",
       "  'name': 'ashlesha-pokhrel Profiles',\n",
       "  'snippet': 'See posts, photos and more on Facebook.'},\n",
       " {'url': 'https://goldenberglab.ca/people.html',\n",
       "  'name': 'The Team',\n",
       "  'snippet': \"Her research interests include causality and machine learning and its application in healthcare. She is also broadly interested in explainability and fairness in AI and likes watching movies and biking in her spare time. Awards: Vector Scholarship in Artificial Intelligence Linkedin: https://www.linkedin.com/in/aslesha-pokhrel/\\nAslesha is a Master's student in Applied Computing at the University of Toronto and a Vector Scholarship in Artificial Intelligence Recipient 2021-22. She graduated with an Honours Bachelor of Science degree with majors in Computer Science & Physics and a minor in Mathematics from the University of Toronto.\"},\n",
       " {'url': 'https://github.com/asleshapokhrel',\n",
       "  'name': 'asleshapokhrel (Aslesha Pokhrel) · GitHub',\n",
       "  'snippet': 'asleshapokhrel has 10 repositories available. Follow their code on GitHub.'},\n",
       " {'url': 'https://devpost.com/asleshapokhrel21',\n",
       "  'name': \"Aslesha Pokhrel's (asleshapokhrel21) software portfolio | Devpost\",\n",
       "  'snippet': 'Aslesha Pokhrel specializes in Python, C, Java, MySQL, MongoDB, and Angular.Js. Follow Aslesha Pokhrel on Devpost!'},\n",
       " {'url': 'https://en-gb.facebook.com/public/Aslesha-Pokhrel',\n",
       "  'name': 'Aslesha Pokhrel Profiles | Facebook',\n",
       "  'snippet': 'See posts, photos and more on Facebook.'},\n",
       " {'url': 'https://www.linkedin.com/pub/dir/Alisha/Pokhrel',\n",
       "  'name': '10+ \"Alisha Pokhrel\" profiles',\n",
       "  'snippet': '1 billion members | Manage your professional identity. Build and engage with your professional network. Access knowledge, insights and opportunities.'},\n",
       " {'url': 'https://www.facebook.com/ashlesha.shrestha.94',\n",
       "  'name': 'Ashlesha Shrestha',\n",
       "  'snippet': 'Ashlesha Shrestha is on Facebook. Join Facebook to connect with Ashlesha Shrestha and others you may know. Facebook gives people the power to share and makes the world more open and connected.'},\n",
       " {'url': 'https://www.filmyguff.com/wp-content/cache/all/aslesha-thakuri/index.html',\n",
       "  'name': 'Aslesha Thakuri Biography, Movies, Boyfriend, Photo, News - Film Guff',\n",
       "  'snippet': 'She is believed to be the right choice for the film due to her acting skills and her visual appeal on screen which are both essential for the movie business.After obtaining six months training from Birendra Hamal and Sunil Pokhrel she has been given chance in the film industry.After her training she was enrolled for theatric play at Ratnapark. She is the new face in our film industry.She started training in dancing after she got the chance to work in the films.\\nAslesha Thakuri is the new entrant in the film industry. She marks her debut with ‘Prem Geet-2’ sequel of super hit movie “Prem Geet”directed by Ram Sharan Pathak and produced by Santosh Sen. She was signed after the lead actress Pooja Sharma walked out from the film.This film will be releasing soon on September 2017.\\nShe should not experiment roles just for the heck of looking different and vivacious but also look upon her career graph with what suits her the best and what her audience expects from her films so that every relea'},\n",
       " {'url': 'https://www.linkedin.com/in/aslesha',\n",
       "  'name': 'Aslesha Nargolkar - Freshworks',\n",
       "  'snippet': '1 billion members | Manage your professional identity. Build and engage with your professional network. Access knowledge, insights and opportunities.'},\n",
       " {'url': 'https://www.facebook.com/TeamMWIN/posts/ashlesha-newar/152287266492863/',\n",
       "  'name': 'Log in or sign up to view',\n",
       "  'snippet': 'See posts, photos and more on Facebook.'},\n",
       " {'url': 'https://www.linkedin.com/pulse/learn-everything-ashlesha-nakshatra-dr-saurev-chturvedi',\n",
       "  'name': 'Learn everything about Ashlesha Nakshatra',\n",
       "  'snippet': \"Here's a detailed breakdown of Ashlesha nakshatra: Lordship: Ashlesha is ruled by Mercury and its deity is Naga, the serpent god. Basic Characteristics: Ashlesha is the ninth nakshatra among the 27 nakshatras in Vedic astrology.\"},\n",
       " {'url': 'https://www.researchgate.net/institution/University-of-Toronto/members/373',\n",
       "  'name': 'University of Toronto | Toronto, Canada | U of T',\n",
       "  'snippet': 'Find 45410 researchers working at University of Toronto | Toronto, Canada | U of T'},\n",
       " {'url': 'https://en.wikipedia.org/wiki/Pokhrel',\n",
       "  'name': 'Pokhrel - Wikipedia',\n",
       "  'snippet': 'Pokharel (Nepali: पोखरेल) or Pokhrel (Nepali: पोख्रेल) is a surname in India, Bhutan, and mostly found in Nepal. Look up pokhrel in Wiktionary, the free dictionary.\\nLook up pokhrel in Wiktionary, the free dictionary.'}]"
      ]
     },
     "execution_count": 17,
     "metadata": {},
     "output_type": "execute_result"
    }
   ],
   "source": [
    "response.json()[\"search_results\"]"
   ]
  },
  {
   "cell_type": "code",
   "execution_count": null,
   "metadata": {},
   "outputs": [],
   "source": []
  },
  {
   "cell_type": "code",
   "execution_count": 12,
   "metadata": {},
   "outputs": [
    {
     "data": {
      "text/plain": [
       "'# Understanding Solar Eclipses\\n\\nA solar eclipse is a fascinating celestial event that has intrigued humans for centuries. This report delves into what a solar eclipse is, the different types of solar eclipses, and the visual phenomena associated with them.\\n\\n## What is a Solar Eclipse?\\n\\nA solar eclipse occurs when the Moon passes between the Earth and the Sun, casting a shadow on Earth and blocking the Sun\\'s light either partially or completely [[1]](https://www.space.com/15584-solar-eclipses.html#:~:text=A%20solar%20eclipse%20occurs%20when%20the%20moon%20is%20positioned%20between%20Earth%20and%20the%20sun%20and%20casts%20a%20shadow%20over%20Earth)[[2]](https://science.nasa.gov/eclipses/types/#:~:text=A%20solar%20eclipse%20happens%20when%20the%20Moon%20passes%20between%20the%20Sun%20and%20Earth%2C%20casting%20a%20shadow%20on%20Earth%20that%20either%20fully%20or%20partially%20blocks%20the%20Sun%E2%80%99s%20light%20in%20some%20areas). This alignment can only happen during the new moon phase, which typically occurs about twice a year [[3]](https://www.space.com/15584-solar-eclipses.html#:~:text=Solar%20eclipses%20only%20occur%20during%20a%20new%20moon%20phase%20%2C%20usually%20about%20twice%20a%20year%2C%20when%20the%20moon%20aligns%20itself%20in%20such%20a%20way%20that%20it%20eclipses%20the%20sun%20%2C%20according%20to%20NASA)[[4]](https://www.timeanddate.com/eclipse/eclipse-information.html#:~:text=Solar%20eclipses%20can%20only%20occur%20during%20a%20New%20Moon%20when%20the%20Moon%20moves%20between%20Earth%20and%20the%20Sun%2C%20and%20the%20three%20celestial%20bodies%20form%20a%20straight%20line%3A%20Earth%E2%80%93Moon%E2%80%93Sun).\\n\\n![Phases of the Moon](https://upload.wikimedia.org/wikipedia/commons/thumb/7/72/-Phase_of_the_moon_NO.16.jpg/500px--Phase_of_the_moon_NO.16.jpg)\\n\\n## Types of Solar Eclipses\\n\\nThere are four main types of solar eclipses, each defined by the specific alignment and distances between the Sun, Moon, and Earth:\\n\\n1. **Total Solar Eclipse**: This occurs when the Moon completely covers the Sun, as seen from Earth. During a total solar eclipse, the sky darkens significantly, and observers can see the Sun\\'s outer atmosphere, known as the corona [[5]](https://www.space.com/15584-solar-eclipses.html#:~:text=During%20a%20total%20solar%20eclipse%20the%20sky%20will%20darken%20and%20observers%2C%20with%20the%20correct%20safety%20equipment%2C%20may%20be%20able%20to%20see%20the%20sun%27s%20outer%20atmosphere%2C%20known%20as%20the%20corona)[[6]](https://science.nasa.gov/eclipses/types/#:~:text=A%20total%20solar%20eclipse%20happens%20when%20the%20Moon%20passes%20between%20the%20Sun%20and%20Earth%2C%20completely%20blocking%20the%20face%20of%20the%20Sun)[[7]](https://www.adlerplanetarium.org/blog/different-types-of-solar-eclipses-explained/#:~:text=A%20total%20solar%20eclipse%20occurs%20when%20the%20Moon%20appears%20to%20completely%20cover%20the%20Sun)[[8]](https://communications.oregonstate.edu/space/what-solar-eclipse#:~:text=Total%20solar%20eclipse%20%3A%20As%20the%20word%20%22total%22%20suggests%2C%20the%20moon%20totally%20blocks%20out%20the%20sun%20for%20a%20few%20minutes%2C%20leading%20to%20a%20period%20of%20darkness%20%2D%2D%C2%A0and%20the%20resulting%20eclipse%20is%20called%20a%20total%20solar%20eclipse).\\n\\n    ![Total Solar Eclipse](https://upload.wikimedia.org/wikipedia/commons/thumb/3/37/1919_eclipse_positive.jpg/500px-1919_eclipse_positive.jpg)\\n\\n2. **Partial Solar Eclipse**: In this type, the Moon only partially covers the Sun. The Sun appears as if a \"bite\" has been taken out of it, and the degree of coverage varies depending on the observer\\'s location [[9]](https://science.nasa.gov/eclipses/types/#:~:text=A%20partial%20solar%20eclipse%20happens%20when%20the%20Moon%20passes%20between%20the%20Sun%20and%20Earth%20but%20the%20Sun%2C%20Moon%2C%20and%20Earth%20are%20not%20perfectly%20lined%20up)[[10]](https://www.adlerplanetarium.org/blog/different-types-of-solar-eclipses-explained/#:~:text=A%20partial%20solar%20eclipse%20is%20when%20the%20Moon%20partially%20covers%20the%20Sun%2C%20almost%20like%20someone%20has%20taken%20a%20bite%20out%20of%20it)[[11]](https://communications.oregonstate.edu/space/what-solar-eclipse#:~:text=As%20a%20result%2C%20some%20part%20of%20the%20sun%20is%20visible%2C%20whereas%20the%20blocked%20part%20appears%20dark)[[12]](https://www.timeanddate.com/eclipse/eclipse-information.html#:~:text=A%20partial%20solar%20eclipse%20happens%20when%20the%20Moon%20only%20partially%20covers%20the%20disk%20of%20the%20Sun).\\n\\n    ![Partial Solar Eclipse](https://upload.wikimedia.org/wikipedia/commons/thumb/5/58/2008-08-01_Solar_eclipse_progression_with_timestamps.jpg/500px-2008-08-01_Solar_eclipse_progression_with_timestamps.jpg)\\n\\n3. **Annular Solar Eclipse**: This occurs when the Moon is farther from Earth in its orbit, making it appear smaller than the Sun. As a result, the Moon does not completely cover the Sun, leaving a visible ring, or \"annulus,\" around the Sun, often referred to as the \"ring of fire\" [[13]](https://science.nasa.gov/eclipses/types/#:~:text=An%20annular%20solar%20eclipse%20happens%20when%20the%20Moon%20passes%20between%20the%20Sun%20and%20Earth%2C%20but%20when%20it%20is%20at%20or%20near%20its%20farthest%20point%20from%20Earth)[[14]](https://www.adlerplanetarium.org/blog/different-types-of-solar-eclipses-explained/#:~:text=An%20annular%20solar%20eclipse%20occurs%20when%20the%20Moon%20is%20farther%20away%20from%20Earth%20in%20its%20orbit%2C%20making%20it%20appear%20smaller%20than%20the%20Sun)[[15]](https://communications.oregonstate.edu/space/what-solar-eclipse#:~:text=Annular%20solar%20eclipse%3A%20The%20moon%20blocks%20out%20the%20sun%20in%20such%20a%20way%20that%20the%20periphery%20of%20the%20sun%20remains%20visible)[[16]](https://www.timeanddate.com/eclipse/eclipse-information.html#:~:text=An%20annular%20solar%20eclipse%20occurs%20when%20the%20New%20Moon%20covers%20the%20Sun%27s%20center%2C%20leaving%20its%20outer%20edges%20to%20form%20a%20%E2%80%9Cring%20of%20fire%E2%80%9D%20or%20annulus).\\n\\n    ![Annular Solar Eclipse](https://upload.wikimedia.org/wikipedia/commons/thumb/3/34/(closeup)_Solar_annular_eclipse_of_January_15,_2010_in_Bangui,_Central_African_Republic.JPG/500px-(closeup)_Solar_annular_eclipse_of_January_15,_2010_in_Bangui,_Central_African_Republic.JPG)\\n\\n4. **Hybrid Solar Eclipse**: The rarest type, a hybrid eclipse, shifts between a total and an annular eclipse along different points of its path. This phenomenon occurs due to the curvature of the Earth and the varying distances between the Earth, Moon, and Sun [[17]](https://science.nasa.gov/eclipses/types/#:~:text=Because%20Earth%27s%20surface%20is%20curved%2C%20sometimes%20an%20eclipse%20can%20shift%20between%20annular%20and%20total%20as%20the%20Moon%E2%80%99s%20shadow%20moves%20across%20the%20globe.%20This%20is%20called%20a%20hybrid%20solar%20eclipse)[[18]](https://communications.oregonstate.edu/space/what-solar-eclipse#:~:text=Hybrid%20solar%20eclipse%3A%20The%20rarest%20of%20all%20eclipses%20is%20a%20hybrid%20eclipse%2C%20which%20shifts%20between%20a%20total%20and%20annular%20eclipse)[[19]](https://www.earthnetworks.com/blog/eclipses/#:~:text=This%20is%20dependent%20on%20the%20viewer%20on%20earth%E2%80%99s%20surface).\\n\\n## Observing a Solar Eclipse\\n\\nObserving a solar eclipse can be a breathtaking experience, but it is crucial to do so safely. Looking directly at the Sun without proper eye protection can cause serious eye damage. Special solar viewing glasses or indirect viewing methods should be used to safely observe the eclipse [[20]](https://www.space.com/15584-solar-eclipses.html#:~:text=Are%20solar%20eclipses%20dangerous%3F%20Solar%20eclipses%20are%20dangerous%20if%20you%20do%20not%20observe%20the%20sun%20safely).\\n\\nDuring a total solar eclipse, the brief period of totality allows for safe direct viewing, and the sky darkens enough to see stars in the daytime [[21]](https://www.planetary.org/video/solar-eclipses-explained#:~:text=During%20the%20moments%20of%20totality%2C%20the%20sky%20will%20get%20so%20dark%20that%20you%20might%20be%20able%20to%20see%20stars%20in%20the%20daytime). This unique alignment and the resulting shadow cast by the Moon create a spectacular visual experience that has captivated humans throughout history [[22]](https://www.planetary.org/video/solar-eclipses-explained#:~:text=As%20the%20Moon%20blocks%20the%20light%20of%20the%20Sun%2C%20a%20giant%20Moon%20shadow%20covers%20parts%20of%20the%20Earth%2C%20resulting%20in%20some%20astonishing%20visual%20experiences).\\n\\n## Conclusion\\n\\nSolar eclipses are remarkable events that occur when the Moon aligns between the Earth and the Sun, casting a shadow on Earth. The four types of solar eclipses—total, partial, annular, and hybrid—offer different visual spectacles depending on the specific alignment and distances involved. Observing these events safely can provide an awe-inspiring glimpse into the dynamics of our solar system.\\n\\n![Solar Eclipse in Libreville](https://upload.wikimedia.org/wikipedia/commons/thumb/9/91/2013_Solar_Eclipse_Libreville.JPG/500px-2013_Solar_Eclipse_Libreville.JPG)'"
      ]
     },
     "execution_count": 12,
     "metadata": {},
     "output_type": "execute_result"
    }
   ],
   "source": [
    "response.json()[\"answer\"]"
   ]
  },
  {
   "cell_type": "code",
   "execution_count": 11,
   "metadata": {},
   "outputs": [
    {
     "data": {
      "text/plain": [
       "[{'url': 'https://www.space.com/15584-solar-eclipses.html#:~:text=A%20solar%20eclipse%20occurs%20when%20the%20moon%20is%20positioned%20between%20Earth%20and%20the%20sun%20and%20casts%20a%20shadow%20over%20Earth',\n",
       "  'name': 'What is a solar eclipse? | Space',\n",
       "  'snippet': ' | A solar eclipse occurs when the moon is positioned between Earth and the sun and casts a shadow over Earth....'},\n",
       " {'url': 'https://science.nasa.gov/eclipses/types/#:~:text=A%20solar%20eclipse%20happens%20when%20the%20Moon%20passes%20between%20the%20Sun%20and%20Earth%2C%20casting%20a%20shadow%20on%20Earth%20that%20either%20fully%20or%20partially%20blocks%20the%20Sun%E2%80%99s%20light%20in%20some%20areas',\n",
       "  'name': 'Types of Solar Eclipses - NASA Science',\n",
       "  'snippet': ' | A solar eclipse happens when the Moon passes between the Sun and Earth, casting a shadow on Earth that either fully or partially blocks the Sun’s light in some areas....'},\n",
       " {'url': 'https://www.space.com/15584-solar-eclipses.html#:~:text=Solar%20eclipses%20only%20occur%20during%20a%20new%20moon%20phase%20%2C%20usually%20about%20twice%20a%20year%2C%20when%20the%20moon%20aligns%20itself%20in%20such%20a%20way%20that%20it%20eclipses%20the%20sun%20%2C%20according%20to%20NASA',\n",
       "  'name': 'What is a solar eclipse? | Space',\n",
       "  'snippet': ' | Solar eclipses only occur during a new moon phase, usually about twice a year, when the moon aligns itself in such a way that it eclipses the sun....'},\n",
       " {'url': 'https://www.timeanddate.com/eclipse/eclipse-information.html#:~:text=Solar%20eclipses%20can%20only%20occur%20during%20a%20New%20Moon%20when%20the%20Moon%20moves%20between%20Earth%20and%20the%20Sun%2C%20and%20the%20three%20celestial%20bodies%20form%20a%20straight%20line%3A%20Earth%E2%80%93Moon%E2%80%93Sun',\n",
       "  'name': 'Types of Solar and Lunar Eclipses',\n",
       "  'snippet': ' | Solar eclipses can only occur during a New Moon when the Moon moves between Earth and the Sun, and the three celestial bodies form a straight line: Earth–Moon–Sun....'},\n",
       " {'url': 'https://www.space.com/15584-solar-eclipses.html#:~:text=During%20a%20total%20solar%20eclipse%20the%20sky%20will%20darken%20and%20observers%2C%20with%20the%20correct%20safety%20equipment%2C%20may%20be%20able%20to%20see%20the%20sun%27s%20outer%20atmosphere%2C%20known%20as%20the%20corona',\n",
       "  'name': 'What is a solar eclipse? | Space',\n",
       "  'snippet': \" | During a total solar eclipse the sky will darken and observers, with the correct safety equipment, may be able to see the sun's outer atmosphere, known as the corona....\"},\n",
       " {'url': 'https://science.nasa.gov/eclipses/types/#:~:text=A%20total%20solar%20eclipse%20happens%20when%20the%20Moon%20passes%20between%20the%20Sun%20and%20Earth%2C%20completely%20blocking%20the%20face%20of%20the%20Sun',\n",
       "  'name': 'Types of Solar Eclipses - NASA Science',\n",
       "  'snippet': ' | A total solar eclipse happens when the Moon passes between the Sun and Earth, completely blocking the face of the Sun....'},\n",
       " {'url': 'https://www.adlerplanetarium.org/blog/different-types-of-solar-eclipses-explained/#:~:text=A%20total%20solar%20eclipse%20occurs%20when%20the%20Moon%20appears%20to%20completely%20cover%20the%20Sun',\n",
       "  'name': 'Different Types Of Solar Eclipses Explained - Adler Planetarium',\n",
       "  'snippet': ' | A total solar eclipse occurs when the Moon appears to completely cover the Sun....'},\n",
       " {'url': 'https://communications.oregonstate.edu/space/what-solar-eclipse#:~:text=Total%20solar%20eclipse%20%3A%20As%20the%20word%20%22total%22%20suggests%2C%20the%20moon%20totally%20blocks%20out%20the%20sun%20for%20a%20few%20minutes%2C%20leading%20to%20a%20period%20of%20darkness%20%2D%2D%C2%A0and%20the%20resulting%20eclipse%20is%20called%20a%20total%20solar%20eclipse',\n",
       "  'name': 'What is a solar eclipse? | University Relations and Marketing | Oregon State University',\n",
       "  'snippet': \" | Total solar eclipse: As the word 'total' suggests, the moon totally blocks out the sun for a few minutes, leading to a period of darkness -- and the resulting eclipse is called a total solar eclipse....\"},\n",
       " {'url': 'https://science.nasa.gov/eclipses/types/#:~:text=A%20partial%20solar%20eclipse%20happens%20when%20the%20Moon%20passes%20between%20the%20Sun%20and%20Earth%20but%20the%20Sun%2C%20Moon%2C%20and%20Earth%20are%20not%20perfectly%20lined%20up',\n",
       "  'name': 'Types of Solar Eclipses - NASA Science',\n",
       "  'snippet': ' | A partial solar eclipse happens when the Moon passes between the Sun and Earth but the Sun, Moon, and Earth are not perfectly lined up....'},\n",
       " {'url': 'https://www.adlerplanetarium.org/blog/different-types-of-solar-eclipses-explained/#:~:text=A%20partial%20solar%20eclipse%20is%20when%20the%20Moon%20partially%20covers%20the%20Sun%2C%20almost%20like%20someone%20has%20taken%20a%20bite%20out%20of%20it',\n",
       "  'name': 'Different Types Of Solar Eclipses Explained - Adler Planetarium',\n",
       "  'snippet': ' | A partial solar eclipse is when the Moon partially covers the Sun, almost like someone has taken a bite out of it!...'},\n",
       " {'url': 'https://communications.oregonstate.edu/space/what-solar-eclipse#:~:text=As%20a%20result%2C%20some%20part%20of%20the%20sun%20is%20visible%2C%20whereas%20the%20blocked%20part%20appears%20dark',\n",
       "  'name': 'What is a solar eclipse? | University Relations and Marketing | Oregon State University',\n",
       "  'snippet': ' | Partial solar eclipse: The moon blocks the sun, but only partially. As a result, some part of the sun is visible, whereas the blocked part appears dark....'},\n",
       " {'url': 'https://www.timeanddate.com/eclipse/eclipse-information.html#:~:text=A%20partial%20solar%20eclipse%20happens%20when%20the%20Moon%20only%20partially%20covers%20the%20disk%20of%20the%20Sun',\n",
       "  'name': 'Types of Solar and Lunar Eclipses',\n",
       "  'snippet': ' | A partial solar eclipse happens when the Moon only partially covers the disk of the Sun....'},\n",
       " {'url': 'https://science.nasa.gov/eclipses/types/#:~:text=An%20annular%20solar%20eclipse%20happens%20when%20the%20Moon%20passes%20between%20the%20Sun%20and%20Earth%2C%20but%20when%20it%20is%20at%20or%20near%20its%20farthest%20point%20from%20Earth',\n",
       "  'name': 'Types of Solar Eclipses - NASA Science',\n",
       "  'snippet': ' | An annular solar eclipse happens when the Moon passes between the Sun and Earth, but when it is at or near its farthest point from Earth....'},\n",
       " {'url': 'https://www.adlerplanetarium.org/blog/different-types-of-solar-eclipses-explained/#:~:text=An%20annular%20solar%20eclipse%20occurs%20when%20the%20Moon%20is%20farther%20away%20from%20Earth%20in%20its%20orbit%2C%20making%20it%20appear%20smaller%20than%20the%20Sun',\n",
       "  'name': 'Different Types Of Solar Eclipses Explained - Adler Planetarium',\n",
       "  'snippet': ' | An annular solar eclipse occurs when the Moon is farther away from Earth in its orbit, making it appear smaller than the Sun....'},\n",
       " {'url': 'https://communications.oregonstate.edu/space/what-solar-eclipse#:~:text=Annular%20solar%20eclipse%3A%20The%20moon%20blocks%20out%20the%20sun%20in%20such%20a%20way%20that%20the%20periphery%20of%20the%20sun%20remains%20visible',\n",
       "  'name': 'What is a solar eclipse? | University Relations and Marketing | Oregon State University',\n",
       "  'snippet': \" | Annular solar eclipse: The moon blocks out the sun in such a way that the periphery of the sun remains visible. The unobscured and glowing ring, or 'annulus,' around the sun is also popularly known as the 'ring of fire.'...\"},\n",
       " {'url': 'https://www.timeanddate.com/eclipse/eclipse-information.html#:~:text=An%20annular%20solar%20eclipse%20occurs%20when%20the%20New%20Moon%20covers%20the%20Sun%27s%20center%2C%20leaving%20its%20outer%20edges%20to%20form%20a%20%E2%80%9Cring%20of%20fire%E2%80%9D%20or%20annulus',\n",
       "  'name': 'Types of Solar and Lunar Eclipses',\n",
       "  'snippet': \" | An annular solar eclipse occurs when the New Moon covers the Sun's center, leaving its outer edges to form a “ring of fire” or annulus....\"},\n",
       " {'url': 'https://science.nasa.gov/eclipses/types/#:~:text=Because%20Earth%27s%20surface%20is%20curved%2C%20sometimes%20an%20eclipse%20can%20shift%20between%20annular%20and%20total%20as%20the%20Moon%E2%80%99s%20shadow%20moves%20across%20the%20globe.%20This%20is%20called%20a%20hybrid%20solar%20eclipse',\n",
       "  'name': 'Types of Solar Eclipses - NASA Science',\n",
       "  'snippet': \" | Because Earth's surface is curved, sometimes an eclipse can shift between annular and total as the Moon’s shadow moves across the globe. This is called a hybrid solar eclipse....\"},\n",
       " {'url': 'https://communications.oregonstate.edu/space/what-solar-eclipse#:~:text=Hybrid%20solar%20eclipse%3A%20The%20rarest%20of%20all%20eclipses%20is%20a%20hybrid%20eclipse%2C%20which%20shifts%20between%20a%20total%20and%20annular%20eclipse',\n",
       "  'name': 'What is a solar eclipse? | University Relations and Marketing | Oregon State University',\n",
       "  'snippet': ' | Hybrid solar eclipse: The rarest of all eclipses is a hybrid eclipse, which shifts between a total and annular eclipse....'},\n",
       " {'url': 'https://www.earthnetworks.com/blog/eclipses/#:~:text=This%20is%20dependent%20on%20the%20viewer%20on%20earth%E2%80%99s%20surface',\n",
       "  'name': 'Solar Eclipses: All You Need to Know About the 4 Types - Earth Networks',\n",
       "  'snippet': ' | Hybrid Eclipse: Hybrid solar eclipses are the rarest of eclipses. This is dependent on the viewer on earth’s surface....'},\n",
       " {'url': 'https://www.space.com/15584-solar-eclipses.html#:~:text=Are%20solar%20eclipses%20dangerous%3F%20Solar%20eclipses%20are%20dangerous%20if%20you%20do%20not%20observe%20the%20sun%20safely',\n",
       "  'name': 'What is a solar eclipse? | Space',\n",
       "  'snippet': ' | Solar eclipses are dangerous if you do not observe the sun safely....'},\n",
       " {'url': 'https://www.planetary.org/video/solar-eclipses-explained#:~:text=During%20the%20moments%20of%20totality%2C%20the%20sky%20will%20get%20so%20dark%20that%20you%20might%20be%20able%20to%20see%20stars%20in%20the%20daytime',\n",
       "  'name': 'Solar eclipses explained | The Planetary Society',\n",
       "  'snippet': ' | During the moments of totality, the sky will get so dark that you might be able to see stars in the daytime....'},\n",
       " {'url': 'https://www.planetary.org/video/solar-eclipses-explained#:~:text=As%20the%20Moon%20blocks%20the%20light%20of%20the%20Sun%2C%20a%20giant%20Moon%20shadow%20covers%20parts%20of%20the%20Earth%2C%20resulting%20in%20some%20astonishing%20visual%20experiences',\n",
       "  'name': 'Solar eclipses explained | The Planetary Society',\n",
       "  'snippet': ' | As the Moon blocks the light of the Sun, a giant Moon shadow covers parts of the Earth, resulting in some astonishing visual experiences....'}]"
      ]
     },
     "execution_count": 11,
     "metadata": {},
     "output_type": "execute_result"
    }
   ],
   "source": [
    "response.json()[\"search_results\"]"
   ]
  },
  {
   "cell_type": "code",
   "execution_count": null,
   "metadata": {},
   "outputs": [],
   "source": []
  }
 ],
 "metadata": {
  "kernelspec": {
   "display_name": ".venv",
   "language": "python",
   "name": "python3"
  },
  "language_info": {
   "codemirror_mode": {
    "name": "ipython",
    "version": 3
   },
   "file_extension": ".py",
   "mimetype": "text/x-python",
   "name": "python",
   "nbconvert_exporter": "python",
   "pygments_lexer": "ipython3",
   "version": "3.10.4"
  }
 },
 "nbformat": 4,
 "nbformat_minor": 2
}
