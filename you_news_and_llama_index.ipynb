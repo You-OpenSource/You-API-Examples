{
 "cells": [
  {
   "cell_type": "markdown",
   "metadata": {},
   "source": [
    "# you.com News API <> Llama Index"
   ]
  },
  {
   "cell_type": "markdown",
   "metadata": {},
   "source": [
    "Creating a chatbot that can provide personalized news on any topic using you.com news API involves several steps, including obtaining the necessary credentials, and programming your chatbot to use the API. "
   ]
  },
  {
   "cell_type": "markdown",
   "metadata": {},
   "source": [
    "## Install required packages"
   ]
  },
  {
   "cell_type": "code",
   "execution_count": null,
   "metadata": {},
   "outputs": [],
   "source": [
    "%%capture\n",
    "! pip install llama-index-retrievers-you==0.1.2\n",
    "! pip install dotenv==0.0.5"
   ]
  },
  {
   "cell_type": "markdown",
   "metadata": {},
   "source": [
    "## Load API keys"
   ]
  },
  {
   "cell_type": "code",
   "execution_count": 7,
   "metadata": {},
   "outputs": [
    {
     "data": {
      "text/plain": [
       "True"
      ]
     },
     "execution_count": 7,
     "metadata": {},
     "output_type": "execute_result"
    }
   ],
   "source": [
    "# assumes a .env file exists with api keys YDC_API_KEY and OPENAI_API_KEY\n",
    "\n",
    "from dotenv import load_dotenv\n",
    "import os\n",
    "\n",
    "load_dotenv()"
   ]
  },
  {
   "cell_type": "markdown",
   "metadata": {},
   "source": [
    "## Create a retriever"
   ]
  },
  {
   "cell_type": "code",
   "execution_count": 3,
   "metadata": {},
   "outputs": [
    {
     "name": "stdout",
     "output_type": "stream",
     "text": [
      "Our 63 US National Parks across America are a collection of some of the most pristine and beautifully preserved landscapes in the world. From sea to shining sea, nationally protected treasures are filled with stunning views, remarkable wildlife, and historic landmarks.\n",
      "URL: https://brightstandards.com/us-national-parks-list-map/\n",
      "age: 5 days ago\n"
     ]
    }
   ],
   "source": [
    "# TODO update the pinned version of llama-index-retrievers-you after PR is merged: https://github.com/run-llama/llama_index/pull/13934\n",
    "from llama_index.retrievers.you import YouRetriever\n",
    "\n",
    "retriever = YouRetriever(endpoint_type=\"news\")\n",
    "retrieved_results = retriever.retrieve(\"national parks in the US\")\n",
    "\n",
    "print(retrieved_results[0].get_content())"
   ]
  },
  {
   "cell_type": "markdown",
   "metadata": {},
   "source": [
    "# Create a chat engine\n",
    "\n",
    "Conceptually, it is a stateful analogy of a Query Engine. "
   ]
  },
  {
   "cell_type": "code",
   "execution_count": 4,
   "metadata": {},
   "outputs": [
    {
     "name": "stdout",
     "output_type": "stream",
     "text": [
      "The recent news articles provide a snapshot of various events and developments in Canada. Here are some key highlights:\n",
      "\n",
      "1. The Bank of Canada cut its key policy rate, becoming the first G7 country to do so in four years. Economists predict further cuts in July.\n",
      "   Source: Reuters, Yahoo Finance, CNBC\n",
      "\n",
      "2. Canada Border Services Agency workers are set to strike, potentially causing border chaos.\n",
      "   Source: CBC News, WCAX\n",
      "\n",
      "3. Canada demands a portion of revenue from streaming services to support local news and content.\n",
      "   Source: Ars Technica, Reuters\n",
      "\n",
      "4. Wall Street anticipates a weaker Canadian dollar and more interest rate cuts following the Bank of Canada's move.\n",
      "   Source: Bloomberg\n",
      "\n",
      "5. There are calls to end the practice of \"flagpoling\" in Canada.\n",
      "   Source: WCAX\n",
      "\n",
      "6. Canadian officials are preparing for a meeting with French President Macron, US President Biden, UK's King Charles III, and Canada's PM Trudeau to commemorate D-Day.\n",
      "   Source: The Guardian\n",
      "\n",
      "7. Online streaming services in Canada will be required to contribute 5% of their Canadian revenues to support the domestic broadcasting system.\n",
      "   Source: Reuters\n",
      "\n",
      "8. Concerns arise over reduced hydropower production in Canada due to lower-than-normal rain and snow, linked to climate change.\n",
      "   Source: The New York Times\n",
      "\n",
      "9. The Correctional Service of Canada confirmed the death of Canadian serial killer Robert Pickton following an assault.\n",
      "   Source: NBC News\n",
      "\n",
      "10. A federal scientist in Canada alleges being barred from investigating a mystery brain illness in New Brunswick, affecting over 200 people.\n",
      "   Source: The Guardian\n",
      "\n",
      "These articles cover a range of topics, from economic policies and labor strikes to environmental concerns and public health issues in Canada.\n"
     ]
    }
   ],
   "source": [
    "from llama_index.core.chat_engine.context import ContextChatEngine\n",
    "\n",
    "chat_engine = ContextChatEngine.from_defaults(retriever=retriever)\n",
    "response = chat_engine.chat(\"Canada\")\n",
    "\n",
    "print(response)"
   ]
  },
  {
   "cell_type": "markdown",
   "metadata": {},
   "source": [
    "### Include a timeframe"
   ]
  },
  {
   "cell_type": "code",
   "execution_count": 5,
   "metadata": {},
   "outputs": [
    {
     "name": "stdout",
     "output_type": "stream",
     "text": [
      "In January 2024, Norway experienced some significant events and developments:\n",
      "\n",
      "1. Norway's $1.6 trillion sovereign wealth fund, the world's largest, reported a record profit of 2.22 trillion crowns ($213 billion) in 2023, driven by strong returns on its investments in technology stocks.\n",
      "\n",
      "2. January saw combined electric vehicles (EVs) at a 93.9% share in Norway, with a record 92.1% being full electrics (BEVs) and 1.8% plug-in hybrids (PHEVs). This marked a significant increase compared to the previous year.\n",
      "\n",
      "3. Norway experienced a market crash of -76.6% in January 2023, leading to the lowest market performance in 61 years due to price increases.\n",
      "\n",
      "4. The country saw a surge in new electric car registrations, with 4,717 new electric cars and 94 plug-in hybrids registered in January 2024.\n",
      "\n",
      "5. Norway's internet penetration stood at 99.0%, with 5.44 million internet users and 4.49 million social media users in January 2024.\n",
      "\n",
      "These events showcase Norway's strong focus on sustainability, technology, and economic growth during January 2024.\n"
     ]
    }
   ],
   "source": [
    "from llama_index.core.chat_engine.context import ContextChatEngine\n",
    "\n",
    "chat_engine = ContextChatEngine.from_defaults(retriever=retriever)\n",
    "response = chat_engine.chat(\"Norway in Jan 2024\")\n",
    "\n",
    "print(response)"
   ]
  },
  {
   "cell_type": "markdown",
   "metadata": {},
   "source": [
    "# Create a chat engine with memory\n",
    "\n",
    "By keeping track of the conversation history, it can answer questions with past context in mind.\n",
    " \n",
    "`condense_plus_context` - A combination of condense_question and context. Look at the chat history and re-write the user message to be a retrieval query for the index. The retrieved text is inserted into the system prompt, so that the chat engine can either respond naturally or use the context from the query engine."
   ]
  },
  {
   "cell_type": "code",
   "execution_count": 63,
   "metadata": {},
   "outputs": [],
   "source": [
    "from llama_index.core.memory import ChatMemoryBuffer\n",
    "from llama_index.core.chat_engine import CondensePlusContextChatEngine\n",
    "from llama_index.llms.openai import OpenAI\n",
    "\n",
    "memory = ChatMemoryBuffer.from_defaults(token_limit=3900)\n",
    "llm = OpenAI(model=\"gpt-4o\")\n",
    "\n",
    "chat_engine = CondensePlusContextChatEngine.from_defaults(\n",
    "    retriever=retriever,\n",
    "    memory=memory,\n",
    "    llm=llm,\n",
    ")"
   ]
  },
  {
   "cell_type": "code",
   "execution_count": 64,
   "metadata": {},
   "outputs": [
    {
     "name": "stdout",
     "output_type": "stream",
     "text": [
      "Salesforce has recently been in the spotlight due to a significant drop in its stock price. The company reported its fiscal first-quarter (FY 2025) earnings, which missed revenue consensus estimates, leading to a sharp decline of more than 20% in one day. This was the largest one-day loss for Salesforce in nearly 20 years. The disappointing earnings report has raised concerns among investors about the adoption curve and ultimate monetization of generative AI for software-as-a-service firms like Salesforce.\n",
      "\n",
      "Additionally, Salesforce's CEO Marc Benioff mentioned that the company is remaining cautious around mergers and acquisitions (M&A) but is open to deals that are seen as additive. Despite this cautious stance, the weak outlook has further worried investors.\n",
      "\n",
      "The stock's poor performance has also placed it among the worst large-cap performers recently, alongside companies like MongoDB, Nutanix, and DraftKings. Some investors, like Bret Jensen, are looking to take advantage of the selloff, seeing it as an opportunity to buy Salesforce stock at a lower price.\n",
      "\n",
      "Overall, the recent events have led to a lot of investor anxiety and scrutiny, with many professional fund managers closely tracking insider buying and selling activities.\n"
     ]
    }
   ],
   "source": [
    "# relevant news article with a summary of the news\n",
    "response = chat_engine.chat(\"Salesforce\")\n",
    "print(response)"
   ]
  },
  {
   "cell_type": "code",
   "execution_count": 65,
   "metadata": {},
   "outputs": [
    {
     "name": "stdout",
     "output_type": "stream",
     "text": [
      "HubSpot has been making headlines recently for several reasons:\n",
      "\n",
      "1. **Potential Acquisition by Alphabet (Google)**:\n",
      "   - There have been multiple reports confirming that Alphabet, Google's parent company, is in talks to acquire HubSpot. This potential acquisition is expected to be an all-stock deal. The news has caused HubSpot's shares to jump significantly, with a notable 9.5% increase in the morning session following the confirmation of these talks by CNBC's David Faber. This potential acquisition has been widely reported across various financial news platforms, including CNBC, Yahoo Finance, The Motley Fool, Benzinga, and Seeking Alpha.\n",
      "\n",
      "2. **New Features and Compliance Tools**:\n",
      "   - HubSpot has recently announced new tools to help businesses manage confidential customer data within its Smart CRM. This includes support for HIPAA (Health Insurance Portability and Accountability Act) compliance, which is crucial for businesses handling sensitive health information. This update is aimed at helping scaling businesses navigate compliance as they grow.\n",
      "\n",
      "3. **Financial Performance**:\n",
      "   - HubSpot reported its financial results for the first quarter of 2024, although specific details about the performance were not highlighted in the provided documents.\n",
      "\n",
      "4. **Product Updates**:\n",
      "   - HubSpot has been actively updating its product offerings. For instance, the Marketing Hub now includes a Collaboration sidebar in the CTAs (Call-to-Action) tool, allowing users to comment on CTAs, create tasks, and view their Marketing Calendar while editing CTAs. Additionally, new AI features have been introduced, such as the AI Assistant for generating ad copy in the Ads tool.\n",
      "\n",
      "These developments indicate that HubSpot is not only expanding its product capabilities but also potentially entering a new phase of growth and integration with a tech giant like Google.\n"
     ]
    }
   ],
   "source": [
    "# uses memory to relate the Hubspot query to market performance news in the query above\n",
    "response = chat_engine.chat(\"Hubspot\")\n",
    "print(response)"
   ]
  },
  {
   "cell_type": "markdown",
   "metadata": {},
   "source": [
    "## Personalize news\n",
    "\n",
    "Using a custom prompt, this news feed can be customized to specific threads, such as this one focused on politics and economics."
   ]
  },
  {
   "cell_type": "code",
   "execution_count": 61,
   "metadata": {},
   "outputs": [],
   "source": [
    "from llama_index.core.memory import ChatMemoryBuffer\n",
    "from llama_index.core.chat_engine import CondensePlusContextChatEngine\n",
    "from llama_index.core import PromptTemplate\n",
    "\n",
    "custom_prompt = PromptTemplate(\n",
    "    \"\"\"\\\n",
    "You're a top-tier reporter focused on news about {question}.\\n\n",
    "YOU SHOULD ALWAYS RESEARCH THE FOLLOWING QUERIES: \\n\n",
    "1. {question} recent news and latest development\\n\n",
    "2. recent regulatory changes affecting {question}\\n\n",
    "3. recent economic events impacting {question}\\n\n",
    "\"\"\"\n",
    ")\n",
    "\n",
    "memory = ChatMemoryBuffer.from_defaults(token_limit=3900)\n",
    "llm = OpenAI(model=\"gpt-4o\")\n",
    "\n",
    "chat_engine = CondensePlusContextChatEngine.from_defaults(\n",
    "    retriever=retriever,\n",
    "    condense_question_prompt=custom_prompt,\n",
    "    memory=memory,\n",
    "    llm=llm,\n",
    ")"
   ]
  },
  {
   "cell_type": "code",
   "execution_count": 62,
   "metadata": {},
   "outputs": [
    {
     "name": "stdout",
     "output_type": "stream",
     "text": [
      "Mongolia is currently involved in several significant activities and developments:\n",
      "\n",
      "1. **Diplomatic Efforts and International Relations**:\n",
      "   - **Japan**: Japanese Prime Minister Fumio Kishida is considering visiting Mongolia in August to seek support for advancing stalled talks with North Korea regarding the abduction of Japanese nationals.\n",
      "   - **Ukraine**: Ukraine has called on Mongolia to participate in the Global Peace Summit in Switzerland.\n",
      "   - **Belarus**: Mongolia and Belarus have signed a number of documents to further develop bilateral relations and cooperation. Belarusian President Alexander Lukashenko recently held talks with his Mongolian counterpart during a visit to Ulaanbaatar.\n",
      "\n",
      "2. **Economic and Technological Developments**:\n",
      "   - **Uranium Market**: Mongolia is emerging as a hub for the uranium market, balancing interests between the East and West.\n",
      "   - **Digital Payments**: Users of 12 popular overseas e-wallets from 8 countries and regions can now enjoy seamless digital mobile payment experiences in Mongolia, thanks to a partnership between Alipay and Khan Bank.\n",
      "   - **Sovereign Wealth Fund**: Mongolia is establishing a new sovereign wealth fund system, similar to Norway's, to ensure fair distribution of its resource riches. This is part of broader reforms to reduce corruption and strengthen its democratic system.\n",
      "\n",
      "3. **Environmental and Agricultural Initiatives**:\n",
      "   - **Grassland Restoration**: Efforts are underway to restore grassland ecosystems in Mongolia, which are crucial for storing terrestrial carbon sinks.\n",
      "   - **Desertification and Land Degradation**: Mongolia is incorporating both international experiences and local traditions in its fight against desertification and land degradation.\n",
      "\n",
      "4. **Cultural and Social Aspects**:\n",
      "   - **Mega Coffee**: The South Korean coffee chain Mega Coffee has made its international debut in Ulaanbaatar, Mongolia.\n",
      "   - **Yakow**: Mongolia is home to the yak-cattle hybrid known as the yakow (khainag in Mongolian). The country has faced significant livestock losses due to harsh winters since 2000.\n",
      "\n",
      "5. **Technological Advancements**:\n",
      "   - **Eon Reality**: The company has provided its extended reality learning tools to Mongolia, contributing to the creation of what it calls the Knowledge Metaverse.\n",
      "\n",
      "6. **Natural Events**:\n",
      "   - **Earthquake**: A moderate magnitude 4.2 earthquake occurred in Bayan-Ölgiy Aymag, 60 km west of Khovd, Mongolia, on May 24, 2024.\n",
      "\n",
      "These points highlight Mongolia's active engagement in international diplomacy, economic development, environmental conservation, and cultural expansion.\n"
     ]
    }
   ],
   "source": [
    "response = chat_engine.chat(\"Mongolia\")\n",
    "print(response)"
   ]
  }
 ],
 "metadata": {
  "kernelspec": {
   "display_name": "Python 3",
   "language": "python",
   "name": "python3"
  },
  "language_info": {
   "codemirror_mode": {
    "name": "ipython",
    "version": 3
   },
   "file_extension": ".py",
   "mimetype": "text/x-python",
   "name": "python",
   "nbconvert_exporter": "python",
   "pygments_lexer": "ipython3",
   "version": "3.9.6"
  }
 },
 "nbformat": 4,
 "nbformat_minor": 2
}
