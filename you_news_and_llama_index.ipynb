{
 "cells": [
  {
   "cell_type": "markdown",
   "metadata": {},
   "source": [
    "# you.com News API <> Llama Index"
   ]
  },
  {
   "cell_type": "markdown",
   "metadata": {},
   "source": [
    "Creating a chatbot that can provide personalized news on any topic using you.com news API involves several steps, including obtaining the necessary credentials, and programming your chatbot to use the API. "
   ]
  },
  {
   "cell_type": "markdown",
   "metadata": {},
   "source": [
    "## Install required packages"
   ]
  },
  {
   "cell_type": "code",
   "execution_count": null,
   "metadata": {},
   "outputs": [],
   "source": [
    "%%capture\n",
    "! pip install llama-index-retrievers-you==0.1.2\n",
    "! pip install dotenv==0.0.5"
   ]
  },
  {
   "cell_type": "markdown",
   "metadata": {},
   "source": [
    "## Load API keys"
   ]
  },
  {
   "cell_type": "code",
   "execution_count": 1,
   "metadata": {},
   "outputs": [
    {
     "data": {
      "text/plain": [
       "True"
      ]
     },
     "execution_count": 1,
     "metadata": {},
     "output_type": "execute_result"
    }
   ],
   "source": [
    "# assumes a .env file exists with api keys YOU_API_KEY and OPENAI_API_KEY\n",
    "\n",
    "from dotenv import load_dotenv\n",
    "import os\n",
    "\n",
    "load_dotenv()"
   ]
  },
  {
   "cell_type": "markdown",
   "metadata": {},
   "source": [
    "## Create a retriever"
   ]
  },
  {
   "cell_type": "code",
   "execution_count": null,
   "metadata": {},
   "outputs": [],
   "source": [
    "from llama_index.retrievers.you import YouNewsRetriever\n",
    "\n",
    "you_api_key = os.environ[\"YOU_API_KEY\"]\n",
    "\n",
    "retriever = YouNewsRetriever(api_key=you_api_key)\n",
    "retrieved_results = retriever.retrieve(\"national parks in the US\")\n",
    "\n",
    "print(retrieved_results[0].get_content())"
   ]
  },
  {
   "cell_type": "code",
   "execution_count": 3,
   "metadata": {},
   "outputs": [
    {
     "name": "stdout",
     "output_type": "stream",
     "text": [
      "Our 63 US National Parks across America are a collection of some of the most pristine and beautifully preserved landscapes in the world. From sea to shining sea, nationally protected treasures are filled with stunning views, remarkable wildlife, and historic landmarks.\n",
      "URL: https://brightstandards.com/us-national-parks-list-map/\n",
      "age: 5 days ago\n"
     ]
    }
   ],
   "source": [
    "# TODO until PR is merged, create it manually: https://github.com/run-llama/llama_index/pull/13934\n",
    "\n",
    "from typing import List, Optional\n",
    "from llama_index.core.schema import NodeWithScore, TextNode\n",
    "import requests\n",
    "\n",
    "\n",
    "class YouNewsRetriever():\n",
    "    \"\"\"You retriever.\"\"\"\n",
    "\n",
    "    def __init__(\n",
    "        self,\n",
    "        api_key: Optional[str] = None\n",
    "    ) -> None:\n",
    "        \"\"\"Init params.\"\"\"\n",
    "        self._api_key = api_key or os.environ[\"YOU_API_KEY\"]\n",
    "\n",
    "    def retrieve(self, query_bundle: str) -> List[NodeWithScore]:\n",
    "        \"\"\"Retrieve.\"\"\"\n",
    "        headers = {\"X-API-Key\": self._api_key}\n",
    "        results = requests.get(\n",
    "            f\"https://api.ydc-index.io/news?q={query_bundle}\",\n",
    "            headers=headers,\n",
    "        ).json()\n",
    "\n",
    "        news_hits = [f'{news[\"description\"]}\\nURL: {news[\"url\"]}\\nage: {news[\"age\"]}' for news in results[\"news\"][\"results\"]]\n",
    "        return [NodeWithScore(node=TextNode(text=s), score=1.0) for s in news_hits]\n",
    "\n",
    "you_api_key = os.environ[\"YOU_API_KEY\"]\n",
    "\n",
    "retriever = YouNewsRetriever(api_key=you_api_key)\n",
    "retrieved_results = retriever.retrieve(\"national parks in the US\")\n",
    "\n",
    "print(retrieved_results[0].get_content())"
   ]
  },
  {
   "cell_type": "markdown",
   "metadata": {},
   "source": [
    "# Create a chat engine\n",
    "\n",
    "Conceptually, it is a stateful analogy of a Query Engine. "
   ]
  },
  {
   "cell_type": "code",
   "execution_count": 4,
   "metadata": {},
   "outputs": [
    {
     "name": "stdout",
     "output_type": "stream",
     "text": [
      "The recent news articles provide a snapshot of various events and developments in Canada. Here are some key highlights:\n",
      "\n",
      "1. The Bank of Canada cut its key policy rate, becoming the first G7 country to do so in four years. Economists predict further cuts in July.\n",
      "   Source: Reuters, Yahoo Finance, CNBC\n",
      "\n",
      "2. Canada Border Services Agency workers are set to strike, potentially causing border chaos.\n",
      "   Source: CBC News, WCAX\n",
      "\n",
      "3. Canada demands a portion of revenue from streaming services to support local news and content.\n",
      "   Source: Ars Technica, Reuters\n",
      "\n",
      "4. Wall Street anticipates a weaker Canadian dollar and more interest rate cuts following the Bank of Canada's move.\n",
      "   Source: Bloomberg\n",
      "\n",
      "5. There are calls to end the practice of \"flagpoling\" in Canada.\n",
      "   Source: WCAX\n",
      "\n",
      "6. Canadian officials are preparing for a meeting with French President Macron, US President Biden, UK's King Charles III, and Canada's PM Trudeau to commemorate D-Day.\n",
      "   Source: The Guardian\n",
      "\n",
      "7. Online streaming services in Canada will be required to contribute 5% of their Canadian revenues to support the domestic broadcasting system.\n",
      "   Source: Reuters\n",
      "\n",
      "8. Concerns arise over reduced hydropower production in Canada due to lower-than-normal rain and snow, linked to climate change.\n",
      "   Source: The New York Times\n",
      "\n",
      "9. The Correctional Service of Canada confirmed the death of Canadian serial killer Robert Pickton following an assault.\n",
      "   Source: NBC News\n",
      "\n",
      "10. A federal scientist in Canada alleges being barred from investigating a mystery brain illness in New Brunswick, affecting over 200 people.\n",
      "   Source: The Guardian\n",
      "\n",
      "These articles cover a range of topics, from economic policies and labor strikes to environmental concerns and public health issues in Canada.\n"
     ]
    }
   ],
   "source": [
    "from llama_index.core.chat_engine.context import ContextChatEngine\n",
    "\n",
    "chat_engine = ContextChatEngine.from_defaults(retriever=retriever)\n",
    "response = chat_engine.chat(\"Canada\")\n",
    "\n",
    "print(response)"
   ]
  },
  {
   "cell_type": "markdown",
   "metadata": {},
   "source": [
    "### Include a timeframe"
   ]
  },
  {
   "cell_type": "code",
   "execution_count": 5,
   "metadata": {},
   "outputs": [
    {
     "name": "stdout",
     "output_type": "stream",
     "text": [
      "In January 2024, Norway experienced some significant events and developments:\n",
      "\n",
      "1. Norway's $1.6 trillion sovereign wealth fund, the world's largest, reported a record profit of 2.22 trillion crowns ($213 billion) in 2023, driven by strong returns on its investments in technology stocks.\n",
      "\n",
      "2. January saw combined electric vehicles (EVs) at a 93.9% share in Norway, with a record 92.1% being full electrics (BEVs) and 1.8% plug-in hybrids (PHEVs). This marked a significant increase compared to the previous year.\n",
      "\n",
      "3. Norway experienced a market crash of -76.6% in January 2023, leading to the lowest market performance in 61 years due to price increases.\n",
      "\n",
      "4. The country saw a surge in new electric car registrations, with 4,717 new electric cars and 94 plug-in hybrids registered in January 2024.\n",
      "\n",
      "5. Norway's internet penetration stood at 99.0%, with 5.44 million internet users and 4.49 million social media users in January 2024.\n",
      "\n",
      "These events showcase Norway's strong focus on sustainability, technology, and economic growth during January 2024.\n"
     ]
    }
   ],
   "source": [
    "from llama_index.core.chat_engine.context import ContextChatEngine\n",
    "\n",
    "chat_engine = ContextChatEngine.from_defaults(retriever=retriever)\n",
    "response = chat_engine.chat(\"Norway in Jan 2024\")\n",
    "\n",
    "print(response)"
   ]
  },
  {
   "cell_type": "markdown",
   "metadata": {},
   "source": [
    "# Create a chat engine with memory\n",
    "\n",
    "By keeping track of the conversation history, it can answer questions with past context in mind.\n",
    " \n",
    "`condense_plus_context` - A combination of condense_question and context. Look at the chat history and re-write the user message to be a retrieval query for the index. The retrieved text is inserted into the system prompt, so that the chat engine can either respond naturally or use the context from the query engine."
   ]
  },
  {
   "cell_type": "code",
   "execution_count": 6,
   "metadata": {},
   "outputs": [],
   "source": [
    "from llama_index.core.memory import ChatMemoryBuffer\n",
    "from llama_index.core.chat_engine import CondensePlusContextChatEngine\n",
    "\n",
    "memory = ChatMemoryBuffer.from_defaults(token_limit=1500)\n",
    "\n",
    "chat_engine = CondensePlusContextChatEngine.from_defaults(\n",
    "    retriever=retriever,\n",
    "    memory=memory,\n",
    "    verbose=True,\n",
    ")"
   ]
  },
  {
   "cell_type": "code",
   "execution_count": 63,
   "metadata": {},
   "outputs": [
    {
     "name": "stdout",
     "output_type": "stream",
     "text": [
      "Condensed question: Salesforce\n",
      "Context: The cloud software giant just disappointed a lot of investors.\n",
      "URL: https://www.fool.com/investing/2024/06/03/is-salesforce-stock-a-buy-now/\n",
      "age: 2 days ago\n",
      "\n",
      "Insider buying and selling is tracked closely by many professional fund managers.\n",
      "URL: https://www.cnbc.com/2024/06/03/ceos-of-general-motors-salesforce-among-corporate-insiders-selling-stock-last-month.html\n",
      "age: 1 day ago\n",
      "\n",
      "Here's how Bret Jensen, usually not a big tech investor, is taking advantage of Saleforce's big selloff.\n",
      "URL: https://pro.thestreet.com/trade-ideas/getting-salesforce-on-the-cheap\n",
      "age: 3 days ago\n",
      "\n",
      "The sharp drop in the CRM stock price came after the company declared its first quarter (FY 2025) earnings. It missed the revenue consensus..\n",
      "URL: https://www.forbes.com/sites/greatspeculations/2024/06/03/salesforce-stock-dropped-more-than-20-in-one-day-whats-next/\n",
      "age: 1 day ago\n",
      "\n",
      "But the shocking Salesforce quarter sent me off to dig into the tech-heavy Nasdaq, specifically the Nasdaq 100 — the 100 largest nonfinancial companies traded on the Nasdaq — to see if there are warning signs creeping into the picture.\n",
      "URL: https://finance.yahoo.com/news/heres-whats-really-bothering-me-about-the-exploding-nasdaq-123004440.html\n",
      "age: 1 day ago\n",
      "\n",
      "Fool.com contributor Parkev Tatevosian answers whether Salesforce (NYSE: CRM) stock is a buy.\n",
      "URL: https://www.nasdaq.com/articles/should-you-buy-dip-salesforce-stock?time=1717230720\n",
      "age: 4 days ago\n",
      "\n",
      "Here's what investors are really worried about with this customer relationship management giant.\n",
      "URL: https://finance.yahoo.com/news/salesforce-stock-sinks-weak-outlook-071500621.html\n",
      "age: 3 days ago\n",
      "\n",
      "Salesforce CEO Marc Benioff commented that the cloud software vendor is remaining cautious around M&A but won't shy away from deals it sees as additive.\n",
      "URL: https://finance.yahoo.com/news/salesforce-open-to-large-acquisitions-but-analysts-have-concerns-100213959.html\n",
      "age: 4 days ago\n",
      "\n",
      "10 large-cap stocks worst performers last week: MongoDB, Nutanix, DraftKings, Salesforce, Samsara, Celsius, Agilent, Snowflake, ServiceNow, Hormel. Are they in your portfolio?\n",
      "URL: https://www.benzinga.com/markets/equities/24/06/39127308/salesforce-and-celsius-were-among-the-10-biggest-large-cap-losers-last-week-are-these-in-your-po\n",
      "age: 3 days ago\n",
      "\n",
      "CNBC Pro screened for the most overbought and oversold names on Wall Street this week.\n",
      "URL: https://www.cnbc.com/2024/05/31/salesforce-is-the-most-oversold-stock-amid-a-losing-week-for-markets.html\n",
      "age: 4 days ago\n",
      "\n",
      "209 votes, 52 comments. 499K subscribers in the sanfrancisco community. Cold summers, thick fog, and beautiful views. Welcome to the subreddit for…\n",
      "URL: https://www.reddit.com/r/sanfrancisco/comments/1d451g9/salesforce_shares_plunge_by_most_since_2008_after/\n",
      "age: 5 days ago\n",
      "\n",
      "Salesforce’s results “raise more meaningful questions around the adoption curve and ultimate monetization” of generative AI for software-as-a-service firms like Salesforce.\n",
      "URL: https://www.forbes.com/sites/dereksaul/2024/05/30/dow-slumps-380-points-as-salesforce-stock-suffers-worst-loss-since-2008/\n",
      "age: 5 days ago\n",
      "\n",
      "Get the latest San Francisco Bay Area breaking news on Silicon Valley's biggest companies, key players and technology updates..\n",
      "URL: https://www.sfgate.com/tech/article/salesforce-worst-stock-market-day-19486484.php\n",
      "age: 5 days ago\n",
      "\n",
      "Barron's is a leading source of financial news, providing in-depth analysis and commentary on stocks, investments and how markets are moving across the world.\n",
      "URL: https://www.barrons.com/articles/salesforce-uipath-c3-ai-okta-tech-stocks-today-d3970eff\n",
      "age: 5 days ago\n",
      "\n",
      "The latest artificial intelligence news coverage focusing on the technology, tools and the companies building AI technology.\n",
      "URL: https://www.wsj.com/tech/ai/salesforce-darkens-the-skies-for-cloud-software-as-ai-threat-looms-9c8137f3\n",
      "age: 5 days ago\n",
      "\n",
      "Salesforce stock was down 20% after reporting earnings.\n",
      "URL: https://finance.yahoo.com/news/salesforce-stock-buy-now-075900428.html\n",
      "age: 4 days ago\n",
      "\n",
      "Salesforce notched its biggest one-day loss in nearly 20 years after the SaaS firm's Q1 revenue fell short.\n",
      "URL: https://www.kiplinger.com/investing/stocks/stock-market-today-salesforce-earnings-drag-dow-down-330-points\n",
      "age: 5 days ago\n",
      "\n",
      "Salesforce stock fell Thursday after the company released weaker-than-expected fiscal first-quarter results on Wednesday.\n",
      "URL: https://www.cnbc.com/2024/05/30/salesforce-stock-fall-earnings-revenue-miss.html\n",
      "age: 5 days ago\n",
      "\n",
      "URL: https://www.instagram.com/etnow/reel/C7nqkkuBKKu/\n",
      "age: 5 days ago\n",
      "\n",
      "It was the tech company’s worst stock market day in 20 years after its earnings report missed analyst forecasts.\n",
      "URL: http://www.sfchronicle.com/bayarea/article/salesforce-stock-plunges-20-erasing-50-billion-19487120.php\n",
      "age: 5 days ago\n",
      "Salesforce, a cloud software giant, recently disappointed investors with its first quarter (FY 2025) earnings report. The company's stock price dropped significantly, experiencing its biggest one-day loss in nearly 20 years after missing revenue consensus. This led to concerns about the adoption curve and monetization of generative AI for software-as-a-service firms like Salesforce. Despite the drop, Salesforce CEO Marc Benioff mentioned that the company remains cautious about mergers and acquisitions but is open to deals that are seen as additive. The stock's performance also caught the attention of investors, with insider buying and selling being closely monitored by professional fund managers. Additionally, Barron's highlighted Salesforce as one of the tech stocks moving in the market. Overall, Salesforce's recent performance has sparked discussions and analysis across various financial news outlets and platforms.\n",
      "\n",
      "If you have any specific questions or need more details about Salesforce, feel free to ask!\n"
     ]
    }
   ],
   "source": [
    "response = chat_engine.chat(\"Salesforce\")\n",
    "print(response)"
   ]
  },
  {
   "cell_type": "code",
   "execution_count": 64,
   "metadata": {},
   "outputs": [
    {
     "name": "stdout",
     "output_type": "stream",
     "text": [
      "Condensed question: What specific details or questions do you have about Hubspot?\n",
      "Context: Find answers and general information quickly about the ads tool in HubSpot.\n",
      "URL: https://knowledge.hubspot.com/ads/ads-faq\n",
      "age: 1 month ago\n",
      "\n",
      "CRM & Sales Hub Ask and answer questions about using HubSpot’s CRM and Sales Hub. Marketing Hub Discuss and learn HubSpot’s marketing tools and inbound strategy. Service Hub Learn about Service Hub and share your expertise.\n",
      "URL: https://knowledge.hubspot.com/integrations/schedule-a-meeting-with-a-contact-in-a-record\n",
      "age: May 2, 2024\n",
      "\n",
      "Find answers to common questions about the traffic analytics tool in HubSpot.\n",
      "URL: https://knowledge.hubspot.com/reports/traffic-analytics-faq\n",
      "age: May 1, 2024\n",
      "\n",
      "When a buyer makes a payment or subscription is created, HubSpot stores details about the payment or subscription in specific properties.\n",
      "URL: https://knowledge.hubspot.com/payments/hubspots-payments-and-subscriptions-properties\n",
      "age: April 30, 2024\n",
      "\n",
      "Create a chatflow with live chat to connect visitors with members of your team.\n",
      "URL: https://knowledge.hubspot.com/chatflows/create-a-live-chat\n",
      "age: April 29, 2024\n",
      "\n",
      "When a static list is created, ... account specifically adds records to the list or removes records from the list. Users must have Write permissions for lists and Edit access for contacts and companies to add or remove records from a static list. Please note: removing records from a static list does · not delete them from your HubSpot portal. Learn more about permanently ...\n",
      "URL: https://knowledge.hubspot.com/lists/add-or-remove-contacts-from-a-list\n",
      "age: April 29, 2024\n",
      "\n",
      "Learn how to set up and use non-HubSpot forms to collect submissions on your website's existing forms in HubSpot.\n",
      "URL: https://knowledge.hubspot.com/forms/use-non-hubspot-forms\n",
      "age: April 24, 2024\n",
      "\n",
      "Learn how to create a form to gather important information about your visitors and contacts.\n",
      "URL: https://knowledge.hubspot.com/forms/create-forms\n",
      "age: April 24, 2024\n",
      "\n",
      "Original and Latest source are analytics properties which store information about the source of a contact's first and most recent interactions with your business.\n",
      "URL: https://knowledge.hubspot.com/properties/understand-source-properties\n",
      "age: April 18, 2024\n",
      "\n",
      "It's also a good idea to take notes ... include specific details in your follow-up email. “To pin down the next steps, I‘d like to learn more about [questions you didn’t get to ask during the conversation].” After this intro, follow up with Qualifying Questions, Disqualifying Questions, or Questions ...\n",
      "URL: https://blog.hubspot.com/sales/discovery-call-questions\n",
      "age: April 12, 2024\n",
      "\n",
      "Find answers and general information quickly about the workflows tool in HubSpot.\n",
      "URL: https://knowledge.hubspot.com/workflows/workflows-faq\n",
      "age: April 12, 2024\n",
      "\n",
      "Learn how to navigate your HubSpot billing page and how to manage your subscriptions.\n",
      "URL: https://knowledge.hubspot.com/account/manage-your-hubspot-subscription\n",
      "age: April 11, 2024\n",
      "\n",
      "Learn how data sources, field aggregation, and chart visualizations work in the custom report builder.\n",
      "URL: https://knowledge.hubspot.com/reports/understand-the-custom-report-builder\n",
      "age: April 11, 2024\n",
      "\n",
      "Find answers to common questions about the payments tool.\n",
      "URL: https://knowledge.hubspot.com/payments/payments-frequently-asked-questions\n",
      "age: April 8, 2024\n",
      "\n",
      "Learn how to analyze the performance of your published pages and blog posts, including SEO optimization and smart content performance.\n",
      "URL: https://knowledge.hubspot.com/website-pages/analyze-performance-for-individual-pages-and-blog-posts\n",
      "age: April 3, 2024\n",
      "\n",
      "These top sales questions help you hone in on challenges and opportunities when speaking to prospects or feeling out whether customers are ready to renew.\n",
      "URL: https://blog.hubspot.com/sales/23-questions-customers-needs-si\n",
      "age: April 1, 2024\n",
      "\n",
      "Learn how to create a bot and add it to your website pages so your visitors can start a conversation with you.\n",
      "URL: https://knowledge.hubspot.com/chatflows/create-a-bot\n",
      "age: March 27, 2024\n",
      "\n",
      "Learn how to use the social reports tool to evaluate the effectiveness of your social media efforts.\n",
      "URL: https://knowledge.hubspot.com/social/analyze-social-reports\n",
      "age: March 26, 2024\n",
      "\n",
      "Connect your Gmail or Office 365 calendar to HubSpot and start creating and customizing your scheduling pages.\n",
      "URL: https://knowledge.hubspot.com/meetings-tool/use-meetings\n",
      "age: March 26, 2024\n",
      "\n",
      "Learn how to understand your workflow details page and view a workflow's history and performance to better analyze your workflows.\n",
      "URL: https://knowledge.hubspot.com/workflows/understand-your-workflow-details-page\n",
      "age: March 18, 2024\n",
      "HubSpot is a leading provider of inbound marketing, sales, and customer service software. The platform offers a suite of tools to help businesses attract visitors, convert leads, and close customers. Here are some key features and tools offered by HubSpot:\n",
      "\n",
      "1. **Ads Tool**: The Ads Tool in HubSpot allows users to create, manage, and track the performance of their online advertising campaigns across various platforms like Google, Facebook, and LinkedIn. Users can set up ad campaigns, monitor ad spend, and analyze the results to optimize their advertising efforts.\n",
      "\n",
      "2. **Traffic Analytics Tool**: The Traffic Analytics Tool provides insights into website traffic sources, visitor behavior, and conversion rates. Users can track key metrics like page views, sessions, bounce rate, and more to understand the effectiveness of their marketing efforts.\n",
      "\n",
      "3. **Payments and Subscriptions Properties**: HubSpot stores details about payments and subscriptions in specific properties when a buyer makes a payment or a subscription is created. This feature helps businesses keep track of customer transactions and subscription details within the platform.\n",
      "\n",
      "4. **Chatflows**: Users can create chatflows with live chat functionality to connect website visitors with team members in real-time. This feature enables businesses to engage with visitors, answer questions, and provide support directly on their website.\n",
      "\n",
      "5. **Lists**: HubSpot allows users to create static lists where they can add or remove contacts based on specific criteria. Users need the appropriate permissions to manage lists and contacts effectively.\n",
      "\n",
      "6. **Forms**: Users can create forms in HubSpot to collect information from visitors and contacts. Forms are essential for gathering data, generating leads, and personalizing marketing efforts.\n",
      "\n",
      "7. **Custom Report Builder**: The Custom Report Builder enables users to create customized reports by selecting data sources, defining field aggregations, and visualizing data with charts. This tool helps businesses analyze performance metrics and make data-driven decisions.\n",
      "\n",
      "8. **Workflows**: HubSpot's Workflows tool automates marketing and sales processes by setting up triggers, actions, and conditions based on user behavior. Users can create personalized workflows to nurture leads, send targeted emails, and streamline their marketing efforts.\n",
      "\n",
      "9. **Social Reports Tool**: The Social Reports Tool allows users to evaluate the effectiveness of their social media efforts by analyzing engagement metrics, follower growth, and post performance across different social platforms.\n",
      "\n",
      "10. **Meetings Tool**: Users can connect their Gmail or Office 365 calendar to HubSpot's Meetings Tool to schedule and customize meetings with leads and contacts. This tool simplifies the scheduling process and improves communication with prospects.\n",
      "\n",
      "These are just a few highlights of the features and tools available in HubSpot. If you have specific questions or need more information about any aspect of HubSpot, feel free to ask!\n"
     ]
    }
   ],
   "source": [
    "# uses memory to query related things\n",
    "response = chat_engine.chat(\"Hubspot\")\n",
    "print(response)"
   ]
  }
 ],
 "metadata": {
  "kernelspec": {
   "display_name": "Python 3",
   "language": "python",
   "name": "python3"
  },
  "language_info": {
   "codemirror_mode": {
    "name": "ipython",
    "version": 3
   },
   "file_extension": ".py",
   "mimetype": "text/x-python",
   "name": "python",
   "nbconvert_exporter": "python",
   "pygments_lexer": "ipython3",
   "version": "3.9.6"
  }
 },
 "nbformat": 4,
 "nbformat_minor": 2
}
