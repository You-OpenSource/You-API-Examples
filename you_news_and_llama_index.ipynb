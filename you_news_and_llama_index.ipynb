{
 "cells": [
  {
   "cell_type": "markdown",
   "metadata": {},
   "source": [
    "# you.com News API <> Llama Index"
   ]
  },
  {
   "cell_type": "markdown",
   "metadata": {},
   "source": [
    "Creating a chatbot that can provide personalized news on any topic using you.com news API involves several steps, including obtaining the necessary credentials, and programming your chatbot to use the API. "
   ]
  },
  {
   "cell_type": "markdown",
   "metadata": {},
   "source": [
    "## Install required packages"
   ]
  },
  {
   "cell_type": "code",
   "execution_count": null,
   "metadata": {},
   "outputs": [],
   "source": [
    "%%capture\n",
    "! pip install llama-index-retrievers-you==0.1.2\n",
    "! pip install dotenv==0.0.5"
   ]
  },
  {
   "cell_type": "markdown",
   "metadata": {},
   "source": [
    "## Load API keys"
   ]
  },
  {
   "cell_type": "code",
   "execution_count": 7,
   "metadata": {},
   "outputs": [
    {
     "data": {
      "text/plain": [
       "True"
      ]
     },
     "execution_count": 7,
     "metadata": {},
     "output_type": "execute_result"
    }
   ],
   "source": [
    "# assumes a .env file exists with api keys YOU_API_KEY and OPENAI_API_KEY\n",
    "\n",
    "from dotenv import load_dotenv\n",
    "import os\n",
    "\n",
    "load_dotenv()"
   ]
  },
  {
   "cell_type": "markdown",
   "metadata": {},
   "source": [
    "## Create a retriever"
   ]
  },
  {
   "cell_type": "code",
   "execution_count": null,
   "metadata": {},
   "outputs": [],
   "source": [
    "from llama_index.retrievers.you import YouNewsRetriever\n",
    "\n",
    "you_api_key = os.environ[\"YOU_API_KEY\"]\n",
    "\n",
    "retriever = YouNewsRetriever(api_key=you_api_key)\n",
    "retrieved_results = retriever.retrieve(\"national parks in the US\")\n",
    "\n",
    "print(retrieved_results[0].get_content())"
   ]
  },
  {
   "cell_type": "code",
   "execution_count": 3,
   "metadata": {},
   "outputs": [
    {
     "name": "stdout",
     "output_type": "stream",
     "text": [
      "Our 63 US National Parks across America are a collection of some of the most pristine and beautifully preserved landscapes in the world. From sea to shining sea, nationally protected treasures are filled with stunning views, remarkable wildlife, and historic landmarks.\n",
      "URL: https://brightstandards.com/us-national-parks-list-map/\n",
      "age: 5 days ago\n"
     ]
    }
   ],
   "source": [
    "# TODO until PR is merged, create it manually: https://github.com/run-llama/llama_index/pull/13934\n",
    "\n",
    "from typing import List, Optional\n",
    "from llama_index.core.schema import NodeWithScore, TextNode\n",
    "import requests\n",
    "\n",
    "\n",
    "class YouNewsRetriever():\n",
    "    \"\"\"You retriever.\"\"\"\n",
    "\n",
    "    def __init__(\n",
    "        self,\n",
    "        api_key: Optional[str] = None\n",
    "    ) -> None:\n",
    "        \"\"\"Init params.\"\"\"\n",
    "        self._api_key = api_key or os.environ[\"YOU_API_KEY\"]\n",
    "\n",
    "    def retrieve(self, query_bundle: str) -> List[NodeWithScore]:\n",
    "        \"\"\"Retrieve.\"\"\"\n",
    "        headers = {\"X-API-Key\": self._api_key}\n",
    "        results = requests.get(\n",
    "            f\"https://api.ydc-index.io/news?q={query_bundle}\",\n",
    "            headers=headers,\n",
    "        ).json()\n",
    "\n",
    "        news_hits = [f'{news[\"description\"]}\\nURL: {news[\"url\"]}\\nage: {news[\"age\"]}' for news in results[\"news\"][\"results\"]]\n",
    "        return [NodeWithScore(node=TextNode(text=s), score=1.0) for s in news_hits]\n",
    "\n",
    "you_api_key = os.environ[\"YOU_API_KEY\"]\n",
    "\n",
    "retriever = YouNewsRetriever(api_key=you_api_key)\n",
    "retrieved_results = retriever.retrieve(\"national parks in the US\")\n",
    "\n",
    "print(retrieved_results[0].get_content())"
   ]
  },
  {
   "cell_type": "markdown",
   "metadata": {},
   "source": [
    "# Create a chat engine\n",
    "\n",
    "Conceptually, it is a stateful analogy of a Query Engine. "
   ]
  },
  {
   "cell_type": "code",
   "execution_count": 4,
   "metadata": {},
   "outputs": [
    {
     "name": "stdout",
     "output_type": "stream",
     "text": [
      "The recent news articles provide a snapshot of various events and developments in Canada. Here are some key highlights:\n",
      "\n",
      "1. The Bank of Canada cut its key policy rate, becoming the first G7 country to do so in four years. Economists predict further cuts in July.\n",
      "   Source: Reuters, Yahoo Finance, CNBC\n",
      "\n",
      "2. Canada Border Services Agency workers are set to strike, potentially causing border chaos.\n",
      "   Source: CBC News, WCAX\n",
      "\n",
      "3. Canada demands a portion of revenue from streaming services to support local news and content.\n",
      "   Source: Ars Technica, Reuters\n",
      "\n",
      "4. Wall Street anticipates a weaker Canadian dollar and more interest rate cuts following the Bank of Canada's move.\n",
      "   Source: Bloomberg\n",
      "\n",
      "5. There are calls to end the practice of \"flagpoling\" in Canada.\n",
      "   Source: WCAX\n",
      "\n",
      "6. Canadian officials are preparing for a meeting with French President Macron, US President Biden, UK's King Charles III, and Canada's PM Trudeau to commemorate D-Day.\n",
      "   Source: The Guardian\n",
      "\n",
      "7. Online streaming services in Canada will be required to contribute 5% of their Canadian revenues to support the domestic broadcasting system.\n",
      "   Source: Reuters\n",
      "\n",
      "8. Concerns arise over reduced hydropower production in Canada due to lower-than-normal rain and snow, linked to climate change.\n",
      "   Source: The New York Times\n",
      "\n",
      "9. The Correctional Service of Canada confirmed the death of Canadian serial killer Robert Pickton following an assault.\n",
      "   Source: NBC News\n",
      "\n",
      "10. A federal scientist in Canada alleges being barred from investigating a mystery brain illness in New Brunswick, affecting over 200 people.\n",
      "   Source: The Guardian\n",
      "\n",
      "These articles cover a range of topics, from economic policies and labor strikes to environmental concerns and public health issues in Canada.\n"
     ]
    }
   ],
   "source": [
    "from llama_index.core.chat_engine.context import ContextChatEngine\n",
    "\n",
    "chat_engine = ContextChatEngine.from_defaults(retriever=retriever)\n",
    "response = chat_engine.chat(\"Canada\")\n",
    "\n",
    "print(response)"
   ]
  },
  {
   "cell_type": "markdown",
   "metadata": {},
   "source": [
    "### Include a timeframe"
   ]
  },
  {
   "cell_type": "code",
   "execution_count": 5,
   "metadata": {},
   "outputs": [
    {
     "name": "stdout",
     "output_type": "stream",
     "text": [
      "In January 2024, Norway experienced some significant events and developments:\n",
      "\n",
      "1. Norway's $1.6 trillion sovereign wealth fund, the world's largest, reported a record profit of 2.22 trillion crowns ($213 billion) in 2023, driven by strong returns on its investments in technology stocks.\n",
      "\n",
      "2. January saw combined electric vehicles (EVs) at a 93.9% share in Norway, with a record 92.1% being full electrics (BEVs) and 1.8% plug-in hybrids (PHEVs). This marked a significant increase compared to the previous year.\n",
      "\n",
      "3. Norway experienced a market crash of -76.6% in January 2023, leading to the lowest market performance in 61 years due to price increases.\n",
      "\n",
      "4. The country saw a surge in new electric car registrations, with 4,717 new electric cars and 94 plug-in hybrids registered in January 2024.\n",
      "\n",
      "5. Norway's internet penetration stood at 99.0%, with 5.44 million internet users and 4.49 million social media users in January 2024.\n",
      "\n",
      "These events showcase Norway's strong focus on sustainability, technology, and economic growth during January 2024.\n"
     ]
    }
   ],
   "source": [
    "from llama_index.core.chat_engine.context import ContextChatEngine\n",
    "\n",
    "chat_engine = ContextChatEngine.from_defaults(retriever=retriever)\n",
    "response = chat_engine.chat(\"Norway in Jan 2024\")\n",
    "\n",
    "print(response)"
   ]
  },
  {
   "cell_type": "markdown",
   "metadata": {},
   "source": [
    "# Create a chat engine with memory\n",
    "\n",
    "By keeping track of the conversation history, it can answer questions with past context in mind.\n",
    " \n",
    "`condense_plus_context` - A combination of condense_question and context. Look at the chat history and re-write the user message to be a retrieval query for the index. The retrieved text is inserted into the system prompt, so that the chat engine can either respond naturally or use the context from the query engine."
   ]
  },
  {
   "cell_type": "code",
   "execution_count": 33,
   "metadata": {},
   "outputs": [],
   "source": [
    "from llama_index.core.memory import ChatMemoryBuffer\n",
    "from llama_index.core.chat_engine import CondensePlusContextChatEngine\n",
    "from llama_index.llms.openai import OpenAI\n",
    "\n",
    "memory = ChatMemoryBuffer.from_defaults(token_limit=3900)\n",
    "llm = OpenAI(model=\"gpt-3.5-turbo\")\n",
    "\n",
    "chat_engine = CondensePlusContextChatEngine.from_defaults(\n",
    "    retriever=retriever,\n",
    "    memory=memory,\n",
    "    llm=llm,\n",
    "    verbose=False, # set this to True if you want referenced news articles, like in cell 35\n",
    ")"
   ]
  },
  {
   "cell_type": "code",
   "execution_count": 34,
   "metadata": {},
   "outputs": [
    {
     "name": "stdout",
     "output_type": "stream",
     "text": [
      "Salesforce, a cloud software giant, recently disappointed investors with its first quarter (FY 2025) earnings report. The company's stock price dropped significantly, experiencing its biggest one-day loss in nearly 20 years after missing revenue consensus. This led to a 20% decline in the stock price. Salesforce CEO Marc Benioff mentioned that the company is cautious about mergers and acquisitions but is open to deals that are seen as beneficial. The poor performance of Salesforce stock has raised concerns among investors and analysts about the company's outlook and adoption of generative AI for software-as-a-service firms like Salesforce.\n",
      "\n",
      "Various news sources have covered the significant drop in Salesforce's stock price, with articles discussing insider buying and selling, investor worries, and the impact on the Nasdaq. Additionally, there have been mentions of Salesforce being among the worst-performing large-cap stocks in a given week, as well as being identified as the most oversold stock on Wall Street during a particular week.\n",
      "\n",
      "Overall, Salesforce's recent financial performance and stock price decline have been a major point of interest and concern in the financial and tech communities.\n"
     ]
    }
   ],
   "source": [
    "# relevant news article with a summary of the news\n",
    "response = chat_engine.chat(\"Salesforce\")\n",
    "print(response)"
   ]
  },
  {
   "cell_type": "code",
   "execution_count": 24,
   "metadata": {},
   "outputs": [
    {
     "name": "stdout",
     "output_type": "stream",
     "text": [
      "Condensed question: What is the current situation with Hubspot in the market?\n",
      "Context: HubSpot shares rose Tuesday after CNBC's David Faber reported that Alphabet is in talks about an all-stock bid for the company.\n",
      "URL: https://www.cnbc.com/2024/05/28/hubspot-shares-jump-on-talks-of-potential-google-deal-.html\n",
      "age: 1 week ago\n",
      "\n",
      "Search engine behemoth, Google is set to take some market share from tech giant MIcrosoft with its latest move to acquire marketing software company Hubspot. According to reports, Google‘s parent compnay Alphabet’s acquisition of the $30 billion-rated company is a component of its ambition ...\n",
      "URL: https://www.ripplesnigeria.com/google-set-to-acquire-hubspot-in-move-to-take-market-share-from-microsoft/\n",
      "age: 1 week ago\n",
      "\n",
      "Learn how to manage email authentication in HubSpot.\n",
      "URL: https://knowledge.hubspot.com/marketing-email/manage-email-authentication-in-hubspot\n",
      "age: May 3, 2024\n",
      "\n",
      "In the most recent trading session, HubSpot (HUBS) closed at $606.09, indicating a +0.2% shift from the previous trading day.\n",
      "URL: https://finance.yahoo.com/news/hubspot-hubs-gains-market-dips-221511719.html\n",
      "age: May 1, 2024\n",
      "\n",
      "A go-to-market strategy is what's going to help you catapult your new product into the hands of buyers, and we've got the examples + templates you need.\n",
      "URL: https://blog.hubspot.com/sales/gtm-strategy\n",
      "age: May 1, 2024\n",
      "\n",
      "In this detailed guide, learn how to conduct a competitive analysis that will give your business a competitive advantage in the market.\n",
      "URL: https://blog.hubspot.com/marketing/competitive-analysis-kit\n",
      "age: April 29, 2024\n",
      "\n",
      "Salesforce and HubSpot are top-rated customer relationship management (CRM) software options, but which CRM is right for you? Before committing to a solution, it helps to explore where these CRMs excel and where they fall short. With this review, Forbes Advisor takes a look at Salesforce vs. HubSpot\n",
      "URL: https://www.forbes.com/advisor/business/software/salesforce-vs-hubspot/\n",
      "age: April 20, 2024\n",
      "\n",
      "Discover how you can integrate HubSpot as a revenue generator into your go-to-market strategy to streamline operations.\n",
      "URL: https://www.sixandflow.com/marketing-blog/hubspot-as-a-revenue-generator-in-your-go-to-market-strategy\n",
      "age: April 5, 2024\n",
      "\n",
      "Alphabet is eyeing HubSpot as an acquisition, sources say. Will it be a game-changing move for Google in CRM and marketing?\n",
      "URL: https://www.cmswire.com/digital-marketing/will-alphabet-acquire-hubspot/\n",
      "age: April 4, 2024\n",
      "\n",
      "Learn how to use HubSpot's marketing tools to grow your business.\n",
      "URL: https://knowledge.hubspot.com/get-started/market-your-business\n",
      "age: April 3, 2024\n",
      "\n",
      "Learn how to create sales reports using the sales analytics tool.\n",
      "URL: https://knowledge.hubspot.com/reports/create-sales-reports-with-the-sales-reports-analytics-tool\n",
      "age: April 1, 2024\n",
      "\n",
      "Ten of the social media trends to watch, explore, and use this year and beyond - based on a survey of over 1,000 marketers.\n",
      "URL: https://blog.hubspot.com/marketing/social-media-predictions-2017\n",
      "age: March 22, 2024\n",
      "\n",
      "Set up forecast categories for each of your sales pipelines, then set revenue goals for your team members.\n",
      "URL: https://knowledge.hubspot.com/forecast/set-up-the-forecast-tool\n",
      "age: March 21, 2024\n",
      "\n",
      "We surveyed 1400+ global social media marketers across B2B and B2C industries in the United States to find out what they're investing in this year.\n",
      "URL: https://blog.hubspot.com/marketing/hubspot-blog-social-media-marketing-report\n",
      "age: March 13, 2024\n",
      "\n",
      "Discover what trends and strategies B2C marketers are leveraging in 2024 from HubSpot Research -- plus, expert insights on why these trends matter.\n",
      "URL: https://blog.hubspot.com/marketing/b2c-marketing-trends/\n",
      "age: March 5, 2024\n",
      "\n",
      "If you're looking to elevate your marketing strategy in 2024, take a look at some tips from both past and present marketers.\n",
      "URL: https://blog.hubspot.com/insiders/inbound-marketing-tips\n",
      "age: February 26, 2024\n",
      "\n",
      "Discover the different types of market research, how to conduct your own market research, and use a free template to help you along the way.\n",
      "URL: https://blog.hubspot.com/marketing/market-research-buyers-journey-guide\n",
      "age: February 25, 2024\n",
      "\n",
      "Learn how to build and optimize your small business marketing strategy using inbound marketing to attract new clients and grow your business.\n",
      "URL: https://blog.hubspot.com/marketing/small-business-marketing-guide\n",
      "age: February 21, 2024\n",
      "\n",
      "Learn how to use personalization tokens in your HubSpot landing pages, website pages, and emails to display the custom property value for a specific contact.\n",
      "URL: https://knowledge.hubspot.com/website-pages/personalize-your-content\n",
      "age: January 31, 2024\n",
      "\n",
      "HubSpot, Inc. (NYSE:HUBS) shares are trading higher on Tuesday. The stock returned 13.4% over the last one month to $621.01, outpacing the broader S&P 500’s return of just 3.72%, and 5.8% for NASDAQ. The software giant said it will report its fourth quarter and full year 2023 financial results after the financial markets ...\n",
      "URL: https://uk.investing.com/news/stock-market-news/whats-going-on-with-hubspot-stock-3316883\n",
      "age: January 30, 2024\n",
      "HubSpot, a leading provider of marketing and CRM software, has been in the spotlight recently due to talks of a potential acquisition by Alphabet, Google's parent company. This news has caused a surge in interest and speculation about the future of HubSpot and its potential integration into Google's ecosystem.\n",
      "\n",
      "The acquisition rumors have led to a rise in HubSpot's stock price, with CNBC reporting that Alphabet is considering an all-stock bid for the company. This development has generated excitement in the market and among investors, as it could have significant implications for both HubSpot and Google in the CRM and marketing software space.\n",
      "\n",
      "Additionally, HubSpot's stock performance has been notable, with the company's shares trading higher in recent sessions. HubSpot's stock returned 13.4% over the last month, outpacing broader market indices like the S&P 500 and NASDAQ. This positive performance reflects investor confidence in the company and its growth prospects.\n",
      "\n",
      "Furthermore, HubSpot offers a range of marketing tools and resources to help businesses grow and optimize their marketing strategies. From managing email authentication to conducting competitive analysis and creating sales reports, HubSpot provides valuable insights and solutions for businesses looking to enhance their marketing efforts.\n",
      "\n",
      "In conclusion, HubSpot's potential acquisition by Alphabet, along with its strong stock performance and comprehensive marketing tools, positions the company as a key player in the marketing and CRM software industry, attracting attention from investors and industry observers alike.\n"
     ]
    }
   ],
   "source": [
    "# uses memory to relate the Hubspot query to market performance news in the query above\n",
    "response = chat_engine.chat(\"Hubspot\")\n",
    "print(response)"
   ]
  },
  {
   "cell_type": "markdown",
   "metadata": {},
   "source": [
    "## Customize news\n",
    "\n",
    "Using a custom prompt, this news feed can be customized to specific threads, such as this one focused on politics and economics."
   ]
  },
  {
   "cell_type": "code",
   "execution_count": 58,
   "metadata": {},
   "outputs": [],
   "source": [
    "from llama_index.core.memory import ChatMemoryBuffer\n",
    "from llama_index.core.chat_engine import CondensePlusContextChatEngine\n",
    "from llama_index.core import PromptTemplate\n",
    "\n",
    "custom_prompt = PromptTemplate(\n",
    "    \"\"\"\\\n",
    "You're a top-tier reporter focused on news about {question}.\\n\n",
    "YOU SHOULD ALWAYS RESEARCH THE FOLLOWING QUERIES: \\n\n",
    "1. {question} recent news and latest development\\n\n",
    "2. recent regulatory changes affecting {question}\\n\n",
    "3. recent economic events impacting {question}\\n\n",
    "\"\"\"\n",
    ")\n",
    "\n",
    "memory = ChatMemoryBuffer.from_defaults(token_limit=3900)\n",
    "llm = OpenAI(model=\"gpt-3.5-turbo\")\n",
    "\n",
    "chat_engine = CondensePlusContextChatEngine.from_defaults(\n",
    "    retriever=retriever,\n",
    "    condense_question_prompt=custom_prompt,\n",
    "    memory=memory,\n",
    "    llm=llm,\n",
    "    # verbose=True,\n",
    ")"
   ]
  },
  {
   "cell_type": "code",
   "execution_count": 59,
   "metadata": {},
   "outputs": [
    {
     "name": "stdout",
     "output_type": "stream",
     "text": [
      "Mongolia, a country located in East Asia, has been making significant strides in various areas recently. From signing cooperation documents with Belarus to hosting the first international store of Mega Coffee, Mongolia is actively engaging in diplomatic and economic activities. Additionally, Mongolia is focusing on managing its rich uranium market while balancing relationships between the East and West. The country is also implementing reforms to reduce corruption and strengthen its democratic system, as well as establishing a Sovereign Wealth Fund to ensure fair distribution of its resource wealth. Moreover, Mongolia's unique ecosystem, including grasslands that store a substantial amount of terrestrial carbon, is facing challenges like desertification and land degradation. The country's efforts to combat these environmental issues involve incorporating international experiences and local traditions.\n",
      "\n",
      "Furthermore, Mongolia has been involved in international partnerships, such as Asia Pharma signing a master franchise agreement to bring Mega Coffee to the country. The nation is also exploring opportunities for collaboration with other countries, like Ukraine calling on Mongolia to participate in the Global Peace Summit in Switzerland. Additionally, Mongolia is looking to join the Shanghai Cooperation Organization, as indicated by Russian Foreign Minister Sergey Lavrov.\n",
      "\n",
      "Overall, Mongolia's recent activities reflect a blend of economic development, environmental conservation efforts, diplomatic engagements, and internal reforms aimed at enhancing governance and sustainability.\n"
     ]
    }
   ],
   "source": [
    "response = chat_engine.chat(\"Mongolia\")\n",
    "print(response)"
   ]
  }
 ],
 "metadata": {
  "kernelspec": {
   "display_name": "Python 3",
   "language": "python",
   "name": "python3"
  },
  "language_info": {
   "codemirror_mode": {
    "name": "ipython",
    "version": 3
   },
   "file_extension": ".py",
   "mimetype": "text/x-python",
   "name": "python",
   "nbconvert_exporter": "python",
   "pygments_lexer": "ipython3",
   "version": "3.9.6"
  }
 },
 "nbformat": 4,
 "nbformat_minor": 2
}
