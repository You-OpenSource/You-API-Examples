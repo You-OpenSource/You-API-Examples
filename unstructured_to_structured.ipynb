{
 "cells": [
  {
   "cell_type": "code",
   "execution_count": 1,
   "metadata": {},
   "outputs": [
    {
     "data": {
      "text/plain": [
       "True"
      ]
     },
     "execution_count": 1,
     "metadata": {},
     "output_type": "execute_result"
    }
   ],
   "source": [
    "import os\n",
    "\n",
    "from dotenv import load_dotenv\n",
    "load_dotenv()  # Loads all key-value pairs from your `.env` file"
   ]
  },
  {
   "cell_type": "code",
   "execution_count": 155,
   "metadata": {},
   "outputs": [],
   "source": [
    "import requests\n",
    "import os\n",
    "\n",
    "def get_structural_info(transcript, questions, mode=\"research\"):\n",
    "    headers = {'x-api-key': os.environ['YDC_API_KEY']}\n",
    "    endpoint = f\"https://chat-api.you.com/{mode}\"\n",
    "\n",
    "    params = {\"query\": f\"\"\"\n",
    "            You are a helpful assistant who is given a transcript between a sales representative and a prospect.\n",
    "            Your task is to extract the information from the transcript as well the web to answer the following questions:\n",
    "            {questions}\n",
    "\n",
    "            The transcript you need to analyze is as follows:\n",
    "            {transcript}\n",
    "\n",
    "            Return the extracted information as a JSON object.\n",
    "            \"\"\"\n",
    "        }\n",
    "    response = requests.get(endpoint, params=params, headers=headers)\n",
    "    return response.json()"
   ]
  },
  {
   "cell_type": "code",
   "execution_count": 156,
   "metadata": {},
   "outputs": [],
   "source": [
    "questions = \"\"\"\n",
    "what is the name of the prospect?\n",
    "what is the name of the company?\n",
    "what is the company's website URL?\n",
    "what is company's LinkedIn URL?\n",
    "what is the market segment the company operates in?\n",
    "what are the pain points expressed by the prospect?\n",
    "what are the follow up actions?\n",
    "what is the overall sentiment of the conversation?\n",
    "\"\"\""
   ]
  },
  {
   "cell_type": "code",
   "execution_count": 157,
   "metadata": {},
   "outputs": [],
   "source": [
    "transcript = \"\"\"\n",
    "Sales Representative: Hi, this is Alex from Tech Solutions. Is this Taylor?\n",
    "\n",
    "Prospect: Yes, this is Taylor.\n",
    "\n",
    "Sales Representative: Great! How are you today, Taylor?\n",
    "\n",
    "Prospect: I'm doing well, thanks. How about you?\n",
    "\n",
    "Sales Representative: I'm doing well, thank you! I appreciate you taking the time to speak with me. \n",
    "The reason for my call is that I noticed youdotcom has been growing rapidly, and I wanted to see \n",
    "if there's a way we can help streamline some of your IT processes. Do you have a few minutes to discuss this?\n",
    "\n",
    "Prospect: Sure, I can spare a few minutes.\n",
    "\n",
    "Sales Representative: Excellent. To give you a bit of context, at Tech Solutions, we specialize in \n",
    "providing comprehensive IT management software that helps companies like yours save time and reduce costs. \n",
    "Can you tell me a bit about your current IT setup and any challenges you might be facing?\n",
    "\n",
    "Prospect: Well, we have a small team managing our IT infrastructure, and sometimes it gets overwhelming.\n",
    "We’ve been experiencing a few issues with network downtime and managing our software licenses.\n",
    "\n",
    "Sales Representative: I understand. Network downtime and software management can definitely be challenging. \n",
    "How much downtime are you currently experiencing, and how is it impacting your operations?\n",
    "\n",
    "Prospect: We’ve had a few incidents in the past month, resulting in a couple of hours of downtime each time. \n",
    "It's affecting our productivity and causing some frustration among the team.\n",
    "\n",
    "Sales Representative: That sounds frustrating indeed. At Tech Solutions, our software is designed to minimize\n",
    "downtime by proactively monitoring your network and automating many of the manual tasks that can lead to errors and delays. \n",
    "Additionally, our license management feature ensures that all your software licenses are up-to-date and compliant, \n",
    "reducing the risk of unexpected downtime. Would a solution like this be of interest to you?\n",
    "\n",
    "Prospect: It does sound helpful. How does it work exactly?\n",
    "\n",
    "Sales Representative: Great question! Our software integrates seamlessly with your existing infrastructure.\n",
    "It provides real-time monitoring and alerts for any potential issues, allowing your team to address them before\n",
    "they cause downtime. It also automates software updates and license renewals, so you don’t have to worry about them manually.\n",
    "Would you be interested in seeing a demo of how this works?\n",
    "\n",
    "Prospect: Yes, a demo would be useful.\n",
    "\n",
    "Sales Representative: Fantastic! I can schedule a demo for you with one of our specialists.\n",
    "They can walk you through the features and show you how it can specifically benefit You.com.\n",
    "Does tomorrow at 2 PM work for you?\n",
    "\n",
    "Prospect: Tomorrow at 2 PM works for me.\n",
    "\n",
    "Sales Representative: Perfect. I’ll send you a calendar invite with all the details.\n",
    "Before we wrap up, do you have any other questions or concerns that you'd like to address?\n",
    "\n",
    "Prospect: Not at the moment, but I’m looking forward to the demo.\n",
    "\n",
    "Sales Representative: Great to hear. Thanks again for your time, Taylor. \n",
    "I’ll send over the invite shortly, and I look forward to speaking with you tomorrow.\n",
    "\n",
    "Prospect: Thank you, Alex. Talk to you then.\n",
    "\n",
    "Sales Representative: Take care!\n",
    "\"\"\""
   ]
  },
  {
   "cell_type": "code",
   "execution_count": 158,
   "metadata": {},
   "outputs": [],
   "source": [
    "structural_info = get_structural_info(transcript, questions, mode=\"smart\")"
   ]
  },
  {
   "cell_type": "code",
   "execution_count": 159,
   "metadata": {},
   "outputs": [
    {
     "name": "stdout",
     "output_type": "stream",
     "text": [
      "{\n",
      "  \"prospect_name\": \"Taylor\",\n",
      "  \"company_name\": \"You.com\",\n",
      "  \"company_website\": \"https://www.you.com\",\n",
      "  \"company_linkedin\": \"https://www.linkedin.com/company/you-com\",\n",
      "  \"market_segment\": \"IT management software\",\n",
      "  \"pain_points\": [\n",
      "    \"Network downtime\",\n",
      "    \"Managing software licenses\"\n",
      "  ],\n",
      "  \"follow_up_actions\": [\n",
      "    \"Schedule a demo for tomorrow at 2 PM\",\n",
      "    \"Send a calendar invite with all the details\"\n",
      "  ],\n",
      "  \"sentiment\": \"Positive\"\n",
      "}\n"
     ]
    }
   ],
   "source": [
    "print(structural_info[\"answer\"])"
   ]
  },
  {
   "cell_type": "code",
   "execution_count": null,
   "metadata": {},
   "outputs": [],
   "source": []
  },
  {
   "cell_type": "markdown",
   "metadata": {},
   "source": []
  },
  {
   "cell_type": "code",
   "execution_count": null,
   "metadata": {},
   "outputs": [],
   "source": []
  }
 ],
 "metadata": {
  "kernelspec": {
   "display_name": ".venv",
   "language": "python",
   "name": "python3"
  },
  "language_info": {
   "codemirror_mode": {
    "name": "ipython",
    "version": 3
   },
   "file_extension": ".py",
   "mimetype": "text/x-python",
   "name": "python",
   "nbconvert_exporter": "python",
   "pygments_lexer": "ipython3",
   "version": "3.10.10"
  }
 },
 "nbformat": 4,
 "nbformat_minor": 2
}
