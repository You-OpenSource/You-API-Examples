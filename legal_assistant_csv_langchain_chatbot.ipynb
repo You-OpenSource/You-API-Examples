{
 "cells": [
  {
   "cell_type": "markdown",
   "metadata": {},
   "source": [
    "# Legal Assistant Bot"
   ]
  },
  {
   "cell_type": "markdown",
   "metadata": {},
   "source": [
    "This chatbot retrieves context from a proprietary data source and the web to answer questions about federal laws in the United States of America (USA).  The proprietary datasource is a CSV file of all federal laws and their revision history in the USA.  The web data required to respond to the user's questions is retrieved using the You.com API.  The chatbot is implemented as an agent in using LangChain and LangGraph."
   ]
  },
  {
   "cell_type": "markdown",
   "metadata": {},
   "source": [
    "## Install all required packages"
   ]
  },
  {
   "cell_type": "code",
   "execution_count": 46,
   "metadata": {},
   "outputs": [],
   "source": [
    "%%capture\n",
    "! pip install langgraph==0.0.59\n",
    "! pip install pandas==2.2.2\n",
    "! pip install openai==1.30.3\n",
    "! pip install langchain==0.2.1\n",
    "! pip install langchain_community==0.2.1\n",
    "! pip install langchain_openai==0.1.7\n",
    "! pip install langchain_text_splitters==0.2.0\n",
    "! pip install langchain_core==0.2.1\n",
    "! pip install numpy==1.26.4\n",
    "! pip install openai==1.30.3\n",
    "! pip install python-dotenv==1.0.1\n",
    "! pip install faiss-cpu==1.8.0"
   ]
  },
  {
   "cell_type": "code",
   "execution_count": 54,
   "metadata": {},
   "outputs": [
    {
     "data": {
      "text/plain": [
       "True"
      ]
     },
     "execution_count": 54,
     "metadata": {},
     "output_type": "execute_result"
    }
   ],
   "source": [
    "import dotenv\n",
    "dotenv.load_dotenv(\".env\", override=True)"
   ]
  },
  {
   "cell_type": "code",
   "execution_count": 48,
   "metadata": {},
   "outputs": [],
   "source": [
    "import pandas as pd\n",
    "import openai\n",
    "import langchain\n",
    "import os\n",
    "from langchain_community.document_loaders.csv_loader import CSVLoader\n",
    "from langchain_community.vectorstores import FAISS\n",
    "from langchain_openai import OpenAIEmbeddings\n",
    "from langchain.text_splitter import RecursiveCharacterTextSplitter\n",
    "from langchain.tools.retriever import create_retriever_tool\n",
    "from langchain_community.tools.you import YouSearchTool\n",
    "from langchain_community.utilities.you import YouSearchAPIWrapper\n",
    "from langchain_openai import ChatOpenAI\n",
    "from langgraph.prebuilt import chat_agent_executor\n",
    "from langgraph.checkpoint import MemorySaver"
   ]
  },
  {
   "cell_type": "markdown",
   "metadata": {},
   "source": [
    "## Load in the US Federal Laws dataset and create a vector database representation of this dataset, which will then be converted into a LangChain Retriever and Tool"
   ]
  },
  {
   "cell_type": "code",
   "execution_count": 49,
   "metadata": {},
   "outputs": [
    {
     "data": {
      "text/html": [
       "<div>\n",
       "<style scoped>\n",
       "    .dataframe tbody tr th:only-of-type {\n",
       "        vertical-align: middle;\n",
       "    }\n",
       "\n",
       "    .dataframe tbody tr th {\n",
       "        vertical-align: top;\n",
       "    }\n",
       "\n",
       "    .dataframe thead th {\n",
       "        text-align: right;\n",
       "    }\n",
       "</style>\n",
       "<table border=\"1\" class=\"dataframe\">\n",
       "  <thead>\n",
       "    <tr style=\"text-align: right;\">\n",
       "      <th></th>\n",
       "      <th>row_number</th>\n",
       "      <th>action</th>\n",
       "      <th>Title</th>\n",
       "      <th>sal_volume</th>\n",
       "      <th>sal_page_start</th>\n",
       "      <th>BillCitation</th>\n",
       "      <th>congress_number</th>\n",
       "      <th>chapter</th>\n",
       "      <th>session_number</th>\n",
       "      <th>pl_no</th>\n",
       "      <th>date_of_passage</th>\n",
       "      <th>secondary_date</th>\n",
       "      <th>dates_conflict</th>\n",
       "      <th>Source</th>\n",
       "      <th>URL</th>\n",
       "      <th>alternate_sal_volume</th>\n",
       "      <th>alternate_sal_page_start</th>\n",
       "      <th>has_alternate_sal_citation</th>\n",
       "    </tr>\n",
       "  </thead>\n",
       "  <tbody>\n",
       "    <tr>\n",
       "      <th>0</th>\n",
       "      <td>1</td>\n",
       "      <td>An Act</td>\n",
       "      <td>To regulate the time and manner of administeri...</td>\n",
       "      <td>1</td>\n",
       "      <td>23.0</td>\n",
       "      <td>NaN</td>\n",
       "      <td>1</td>\n",
       "      <td>1.0</td>\n",
       "      <td>1.0</td>\n",
       "      <td>NaN</td>\n",
       "      <td>1789-06-01</td>\n",
       "      <td>NaN</td>\n",
       "      <td>NaN</td>\n",
       "      <td>HeinOnline</td>\n",
       "      <td>NaN</td>\n",
       "      <td>NaN</td>\n",
       "      <td>NaN</td>\n",
       "      <td>False</td>\n",
       "    </tr>\n",
       "    <tr>\n",
       "      <th>1</th>\n",
       "      <td>2</td>\n",
       "      <td>An Act</td>\n",
       "      <td>For laying a duty on goods, wares, and merchan...</td>\n",
       "      <td>1</td>\n",
       "      <td>24.0</td>\n",
       "      <td>NaN</td>\n",
       "      <td>1</td>\n",
       "      <td>2.0</td>\n",
       "      <td>1.0</td>\n",
       "      <td>NaN</td>\n",
       "      <td>1789-07-04</td>\n",
       "      <td>NaN</td>\n",
       "      <td>NaN</td>\n",
       "      <td>HeinOnline</td>\n",
       "      <td>NaN</td>\n",
       "      <td>NaN</td>\n",
       "      <td>NaN</td>\n",
       "      <td>False</td>\n",
       "    </tr>\n",
       "    <tr>\n",
       "      <th>2</th>\n",
       "      <td>3</td>\n",
       "      <td>An Act</td>\n",
       "      <td>Imposing duties on tonnage.</td>\n",
       "      <td>1</td>\n",
       "      <td>27.0</td>\n",
       "      <td>NaN</td>\n",
       "      <td>1</td>\n",
       "      <td>3.0</td>\n",
       "      <td>1.0</td>\n",
       "      <td>NaN</td>\n",
       "      <td>1789-07-20</td>\n",
       "      <td>NaN</td>\n",
       "      <td>NaN</td>\n",
       "      <td>HeinOnline</td>\n",
       "      <td>NaN</td>\n",
       "      <td>NaN</td>\n",
       "      <td>NaN</td>\n",
       "      <td>False</td>\n",
       "    </tr>\n",
       "    <tr>\n",
       "      <th>3</th>\n",
       "      <td>4</td>\n",
       "      <td>An Act</td>\n",
       "      <td>For establishing an executive department to be...</td>\n",
       "      <td>1</td>\n",
       "      <td>28.0</td>\n",
       "      <td>NaN</td>\n",
       "      <td>1</td>\n",
       "      <td>4.0</td>\n",
       "      <td>1.0</td>\n",
       "      <td>NaN</td>\n",
       "      <td>1789-07-27</td>\n",
       "      <td>NaN</td>\n",
       "      <td>NaN</td>\n",
       "      <td>HeinOnline</td>\n",
       "      <td>NaN</td>\n",
       "      <td>NaN</td>\n",
       "      <td>NaN</td>\n",
       "      <td>False</td>\n",
       "    </tr>\n",
       "    <tr>\n",
       "      <th>4</th>\n",
       "      <td>5</td>\n",
       "      <td>An Act</td>\n",
       "      <td>To regulate the collection of the duties impos...</td>\n",
       "      <td>1</td>\n",
       "      <td>29.0</td>\n",
       "      <td>NaN</td>\n",
       "      <td>1</td>\n",
       "      <td>5.0</td>\n",
       "      <td>1.0</td>\n",
       "      <td>NaN</td>\n",
       "      <td>1789-07-31</td>\n",
       "      <td>NaN</td>\n",
       "      <td>NaN</td>\n",
       "      <td>HeinOnline</td>\n",
       "      <td>NaN</td>\n",
       "      <td>NaN</td>\n",
       "      <td>NaN</td>\n",
       "      <td>False</td>\n",
       "    </tr>\n",
       "  </tbody>\n",
       "</table>\n",
       "</div>"
      ],
      "text/plain": [
       "   row_number  action                                              Title  \\\n",
       "0           1  An Act  To regulate the time and manner of administeri...   \n",
       "1           2  An Act  For laying a duty on goods, wares, and merchan...   \n",
       "2           3  An Act                        Imposing duties on tonnage.   \n",
       "3           4  An Act  For establishing an executive department to be...   \n",
       "4           5  An Act  To regulate the collection of the duties impos...   \n",
       "\n",
       "   sal_volume  sal_page_start BillCitation  congress_number  chapter  \\\n",
       "0           1            23.0          NaN                1      1.0   \n",
       "1           1            24.0          NaN                1      2.0   \n",
       "2           1            27.0          NaN                1      3.0   \n",
       "3           1            28.0          NaN                1      4.0   \n",
       "4           1            29.0          NaN                1      5.0   \n",
       "\n",
       "   session_number pl_no date_of_passage secondary_date dates_conflict  \\\n",
       "0             1.0   NaN      1789-06-01            NaN            NaN   \n",
       "1             1.0   NaN      1789-07-04            NaN            NaN   \n",
       "2             1.0   NaN      1789-07-20            NaN            NaN   \n",
       "3             1.0   NaN      1789-07-27            NaN            NaN   \n",
       "4             1.0   NaN      1789-07-31            NaN            NaN   \n",
       "\n",
       "       Source  URL  alternate_sal_volume  alternate_sal_page_start  \\\n",
       "0  HeinOnline  NaN                   NaN                       NaN   \n",
       "1  HeinOnline  NaN                   NaN                       NaN   \n",
       "2  HeinOnline  NaN                   NaN                       NaN   \n",
       "3  HeinOnline  NaN                   NaN                       NaN   \n",
       "4  HeinOnline  NaN                   NaN                       NaN   \n",
       "\n",
       "   has_alternate_sal_citation  \n",
       "0                       False  \n",
       "1                       False  \n",
       "2                       False  \n",
       "3                       False  \n",
       "4                       False  "
      ]
     },
     "execution_count": 49,
     "metadata": {},
     "output_type": "execute_result"
    }
   ],
   "source": [
    "# Let's take a look at our CSV dataset first\n",
    "import pandas as pd\n",
    "\n",
    "# The CSV file can be downloaded from: https://www.nature.com/articles/s41597-023-02758-z#Sec3\n",
    "df = pd.read_csv(\"us_laws_dataset.csv\")\n",
    "\n",
    "df.head()"
   ]
  },
  {
   "cell_type": "code",
   "execution_count": 50,
   "metadata": {},
   "outputs": [],
   "source": [
    "import openai\n",
    "import langchain\n",
    "import os"
   ]
  },
  {
   "cell_type": "code",
   "execution_count": 51,
   "metadata": {},
   "outputs": [],
   "source": [
    "os.environ[\"YDC_API_KEY\"] = \"<Insert your YDC API key here>\"\n",
    "os.environ[\"OPENAI_API_KEY\"] = \"<Insert your Open AI API key here>\""
   ]
  },
  {
   "cell_type": "code",
   "execution_count": 52,
   "metadata": {},
   "outputs": [],
   "source": [
    "from langchain_community.document_loaders.csv_loader import CSVLoader\n",
    "\n",
    "# The CSV file can be downloaded from: https://www.nature.com/articles/s41597-023-02758-z#Sec3\n",
    "loader = CSVLoader(file_path = \"us_laws_dataset.csv\")\n",
    "\n",
    "data = loader.load()"
   ]
  },
  {
   "cell_type": "code",
   "execution_count": 55,
   "metadata": {},
   "outputs": [],
   "source": [
    "from langchain_community.vectorstores import FAISS\n",
    "from langchain_openai import OpenAIEmbeddings\n",
    "from langchain.text_splitter import RecursiveCharacterTextSplitter\n",
    "\n",
    "# split the document into chunks, and vectorize these chunks in a FAISS database\n",
    "text_splitter = RecursiveCharacterTextSplitter(chunk_size = 1000, chunk_overlap = 100)\n",
    "docs = text_splitter.split_documents(data)\n",
    "embeddings = OpenAIEmbeddings()\n",
    "db = FAISS.from_documents(documents=docs, embedding=embeddings)"
   ]
  },
  {
   "cell_type": "code",
   "execution_count": 58,
   "metadata": {},
   "outputs": [
    {
     "data": {
      "text/plain": [
       "[Document(page_content='row_number: 1885\\naction: An Act\\nTitle: In addition to the act, entitled \"An act for the prompt settlement of public accounts,\" and for the punishment of the crime of perjury\\nsal_volume: 3\\nsal_page_start: 770\\nBillCitation: NA\\ncongress_number: 17\\nchapter: 37\\nsession_number: 2\\npl_no: NA\\ndate_of_passage: 1823-03-01\\nsecondary_date: NA\\ndates_conflict: NA\\nSource: HeinOnline\\nURL: NA\\nalternate_sal_volume: NA\\nalternate_sal_page_start: NA\\nhas_alternate_sal_citation: FALSE', metadata={'source': 'us_laws_dataset.csv', 'row': 1884}),\n",
       " Document(page_content='row_number: 38724\\naction: An Act\\nTitle: An act to permit the use of unsworn declarations under penalty of perjury as evidence in Federal proceedings\\nsal_volume: 90\\nsal_page_start: 2534\\nBillCitation: H.R. 15531\\ncongress_number: 94\\nchapter: NA\\nsession_number: 2\\npl_no: 94-550\\ndate_of_passage: 1976-10-18\\nsecondary_date: NA\\ndates_conflict: FALSE\\nSource: NA\\nURL: https://www.govinfo.gov/content/pkg/STATUTE-90/pdf/STATUTE-90-Pg2534.pdf\\nalternate_sal_volume: 90\\nalternate_sal_page_start: 2534\\nhas_alternate_sal_citation: TRUE', metadata={'source': 'us_laws_dataset.csv', 'row': 38720}),\n",
       " Document(page_content='row_number: 33140\\naction: An Act\\nTitle: An Act to amend section 200 of the Soldiers and Sailors Civil Relief Act of 1940 to permit the establishment of certain facts by a declaration under penalty of perjury in lieu of an affidavit, and for other purposes\\nsal_volume: 74\\nsal_page_start: 820\\nBillCitation: H.R. 3313\\ncongress_number: 86\\nchapter: NA\\nsession_number: 2\\npl_no: 86-721\\ndate_of_passage: 1960-09-08\\nsecondary_date: NA\\ndates_conflict: FALSE\\nSource: NA\\nURL: https://www.govinfo.gov/content/pkg/STATUTE-74/pdf/STATUTE-74-Pg820.pdf\\nalternate_sal_volume: 74\\nalternate_sal_page_start: 820\\nhas_alternate_sal_citation: TRUE', metadata={'source': 'us_laws_dataset.csv', 'row': 33138})]"
      ]
     },
     "execution_count": 58,
     "metadata": {},
     "output_type": "execute_result"
    }
   ],
   "source": [
    "# test out the similarity search\n",
    "query = \"What laws and acts relate to perjury?\"\n",
    "response = db.similarity_search(query, k=10)\n",
    "# let's look at the first 3 retrieved docs\n",
    "response[:3]"
   ]
  },
  {
   "cell_type": "code",
   "execution_count": 59,
   "metadata": {},
   "outputs": [],
   "source": [
    "from langchain.tools.retriever import create_retriever_tool\n",
    "\n",
    "# convert this retriver into a tool\n",
    "db_retriever = db.as_retriever()\n",
    "db_retriever_tool = create_retriever_tool(\n",
    "    db_retriever,\n",
    "    name = \"law_dataset_retriever\",\n",
    "    description = \"Retrieve relevant context from the US laws dataset.\"\n",
    ")"
   ]
  },
  {
   "cell_type": "markdown",
   "metadata": {},
   "source": [
    "## Instantiating the You.com Tool in Langchain"
   ]
  },
  {
   "cell_type": "markdown",
   "metadata": {},
   "source": [
    "LangChain provides a wrapper around the You.com API and a You.com Tool.  For more information, please visit: https://python.langchain.com/v0.1/docs/integrations/tools/you/"
   ]
  },
  {
   "cell_type": "code",
   "execution_count": 60,
   "metadata": {},
   "outputs": [],
   "source": [
    "from langchain_community.tools.you import YouSearchTool\n",
    "from langchain_community.utilities.you import YouSearchAPIWrapper\n",
    "\n",
    "api_wrapper = YouSearchAPIWrapper(num_web_results = 10)\n",
    "ydc_tool = YouSearchTool(api_wrapper=api_wrapper)"
   ]
  },
  {
   "cell_type": "code",
   "execution_count": 62,
   "metadata": {},
   "outputs": [
    {
     "data": {
      "text/plain": [
       "[Document(page_content='Meijer, Inc. v. Ferring B.V.; Ferring Pharmaceuticals, Inc.; and Aventis Pharmaceuticals [In Re: DDAVP Direct Purchaser Antitrust Litigation] U.S. v. Memphis Board of Realtors', metadata={'url': 'https://www.justice.gov/atr/antitrust-case-filings-alpha', 'thumbnail_url': None, 'title': 'Antitrust Division | Antitrust Case Filings | United States Department of Justice', 'description': 'An official website of the United States government · Official websites use .gov A .gov website belongs to an official government organization in the United States'}),\n",
       " Document(page_content=\"Dentsply International, Inc. v. Antitrust Division of the United States Department of Justice · U.S. v. Freddy Deoliveira · U.S. v. Wilhelm DerMinassian · U.S. v. Eric Descouraux · Leinani Deslandes, Stephanie Turner, et al. v. McDonald's USA, LLC, et al.\", metadata={'url': 'https://www.justice.gov/atr/antitrust-case-filings-alpha', 'thumbnail_url': None, 'title': 'Antitrust Division | Antitrust Case Filings | United States Department of Justice', 'description': 'An official website of the United States government · Official websites use .gov A .gov website belongs to an official government organization in the United States'}),\n",
       " Document(page_content='U.S. v. Arden-Mayfair, Inc., Matanuska Maid, Inc.; and Meadowmoor Alaska Dairy, Inc. U.S. v. Argos USA LLC, f.k.a. Argos Ready Mix LLC', metadata={'url': 'https://www.justice.gov/atr/antitrust-case-filings-alpha', 'thumbnail_url': None, 'title': 'Antitrust Division | Antitrust Case Filings | United States Department of Justice', 'description': 'An official website of the United States government · Official websites use .gov A .gov website belongs to an official government organization in the United States'})]"
      ]
     },
     "execution_count": 62,
     "metadata": {},
     "output_type": "execute_result"
    }
   ],
   "source": [
    "# test out the You.com search tool\n",
    "response = ydc_tool.invoke(\"Tell me about a recent high-profile case related to antitrust in the USA.\")\n",
    "# let's look at the first 3 results\n",
    "response[:3]"
   ]
  },
  {
   "cell_type": "markdown",
   "metadata": {},
   "source": [
    "## Instantiate our LLM"
   ]
  },
  {
   "cell_type": "code",
   "execution_count": 63,
   "metadata": {},
   "outputs": [],
   "source": [
    "from langchain_openai import ChatOpenAI\n",
    "\n",
    "llm = ChatOpenAI(model=\"gpt-4o\", temperature=0.5)"
   ]
  },
  {
   "cell_type": "markdown",
   "metadata": {},
   "source": [
    "## Tying it all together"
   ]
  },
  {
   "cell_type": "code",
   "execution_count": 64,
   "metadata": {},
   "outputs": [],
   "source": [
    "from langgraph.prebuilt import chat_agent_executor\n",
    "from langgraph.checkpoint import MemorySaver\n",
    "\n",
    "# Create a checkpointer to use memory\n",
    "memory = MemorySaver()\n",
    "# the vector store representation of the CSV dataset and the You.com Search tool will both be passed as tools to the agent\n",
    "tools = [db_retriever_tool, ydc_tool]\n",
    "agent_executor = chat_agent_executor.create_tool_calling_executor(llm, tools, checkpointer=memory)"
   ]
  },
  {
   "cell_type": "markdown",
   "metadata": {},
   "source": [
    "## Let's try it out!"
   ]
  },
  {
   "cell_type": "code",
   "execution_count": 68,
   "metadata": {},
   "outputs": [
    {
     "data": {
      "text/plain": [
       "'Several federal laws in the United States address economic espionage. Here are the key statutes:\\n\\n1. **Economic Espionage Act of 1996 (EEA)**\\n   - **Title 18, U.S. Code, Sections 1831 and 1832**\\n   - **Section 1831**: Addresses economic espionage benefiting foreign governments, foreign instrumentalities, or foreign agents.\\n   - **Section 1832**: Addresses the theft of trade secrets for economic gain, regardless of the beneficiary.\\n   - **Key Provisions**: Criminalizes the theft or misappropriation of trade secrets and provides penalties for those found guilty of such acts.\\n   - **Full Text**: [Economic Espionage Act of 1996](https://www.govinfo.gov/content/pkg/STATUTE-110/pdf/STATUTE-110-Pg3488.pdf)\\n\\n2. **An Act to amend title 18, United States Code, to provide for increased penalties for foreign and economic espionage, and for other purposes**\\n   - **Public Law Number**: 112-269\\n   - **Bill Citation**: H.R. 6029\\n   - **Date of Passage**: January 14, 2013\\n   - **Details**: This act amends the United States Code to increase penalties for economic espionage.\\n   - **Full Text**: [Increased Penalties for Economic Espionage](https://www.govinfo.gov/content/pkg/STATUTE-126/html/STATUTE-126-Pg2442.htm)\\n\\n3. **An act to clarify the scope of the Economic Espionage Act of 1996**\\n   - **Public Law Number**: 112-236\\n   - **Bill Citation**: S. 3642\\n   - **Date of Passage**: December 28, 2012\\n   - **Details**: This act clarifies the scope of the Economic Espionage Act of 1996.\\n   - **Full Text**: [Clarification of the Economic Espionage Act](https://www.govinfo.gov/content/pkg/STATUTE-126/html/STATUTE-126-Pg1627.htm)\\n\\n4. **Espionage Act of 1917**\\n   - **Title 18, U.S. Code, Sections 793-798**\\n   - **Section 793**: Deals with gathering, transmitting, or losing defense information.\\n   - **Section 794**: Addresses espionage activities benefiting foreign governments.\\n   - **Section 798**: Concerns the disclosure of classified information related to national defense.\\n   - **Key Provisions**: Criminalizes acts of espionage and unauthorized disclosure of national defense information.\\n\\n5. **Foreign Agents Registration Act (FARA)**\\n   - **Title 22, U.S. Code, Sections 611-621**\\n   - **Key Provisions**: Requires individuals acting as agents of foreign principals to register with the U.S. government and disclose their activities.\\n\\n6. **Computer Fraud and Abuse Act (CFAA)**\\n   - **Title 18, U.S. Code, Section 1030**\\n   - **Key Provisions**: Criminalizes unauthorized access to computers and the theft of information from computers.\\n\\n7. **Trade Secrets Act**\\n   - **Title 18, U.S. Code, Section 1905**\\n   - **Key Provisions**: Prohibits the unauthorized disclosure of trade secrets by government employees.\\n\\nThese laws collectively provide a comprehensive legal framework to address various aspects of economic espionage, including the theft of trade secrets, unauthorized access to computer systems, and the disclosure of classified information.'"
      ]
     },
     "execution_count": 68,
     "metadata": {},
     "output_type": "execute_result"
    }
   ],
   "source": [
    "agent_executor.invoke(input={\"messages\": \"What laws in the US address economic espionage?\"}, config={\"configurable\": {\"thread_id\": \"xyz_789\"}})[\"messages\"][-1].content"
   ]
  },
  {
   "cell_type": "code",
   "execution_count": 69,
   "metadata": {},
   "outputs": [
    {
     "data": {
      "text/plain": [
       "\"The most notable U.S. Supreme Court case related to economic espionage is **Totten v. United States** (92 U.S. 105, 1876). This case set significant precedents regarding judicial jurisdiction in espionage cases and the State Secrets Privilege.\\n\\n### Key Details:\\n- **Case Name**: Totten v. United States\\n- **Citation**: 92 U.S. 105 (1876)\\n- **Decision**: The Supreme Court ruled that certain secret contracts could not be publicly reviewed by courts, thereby precluding judicial review in cases where success depends on the existence of a secret espionage relationship with the government.\\n- **Significance**: This case was an important precursor to the court's 1953 decision in United States v. Reynolds, which recognized the State Secrets Privilege. The ruling in Totten was later referenced and its holding expanded in the 2005 case of Tenet v. Doe and General Dynamics Corp. v. United States.\\n\\n### Further Reading:\\n- [Totten v. United States - Wikipedia](https://en.wikipedia.org/wiki/Totten_v._United_States)\\n- [Supreme Court Opinion](https://supreme.justia.com/cases/federal/us/92/105/)\\n\\nThis case is pivotal in understanding the legal boundaries and protections involving espionage and economic espionage within the United States legal system.\""
      ]
     },
     "execution_count": 69,
     "metadata": {},
     "output_type": "execute_result"
    }
   ],
   "source": [
    "agent_executor.invoke(input={\"messages\": \"What is the most famous US Supreme Court case related to economic espionage?\"}, config={\"configurable\": {\"thread_id\": \"xyz_789\"}})[\"messages\"][-1].content"
   ]
  },
  {
   "cell_type": "code",
   "execution_count": 70,
   "metadata": {},
   "outputs": [
    {
     "data": {
      "text/plain": [
       "'In addition to the principles established in **Totten v. United States**, several federal laws could potentially apply to cases involving economic espionage. Here are some key statutes:\\n\\n1. **Economic Espionage Act of 1996 (EEA)**\\n   - **Title 18, U.S. Code, Sections 1831 and 1832**\\n   - **Section 1831**: Addresses economic espionage benefiting foreign governments, foreign instrumentalities, or foreign agents.\\n   - **Section 1832**: Addresses the theft of trade secrets for economic gain, regardless of the beneficiary.\\n   - **Key Provisions**: Criminalizes the theft or misappropriation of trade secrets and provides penalties for those found guilty of such acts.\\n\\n2. **Espionage Act of 1917**\\n   - **Title 18, U.S. Code, Sections 793-798**\\n   - **Section 793**: Deals with gathering, transmitting, or losing defense information.\\n   - **Section 794**: Addresses espionage activities benefiting foreign governments.\\n   - **Section 798**: Concerns the disclosure of classified information related to national defense.\\n   - **Key Provisions**: Criminalizes acts of espionage and unauthorized disclosure of national defense information.\\n\\n3. **Foreign Agents Registration Act (FARA)**\\n   - **Title 22, U.S. Code, Sections 611-621**\\n   - **Key Provisions**: Requires individuals acting as agents of foreign principals to register with the U.S. government and disclose their activities.\\n\\n4. **Computer Fraud and Abuse Act (CFAA)**\\n   - **Title 18, U.S. Code, Section 1030**\\n   - **Key Provisions**: Criminalizes unauthorized access to computers and the theft of information from computers.\\n\\n5. **Trade Secrets Act**\\n   - **Title 18, U.S. Code, Section 1905**\\n   - **Key Provisions**: Prohibits the unauthorized disclosure of trade secrets by government employees.\\n\\n### Application to Totten v. United States:\\nWhile **Totten v. United States** primarily dealt with the judicial review of secret contracts, if the case involved modern economic espionage, the following laws could be relevant:\\n\\n- **Economic Espionage Act of 1996**: If the case involved the theft of trade secrets for the benefit of a foreign entity or for economic gain.\\n- **Espionage Act of 1917**: If the case involved the unauthorized gathering or transmission of defense-related information.\\n- **Computer Fraud and Abuse Act**: If the espionage involved unauthorized access to computer systems to obtain sensitive information.\\n\\nThese statutes collectively provide a robust legal framework to address various aspects of economic espionage and protect national security and economic interests.'"
      ]
     },
     "execution_count": 70,
     "metadata": {},
     "output_type": "execute_result"
    }
   ],
   "source": [
    "agent_executor.invoke(input={\"messages\": \"Based on your knowledge of federal laws in the US pertaining to economic espionage, were there any other laws that could have been applied in this case?\"}, config={\"configurable\": {\"thread_id\": \"xyz_789\"}})[\"messages\"][-1].content"
   ]
  },
  {
   "cell_type": "markdown",
   "metadata": {},
   "source": [
    "## Let's create a Python class that encapsulates the code above.  This will enable users to easily create chatbots for new use cases with custom CSV datasets"
   ]
  },
  {
   "cell_type": "code",
   "execution_count": 72,
   "metadata": {},
   "outputs": [],
   "source": [
    "import secrets\n",
    "\n",
    "class CSV_QA_Bot:\n",
    "    def __init__(self, llm: ChatOpenAI, csv_files: list[str], num_web_results_to_fetch: int = 10):\n",
    "        self._llm = llm\n",
    "        \n",
    "        docs = self._load_csv_files(csv_files)\n",
    "        \n",
    "        # split the docs into chunks, vectorize the chunks and load them into a vector store\n",
    "        db = self._create_vector_store(docs)\n",
    "        \n",
    "        # create a retriever from the vector store\n",
    "        self._faiss_retriever = db.as_retriever()\n",
    "        \n",
    "        # convert this retriever into a Langchain tool\n",
    "        self._faiss_retriever_tool = create_retriever_tool(\n",
    "            self._faiss_retriever,\n",
    "            name = \"custom_dataset_retriever\",\n",
    "            description = \"Retrieve relevant context from custom dataset.\"\n",
    "        )\n",
    "        \n",
    "        # instantiate the YDC search tool in Langchain\n",
    "        self._ydc_api_wrapper = YouSearchAPIWrapper(num_web_results=num_web_results_to_fetch)\n",
    "        self._ydc_search_tool = YouSearchTool(api_wrapper=self._ydc_api_wrapper)\n",
    "        \n",
    "        \n",
    "        # create a list of tools that will be supplied to the Langchain agent\n",
    "        self._tools = [self._faiss_retriever_tool, self._ydc_search_tool]\n",
    "        \n",
    "        # Create a checkpointer to use memory\n",
    "        self._memory = MemorySaver()\n",
    "        \n",
    "        # create the agent executor\n",
    "        self._agent_executor = chat_agent_executor.create_tool_calling_executor(self._llm, self._tools, checkpointer=self._memory)\n",
    "        \n",
    "        # generate a thread ID for to keep track of conversation history\n",
    "        self._thread_id = self._generate_thread_id()\n",
    "\n",
    "    def _load_csv_files(self, csv_files: list[str]) -> list:\n",
    "        docs = []\n",
    "        for file in csv_files:\n",
    "            data_loader = CSVLoader(file)\n",
    "            docs.extend(data_loader.load())\n",
    "        return docs\n",
    "    \n",
    "    def _create_vector_store(self, docs: list) -> FAISS:\n",
    "        text_splitter = RecursiveCharacterTextSplitter(chunk_size = 1000, chunk_overlap = 100)\n",
    "        chunked_docs = text_splitter.split_documents(docs)\n",
    "        embeddings = OpenAIEmbeddings()\n",
    "        return FAISS.from_documents(documents=chunked_docs, embedding=embeddings)\n",
    "\n",
    "    def _generate_thread_id(self) -> str:\n",
    "        thread_id = secrets.token_urlsafe(16)\n",
    "        return thread_id\n",
    "    \n",
    "    def invoke_bot(self, input_str: str) -> str:\n",
    "        input = {\"messages\": input_str}\n",
    "        config = {\"configurable\": {\"thread_id\": self._thread_id}}\n",
    "        output = self._agent_executor.invoke(input=input, config=config)\n",
    "        return output[\"messages\"][-1].content"
   ]
  },
  {
   "cell_type": "markdown",
   "metadata": {},
   "source": [
    "## Let's try it out!"
   ]
  },
  {
   "cell_type": "code",
   "execution_count": 73,
   "metadata": {},
   "outputs": [],
   "source": [
    "llm = ChatOpenAI(model=\"gpt-4o\", temperature=0.5)\n",
    "conversational_agent = CSV_QA_Bot(llm, csv_files=[\"us_laws_dataset.csv\"])"
   ]
  },
  {
   "cell_type": "code",
   "execution_count": 74,
   "metadata": {},
   "outputs": [
    {
     "data": {
      "text/plain": [
       "'In the United States, insider trading is addressed through a combination of statutes, regulations, and case law. Here are some key laws and regulations that govern insider trading:\\n\\n1. **Securities Exchange Act of 1934**:\\n   - **Section 10(b)**: Prohibits the use of any \"manipulative or deceptive device\" in connection with the purchase or sale of any security.\\n   - **Rule 10b-5**: Enacted under Section 10(b), this rule specifically prohibits fraud, misrepresentation, and deceit in securities transactions. It is one of the primary tools used to prosecute insider trading.\\n\\n2. **Insider Trading Sanctions Act of 1984**:\\n   - This act increased the penalties for insider trading, including civil fines up to three times the profit gained or loss avoided.\\n\\n3. **Insider Trading and Securities Fraud Enforcement Act of 1988**:\\n   - This law further strengthened the penalties and enforcement mechanisms for insider trading, including increasing the maximum prison sentence and fines.\\n\\n4. **Sarbanes-Oxley Act of 2002**:\\n   - While primarily focused on corporate governance and financial practices, this act also includes provisions to deter and punish insider trading.\\n\\n5. **Dodd-Frank Wall Street Reform and Consumer Protection Act of 2010**:\\n   - This act includes provisions to enhance the SEC\\'s enforcement capabilities, including whistleblower incentives for reporting insider trading.\\n\\n6. **Rule 10b5-1**:\\n   - This rule provides a defense for individuals who can show that their trades were planned before they became aware of material non-public information.\\n\\n7. **Misappropriation Theory**:\\n   - This theory, accepted in U.S. law, states that anyone who misappropriates material non-public information and trades on that information in any stock may be guilty of insider trading.\\n\\n### Key Cases and Concepts\\n- **Classical Theory of Insider Trading**: Insiders who trade based on material non-public information or tip others who trade can be held liable.\\n- **Misappropriation Theory**: Extends liability to individuals who misappropriate information and trade on it, even if they are not traditional insiders.\\n\\n### Enforcement and Penalties\\n- The Securities and Exchange Commission (SEC) is the primary agency responsible for enforcing insider trading laws.\\n- Violations can result in both civil and criminal penalties, including fines, disgorgement of profits, and imprisonment.\\n\\n### Notable Legislation\\n- **Insider Trading Sanctions Act of 1984**: [Read the Act](https://www.govinfo.gov/content/pkg/STATUTE-98/pdf/STATUTE-98-Pg1264.pdf)\\n- **Insider Trading and Securities Fraud Enforcement Act of 1988**: [Read the Act](https://www.govinfo.gov/content/pkg/STATUTE-102/pdf/STATUTE-102-Pg4677.pdf)\\n\\nFor more detailed information on insider trading laws and enforcement, you can refer to resources from the [Securities and Exchange Commission (SEC)](https://www.sec.gov) and legal databases such as [Cornell Law School\\'s Legal Information Institute](https://www.law.cornell.edu/wex/insider_trading).'"
      ]
     },
     "execution_count": 74,
     "metadata": {},
     "output_type": "execute_result"
    }
   ],
   "source": [
    "conversational_agent.invoke_bot(\"What laws in the USA address insider trading?\")"
   ]
  },
  {
   "cell_type": "code",
   "execution_count": 75,
   "metadata": {},
   "outputs": [
    {
     "data": {
      "text/plain": [
       "'The most famous U.S. Supreme Court case involving insider trading is **United States v. O\\'Hagan** (1997).\\n\\n### United States v. O\\'Hagan (521 U.S. 642)\\n#### Background:\\n- **Defendant**: James O\\'Hagan, a partner at the law firm Dorsey & Whitney.\\n- **Facts**: O\\'Hagan used confidential information obtained through his firm\\'s representation of a company involved in a takeover bid to purchase stock options in the target company. He made substantial profits from these trades.\\n\\n#### Legal Issue:\\n- The primary issue was whether O\\'Hagan\\'s actions constituted insider trading under the \"misappropriation theory.\"\\n\\n#### Supreme Court\\'s Decision:\\n- The Court upheld the \"misappropriation theory\" of insider trading.\\n- **Misappropriation Theory**: This theory asserts that a person commits fraud \"in connection with\" a securities transaction, and thereby violates Section 10(b) and Rule 10b-5, when he misappropriates confidential information for securities trading purposes, in breach of a duty owed to the source of the information.\\n- The Court found that O\\'Hagan\\'s conduct was deceptive because he misappropriated the information in violation of a duty owed to his law firm and its client.\\n- The decision expanded the scope of insider trading liability beyond traditional insiders (corporate officers, directors, and employees) to include those who misappropriate information.\\n\\n### Significance:\\n- **United States v. O\\'Hagan** is significant because it established and affirmed the misappropriation theory as a valid basis for prosecuting insider trading.\\n- It broadened the scope of who could be held liable for insider trading, thereby strengthening the SEC\\'s ability to enforce insider trading laws.\\n\\nFor more detailed information, you can read the full text of the [United States v. O\\'Hagan decision](https://www.law.cornell.edu/supct/html/96-842.ZO.html) on the Legal Information Institute\\'s website.'"
      ]
     },
     "execution_count": 75,
     "metadata": {},
     "output_type": "execute_result"
    }
   ],
   "source": [
    "conversational_agent.invoke_bot(\"What is the most famous US Supreme Court case of insider trading?\")"
   ]
  },
  {
   "cell_type": "code",
   "execution_count": 76,
   "metadata": {},
   "outputs": [
    {
     "data": {
      "text/plain": [
       "'In addition to the \"misappropriation theory\" under Section 10(b) of the Securities Exchange Act of 1934 and Rule 10b-5, which were central to the United States v. O\\'Hagan case, several other federal laws and regulations could potentially be applied in cases of insider trading. Here are some key ones:\\n\\n### 1. Securities Act of 1933\\n- **Section 17(a)**: Prohibits fraud in the offer or sale of securities. Although primarily focused on securities offerings, it can be applied to fraudulent activities related to insider trading.\\n\\n### 2. Securities Exchange Act of 1934\\n- **Section 10(b)**: Prohibits the use of any \"manipulative or deceptive device\" in connection with the purchase or sale of any security.\\n- **Rule 10b-5**: Enacted under Section 10(b), this rule specifically prohibits fraud, misrepresentation, and deceit in securities transactions.\\n- **Section 14(e)**: Prohibits fraudulent, deceptive, or manipulative acts in connection with any tender offer. This could be relevant if the insider trading is related to a tender offer.\\n\\n### 3. Insider Trading Sanctions Act of 1984\\n- This act allows the SEC to seek civil penalties up to three times the profit gained or loss avoided as a result of insider trading.\\n\\n### 4. Insider Trading and Securities Fraud Enforcement Act of 1988\\n- This law further strengthened the penalties and enforcement mechanisms for insider trading, including increasing the maximum prison sentence and fines.\\n\\n### 5. Sarbanes-Oxley Act of 2002\\n- **Section 807**: Provides for criminal penalties for securities fraud, including insider trading.\\n- **Section 302**: Requires senior corporate officers to certify the accuracy of financial statements, which indirectly helps in preventing insider trading by ensuring transparency.\\n\\n### 6. Dodd-Frank Wall Street Reform and Consumer Protection Act of 2010\\n- **Section 922**: Provides for whistleblower incentives and protections, encouraging individuals to report insider trading activities.\\n\\n### 7. 18 U.S.C. § 1348 (Securities and Commodities Fraud)\\n- This criminal statute provides for penalties for securities fraud, including insider trading, with penalties of up to 25 years in prison.\\n\\n### 8. 18 U.S.C. § 371 (Conspiracy to Commit Offense or to Defraud United States)\\n- This statute can be used to prosecute individuals who conspire to commit insider trading or other securities fraud.\\n\\n### 9. Rule 10b5-1\\n- This rule provides a defense for individuals who can show that their trades were planned before they became aware of material non-public information.\\n\\n### Application in United States v. O\\'Hagan\\nIn the O\\'Hagan case, while the primary focus was on Rule 10b-5 and the misappropriation theory, the following additional laws could have been considered:\\n- **Section 17(a) of the Securities Act of 1933**: If the fraudulent activities were related to the offer or sale of securities.\\n- **Section 14(e) of the Securities Exchange Act of 1934**: If the insider trading was connected to a tender offer.\\n- **18 U.S.C. § 1348**: For criminal prosecution of securities fraud.\\n- **18 U.S.C. § 371**: For any conspiracy to commit insider trading.\\n\\nThese laws provide a broad framework to address various aspects of insider trading and securities fraud, ensuring that individuals who engage in such activities can be prosecuted under multiple legal provisions.'"
      ]
     },
     "execution_count": 76,
     "metadata": {},
     "output_type": "execute_result"
    }
   ],
   "source": [
    "conversational_agent.invoke_bot(\"Based on your knowledge of federal laws in the USA related to insider trading, were there any other laws that could have been applied in this case?\")"
   ]
  }
 ],
 "metadata": {
  "kernelspec": {
   "display_name": "llm-practice",
   "language": "python",
   "name": "python3"
  },
  "language_info": {
   "codemirror_mode": {
    "name": "ipython",
    "version": 3
   },
   "file_extension": ".py",
   "mimetype": "text/x-python",
   "name": "python",
   "nbconvert_exporter": "python",
   "pygments_lexer": "ipython3",
   "version": "3.10.14"
  }
 },
 "nbformat": 4,
 "nbformat_minor": 2
}
