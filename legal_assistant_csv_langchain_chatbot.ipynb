{
 "cells": [
  {
   "cell_type": "markdown",
   "metadata": {},
   "source": [
    "# Legal Assistant Bot"
   ]
  },
  {
   "cell_type": "markdown",
   "metadata": {},
   "source": [
    "This chatbot retrieves context from a proprietary data source and the web to answer questions about federal laws in the United States of America (USA).  The proprietary datasource is a CSV file of all federal laws and their revision history in the USA.  The web data required to respond to the user's questions is retrieved using the You.com API.  The chatbot is implemented as an agent in using LangChain and LangGraph."
   ]
  },
  {
   "cell_type": "markdown",
   "metadata": {},
   "source": [
    "## Install all required packages"
   ]
  },
  {
   "cell_type": "code",
   "execution_count": 1,
   "metadata": {},
   "outputs": [],
   "source": [
    "%%capture\n",
    "! pip install langgraph==0.0.59\n",
    "! pip install pandas==2.2.2\n",
    "! pip install openai==1.30.3\n",
    "! pip install langchain==0.2.1\n",
    "! pip install langchain_community==0.2.1\n",
    "! pip install langchain_openai==0.1.7\n",
    "! pip install langchain_text_splitters==0.2.0\n",
    "! pip install langchain_core==0.2.1\n",
    "! pip install numpy==1.26.4\n",
    "! pip install openai==1.30.3\n",
    "! pip install python-dotenv==1.0.1\n",
    "! pip install faiss-cpu==1.8.0"
   ]
  },
  {
   "cell_type": "code",
   "execution_count": 27,
   "metadata": {},
   "outputs": [],
   "source": [
    "%%capture\n",
    "import dotenv\n",
    "dotenv.load_dotenv(\".env\", override=True)"
   ]
  },
  {
   "cell_type": "markdown",
   "metadata": {},
   "source": [
    "## Load in the US Federal Laws dataset and create a vector database representation of this dataset, which will then be converted into a LangChain Retriever and Tool"
   ]
  },
  {
   "cell_type": "code",
   "execution_count": 3,
   "metadata": {},
   "outputs": [
    {
     "data": {
      "text/html": [
       "<div>\n",
       "<style scoped>\n",
       "    .dataframe tbody tr th:only-of-type {\n",
       "        vertical-align: middle;\n",
       "    }\n",
       "\n",
       "    .dataframe tbody tr th {\n",
       "        vertical-align: top;\n",
       "    }\n",
       "\n",
       "    .dataframe thead th {\n",
       "        text-align: right;\n",
       "    }\n",
       "</style>\n",
       "<table border=\"1\" class=\"dataframe\">\n",
       "  <thead>\n",
       "    <tr style=\"text-align: right;\">\n",
       "      <th></th>\n",
       "      <th>row_number</th>\n",
       "      <th>action</th>\n",
       "      <th>Title</th>\n",
       "      <th>sal_volume</th>\n",
       "      <th>sal_page_start</th>\n",
       "      <th>BillCitation</th>\n",
       "      <th>congress_number</th>\n",
       "      <th>chapter</th>\n",
       "      <th>session_number</th>\n",
       "      <th>pl_no</th>\n",
       "      <th>date_of_passage</th>\n",
       "      <th>secondary_date</th>\n",
       "      <th>dates_conflict</th>\n",
       "      <th>Source</th>\n",
       "      <th>URL</th>\n",
       "      <th>alternate_sal_volume</th>\n",
       "      <th>alternate_sal_page_start</th>\n",
       "      <th>has_alternate_sal_citation</th>\n",
       "    </tr>\n",
       "  </thead>\n",
       "  <tbody>\n",
       "    <tr>\n",
       "      <th>0</th>\n",
       "      <td>1</td>\n",
       "      <td>An Act</td>\n",
       "      <td>To regulate the time and manner of administeri...</td>\n",
       "      <td>1</td>\n",
       "      <td>23.0</td>\n",
       "      <td>NaN</td>\n",
       "      <td>1</td>\n",
       "      <td>1.0</td>\n",
       "      <td>1.0</td>\n",
       "      <td>NaN</td>\n",
       "      <td>1789-06-01</td>\n",
       "      <td>NaN</td>\n",
       "      <td>NaN</td>\n",
       "      <td>HeinOnline</td>\n",
       "      <td>NaN</td>\n",
       "      <td>NaN</td>\n",
       "      <td>NaN</td>\n",
       "      <td>False</td>\n",
       "    </tr>\n",
       "    <tr>\n",
       "      <th>1</th>\n",
       "      <td>2</td>\n",
       "      <td>An Act</td>\n",
       "      <td>For laying a duty on goods, wares, and merchan...</td>\n",
       "      <td>1</td>\n",
       "      <td>24.0</td>\n",
       "      <td>NaN</td>\n",
       "      <td>1</td>\n",
       "      <td>2.0</td>\n",
       "      <td>1.0</td>\n",
       "      <td>NaN</td>\n",
       "      <td>1789-07-04</td>\n",
       "      <td>NaN</td>\n",
       "      <td>NaN</td>\n",
       "      <td>HeinOnline</td>\n",
       "      <td>NaN</td>\n",
       "      <td>NaN</td>\n",
       "      <td>NaN</td>\n",
       "      <td>False</td>\n",
       "    </tr>\n",
       "    <tr>\n",
       "      <th>2</th>\n",
       "      <td>3</td>\n",
       "      <td>An Act</td>\n",
       "      <td>Imposing duties on tonnage.</td>\n",
       "      <td>1</td>\n",
       "      <td>27.0</td>\n",
       "      <td>NaN</td>\n",
       "      <td>1</td>\n",
       "      <td>3.0</td>\n",
       "      <td>1.0</td>\n",
       "      <td>NaN</td>\n",
       "      <td>1789-07-20</td>\n",
       "      <td>NaN</td>\n",
       "      <td>NaN</td>\n",
       "      <td>HeinOnline</td>\n",
       "      <td>NaN</td>\n",
       "      <td>NaN</td>\n",
       "      <td>NaN</td>\n",
       "      <td>False</td>\n",
       "    </tr>\n",
       "    <tr>\n",
       "      <th>3</th>\n",
       "      <td>4</td>\n",
       "      <td>An Act</td>\n",
       "      <td>For establishing an executive department to be...</td>\n",
       "      <td>1</td>\n",
       "      <td>28.0</td>\n",
       "      <td>NaN</td>\n",
       "      <td>1</td>\n",
       "      <td>4.0</td>\n",
       "      <td>1.0</td>\n",
       "      <td>NaN</td>\n",
       "      <td>1789-07-27</td>\n",
       "      <td>NaN</td>\n",
       "      <td>NaN</td>\n",
       "      <td>HeinOnline</td>\n",
       "      <td>NaN</td>\n",
       "      <td>NaN</td>\n",
       "      <td>NaN</td>\n",
       "      <td>False</td>\n",
       "    </tr>\n",
       "    <tr>\n",
       "      <th>4</th>\n",
       "      <td>5</td>\n",
       "      <td>An Act</td>\n",
       "      <td>To regulate the collection of the duties impos...</td>\n",
       "      <td>1</td>\n",
       "      <td>29.0</td>\n",
       "      <td>NaN</td>\n",
       "      <td>1</td>\n",
       "      <td>5.0</td>\n",
       "      <td>1.0</td>\n",
       "      <td>NaN</td>\n",
       "      <td>1789-07-31</td>\n",
       "      <td>NaN</td>\n",
       "      <td>NaN</td>\n",
       "      <td>HeinOnline</td>\n",
       "      <td>NaN</td>\n",
       "      <td>NaN</td>\n",
       "      <td>NaN</td>\n",
       "      <td>False</td>\n",
       "    </tr>\n",
       "  </tbody>\n",
       "</table>\n",
       "</div>"
      ],
      "text/plain": [
       "   row_number  action                                              Title  \\\n",
       "0           1  An Act  To regulate the time and manner of administeri...   \n",
       "1           2  An Act  For laying a duty on goods, wares, and merchan...   \n",
       "2           3  An Act                        Imposing duties on tonnage.   \n",
       "3           4  An Act  For establishing an executive department to be...   \n",
       "4           5  An Act  To regulate the collection of the duties impos...   \n",
       "\n",
       "   sal_volume  sal_page_start BillCitation  congress_number  chapter  \\\n",
       "0           1            23.0          NaN                1      1.0   \n",
       "1           1            24.0          NaN                1      2.0   \n",
       "2           1            27.0          NaN                1      3.0   \n",
       "3           1            28.0          NaN                1      4.0   \n",
       "4           1            29.0          NaN                1      5.0   \n",
       "\n",
       "   session_number pl_no date_of_passage secondary_date dates_conflict  \\\n",
       "0             1.0   NaN      1789-06-01            NaN            NaN   \n",
       "1             1.0   NaN      1789-07-04            NaN            NaN   \n",
       "2             1.0   NaN      1789-07-20            NaN            NaN   \n",
       "3             1.0   NaN      1789-07-27            NaN            NaN   \n",
       "4             1.0   NaN      1789-07-31            NaN            NaN   \n",
       "\n",
       "       Source  URL  alternate_sal_volume  alternate_sal_page_start  \\\n",
       "0  HeinOnline  NaN                   NaN                       NaN   \n",
       "1  HeinOnline  NaN                   NaN                       NaN   \n",
       "2  HeinOnline  NaN                   NaN                       NaN   \n",
       "3  HeinOnline  NaN                   NaN                       NaN   \n",
       "4  HeinOnline  NaN                   NaN                       NaN   \n",
       "\n",
       "   has_alternate_sal_citation  \n",
       "0                       False  \n",
       "1                       False  \n",
       "2                       False  \n",
       "3                       False  \n",
       "4                       False  "
      ]
     },
     "execution_count": 3,
     "metadata": {},
     "output_type": "execute_result"
    }
   ],
   "source": [
    "# Let's take a look at our CSV dataset first\n",
    "import pandas as pd\n",
    "\n",
    "# The CSV file can be downloaded from: https://www.nature.com/articles/s41597-023-02758-z#Sec3\n",
    "df = pd.read_csv(\"us_laws_dataset.csv\")\n",
    "\n",
    "df.head()"
   ]
  },
  {
   "cell_type": "code",
   "execution_count": 4,
   "metadata": {},
   "outputs": [],
   "source": [
    "import openai\n",
    "import langchain\n",
    "import os"
   ]
  },
  {
   "cell_type": "code",
   "execution_count": 8,
   "metadata": {},
   "outputs": [],
   "source": [
    "os.environ[\"YDC_API_KEY\"] = \"<Insert your YDC API key here>\"\n",
    "os.environ[\"OPENAI_API_KEY\"] = \"<Insert your Open AI API key here>\""
   ]
  },
  {
   "cell_type": "code",
   "execution_count": 9,
   "metadata": {},
   "outputs": [],
   "source": [
    "from langchain_community.document_loaders.csv_loader import CSVLoader\n",
    "\n",
    "# The CSV file can be downloaded from: https://www.nature.com/articles/s41597-023-02758-z#Sec3\n",
    "loader = CSVLoader(file_path = \"us_laws_dataset.csv\")\n",
    "\n",
    "data = loader.load()"
   ]
  },
  {
   "cell_type": "code",
   "execution_count": 10,
   "metadata": {},
   "outputs": [],
   "source": [
    "from langchain_community.vectorstores import FAISS\n",
    "from langchain_openai import OpenAIEmbeddings\n",
    "from langchain.text_splitter import RecursiveCharacterTextSplitter\n",
    "\n",
    "# split the document into chunks, and vectorize these chunks in a FAISS database\n",
    "text_splitter = RecursiveCharacterTextSplitter(chunk_size = 1000, chunk_overlap = 100)\n",
    "docs = text_splitter.split_documents(data)\n",
    "embeddings = OpenAIEmbeddings()\n",
    "db = FAISS.from_documents(documents=docs, embedding=embeddings)"
   ]
  },
  {
   "cell_type": "code",
   "execution_count": 11,
   "metadata": {},
   "outputs": [
    {
     "data": {
      "text/plain": [
       "[Document(page_content='row_number: 1885\\naction: An Act\\nTitle: In addition to the act, entitled \"An act for the prompt settlement of public accounts,\" and for the punishment of the crime of perjury\\nsal_volume: 3\\nsal_page_start: 770\\nBillCitation: NA\\ncongress_number: 17\\nchapter: 37\\nsession_number: 2\\npl_no: NA\\ndate_of_passage: 1823-03-01\\nsecondary_date: NA\\ndates_conflict: NA\\nSource: HeinOnline\\nURL: NA\\nalternate_sal_volume: NA\\nalternate_sal_page_start: NA\\nhas_alternate_sal_citation: FALSE', metadata={'source': 'us_laws_dataset.csv', 'row': 1884}),\n",
       " Document(page_content='row_number: 38724\\naction: An Act\\nTitle: An act to permit the use of unsworn declarations under penalty of perjury as evidence in Federal proceedings\\nsal_volume: 90\\nsal_page_start: 2534\\nBillCitation: H.R. 15531\\ncongress_number: 94\\nchapter: NA\\nsession_number: 2\\npl_no: 94-550\\ndate_of_passage: 1976-10-18\\nsecondary_date: NA\\ndates_conflict: FALSE\\nSource: NA\\nURL: https://www.govinfo.gov/content/pkg/STATUTE-90/pdf/STATUTE-90-Pg2534.pdf\\nalternate_sal_volume: 90\\nalternate_sal_page_start: 2534\\nhas_alternate_sal_citation: TRUE', metadata={'source': 'us_laws_dataset.csv', 'row': 38720}),\n",
       " Document(page_content='row_number: 44400\\naction: An Act\\nTitle: An act to amend title 18, United States Code, with respect to witness retaliation, witness tampering and jury tampering\\nsal_volume: 110\\nsal_page_start: 3017\\nBillCitation: H.R. 3120\\ncongress_number: 104\\nchapter: NA\\nsession_number: 2\\npl_no: 104-214\\ndate_of_passage: 1996-10-01\\nsecondary_date: NA\\ndates_conflict: FALSE\\nSource: NA\\nURL: https://www.govinfo.gov/content/pkg/STATUTE-110/pdf/STATUTE-110-Pg3017.pdf\\nalternate_sal_volume: 110\\nalternate_sal_page_start: 3017\\nhas_alternate_sal_citation: TRUE', metadata={'source': 'us_laws_dataset.csv', 'row': 44396})]"
      ]
     },
     "execution_count": 11,
     "metadata": {},
     "output_type": "execute_result"
    }
   ],
   "source": [
    "# test out the similarity search\n",
    "query = \"What laws and amendments relate to perjury?\"\n",
    "response = db.similarity_search(query, k=10)\n",
    "# let's look at the first 3 retrieved docs\n",
    "response[:3]"
   ]
  },
  {
   "cell_type": "code",
   "execution_count": 12,
   "metadata": {},
   "outputs": [],
   "source": [
    "from langchain.tools.retriever import create_retriever_tool\n",
    "\n",
    "# convert this retriver into a tool\n",
    "db_retriever = db.as_retriever()\n",
    "db_retriever_tool = create_retriever_tool(\n",
    "    db_retriever,\n",
    "    name = \"law_dataset_retriever\",\n",
    "    description = \"Retrieve relevant context from the US laws dataset.\"\n",
    ")"
   ]
  },
  {
   "cell_type": "markdown",
   "metadata": {},
   "source": [
    "## Instantiating the You.com Tool in Langchain"
   ]
  },
  {
   "cell_type": "markdown",
   "metadata": {},
   "source": [
    "LangChain provides a wrapper around the You.com API and a You.com Tool.  For more information, please visit: https://python.langchain.com/v0.1/docs/integrations/tools/you/"
   ]
  },
  {
   "cell_type": "code",
   "execution_count": 13,
   "metadata": {},
   "outputs": [],
   "source": [
    "from langchain_community.tools.you import YouSearchTool\n",
    "from langchain_community.utilities.you import YouSearchAPIWrapper\n",
    "\n",
    "api_wrapper = YouSearchAPIWrapper(num_web_results = 10)\n",
    "ydc_tool = YouSearchTool(api_wrapper=api_wrapper)"
   ]
  },
  {
   "cell_type": "code",
   "execution_count": 14,
   "metadata": {},
   "outputs": [
    {
     "data": {
      "text/plain": [
       "[Document(page_content='Meijer, Inc. v. Ferring B.V.; Ferring Pharmaceuticals, Inc.; and Aventis Pharmaceuticals [In Re: DDAVP Direct Purchaser Antitrust Litigation] U.S. v. Memphis Board of Realtors', metadata={'url': 'https://www.justice.gov/atr/antitrust-case-filings-alpha', 'thumbnail_url': None, 'title': 'Antitrust Division | Antitrust Case Filings | United States Department of Justice', 'description': 'An official website of the United States government · Official websites use .gov A .gov website belongs to an official government organization in the United States'}),\n",
       " Document(page_content=\"Dentsply International, Inc. v. Antitrust Division of the United States Department of Justice · U.S. v. Freddy Deoliveira · U.S. v. Wilhelm DerMinassian · U.S. v. Eric Descouraux · Leinani Deslandes, Stephanie Turner, et al. v. McDonald's USA, LLC, et al.\", metadata={'url': 'https://www.justice.gov/atr/antitrust-case-filings-alpha', 'thumbnail_url': None, 'title': 'Antitrust Division | Antitrust Case Filings | United States Department of Justice', 'description': 'An official website of the United States government · Official websites use .gov A .gov website belongs to an official government organization in the United States'}),\n",
       " Document(page_content='U.S. v. Arden-Mayfair, Inc., Matanuska Maid, Inc.; and Meadowmoor Alaska Dairy, Inc. U.S. v. Argos USA LLC, f.k.a. Argos Ready Mix LLC', metadata={'url': 'https://www.justice.gov/atr/antitrust-case-filings-alpha', 'thumbnail_url': None, 'title': 'Antitrust Division | Antitrust Case Filings | United States Department of Justice', 'description': 'An official website of the United States government · Official websites use .gov A .gov website belongs to an official government organization in the United States'})]"
      ]
     },
     "execution_count": 14,
     "metadata": {},
     "output_type": "execute_result"
    }
   ],
   "source": [
    "# test out the You.com search tool\n",
    "response = ydc_tool.invoke(\"Tell me about a recent high-profile case related to antitrust in the USA?\")\n",
    "# let's look at the first 3 results\n",
    "response[:3]"
   ]
  },
  {
   "cell_type": "markdown",
   "metadata": {},
   "source": [
    "## Instantiate our LLM"
   ]
  },
  {
   "cell_type": "code",
   "execution_count": 15,
   "metadata": {},
   "outputs": [],
   "source": [
    "from langchain_openai import ChatOpenAI\n",
    "\n",
    "llm = ChatOpenAI(model=\"gpt-4o\", temperature=0.5)"
   ]
  },
  {
   "cell_type": "markdown",
   "metadata": {},
   "source": [
    "## Tying it all together"
   ]
  },
  {
   "cell_type": "code",
   "execution_count": 16,
   "metadata": {},
   "outputs": [],
   "source": [
    "from langgraph.prebuilt import chat_agent_executor\n",
    "from langgraph.checkpoint import MemorySaver\n",
    "\n",
    "# Create a checkpointer to use memory\n",
    "memory = MemorySaver()\n",
    "# the vector store representation of the CSV dataset and the You.com Search tool will both be passed as tools to the agent\n",
    "tools = [db_retriever_tool, ydc_tool]\n",
    "agent_executor = chat_agent_executor.create_tool_calling_executor(llm, tools, checkpointer=memory)"
   ]
  },
  {
   "cell_type": "markdown",
   "metadata": {},
   "source": [
    "## Let's try it out!"
   ]
  },
  {
   "cell_type": "code",
   "execution_count": 25,
   "metadata": {},
   "outputs": [
    {
     "data": {
      "text/plain": [
       "'### US Laws Pertaining to Perjury\\n\\nIn the United States, perjury is governed by several federal statutes and legal precedents. Here are the primary laws that pertain to perjury:\\n\\n1. **18 U.S. Code § 1621 - Perjury Generally**\\n   - **Definition**: This statute makes it a crime to willfully make false statements under oath in any case where an oath is authorized by U.S. law.\\n   - **Penalties**: Perjury under this statute is classified as a felony and can result in a fine or imprisonment for up to five years, or both.\\n   - **Elements**: The elements of perjury include taking an oath, willfully making a false statement, believing the statement to be untrue, and the statement relating to a material fact.\\n   - [18 U.S. Code § 1621 - Perjury generally](https://www.law.cornell.edu/uscode/text/18/1621)\\n\\n2. **18 U.S. Code § 1622 - Subornation of Perjury**\\n   - **Definition**: This statute makes it a crime to persuade or induce another person to commit perjury.\\n   - **Penalties**: The penalties for subornation of perjury are the same as for perjury itself.\\n\\n3. **18 U.S. Code § 1623 - False Declarations Before Grand Jury or Court**\\n   - **Definition**: This statute addresses knowingly making false material declarations under oath before a grand jury or court.\\n   - **Recantation**: It includes provisions allowing a person to recant their false statement under certain conditions without penalty.\\n   - [18 U.S. Code § 1623 - False declarations before grand jury or court](https://www.law.cornell.edu/uscode/text/18/1623)\\n\\n4. **Obstruction of Justice (18 U.S. Code § 1503)**\\n   - **Definition**: This statute makes it a crime to corruptly influence, obstruct, or impede the due administration of justice.\\n   - **Relevance**: Perjury can sometimes be prosecuted under this statute if it is part of a broader effort to obstruct justice.\\n\\n5. **Contempt of Court**\\n   - **Definition**: Courts have inherent authority to hold individuals in contempt for actions that show disrespect for the court or disrupt its proceedings.\\n   - **Relevance**: Contempt charges can be used to address behavior that undermines the court\\'s authority, including false statements.\\n\\n### Recent Case Related to Perjury\\n\\nA recent notable case involving perjury is the case of **Craig German**, a North Carolina man who was previously convicted for conspiring to steal trade secrets from aircraft manufacturing companies. He faced additional prison time after being convicted of perjury in his prior case.\\n\\n#### Case Details:\\n- **Defendant**: Craig German, 60, of Kernersville, N.C.\\n- **Charges**: Perjury and False Statements to a Government Agency\\n- **Court**: U.S. District Court, Southern District of Georgia\\n- **Facts**: German was found guilty of committing perjury during the sentencing portion of his prior case when he testified under oath and denied copying more than 15,000 proprietary engineering drawings and documents onto a removable storage device while employed at an aircraft manufacturing company.\\n- **Investigation**: The case was investigated by the FBI.\\n- **Prosecution**: The case was prosecuted by Assistant U.S. Attorneys Jennifer G. Solari and Steven H. Lee.\\n- **Outcome**: German was convicted on charges of perjury and false statements to a government agency after a three-day jury trial.\\n\\n#### Statements:\\n- **Chris Hacker, Special Agent in Charge of FBI Atlanta**: \"Not only did German engage in illegal and deceptive practices to steal trade secrets, but he also blatantly committed perjury. The FBI will not tolerate anyone who tries to deceive the justice system.\"\\n\\n#### Source:\\n- [Southern District of Georgia | Jury finds North Carolina man guilty for lying during sentencing in previous case involving theft of company’s trade secrets](https://www.justice.gov/usao-sdga/pr/jury-finds-north-carolina-man-guilty-lying-during-sentencing-previous-case-involving)\\n\\nThis case underscores the seriousness with which the U.S. legal system treats perjury and the potential for significant additional penalties when perjury is committed in the context of other criminal activities.'"
      ]
     },
     "execution_count": 25,
     "metadata": {},
     "output_type": "execute_result"
    }
   ],
   "source": [
    "agent_executor.invoke(input={\"messages\": \"What laws in the US pertain to perjury and is there a recent case in the US that relates to a violation of these laws?\"}, config={\"configurable\": {\"thread_id\": \"xyz_789\"}})[\"messages\"][-1].content"
   ]
  },
  {
   "cell_type": "code",
   "execution_count": 18,
   "metadata": {},
   "outputs": [
    {
     "data": {
      "text/plain": [
       "'One of the most famous U.S. Supreme Court cases involving perjury is **Bronston v. United States, 409 U.S. 352 (1973)**. This case is seminal because it set a significant precedent regarding the interpretation of the federal perjury statute.\\n\\n### Bronston v. United States (1973)\\n\\n#### Case Summary:\\n- **Facts**: Samuel Bronston, the president of a film production company, was questioned under oath during a bankruptcy proceeding. He was asked about his personal bank accounts in Switzerland. Bronston\\'s answers were technically true but misleading. He stated that his company had an account in Switzerland, but did not mention his personal account there.\\n- **Legal Issue**: The issue was whether Bronston\\'s misleading but literally true statements could be prosecuted under the federal perjury statute (18 U.S.C. § 1621).\\n- **Supreme Court Decision**: The Supreme Court unanimously held that literally true statements, even if misleading, do not constitute perjury under the federal statute. The Court emphasized that it is the responsibility of the questioner to ask precise questions and follow up on ambiguous answers.\\n\\n#### Key Points:\\n- **Literal Truth Defense**: The Court ruled that perjury cannot be based on statements that are literally true, even if they are intended to mislead. This established what is known as the \"literal truth\" defense.\\n- **Responsibility of Questioners**: The decision placed the burden on lawyers and questioners to ask clear and precise questions and to probe further if they suspect evasion.\\n- **Impact**: This case has been cited in numerous subsequent cases and remains a cornerstone in the interpretation of perjury laws in the United States.\\n\\n#### Notable Quotes:\\n- Chief Justice Warren Burger wrote for the unanimous Court: \"Precise questioning is imperative as a predicate for the offense of perjury.\"\\n\\n#### Significance:\\n- **Legal Precedent**: Bronston v. United States is frequently cited in legal arguments and court decisions involving perjury. It has influenced how courts interpret what constitutes a false statement under oath.\\n- **Public Awareness**: The case highlights the importance of careful and precise questioning in legal proceedings, impacting both legal professionals and the general public\\'s understanding of perjury.\\n\\n#### Further Reading:\\n- [Bronston v. United States - Wikipedia](https://en.wikipedia.org/wiki/Bronston_v._United_States)\\n- [Supreme Court Opinion - Justia](https://supreme.justia.com/cases/federal/us/409/352/)\\n\\nThis case remains a landmark decision in U.S. perjury law and continues to shape the legal landscape regarding what constitutes perjury and the responsibilities of legal practitioners in court proceedings.'"
      ]
     },
     "execution_count": 18,
     "metadata": {},
     "output_type": "execute_result"
    }
   ],
   "source": [
    "agent_executor.invoke(input={\"messages\": \"What is the most famous US Supreme Court perjury case?\"}, config={\"configurable\": {\"thread_id\": \"xyz_789\"}})[\"messages\"][-1].content"
   ]
  },
  {
   "cell_type": "code",
   "execution_count": 19,
   "metadata": {},
   "outputs": [
    {
     "data": {
      "text/plain": [
       "'In the case of **Bronston v. United States**, the primary legal issue revolved around the interpretation of the federal perjury statute, specifically 18 U.S.C. § 1621. However, considering the nature of Bronston\\'s testimony and the broader context of perjury laws in the U.S., there are a few other statutes and legal principles that might have been relevant or could have been considered:\\n\\n### 1. **False Declarations Before Grand Jury or Court (18 U.S.C. § 1623)**\\n- **Overview**: This statute addresses knowingly making false material declarations under oath before a grand jury or court.\\n- **Relevance**: While Bronston\\'s statements were literally true, if it could have been shown that he knowingly made a false material declaration in a more straightforward manner, § 1623 might have been applicable. However, this statute also requires the false statement to be unambiguous.\\n\\n### 2. **Obstruction of Justice (18 U.S.C. § 1503)**\\n- **Overview**: This statute makes it a crime to corruptly influence, obstruct, or impede the due administration of justice.\\n- **Relevance**: If Bronston\\'s misleading statements were part of a broader effort to obstruct the bankruptcy proceedings or mislead the court, prosecutors might have considered charging him under this statute. However, proving obstruction requires demonstrating a corrupt intent to interfere with the judicial process.\\n\\n### 3. **Contempt of Court**\\n- **Overview**: Courts have inherent authority to hold individuals in contempt for actions that show disrespect for the court or disrupt its proceedings.\\n- **Relevance**: If Bronston\\'s behavior was deemed to be contemptuous, the court could have imposed sanctions for contempt. This would not be a perjury charge per se, but it addresses the conduct that undermines the court\\'s authority.\\n\\n### 4. **Subornation of Perjury (18 U.S.C. § 1622)**\\n- **Overview**: This statute makes it a crime to persuade another person to commit perjury.\\n- **Relevance**: If there had been evidence that someone else had persuaded Bronston to make misleading statements, that individual could have been charged under this statute. This would not directly apply to Bronston unless he was involved in persuading someone else to lie.\\n\\n### Legal Principles and Case Law:\\n- **Literal Truth Doctrine**: The Supreme Court\\'s decision in Bronston v. United States established the \"literal truth\" doctrine, which holds that literally true but misleading statements do not constitute perjury. This principle significantly influenced the outcome of Bronston\\'s case.\\n- **Duty to Clarify**: The Court emphasized that it is the responsibility of the questioner to ask precise and clear questions. This principle underscores the importance of careful questioning in legal proceedings.\\n\\n### Application in Bronston\\'s Case:\\nGiven the specifics of Bronston\\'s testimony and the Supreme Court\\'s interpretation of the perjury statute, it is unlikely that other perjury-related statutes would have changed the outcome. The key issue was the literal truth of Bronston\\'s statements, and the Court\\'s ruling focused on the need for precise questioning.\\n\\nHowever, if there had been additional evidence of intent to obstruct justice or if Bronston\\'s statements had been part of a broader scheme to mislead the court, other statutes like obstruction of justice or contempt of court might have been considered. Ultimately, the Bronston case serves as a critical example of the limitations and requirements of perjury laws in the U.S. legal system.'"
      ]
     },
     "execution_count": 19,
     "metadata": {},
     "output_type": "execute_result"
    }
   ],
   "source": [
    "agent_executor.invoke(input={\"messages\": \"Based on your knowledge of all laws in the US pertaining to perjury, were there any other laws that could have been applied in this case?\"}, config={\"configurable\": {\"thread_id\": \"xyz_789\"}})[\"messages\"][-1].content"
   ]
  },
  {
   "cell_type": "markdown",
   "metadata": {},
   "source": [
    "## Let's create a Python class that encapsulates the code above.  This will enable users to easily create chatbots for new use cases with custom CSV datasets"
   ]
  },
  {
   "cell_type": "code",
   "execution_count": 30,
   "metadata": {},
   "outputs": [],
   "source": [
    "import secrets\n",
    "\n",
    "class CSV_QA_Bot:\n",
    "    def __init__(self, llm: ChatOpenAI, csv_files: list[str], num_web_results_to_fetch: int = 10):\n",
    "        self._llm = llm\n",
    "        \n",
    "        docs = self._load_csv_files(csv_files)\n",
    "        \n",
    "        # split the docs into chunks, vectorize the chunks and load them into a vector store\n",
    "        db = self._create_vector_store(docs)\n",
    "        \n",
    "        # create a retriever from the vector store\n",
    "        self._faiss_retriever = db.as_retriever()\n",
    "        \n",
    "        # convert this retriever into a Langchain tool\n",
    "        self._faiss_retriever_tool = create_retriever_tool(\n",
    "            self._faiss_retriever,\n",
    "            name = \"custom_dataset_retriever\",\n",
    "            description = \"Retrieve relevant context from custom dataset.\"\n",
    "        )\n",
    "        \n",
    "        # instantiate the YDC search tool in Langchain\n",
    "        self._ydc_api_wrapper = YouSearchAPIWrapper(num_web_results=num_web_results_to_fetch)\n",
    "        self._ydc_search_tool = YouSearchTool(api_wrapper=self._ydc_api_wrapper)\n",
    "        \n",
    "        \n",
    "        # create a list of tools that will be supplied to the Langchain agent\n",
    "        self._tools = [self._faiss_retriever_tool, self._ydc_search_tool]\n",
    "        \n",
    "        # Create a checkpointer to use memory\n",
    "        self._memory = MemorySaver()\n",
    "        \n",
    "        # create the agent executor\n",
    "        self._agent_executor = chat_agent_executor.create_tool_calling_executor(self._llm, self._tools, checkpointer=self._memory)\n",
    "        \n",
    "        # generate a thread ID for to keep track of conversation history\n",
    "        self._thread_id = self._generate_thread_id()\n",
    "\n",
    "    def _load_csv_files(self, csv_files: list[str]) -> list:\n",
    "        docs = []\n",
    "        for file in csv_files:\n",
    "            data_loader = CSVLoader(file)\n",
    "            docs.extend(data_loader.load())\n",
    "        return docs\n",
    "    \n",
    "    def _create_vector_store(self, docs: list) -> FAISS:\n",
    "        text_splitter = RecursiveCharacterTextSplitter(chunk_size = 1000, chunk_overlap = 100)\n",
    "        chunked_docs = text_splitter.split_documents(docs)\n",
    "        embeddings = OpenAIEmbeddings()\n",
    "        return FAISS.from_documents(documents=chunked_docs, embedding=embeddings)\n",
    "\n",
    "    def _generate_thread_id(self) -> str:\n",
    "        thread_id = secrets.token_urlsafe(16)\n",
    "        return thread_id\n",
    "    \n",
    "    def invoke_bot(self, input_str: str) -> str:\n",
    "        input = {\"messages\": input_str}\n",
    "        config = {\"configurable\": {\"thread_id\": self._thread_id}}\n",
    "        output = self._agent_executor.invoke(input=input, config=config)[\"messages\"][-1].content\n",
    "        return output"
   ]
  },
  {
   "cell_type": "markdown",
   "metadata": {},
   "source": [
    "## Let's try it out!"
   ]
  },
  {
   "cell_type": "code",
   "execution_count": 31,
   "metadata": {},
   "outputs": [],
   "source": [
    "conversational_agent = CSV_QA_Bot(llm, csv_files=[\"us_laws_dataset.csv\"])"
   ]
  },
  {
   "cell_type": "code",
   "execution_count": 32,
   "metadata": {},
   "outputs": [
    {
     "data": {
      "text/plain": [
       "\"### Key Antitrust Laws in the United States\\n\\n1. **Sherman Antitrust Act (1890)**:\\n   - **Section 1**: Prohibits contracts, combinations, or conspiracies that restrain trade.\\n   - **Section 2**: Prohibits monopolization, attempts to monopolize, or conspiracies to monopolize.\\n\\n2. **Clayton Antitrust Act (1914)**:\\n   - Addresses specific practices that the Sherman Act does not clearly prohibit, such as mergers and interlocking directorates.\\n   - **Section 7**: Prohibits mergers and acquisitions where the effect may be substantially to lessen competition or to tend to create a monopoly.\\n   - **Section 3**: Prohibits exclusive dealing and tying arrangements that may harm competition.\\n\\n3. **Federal Trade Commission Act (1914)**:\\n   - Established the Federal Trade Commission (FTC).\\n   - **Section 5**: Prohibits unfair methods of competition and unfair or deceptive acts or practices.\\n\\n4. **Robinson-Patman Act (1936)**:\\n   - Prohibits anticompetitive practices by producers, specifically price discrimination.\\n\\n### Recent Antitrust Case in the USA\\n\\nOne of the recent significant antitrust cases in the USA is **United States v. Google LLC**. Here are some details:\\n\\n- **Filed by**: United States Department of Justice (DOJ)\\n- **Date**: January 24, 2023\\n- **Accusation**: Google is accused of illegally monopolizing the advertising technology (adtech) market in violation of sections 1 and 2 of the Sherman Antitrust Act.\\n- **Claims**: The suit claims that Google engaged in anticompetitive and exclusionary practices to maintain its monopoly in the adtech market.\\n- **Current Status**: The case is ongoing, with significant developments including Google's request to move the lawsuit from the District Court for the Eastern District of Virginia to New York being denied.\\n\\nFor more details, you can refer to the [Wikipedia page on United States v. Google LLC (2023)](https://en.wikipedia.org/wiki/United_States_v._Google_LLC_(2023)).\\n\\nAdditionally, there are other ongoing antitrust cases against big tech companies such as Alphabet, Amazon, Apple, Meta, and Microsoft, which are being closely monitored. You can find more information about these cases in the [Quartz article on ongoing big tech antitrust cases in 2023](https://qz.com/antitrust-cases-big-tech-2023-guide-1849995493).\""
      ]
     },
     "execution_count": 32,
     "metadata": {},
     "output_type": "execute_result"
    }
   ],
   "source": [
    "conversational_agent.invoke_bot(\"What laws in the US pertain to anti-trust and is there a recent case in the USA that pertains to violations of these laws?\")"
   ]
  },
  {
   "cell_type": "code",
   "execution_count": 33,
   "metadata": {},
   "outputs": [
    {
     "data": {
      "text/plain": [
       "'One of the most famous U.S. Supreme Court antitrust cases is **Standard Oil Co. of New Jersey v. United States (1911)**.\\n\\n### Standard Oil Co. of New Jersey v. United States (1911)\\n\\n#### Background:\\n- **Company**: Standard Oil Company, founded by John D. Rockefeller, was the largest oil refiner in the world at the time.\\n- **Accusation**: The federal government accused Standard Oil of engaging in monopolistic practices and violating the Sherman Antitrust Act by maintaining a monopoly through a series of abusive and anticompetitive actions.\\n\\n#### Key Points:\\n- **Decision Date**: May 15, 1911\\n- **Court\\'s Ruling**: The Supreme Court ruled that Standard Oil had indeed violated the Sherman Antitrust Act.\\n- **Outcome**: The Court ordered the dissolution of Standard Oil into 34 independent companies. This decision was based on the \"rule of reason\" standard, which evaluates whether a business practice unreasonably restrains trade.\\n\\n#### Significance:\\n- **Impact**: The case set a precedent for the application of the Sherman Antitrust Act and the \"rule of reason\" standard in antitrust cases.\\n- **Legacy**: The breakup of Standard Oil led to the creation of several major oil companies that still exist today, such as ExxonMobil, Chevron, and ConocoPhillips.\\n\\nThe Standard Oil case is often cited as a landmark decision in antitrust law and remains one of the most influential antitrust cases in U.S. history.'"
      ]
     },
     "execution_count": 33,
     "metadata": {},
     "output_type": "execute_result"
    }
   ],
   "source": [
    "conversational_agent.invoke_bot(\"What is the most famous US Supreme Court anti-trust case?\")"
   ]
  },
  {
   "cell_type": "code",
   "execution_count": 34,
   "metadata": {},
   "outputs": [
    {
     "data": {
      "text/plain": [
       "\"The **Standard Oil Co. of New Jersey v. United States (1911)** case primarily relied on the Sherman Antitrust Act of 1890. However, other antitrust laws that could potentially have been applied or considered in similar contexts include:\\n\\n### 1. **Clayton Antitrust Act (1914)**\\n   - **Section 2**: Addresses price discrimination, which could be relevant if Standard Oil was found to be selling the same product to different buyers at different prices in a way that lessened competition.\\n   - **Section 3**: Prohibits exclusive dealing and tying arrangements that may harm competition.\\n   - **Section 7**: Prohibits mergers and acquisitions where the effect may be substantially to lessen competition or to tend to create a monopoly.\\n   - **Section 8**: Prohibits interlocking directorates (i.e., the same person making business decisions for competing companies).\\n\\n### 2. **Federal Trade Commission Act (1914)**\\n   - **Section 5**: Prohibits unfair methods of competition and unfair or deceptive acts or practices. The Federal Trade Commission (FTC) could have investigated and acted against Standard Oil's practices if they were deemed unfair or deceptive.\\n\\n### 3. **Robinson-Patman Act (1936)**\\n   - Although enacted after the Standard Oil case, this act addresses price discrimination more explicitly and could have been relevant if similar issues arose later. It prohibits certain forms of price discrimination that harm competition.\\n\\n### Hypothetical Application:\\n\\n- **Clayton Act**: If Standard Oil engaged in mergers and acquisitions that substantially lessened competition, Section 7 of the Clayton Act would have been a strong basis for action. Similarly, if Standard Oil used exclusive dealing contracts to maintain its monopoly, Section 3 could have been applied.\\n  \\n- **FTC Act**: The FTC could have used Section 5 to investigate and challenge Standard Oil's business practices if they were found to be unfair or deceptive, complementing the Sherman Act's broader antitrust provisions.\\n\\n### Conclusion:\\nWhile the Sherman Antitrust Act was the primary tool used in the Standard Oil case, the Clayton Act and the FTC Act provide additional mechanisms to address various anticompetitive practices. These laws offer a more detailed and specific framework for dealing with issues such as price discrimination, exclusive dealing, and unfair competition, which could have been relevant depending on the specific practices of Standard Oil.\""
      ]
     },
     "execution_count": 34,
     "metadata": {},
     "output_type": "execute_result"
    }
   ],
   "source": [
    "conversational_agent.invoke_bot(\"Based on your knowledge of all laws in the USA relating to anti-trust, were there any other laws that could have been applied in this case?\")"
   ]
  }
 ],
 "metadata": {
  "kernelspec": {
   "display_name": "llm-practice",
   "language": "python",
   "name": "python3"
  },
  "language_info": {
   "codemirror_mode": {
    "name": "ipython",
    "version": 3
   },
   "file_extension": ".py",
   "mimetype": "text/x-python",
   "name": "python",
   "nbconvert_exporter": "python",
   "pygments_lexer": "ipython3",
   "version": "3.10.14"
  }
 },
 "nbformat": 4,
 "nbformat_minor": 2
}
