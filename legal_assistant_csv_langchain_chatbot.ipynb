{
 "cells": [
  {
   "cell_type": "markdown",
   "metadata": {},
   "source": [
    "# Legal Assistant Bot"
   ]
  },
  {
   "cell_type": "markdown",
   "metadata": {},
   "source": [
    "This chatbot retrieves context from a proprietary data source and the web to answer questions about federal laws in the United States of America (USA).  The proprietary datasource is a CSV file of all federal laws and their revision history in the USA.  The web data required to respond to the user's questions is retrieved using the You.com API.  The chatbot is implemented as an agent in using LangChain and LangGraph."
   ]
  },
  {
   "cell_type": "markdown",
   "metadata": {},
   "source": [
    "## Install all required packages"
   ]
  },
  {
   "cell_type": "code",
   "execution_count": 1,
   "metadata": {},
   "outputs": [],
   "source": [
    "%%capture\n",
    "! pip install langgraph==0.0.59\n",
    "! pip install pandas==2.2.2\n",
    "! pip install openai==1.30.3\n",
    "! pip install langchain==0.2.1\n",
    "! pip install langchain_community==0.2.1\n",
    "! pip install langchain_openai==0.1.7\n",
    "! pip install langchain_text_splitters==0.2.0\n",
    "! pip install langchain_core==0.2.1\n",
    "! pip install numpy==1.26.4\n",
    "! pip install openai==1.30.3\n",
    "! pip install python-dotenv==1.0.1\n",
    "! pip install faiss-cpu==1.8.0"
   ]
  },
  {
   "cell_type": "markdown",
   "metadata": {},
   "source": [
    "## Load in the US Federal Laws dataset and create a vector database representation of this dataset, which will then be converted into a LangChain Retriever and Tool"
   ]
  },
  {
   "cell_type": "code",
   "execution_count": 2,
   "metadata": {},
   "outputs": [
    {
     "data": {
      "text/html": [
       "<div>\n",
       "<style scoped>\n",
       "    .dataframe tbody tr th:only-of-type {\n",
       "        vertical-align: middle;\n",
       "    }\n",
       "\n",
       "    .dataframe tbody tr th {\n",
       "        vertical-align: top;\n",
       "    }\n",
       "\n",
       "    .dataframe thead th {\n",
       "        text-align: right;\n",
       "    }\n",
       "</style>\n",
       "<table border=\"1\" class=\"dataframe\">\n",
       "  <thead>\n",
       "    <tr style=\"text-align: right;\">\n",
       "      <th></th>\n",
       "      <th>row_number</th>\n",
       "      <th>action</th>\n",
       "      <th>Title</th>\n",
       "      <th>sal_volume</th>\n",
       "      <th>sal_page_start</th>\n",
       "      <th>BillCitation</th>\n",
       "      <th>congress_number</th>\n",
       "      <th>chapter</th>\n",
       "      <th>session_number</th>\n",
       "      <th>pl_no</th>\n",
       "      <th>date_of_passage</th>\n",
       "      <th>secondary_date</th>\n",
       "      <th>dates_conflict</th>\n",
       "      <th>Source</th>\n",
       "      <th>URL</th>\n",
       "      <th>alternate_sal_volume</th>\n",
       "      <th>alternate_sal_page_start</th>\n",
       "      <th>has_alternate_sal_citation</th>\n",
       "    </tr>\n",
       "  </thead>\n",
       "  <tbody>\n",
       "    <tr>\n",
       "      <th>0</th>\n",
       "      <td>1</td>\n",
       "      <td>An Act</td>\n",
       "      <td>To regulate the time and manner of administeri...</td>\n",
       "      <td>1</td>\n",
       "      <td>23.0</td>\n",
       "      <td>NaN</td>\n",
       "      <td>1</td>\n",
       "      <td>1.0</td>\n",
       "      <td>1.0</td>\n",
       "      <td>NaN</td>\n",
       "      <td>1789-06-01</td>\n",
       "      <td>NaN</td>\n",
       "      <td>NaN</td>\n",
       "      <td>HeinOnline</td>\n",
       "      <td>NaN</td>\n",
       "      <td>NaN</td>\n",
       "      <td>NaN</td>\n",
       "      <td>False</td>\n",
       "    </tr>\n",
       "    <tr>\n",
       "      <th>1</th>\n",
       "      <td>2</td>\n",
       "      <td>An Act</td>\n",
       "      <td>For laying a duty on goods, wares, and merchan...</td>\n",
       "      <td>1</td>\n",
       "      <td>24.0</td>\n",
       "      <td>NaN</td>\n",
       "      <td>1</td>\n",
       "      <td>2.0</td>\n",
       "      <td>1.0</td>\n",
       "      <td>NaN</td>\n",
       "      <td>1789-07-04</td>\n",
       "      <td>NaN</td>\n",
       "      <td>NaN</td>\n",
       "      <td>HeinOnline</td>\n",
       "      <td>NaN</td>\n",
       "      <td>NaN</td>\n",
       "      <td>NaN</td>\n",
       "      <td>False</td>\n",
       "    </tr>\n",
       "    <tr>\n",
       "      <th>2</th>\n",
       "      <td>3</td>\n",
       "      <td>An Act</td>\n",
       "      <td>Imposing duties on tonnage.</td>\n",
       "      <td>1</td>\n",
       "      <td>27.0</td>\n",
       "      <td>NaN</td>\n",
       "      <td>1</td>\n",
       "      <td>3.0</td>\n",
       "      <td>1.0</td>\n",
       "      <td>NaN</td>\n",
       "      <td>1789-07-20</td>\n",
       "      <td>NaN</td>\n",
       "      <td>NaN</td>\n",
       "      <td>HeinOnline</td>\n",
       "      <td>NaN</td>\n",
       "      <td>NaN</td>\n",
       "      <td>NaN</td>\n",
       "      <td>False</td>\n",
       "    </tr>\n",
       "    <tr>\n",
       "      <th>3</th>\n",
       "      <td>4</td>\n",
       "      <td>An Act</td>\n",
       "      <td>For establishing an executive department to be...</td>\n",
       "      <td>1</td>\n",
       "      <td>28.0</td>\n",
       "      <td>NaN</td>\n",
       "      <td>1</td>\n",
       "      <td>4.0</td>\n",
       "      <td>1.0</td>\n",
       "      <td>NaN</td>\n",
       "      <td>1789-07-27</td>\n",
       "      <td>NaN</td>\n",
       "      <td>NaN</td>\n",
       "      <td>HeinOnline</td>\n",
       "      <td>NaN</td>\n",
       "      <td>NaN</td>\n",
       "      <td>NaN</td>\n",
       "      <td>False</td>\n",
       "    </tr>\n",
       "    <tr>\n",
       "      <th>4</th>\n",
       "      <td>5</td>\n",
       "      <td>An Act</td>\n",
       "      <td>To regulate the collection of the duties impos...</td>\n",
       "      <td>1</td>\n",
       "      <td>29.0</td>\n",
       "      <td>NaN</td>\n",
       "      <td>1</td>\n",
       "      <td>5.0</td>\n",
       "      <td>1.0</td>\n",
       "      <td>NaN</td>\n",
       "      <td>1789-07-31</td>\n",
       "      <td>NaN</td>\n",
       "      <td>NaN</td>\n",
       "      <td>HeinOnline</td>\n",
       "      <td>NaN</td>\n",
       "      <td>NaN</td>\n",
       "      <td>NaN</td>\n",
       "      <td>False</td>\n",
       "    </tr>\n",
       "  </tbody>\n",
       "</table>\n",
       "</div>"
      ],
      "text/plain": [
       "   row_number  action                                              Title  \\\n",
       "0           1  An Act  To regulate the time and manner of administeri...   \n",
       "1           2  An Act  For laying a duty on goods, wares, and merchan...   \n",
       "2           3  An Act                        Imposing duties on tonnage.   \n",
       "3           4  An Act  For establishing an executive department to be...   \n",
       "4           5  An Act  To regulate the collection of the duties impos...   \n",
       "\n",
       "   sal_volume  sal_page_start BillCitation  congress_number  chapter  \\\n",
       "0           1            23.0          NaN                1      1.0   \n",
       "1           1            24.0          NaN                1      2.0   \n",
       "2           1            27.0          NaN                1      3.0   \n",
       "3           1            28.0          NaN                1      4.0   \n",
       "4           1            29.0          NaN                1      5.0   \n",
       "\n",
       "   session_number pl_no date_of_passage secondary_date dates_conflict  \\\n",
       "0             1.0   NaN      1789-06-01            NaN            NaN   \n",
       "1             1.0   NaN      1789-07-04            NaN            NaN   \n",
       "2             1.0   NaN      1789-07-20            NaN            NaN   \n",
       "3             1.0   NaN      1789-07-27            NaN            NaN   \n",
       "4             1.0   NaN      1789-07-31            NaN            NaN   \n",
       "\n",
       "       Source  URL  alternate_sal_volume  alternate_sal_page_start  \\\n",
       "0  HeinOnline  NaN                   NaN                       NaN   \n",
       "1  HeinOnline  NaN                   NaN                       NaN   \n",
       "2  HeinOnline  NaN                   NaN                       NaN   \n",
       "3  HeinOnline  NaN                   NaN                       NaN   \n",
       "4  HeinOnline  NaN                   NaN                       NaN   \n",
       "\n",
       "   has_alternate_sal_citation  \n",
       "0                       False  \n",
       "1                       False  \n",
       "2                       False  \n",
       "3                       False  \n",
       "4                       False  "
      ]
     },
     "execution_count": 2,
     "metadata": {},
     "output_type": "execute_result"
    }
   ],
   "source": [
    "# Let's take a look at our CSV dataset first\n",
    "import pandas as pd\n",
    "\n",
    "# The CSV file can be downloaded from: https://www.nature.com/articles/s41597-023-02758-z#Sec3\n",
    "df = pd.read_csv(\"us_laws_dataset.csv\")\n",
    "\n",
    "df.head()"
   ]
  },
  {
   "cell_type": "code",
   "execution_count": 3,
   "metadata": {},
   "outputs": [],
   "source": [
    "import openai\n",
    "import langchain\n",
    "import os"
   ]
  },
  {
   "cell_type": "code",
   "execution_count": 5,
   "metadata": {},
   "outputs": [
    {
     "data": {
      "text/plain": [
       "True"
      ]
     },
     "execution_count": 5,
     "metadata": {},
     "output_type": "execute_result"
    }
   ],
   "source": [
    "# The YDC_API_KEY and OPENAI_API_KEY should be defined in a .env file\n",
    "# Let's load the API keys in from the .env file\n",
    "import dotenv\n",
    "dotenv.load_dotenv(\".env\", override=True)"
   ]
  },
  {
   "cell_type": "code",
   "execution_count": 6,
   "metadata": {},
   "outputs": [],
   "source": [
    "from langchain_community.document_loaders.csv_loader import CSVLoader\n",
    "\n",
    "# The CSV file can be downloaded from: https://www.nature.com/articles/s41597-023-02758-z#Sec3\n",
    "loader = CSVLoader(file_path = \"us_laws_dataset.csv\")\n",
    "\n",
    "data = loader.load()"
   ]
  },
  {
   "cell_type": "code",
   "execution_count": 7,
   "metadata": {},
   "outputs": [],
   "source": [
    "from langchain_community.vectorstores import FAISS\n",
    "from langchain_openai import OpenAIEmbeddings\n",
    "from langchain.text_splitter import RecursiveCharacterTextSplitter\n",
    "\n",
    "# split the document into chunks, and vectorize these chunks in a FAISS database\n",
    "text_splitter = RecursiveCharacterTextSplitter(chunk_size = 1000, chunk_overlap = 100)\n",
    "docs = text_splitter.split_documents(data)\n",
    "embeddings = OpenAIEmbeddings()\n",
    "db = FAISS.from_documents(documents=docs, embedding=embeddings)"
   ]
  },
  {
   "cell_type": "code",
   "execution_count": 8,
   "metadata": {},
   "outputs": [
    {
     "data": {
      "text/plain": [
       "[Document(page_content='row_number: 1885\\naction: An Act\\nTitle: In addition to the act, entitled \"An act for the prompt settlement of public accounts,\" and for the punishment of the crime of perjury\\nsal_volume: 3\\nsal_page_start: 770\\nBillCitation: NA\\ncongress_number: 17\\nchapter: 37\\nsession_number: 2\\npl_no: NA\\ndate_of_passage: 1823-03-01\\nsecondary_date: NA\\ndates_conflict: NA\\nSource: HeinOnline\\nURL: NA\\nalternate_sal_volume: NA\\nalternate_sal_page_start: NA\\nhas_alternate_sal_citation: FALSE', metadata={'source': 'us_laws_dataset.csv', 'row': 1884}),\n",
       " Document(page_content='row_number: 38724\\naction: An Act\\nTitle: An act to permit the use of unsworn declarations under penalty of perjury as evidence in Federal proceedings\\nsal_volume: 90\\nsal_page_start: 2534\\nBillCitation: H.R. 15531\\ncongress_number: 94\\nchapter: NA\\nsession_number: 2\\npl_no: 94-550\\ndate_of_passage: 1976-10-18\\nsecondary_date: NA\\ndates_conflict: FALSE\\nSource: NA\\nURL: https://www.govinfo.gov/content/pkg/STATUTE-90/pdf/STATUTE-90-Pg2534.pdf\\nalternate_sal_volume: 90\\nalternate_sal_page_start: 2534\\nhas_alternate_sal_citation: TRUE', metadata={'source': 'us_laws_dataset.csv', 'row': 38720}),\n",
       " Document(page_content='row_number: 33140\\naction: An Act\\nTitle: An Act to amend section 200 of the Soldiers and Sailors Civil Relief Act of 1940 to permit the establishment of certain facts by a declaration under penalty of perjury in lieu of an affidavit, and for other purposes\\nsal_volume: 74\\nsal_page_start: 820\\nBillCitation: H.R. 3313\\ncongress_number: 86\\nchapter: NA\\nsession_number: 2\\npl_no: 86-721\\ndate_of_passage: 1960-09-08\\nsecondary_date: NA\\ndates_conflict: FALSE\\nSource: NA\\nURL: https://www.govinfo.gov/content/pkg/STATUTE-74/pdf/STATUTE-74-Pg820.pdf\\nalternate_sal_volume: 74\\nalternate_sal_page_start: 820\\nhas_alternate_sal_citation: TRUE', metadata={'source': 'us_laws_dataset.csv', 'row': 33138})]"
      ]
     },
     "execution_count": 8,
     "metadata": {},
     "output_type": "execute_result"
    }
   ],
   "source": [
    "# test out the similarity search\n",
    "query = \"What laws and acts relate to perjury?\"\n",
    "response = db.similarity_search(query, k=10)\n",
    "# let's look at the first 3 retrieved docs\n",
    "response[:3]"
   ]
  },
  {
   "cell_type": "code",
   "execution_count": 31,
   "metadata": {},
   "outputs": [],
   "source": [
    "from langchain.tools.retriever import create_retriever_tool\n",
    "\n",
    "# convert this retriver into a tool\n",
    "db_retriever = db.as_retriever()\n",
    "db_retriever_tool = create_retriever_tool(\n",
    "    db_retriever,\n",
    "    name = \"law_dataset_retriever\",\n",
    "    description = \"Retrieve relevant context from the US laws dataset.\"\n",
    ")"
   ]
  },
  {
   "cell_type": "markdown",
   "metadata": {},
   "source": [
    "## Instantiating the You.com Tool in Langchain"
   ]
  },
  {
   "cell_type": "markdown",
   "metadata": {},
   "source": [
    "LangChain provides a wrapper around the You.com API and a You.com Tool.  For more information, please visit: https://python.langchain.com/v0.1/docs/integrations/tools/you/"
   ]
  },
  {
   "cell_type": "code",
   "execution_count": 32,
   "metadata": {},
   "outputs": [],
   "source": [
    "from langchain_community.tools.you import YouSearchTool\n",
    "from langchain_community.utilities.you import YouSearchAPIWrapper\n",
    "\n",
    "api_wrapper = YouSearchAPIWrapper(num_web_results = 10)\n",
    "ydc_tool = YouSearchTool(api_wrapper=api_wrapper)"
   ]
  },
  {
   "cell_type": "code",
   "execution_count": 33,
   "metadata": {},
   "outputs": [
    {
     "data": {
      "text/plain": [
       "[Document(page_content='Meijer, Inc. v. Ferring B.V.; Ferring Pharmaceuticals, Inc.; and Aventis Pharmaceuticals [In Re: DDAVP Direct Purchaser Antitrust Litigation] U.S. v. Memphis Board of Realtors', metadata={'url': 'https://www.justice.gov/atr/antitrust-case-filings-alpha', 'thumbnail_url': None, 'title': 'Antitrust Division | Antitrust Case Filings | United States Department of Justice', 'description': 'An official website of the United States government · Official websites use .gov A .gov website belongs to an official government organization in the United States'}),\n",
       " Document(page_content=\"Dentsply International, Inc. v. Antitrust Division of the United States Department of Justice · U.S. v. Freddy Deoliveira · U.S. v. Wilhelm DerMinassian · U.S. v. Eric Descouraux · Leinani Deslandes, Stephanie Turner, et al. v. McDonald's USA, LLC, et al.\", metadata={'url': 'https://www.justice.gov/atr/antitrust-case-filings-alpha', 'thumbnail_url': None, 'title': 'Antitrust Division | Antitrust Case Filings | United States Department of Justice', 'description': 'An official website of the United States government · Official websites use .gov A .gov website belongs to an official government organization in the United States'}),\n",
       " Document(page_content='U.S. v. Arden-Mayfair, Inc., Matanuska Maid, Inc.; and Meadowmoor Alaska Dairy, Inc. U.S. v. Argos USA LLC, f.k.a. Argos Ready Mix LLC', metadata={'url': 'https://www.justice.gov/atr/antitrust-case-filings-alpha', 'thumbnail_url': None, 'title': 'Antitrust Division | Antitrust Case Filings | United States Department of Justice', 'description': 'An official website of the United States government · Official websites use .gov A .gov website belongs to an official government organization in the United States'})]"
      ]
     },
     "execution_count": 33,
     "metadata": {},
     "output_type": "execute_result"
    }
   ],
   "source": [
    "# test out the You.com search tool\n",
    "response = ydc_tool.invoke(\"Tell me about a recent high-profile case related to antitrust in the USA.\")\n",
    "# let's look at the first 3 results\n",
    "response[:3]"
   ]
  },
  {
   "cell_type": "markdown",
   "metadata": {},
   "source": [
    "## Instantiate our LLM"
   ]
  },
  {
   "cell_type": "code",
   "execution_count": 42,
   "metadata": {},
   "outputs": [],
   "source": [
    "from langchain_openai import ChatOpenAI\n",
    "\n",
    "llm = ChatOpenAI(model=\"gpt-4o\", temperature=0.5)"
   ]
  },
  {
   "cell_type": "markdown",
   "metadata": {},
   "source": [
    "## Tying it all together"
   ]
  },
  {
   "cell_type": "code",
   "execution_count": 40,
   "metadata": {},
   "outputs": [],
   "source": [
    "from langgraph.prebuilt import chat_agent_executor\n",
    "from langgraph.checkpoint import MemorySaver\n",
    "\n",
    "# Create a checkpointer to use memory\n",
    "memory = MemorySaver()\n",
    "# the vector store representation of the CSV dataset and the You.com Search tool will both be passed as tools to the agent\n",
    "tools = [db_retriever_tool, ydc_tool]\n",
    "agent_executor = chat_agent_executor.create_tool_calling_executor(llm, tools, checkpointer=memory)"
   ]
  },
  {
   "cell_type": "markdown",
   "metadata": {},
   "source": [
    "## Let's try it out!"
   ]
  },
  {
   "cell_type": "code",
   "execution_count": 41,
   "metadata": {},
   "outputs": [
    {
     "data": {
      "text/plain": [
       "'Several laws in the United States address economic espionage:\\n\\n1. **Economic Espionage Act of 1996**:\\n   - **Public Law Number**: 104-294\\n   - **Date of Passage**: October 11, 1996\\n   - **Details**: This Act criminalizes the theft or misappropriation of trade secrets with the intent or knowledge that the offense will benefit a foreign government, foreign instrumentality, or foreign agent.\\n   - **Source**: [Economic Espionage Act of 1996](https://www.govinfo.gov/content/pkg/STATUTE-110/pdf/STATUTE-110-Pg3488.pdf)\\n\\n2. **An act to clarify the scope of the Economic Espionage Act of 1996**:\\n   - **Public Law Number**: 112-236\\n   - **Date of Passage**: December 28, 2012\\n   - **Details**: This Act clarifies and expands the scope of the Economic Espionage Act of 1996.\\n   - **Source**: [Clarification of the Economic Espionage Act of 1996](https://www.govinfo.gov/content/pkg/STATUTE-126/html/STATUTE-126-Pg1627.htm)\\n\\n3. **An act to amend title 18, United States Code, to provide for increased penalties for foreign and economic espionage, and for other purposes**:\\n   - **Public Law Number**: 112-269\\n   - **Date of Passage**: January 14, 2013\\n   - **Details**: This Act amends Title 18 of the United States Code to increase penalties for foreign and economic espionage.\\n   - **Source**: [Increased Penalties for Economic Espionage](https://www.govinfo.gov/content/pkg/STATUTE-126/html/STATUTE-126-Pg2442.htm)\\n\\n4. **An Act to amend section three, title one, of the Act entitled \"An Act to punish acts of interference with the foreign relations, the neutrality, and the foreign commerce of the United States, to punish espionage, and better to enforce the criminal laws of the United States, and for other purposes,\" approved June fifteenth, nineteen hundred and seventeen, and for other purposes**:\\n   - **Public Law Number**: 65-150\\n   - **Date of Passage**: May 16, 1918\\n   - **Details**: This Act, although older, is part of the historical framework addressing espionage and related activities.\\n   - **Source**: [1918 Amendment to Espionage Laws](https://heinonline.org) (Note: Direct source link not available)\\n\\nThese laws collectively form the legal framework in the U.S. to combat economic espionage and protect trade secrets.'"
      ]
     },
     "execution_count": 41,
     "metadata": {},
     "output_type": "execute_result"
    }
   ],
   "source": [
    "agent_executor.invoke(input={\"messages\": \"What laws in the US address economic espionage?\"}, config={\"configurable\": {\"thread_id\": \"xyz_789\"}})[\"messages\"][-1].content"
   ]
  },
  {
   "cell_type": "code",
   "execution_count": 37,
   "metadata": {},
   "outputs": [
    {
     "data": {
      "text/plain": [
       "'The most notable U.S. Supreme Court case related to economic espionage is **Totten v. United States, 92 U.S. 105 (1876)**. This case is significant because it established crucial principles regarding judicial jurisdiction in espionage cases and the State Secrets Privilege.\\n\\n### Key Points of Totten v. United States:\\n- **Background**: The case involved a contract claim against the government by a Civil War spy who sought compensation for espionage services rendered.\\n- **Ruling**: The Supreme Court ruled that certain secret contracts cannot be publicly reviewed by courts. The Court stated that public policy forbids the maintenance of any suit in a court of justice if the trial would inevitably lead to the disclosure of matters that the law regards as confidential.\\n- **Impact**: The decision set a precedent that was later referenced and expanded in subsequent cases, such as United States v. Reynolds (1953), Tenet v. Doe (2005), and General Dynamics Corp. v. United States, which further clarified the scope of the State Secrets Privilege.\\n\\n### Additional Information:\\n- **Totten v. United States** is often cited in discussions about the limits of judicial review in cases involving national security and espionage.\\n- The case laid the groundwork for the legal doctrine that the government can bar lawsuits that might expose state secrets.\\n\\nFor more detailed information, you can refer to the [Wikipedia page on Totten v. United States](https://en.wikipedia.org/wiki/Totten_v._United_States).'"
      ]
     },
     "execution_count": 37,
     "metadata": {},
     "output_type": "execute_result"
    }
   ],
   "source": [
    "agent_executor.invoke(input={\"messages\": \"What is the most famous US Supreme Court case related to economic espionage?\"}, config={\"configurable\": {\"thread_id\": \"xyz_789\"}})[\"messages\"][-1].content"
   ]
  },
  {
   "cell_type": "code",
   "execution_count": 38,
   "metadata": {},
   "outputs": [
    {
     "data": {
      "text/plain": [
       "'In addition to the principles established in **Totten v. United States**, other federal laws pertaining to economic espionage that could have been relevant include:\\n\\n1. **Economic Espionage Act of 1996 (EEA)**:\\n   - **Title 18, U.S. Code, Sections 1831 and 1832**: These sections criminalize the theft or misappropriation of trade secrets, particularly when the theft benefits a foreign government, foreign instrumentality, or foreign agent.\\n   - **Section 1831**: Specifically addresses economic espionage intended to benefit foreign entities.\\n   - **Section 1832**: Addresses theft of trade secrets for commercial or economic advantage.\\n\\n2. **Espionage Act of 1917**:\\n   - **Title 18, U.S. Code, Sections 793-798**: These sections cover various acts of espionage, including the gathering, transmitting, or losing of defense information.\\n   - **Section 793**: Deals with gathering, transmitting, or losing defense information.\\n   - **Section 794**: Covers espionage during wartime.\\n   - **Section 798**: Addresses disclosure of classified information related to cryptographic systems and communications intelligence.\\n\\n3. **Foreign Agents Registration Act (FARA)**:\\n   - **22 U.S.C. § 611 et seq.**: Requires individuals acting as agents of foreign principals in a political or quasi-political capacity to disclose their relationship with the foreign government and information about related activities and finances.\\n\\n### Application to Totten v. United States:\\nWhile Totten v. United States primarily dealt with the enforceability of secret contracts and the protection of state secrets, the principles from the Economic Espionage Act of 1996 and the Espionage Act of 1917 could have been relevant if the case involved the theft or misappropriation of trade secrets or defense information:\\n\\n- **Economic Espionage Act of 1996**: If the case involved the theft of trade secrets for the benefit of a foreign government, the provisions under Sections 1831 and 1832 could have been applicable.\\n- **Espionage Act of 1917**: If the case involved the unauthorized gathering or transmitting of national defense information, Sections 793 and 794 could have been relevant.\\n\\nHowever, Totten v. United States was more focused on the enforceability of secret agreements and the protection of state secrets, which is why the State Secrets Privilege established in this case is more directly applicable. The Economic Espionage Act and the Espionage Act provide additional legal frameworks for prosecuting economic espionage and related activities, but they do not directly address the enforceability of secret contracts or the protection of state secrets in the same manner as Totten.'"
      ]
     },
     "execution_count": 38,
     "metadata": {},
     "output_type": "execute_result"
    }
   ],
   "source": [
    "agent_executor.invoke(input={\"messages\": \"Based on your knowledge of federal laws in the US pertaining to economic espionage, were there any other laws that could have been applied in this case?\"}, config={\"configurable\": {\"thread_id\": \"xyz_789\"}})[\"messages\"][-1].content"
   ]
  },
  {
   "cell_type": "markdown",
   "metadata": {},
   "source": [
    "## Let's create a Python class that encapsulates the code above.  This will enable users to easily create chatbots for new use cases with custom CSV datasets"
   ]
  },
  {
   "cell_type": "code",
   "execution_count": 26,
   "metadata": {},
   "outputs": [],
   "source": [
    "import secrets\n",
    "\n",
    "class CSV_QA_Bot:\n",
    "    def __init__(self, llm: ChatOpenAI, csv_files: list[str], num_web_results_to_fetch: int = 10):\n",
    "        self._llm = llm\n",
    "        \n",
    "        docs = self._load_csv_files(csv_files)\n",
    "        \n",
    "        # split the docs into chunks, vectorize the chunks and load them into a vector store\n",
    "        db = self._create_vector_store(docs)\n",
    "        \n",
    "        # create a retriever from the vector store\n",
    "        self._faiss_retriever = db.as_retriever()\n",
    "        \n",
    "        # convert this retriever into a Langchain tool\n",
    "        self._faiss_retriever_tool = create_retriever_tool(\n",
    "            self._faiss_retriever,\n",
    "            name = \"custom_dataset_retriever\",\n",
    "            description = \"Retrieve relevant context from custom dataset.\"\n",
    "        )\n",
    "        \n",
    "        # instantiate the YDC search tool in Langchain\n",
    "        self._ydc_api_wrapper = YouSearchAPIWrapper(num_web_results=num_web_results_to_fetch)\n",
    "        self._ydc_search_tool = YouSearchTool(api_wrapper=self._ydc_api_wrapper)\n",
    "        \n",
    "        \n",
    "        # create a list of tools that will be supplied to the Langchain agent\n",
    "        self._tools = [self._faiss_retriever_tool, self._ydc_search_tool]\n",
    "        \n",
    "        # Create a checkpointer to use memory\n",
    "        self._memory = MemorySaver()\n",
    "        \n",
    "        # create the agent executor\n",
    "        self._agent_executor = chat_agent_executor.create_tool_calling_executor(self._llm, self._tools, checkpointer=self._memory)\n",
    "        \n",
    "        # generate a thread ID for to keep track of conversation history\n",
    "        self._thread_id = self._generate_thread_id()\n",
    "\n",
    "    def _load_csv_files(self, csv_files: list[str]) -> list:\n",
    "        docs = []\n",
    "        for file in csv_files:\n",
    "            data_loader = CSVLoader(file)\n",
    "            docs.extend(data_loader.load())\n",
    "        return docs\n",
    "    \n",
    "    def _create_vector_store(self, docs: list) -> FAISS:\n",
    "        text_splitter = RecursiveCharacterTextSplitter(chunk_size = 1000, chunk_overlap = 100)\n",
    "        chunked_docs = text_splitter.split_documents(docs)\n",
    "        embeddings = OpenAIEmbeddings()\n",
    "        return FAISS.from_documents(documents=chunked_docs, embedding=embeddings)\n",
    "\n",
    "    def _generate_thread_id(self) -> str:\n",
    "        thread_id = secrets.token_urlsafe(16)\n",
    "        return thread_id\n",
    "    \n",
    "    def invoke_bot(self, input_str: str) -> str:\n",
    "        input = {\"messages\": input_str}\n",
    "        config = {\"configurable\": {\"thread_id\": self._thread_id}}\n",
    "        output = self._agent_executor.invoke(input=input, config=config)\n",
    "        return output[\"messages\"][-1].content"
   ]
  },
  {
   "cell_type": "markdown",
   "metadata": {},
   "source": [
    "## Let's try it out!"
   ]
  },
  {
   "cell_type": "code",
   "execution_count": 27,
   "metadata": {},
   "outputs": [],
   "source": [
    "llm = ChatOpenAI(model=\"gpt-4o\", temperature=0.5)\n",
    "conversational_agent = CSV_QA_Bot(llm, csv_files=[\"us_laws_dataset.csv\"])"
   ]
  },
  {
   "cell_type": "code",
   "execution_count": 28,
   "metadata": {},
   "outputs": [
    {
     "data": {
      "text/plain": [
       "'In the United States, several laws address insider trading, aiming to ensure fair and transparent securities markets. Here are some key pieces of legislation:\\n\\n1. **Securities Exchange Act of 1934**:\\n   - **Section 10(b)**: This section prohibits any manipulative or deceptive device or contrivance in connection with the purchase or sale of any security. Rule 10b-5, enacted under this section, explicitly prohibits fraud, misrepresentation, and deceit in securities trading.\\n   - **Section 16(b)**: This section requires company insiders to return any profits made from the purchase and sale of company stock within a six-month period, known as \"short-swing\" profits.\\n\\n2. **Securities Act of 1933**:\\n   - This act focuses on the initial sale of securities (primary market) and requires issuers to provide full and fair disclosure of material information, thus preventing fraud in the sale of securities.\\n\\n3. **Insider Trading Sanctions Act of 1984**:\\n   - This act allows the Securities and Exchange Commission (SEC) to seek civil penalties for insider trading violations, including fines up to three times the profit gained or loss avoided.\\n\\n4. **Insider Trading and Securities Fraud Enforcement Act of 1988**:\\n   - This act increases the penalties for insider trading and mandates that companies develop and enforce policies to prevent insider trading. It also allows for the imposition of criminal penalties and civil fines on individuals and firms.\\n\\n5. **Rule 10b5-1**:\\n   - Enacted under the Securities Exchange Act of 1934, this rule allows insiders to set up a trading plan for selling stocks they own. The rule provides an affirmative defense against accusations of insider trading if the trade is executed according to the pre-set plan.\\n\\n6. **Sarbanes-Oxley Act of 2002**:\\n   - This act imposes stricter regulations on corporate governance and financial practices. It includes provisions that address insider trading, such as requiring senior executives to disclose their stock trades more promptly.\\n\\n7. **Dodd-Frank Wall Street Reform and Consumer Protection Act of 2010**:\\n   - This act includes provisions to enhance the SEC\\'s ability to pursue insider trading cases and increases the penalties for securities fraud.\\n\\nThese laws collectively aim to prevent and penalize insider trading by ensuring that all market participants have equal access to material information, thereby fostering a fair and transparent market environment.'"
      ]
     },
     "execution_count": 28,
     "metadata": {},
     "output_type": "execute_result"
    }
   ],
   "source": [
    "conversational_agent.invoke_bot(\"What laws in the USA address insider trading?\")"
   ]
  },
  {
   "cell_type": "code",
   "execution_count": 29,
   "metadata": {},
   "outputs": [
    {
     "data": {
      "text/plain": [
       "'One of the most famous U.S. Supreme Court cases involving insider trading is **United States v. O\\'Hagan**, 521 U.S. 642 (1997). This landmark case established the \"misappropriation theory\" of insider trading.\\n\\n### United States v. O\\'Hagan (1997)\\n\\n**Background**:\\n- James O\\'Hagan was a partner at the law firm Dorsey & Whitney, which was representing Grand Met in its attempt to take over Pillsbury. O\\'Hagan did not work on this case directly but learned about the takeover attempt.\\n- Using this non-public information, O\\'Hagan purchased stock options for Pillsbury and profited significantly when the takeover bid was announced and the stock price rose.\\n\\n**Legal Issue**:\\n- The central question was whether O\\'Hagan\\'s actions constituted securities fraud under Section 10(b) of the Securities Exchange Act of 1934 and SEC Rule 10b-5.\\n\\n**Supreme Court Decision**:\\n- The Court ruled in favor of the United States, holding that O\\'Hagan\\'s actions violated the securities laws under the \"misappropriation theory.\"\\n- The misappropriation theory posits that a person commits fraud \"in connection with\" a securities transaction, and thus violates Section 10(b) and Rule 10b-5, when he misappropriates confidential information for securities trading purposes, in breach of a duty owed to the source of the information.\\n\\n**Significance**:\\n- This decision expanded the scope of insider trading liability to include individuals who misappropriate information, even if they are not corporate insiders.\\n- The ruling clarified that the deception involved in misappropriating information was sufficient to constitute a violation of securities laws, thus broadening the ability of the SEC to prosecute insider trading cases.\\n\\nThe **United States v. O\\'Hagan** case is a cornerstone in the legal framework governing insider trading, and it continues to influence how insider trading laws are interpreted and enforced.'"
      ]
     },
     "execution_count": 29,
     "metadata": {},
     "output_type": "execute_result"
    }
   ],
   "source": [
    "conversational_agent.invoke_bot(\"What is the most famous US Supreme Court case of insider trading?\")"
   ]
  },
  {
   "cell_type": "code",
   "execution_count": 30,
   "metadata": {},
   "outputs": [
    {
     "data": {
      "text/plain": [
       "'In addition to the laws directly applied in **United States v. O\\'Hagan**, several other federal laws and regulations could have been relevant in prosecuting insider trading cases. Here are some additional laws and regulations that could have been applied:\\n\\n### 1. **Securities Act of 1933**\\n   - **Section 17(a)**: This section prohibits fraud in the offer or sale of securities. It is broader than Rule 10b-5 and could potentially be used to address fraudulent activities related to insider trading.\\n\\n### 2. **Securities Exchange Act of 1934**\\n   - **Section 10(b)**: This section, along with Rule 10b-5, was indeed applied in the O\\'Hagan case. It prohibits any manipulative or deceptive device in connection with the purchase or sale of any security.\\n   - **Section 16(b)**: This section requires insiders to return any profits made from the purchase and sale of company stock within a six-month period, although it is more focused on \"short-swing\" profits rather than insider trading based on non-public information.\\n\\n### 3. **Insider Trading Sanctions Act of 1984**\\n   - This act allows the SEC to seek civil penalties for insider trading violations, including fines up to three times the profit gained or the loss avoided. While it wasn\\'t specifically applied in the O\\'Hagan case, it provides a framework for civil penalties in insider trading cases.\\n\\n### 4. **Insider Trading and Securities Fraud Enforcement Act of 1988**\\n   - This act increases the penalties for insider trading and mandates that companies develop and enforce policies to prevent insider trading. It also allows for the imposition of criminal penalties and civil fines on individuals and firms.\\n\\n### 5. **Sarbanes-Oxley Act of 2002**\\n   - **Section 302**: This section requires senior corporate officers to certify the accuracy of financial statements, which indirectly impacts the enforcement of insider trading laws by ensuring transparency.\\n   - **Section 404**: This section mandates internal controls over financial reporting, which can help detect and prevent insider trading.\\n\\n### 6. **Dodd-Frank Wall Street Reform and Consumer Protection Act of 2010**\\n   - This act includes provisions to enhance the SEC\\'s ability to pursue insider trading cases and increases the penalties for securities fraud. It also provides whistleblower protections and incentives, which can be crucial in uncovering insider trading.\\n\\n### 7. **Rule 10b5-1 (under the Securities Exchange Act of 1934)**\\n   - This rule allows insiders to set up a trading plan for selling stocks they own, providing an affirmative defense against accusations of insider trading if the trade is executed according to the pre-set plan.\\n\\n### 8. **Mail and Wire Fraud Statutes**\\n   - **18 U.S.C. §§ 1341 and 1343**: These statutes prohibit any scheme to defraud using the mail or wire communications. While not specific to securities, they can be applied in cases of insider trading where fraudulent schemes involve mail or electronic communications.\\n\\n### 9. **Racketeer Influenced and Corrupt Organizations Act (RICO)**\\n   - **18 U.S.C. §§ 1961-1968**: Although typically used to combat organized crime, RICO can be applied in securities fraud cases, including insider trading, if the activity is part of a larger pattern of racketeering.\\n\\nThese laws and regulations collectively provide a robust framework for prosecuting insider trading and related securities fraud, ensuring that all market participants have equal access to material information and fostering a fair and transparent market environment.'"
      ]
     },
     "execution_count": 30,
     "metadata": {},
     "output_type": "execute_result"
    }
   ],
   "source": [
    "conversational_agent.invoke_bot(\"Based on your knowledge of federal laws in the USA related to insider trading, were there any other laws that could have been applied in this case?\")"
   ]
  }
 ],
 "metadata": {
  "kernelspec": {
   "display_name": "llm-practice",
   "language": "python",
   "name": "python3"
  },
  "language_info": {
   "codemirror_mode": {
    "name": "ipython",
    "version": 3
   },
   "file_extension": ".py",
   "mimetype": "text/x-python",
   "name": "python",
   "nbconvert_exporter": "python",
   "pygments_lexer": "ipython3",
   "version": "3.10.14"
  }
 },
 "nbformat": 4,
 "nbformat_minor": 2
}
