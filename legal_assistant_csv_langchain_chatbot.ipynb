{
 "cells": [
  {
   "cell_type": "markdown",
   "metadata": {},
   "source": [
    "# Legal Assistant Bot"
   ]
  },
  {
   "cell_type": "markdown",
   "metadata": {},
   "source": [
    "This chatbot retrieves context from a proprietary datasource and the web to answer questions about federal laws in the United States of America (USA).  The proprietary datasource is a CSV file of all federal laws and their revision history in the USA.  The web data required to respond to the user's questions is retrieved using the You.com API.  The chatbot is implemented as an agent in Langchain."
   ]
  },
  {
   "cell_type": "markdown",
   "metadata": {},
   "source": [
    "## Install all required packages"
   ]
  },
  {
   "cell_type": "code",
   "execution_count": 1,
   "metadata": {},
   "outputs": [],
   "source": [
    "%%capture\n",
    "! pip install langgraph==0.0.59\n",
    "! pip install pandas==2.2.2\n",
    "! pip install openai==1.30.3\n",
    "! pip install langchain==0.2.1\n",
    "! pip install langchain_community==0.2.1\n",
    "! pip install langchain_openai==0.1.7\n",
    "! pip install langchain_text_splitters==0.2.0\n",
    "! pip install langchain_core==0.2.1\n",
    "! pip install numpy==1.26.4"
   ]
  },
  {
   "cell_type": "markdown",
   "metadata": {},
   "source": [
    "## Load in the US Laws dataset and create a Vector Database representation of this dataset, which will then be converted into a Langchain retriever and tool"
   ]
  },
  {
   "cell_type": "code",
   "execution_count": 3,
   "metadata": {},
   "outputs": [
    {
     "data": {
      "text/html": [
       "<div>\n",
       "<style scoped>\n",
       "    .dataframe tbody tr th:only-of-type {\n",
       "        vertical-align: middle;\n",
       "    }\n",
       "\n",
       "    .dataframe tbody tr th {\n",
       "        vertical-align: top;\n",
       "    }\n",
       "\n",
       "    .dataframe thead th {\n",
       "        text-align: right;\n",
       "    }\n",
       "</style>\n",
       "<table border=\"1\" class=\"dataframe\">\n",
       "  <thead>\n",
       "    <tr style=\"text-align: right;\">\n",
       "      <th></th>\n",
       "      <th>row_number</th>\n",
       "      <th>action</th>\n",
       "      <th>Title</th>\n",
       "      <th>sal_volume</th>\n",
       "      <th>sal_page_start</th>\n",
       "      <th>BillCitation</th>\n",
       "      <th>congress_number</th>\n",
       "      <th>chapter</th>\n",
       "      <th>session_number</th>\n",
       "      <th>pl_no</th>\n",
       "      <th>date_of_passage</th>\n",
       "      <th>secondary_date</th>\n",
       "      <th>dates_conflict</th>\n",
       "      <th>Source</th>\n",
       "      <th>URL</th>\n",
       "      <th>alternate_sal_volume</th>\n",
       "      <th>alternate_sal_page_start</th>\n",
       "      <th>has_alternate_sal_citation</th>\n",
       "    </tr>\n",
       "  </thead>\n",
       "  <tbody>\n",
       "    <tr>\n",
       "      <th>0</th>\n",
       "      <td>1</td>\n",
       "      <td>An Act</td>\n",
       "      <td>To regulate the time and manner of administeri...</td>\n",
       "      <td>1</td>\n",
       "      <td>23.0</td>\n",
       "      <td>NaN</td>\n",
       "      <td>1</td>\n",
       "      <td>1.0</td>\n",
       "      <td>1.0</td>\n",
       "      <td>NaN</td>\n",
       "      <td>1789-06-01</td>\n",
       "      <td>NaN</td>\n",
       "      <td>NaN</td>\n",
       "      <td>HeinOnline</td>\n",
       "      <td>NaN</td>\n",
       "      <td>NaN</td>\n",
       "      <td>NaN</td>\n",
       "      <td>False</td>\n",
       "    </tr>\n",
       "    <tr>\n",
       "      <th>1</th>\n",
       "      <td>2</td>\n",
       "      <td>An Act</td>\n",
       "      <td>For laying a duty on goods, wares, and merchan...</td>\n",
       "      <td>1</td>\n",
       "      <td>24.0</td>\n",
       "      <td>NaN</td>\n",
       "      <td>1</td>\n",
       "      <td>2.0</td>\n",
       "      <td>1.0</td>\n",
       "      <td>NaN</td>\n",
       "      <td>1789-07-04</td>\n",
       "      <td>NaN</td>\n",
       "      <td>NaN</td>\n",
       "      <td>HeinOnline</td>\n",
       "      <td>NaN</td>\n",
       "      <td>NaN</td>\n",
       "      <td>NaN</td>\n",
       "      <td>False</td>\n",
       "    </tr>\n",
       "    <tr>\n",
       "      <th>2</th>\n",
       "      <td>3</td>\n",
       "      <td>An Act</td>\n",
       "      <td>Imposing duties on tonnage.</td>\n",
       "      <td>1</td>\n",
       "      <td>27.0</td>\n",
       "      <td>NaN</td>\n",
       "      <td>1</td>\n",
       "      <td>3.0</td>\n",
       "      <td>1.0</td>\n",
       "      <td>NaN</td>\n",
       "      <td>1789-07-20</td>\n",
       "      <td>NaN</td>\n",
       "      <td>NaN</td>\n",
       "      <td>HeinOnline</td>\n",
       "      <td>NaN</td>\n",
       "      <td>NaN</td>\n",
       "      <td>NaN</td>\n",
       "      <td>False</td>\n",
       "    </tr>\n",
       "    <tr>\n",
       "      <th>3</th>\n",
       "      <td>4</td>\n",
       "      <td>An Act</td>\n",
       "      <td>For establishing an executive department to be...</td>\n",
       "      <td>1</td>\n",
       "      <td>28.0</td>\n",
       "      <td>NaN</td>\n",
       "      <td>1</td>\n",
       "      <td>4.0</td>\n",
       "      <td>1.0</td>\n",
       "      <td>NaN</td>\n",
       "      <td>1789-07-27</td>\n",
       "      <td>NaN</td>\n",
       "      <td>NaN</td>\n",
       "      <td>HeinOnline</td>\n",
       "      <td>NaN</td>\n",
       "      <td>NaN</td>\n",
       "      <td>NaN</td>\n",
       "      <td>False</td>\n",
       "    </tr>\n",
       "    <tr>\n",
       "      <th>4</th>\n",
       "      <td>5</td>\n",
       "      <td>An Act</td>\n",
       "      <td>To regulate the collection of the duties impos...</td>\n",
       "      <td>1</td>\n",
       "      <td>29.0</td>\n",
       "      <td>NaN</td>\n",
       "      <td>1</td>\n",
       "      <td>5.0</td>\n",
       "      <td>1.0</td>\n",
       "      <td>NaN</td>\n",
       "      <td>1789-07-31</td>\n",
       "      <td>NaN</td>\n",
       "      <td>NaN</td>\n",
       "      <td>HeinOnline</td>\n",
       "      <td>NaN</td>\n",
       "      <td>NaN</td>\n",
       "      <td>NaN</td>\n",
       "      <td>False</td>\n",
       "    </tr>\n",
       "  </tbody>\n",
       "</table>\n",
       "</div>"
      ],
      "text/plain": [
       "   row_number  action                                              Title  \\\n",
       "0           1  An Act  To regulate the time and manner of administeri...   \n",
       "1           2  An Act  For laying a duty on goods, wares, and merchan...   \n",
       "2           3  An Act                        Imposing duties on tonnage.   \n",
       "3           4  An Act  For establishing an executive department to be...   \n",
       "4           5  An Act  To regulate the collection of the duties impos...   \n",
       "\n",
       "   sal_volume  sal_page_start BillCitation  congress_number  chapter  \\\n",
       "0           1            23.0          NaN                1      1.0   \n",
       "1           1            24.0          NaN                1      2.0   \n",
       "2           1            27.0          NaN                1      3.0   \n",
       "3           1            28.0          NaN                1      4.0   \n",
       "4           1            29.0          NaN                1      5.0   \n",
       "\n",
       "   session_number pl_no date_of_passage secondary_date dates_conflict  \\\n",
       "0             1.0   NaN      1789-06-01            NaN            NaN   \n",
       "1             1.0   NaN      1789-07-04            NaN            NaN   \n",
       "2             1.0   NaN      1789-07-20            NaN            NaN   \n",
       "3             1.0   NaN      1789-07-27            NaN            NaN   \n",
       "4             1.0   NaN      1789-07-31            NaN            NaN   \n",
       "\n",
       "       Source  URL  alternate_sal_volume  alternate_sal_page_start  \\\n",
       "0  HeinOnline  NaN                   NaN                       NaN   \n",
       "1  HeinOnline  NaN                   NaN                       NaN   \n",
       "2  HeinOnline  NaN                   NaN                       NaN   \n",
       "3  HeinOnline  NaN                   NaN                       NaN   \n",
       "4  HeinOnline  NaN                   NaN                       NaN   \n",
       "\n",
       "   has_alternate_sal_citation  \n",
       "0                       False  \n",
       "1                       False  \n",
       "2                       False  \n",
       "3                       False  \n",
       "4                       False  "
      ]
     },
     "execution_count": 3,
     "metadata": {},
     "output_type": "execute_result"
    }
   ],
   "source": [
    "# Let's take a look at our CSV dataset first\n",
    "import pandas as pd\n",
    "\n",
    "# The CSV file can be downloaded from: https://www.nature.com/articles/s41597-023-02758-z#Sec3\n",
    "df = pd.read_csv(\"us_laws_dataset.csv\")\n",
    "\n",
    "df.head()"
   ]
  },
  {
   "cell_type": "code",
   "execution_count": 4,
   "metadata": {},
   "outputs": [],
   "source": [
    "import openai\n",
    "import langchain\n",
    "import os"
   ]
  },
  {
   "cell_type": "code",
   "execution_count": 5,
   "metadata": {},
   "outputs": [],
   "source": [
    "os.environ[\"YDC_API_KEY\"] = \"<Insert your YDC API key here>\"\n",
    "os.environ[\"OPENAI_API_KEY\"] = \"<Insert your Open AI API key here>\""
   ]
  },
  {
   "cell_type": "code",
   "execution_count": 6,
   "metadata": {},
   "outputs": [],
   "source": [
    "from langchain_community.document_loaders.csv_loader import CSVLoader\n",
    "\n",
    "# The CSV file can be downloaded from: https://www.nature.com/articles/s41597-023-02758-z#Sec3\n",
    "loader = CSVLoader(file_path = \"us_laws_dataset.csv\")\n",
    "\n",
    "data = loader.load()"
   ]
  },
  {
   "cell_type": "code",
   "execution_count": 7,
   "metadata": {},
   "outputs": [],
   "source": [
    "from langchain_community.vectorstores import FAISS\n",
    "from langchain_openai import OpenAIEmbeddings\n",
    "from langchain.text_splitter import RecursiveCharacterTextSplitter\n",
    "\n",
    "# split the document into chunks, and vectorize these chunks in a FAISS database\n",
    "text_splitter = RecursiveCharacterTextSplitter(chunk_size = 1000, chunk_overlap = 100)\n",
    "docs = text_splitter.split_documents(data)\n",
    "embeddings = OpenAIEmbeddings()\n",
    "db = FAISS.from_documents(documents=docs, embedding=embeddings)"
   ]
  },
  {
   "cell_type": "code",
   "execution_count": 8,
   "metadata": {},
   "outputs": [
    {
     "data": {
      "text/plain": [
       "[Document(page_content='row_number: 1885\\naction: An Act\\nTitle: In addition to the act, entitled \"An act for the prompt settlement of public accounts,\" and for the punishment of the crime of perjury\\nsal_volume: 3\\nsal_page_start: 770\\nBillCitation: NA\\ncongress_number: 17\\nchapter: 37\\nsession_number: 2\\npl_no: NA\\ndate_of_passage: 1823-03-01\\nsecondary_date: NA\\ndates_conflict: NA\\nSource: HeinOnline\\nURL: NA\\nalternate_sal_volume: NA\\nalternate_sal_page_start: NA\\nhas_alternate_sal_citation: FALSE', metadata={'source': 'us_laws_dataset.csv', 'row': 1884}),\n",
       " Document(page_content='row_number: 38724\\naction: An Act\\nTitle: An act to permit the use of unsworn declarations under penalty of perjury as evidence in Federal proceedings\\nsal_volume: 90\\nsal_page_start: 2534\\nBillCitation: H.R. 15531\\ncongress_number: 94\\nchapter: NA\\nsession_number: 2\\npl_no: 94-550\\ndate_of_passage: 1976-10-18\\nsecondary_date: NA\\ndates_conflict: FALSE\\nSource: NA\\nURL: https://www.govinfo.gov/content/pkg/STATUTE-90/pdf/STATUTE-90-Pg2534.pdf\\nalternate_sal_volume: 90\\nalternate_sal_page_start: 2534\\nhas_alternate_sal_citation: TRUE', metadata={'source': 'us_laws_dataset.csv', 'row': 38720}),\n",
       " Document(page_content='row_number: 44400\\naction: An Act\\nTitle: An act to amend title 18, United States Code, with respect to witness retaliation, witness tampering and jury tampering\\nsal_volume: 110\\nsal_page_start: 3017\\nBillCitation: H.R. 3120\\ncongress_number: 104\\nchapter: NA\\nsession_number: 2\\npl_no: 104-214\\ndate_of_passage: 1996-10-01\\nsecondary_date: NA\\ndates_conflict: FALSE\\nSource: NA\\nURL: https://www.govinfo.gov/content/pkg/STATUTE-110/pdf/STATUTE-110-Pg3017.pdf\\nalternate_sal_volume: 110\\nalternate_sal_page_start: 3017\\nhas_alternate_sal_citation: TRUE', metadata={'source': 'us_laws_dataset.csv', 'row': 44396})]"
      ]
     },
     "execution_count": 8,
     "metadata": {},
     "output_type": "execute_result"
    }
   ],
   "source": [
    "# test out the similarity search\n",
    "query = \"What laws and amendments relate to perjury?\"\n",
    "response = db.similarity_search(query, k=10)\n",
    "# let's look at the first 3 retrieved docs\n",
    "response[:3]"
   ]
  },
  {
   "cell_type": "code",
   "execution_count": 9,
   "metadata": {},
   "outputs": [],
   "source": [
    "from langchain.tools.retriever import create_retriever_tool\n",
    "\n",
    "# convert this retriver into a tool\n",
    "db_retriever = db.as_retriever()\n",
    "db_retriever_tool = create_retriever_tool(\n",
    "    db_retriever,\n",
    "    name = \"law_dataset_retriever\",\n",
    "    description = \"Retrieve relevant context from the US laws dataset.\"\n",
    ")"
   ]
  },
  {
   "cell_type": "markdown",
   "metadata": {},
   "source": [
    "## Instantiating the You.com Tool in Langchain"
   ]
  },
  {
   "cell_type": "code",
   "execution_count": 10,
   "metadata": {},
   "outputs": [],
   "source": [
    "from langchain_community.tools.you import YouSearchTool\n",
    "from langchain_community.utilities.you import YouSearchAPIWrapper\n",
    "\n",
    "api_wrapper = YouSearchAPIWrapper(num_web_results = 10)\n",
    "ydc_tool = YouSearchTool(api_wrapper=api_wrapper)"
   ]
  },
  {
   "cell_type": "code",
   "execution_count": 11,
   "metadata": {},
   "outputs": [
    {
     "data": {
      "text/plain": [
       "[Document(page_content='Meijer, Inc. v. Ferring B.V.; Ferring Pharmaceuticals, Inc.; and Aventis Pharmaceuticals [In Re: DDAVP Direct Purchaser Antitrust Litigation] U.S. v. Memphis Board of Realtors', metadata={'url': 'https://www.justice.gov/atr/antitrust-case-filings-alpha', 'thumbnail_url': None, 'title': 'Antitrust Division | Antitrust Case Filings | United States Department of Justice', 'description': 'An official website of the United States government · Official websites use .gov A .gov website belongs to an official government organization in the United States'}),\n",
       " Document(page_content=\"Dentsply International, Inc. v. Antitrust Division of the United States Department of Justice · U.S. v. Freddy Deoliveira · U.S. v. Wilhelm DerMinassian · U.S. v. Eric Descouraux · Leinani Deslandes, Stephanie Turner, et al. v. McDonald's USA, LLC, et al.\", metadata={'url': 'https://www.justice.gov/atr/antitrust-case-filings-alpha', 'thumbnail_url': None, 'title': 'Antitrust Division | Antitrust Case Filings | United States Department of Justice', 'description': 'An official website of the United States government · Official websites use .gov A .gov website belongs to an official government organization in the United States'}),\n",
       " Document(page_content='U.S. v. Arden-Mayfair, Inc., Matanuska Maid, Inc.; and Meadowmoor Alaska Dairy, Inc. U.S. v. Argos USA LLC, f.k.a. Argos Ready Mix LLC', metadata={'url': 'https://www.justice.gov/atr/antitrust-case-filings-alpha', 'thumbnail_url': None, 'title': 'Antitrust Division | Antitrust Case Filings | United States Department of Justice', 'description': 'An official website of the United States government · Official websites use .gov A .gov website belongs to an official government organization in the United States'})]"
      ]
     },
     "execution_count": 11,
     "metadata": {},
     "output_type": "execute_result"
    }
   ],
   "source": [
    "# test out the You.com search tool\n",
    "response = ydc_tool.invoke(\"Tell me about a recent high-profile case related to antitrust in the USA?\")\n",
    "# let's look at the first 3 results\n",
    "response[:3]"
   ]
  },
  {
   "cell_type": "markdown",
   "metadata": {},
   "source": [
    "## Instantiate our LLM"
   ]
  },
  {
   "cell_type": "code",
   "execution_count": 12,
   "metadata": {},
   "outputs": [],
   "source": [
    "from langchain_openai import ChatOpenAI\n",
    "\n",
    "llm = ChatOpenAI(model=\"gpt-4o\", temperature=0.5)"
   ]
  },
  {
   "cell_type": "markdown",
   "metadata": {},
   "source": [
    "## Tying it all together"
   ]
  },
  {
   "cell_type": "code",
   "execution_count": 13,
   "metadata": {},
   "outputs": [],
   "source": [
    "from langgraph.prebuilt import chat_agent_executor\n",
    "from langgraph.checkpoint import MemorySaver\n",
    "\n",
    "# Create a checkpointer to use memory\n",
    "memory = MemorySaver()\n",
    "# the vector store representation of the CSV dataset and the You.com Search tool will both be passed as tools to the agent\n",
    "tools = [db_retriever_tool, ydc_tool]\n",
    "agent_executor = chat_agent_executor.create_tool_calling_executor(llm, tools, checkpointer=memory)"
   ]
  },
  {
   "cell_type": "markdown",
   "metadata": {},
   "source": [
    "## Let's try it out!"
   ]
  },
  {
   "cell_type": "code",
   "execution_count": 14,
   "metadata": {},
   "outputs": [
    {
     "data": {
      "text/plain": [
       "'### US Laws Pertaining to Perjury\\n\\n1. **Federal Law on Perjury**:\\n   - **18 U.S.C. § 1621**: This statute makes it a crime to knowingly make false statements under oath in any federal proceeding. The elements of the crime include:\\n     - Making a false statement under oath.\\n     - The statement must be material to the proceeding.\\n     - The statement must be made with willful intent to deceive.\\n\\n2. **Historical Acts**:\\n   - **An Act to permit the use of unsworn declarations under penalty of perjury as evidence in Federal proceedings** (1976): This act allows for unsworn declarations to be used as evidence under the penalty of perjury in federal proceedings. [Link to the Act](https://www.govinfo.gov/content/pkg/STATUTE-90/pdf/STATUTE-90-Pg2534.pdf)\\n   - **An Act for the punishment of the crime of perjury** (1823): This early legislation laid the foundation for the punishment of perjury in public accounts and other matters.\\n\\n3. **Amendments and Related Acts**:\\n   - **An act to amend title 18, United States Code, with respect to witness retaliation, witness tampering, and jury tampering** (1996): This act includes provisions related to perjury in the context of witness and jury tampering. [Link to the Act](https://www.govinfo.gov/content/pkg/STATUTE-110/pdf/STATUTE-110-Pg3017.pdf)\\n\\n### Recent Case Related to Perjury\\n\\n**Case: Marilyn Mosby, Former Baltimore Prosecutor**\\n\\n- **Details**: Marilyn Mosby, the former top prosecutor of Baltimore, was found guilty of perjury on November 9, 2023. She was convicted for falsely claiming financial duress to withdraw funds from a retirement plan. Despite earning a gross annual salary of nearly $250,000 at the time, Mosby claimed financial hardship due to COVID-19 to request two early withdrawals totaling $90,000 from her city employee retirement account. The funds were used towards down payments on two vacation homes in Florida.\\n\\n- **Outcome**: A U.S. District Court jury in Greenbelt, Maryland, convicted Mosby on both federal perjury counts after hours of deliberation. Each count carries a maximum penalty of five years in prison. Sentencing has yet to be scheduled.\\n\\n- **Sources**:\\n  - [Reuters](https://www.reuters.com/world/us/former-top-baltimore-prosecutor-convicted-federal-perjury-charges-2023-11-10/)\\n  - [New York Times](https://www.nytimes.com/2023/11/09/us/marilyn-mosby-baltimore-guilty-perjury.html)\\n\\nThis recent case highlights the serious legal consequences of committing perjury, even for high-profile individuals.'"
      ]
     },
     "execution_count": 14,
     "metadata": {},
     "output_type": "execute_result"
    }
   ],
   "source": [
    "agent_executor.invoke(input={\"messages\": \"What laws in the US pertain to perjury and is there a recent case in the US that relates to a violation of these laws?\"}, config={\"configurable\": {\"thread_id\": \"xyz_789\"}})[\"messages\"][-1].content"
   ]
  },
  {
   "cell_type": "code",
   "execution_count": 15,
   "metadata": {},
   "outputs": [
    {
     "data": {
      "text/plain": [
       "\"The most famous U.S. Supreme Court case related to perjury is **Bronston v. United States (1973)**.\\n\\n### Bronston v. United States (409 U.S. 352)\\n\\n**Summary**:\\n- **Facts**: Samuel Bronston, a film producer, was questioned under oath during a bankruptcy proceeding about his company's foreign bank accounts. He provided answers that were technically truthful but misleading. For example, when asked if he had any Swiss bank accounts, he responded with information about his company's accounts, not his own.\\n- **Issue**: Whether a literally truthful but misleading answer given under oath can constitute perjury.\\n- **Decision**: The Supreme Court, in a unanimous decision written by Chief Justice Warren Burger, held that a witness cannot be convicted of perjury for giving a literally truthful answer that is misleading by negative implication. The Court emphasized that it is the responsibility of the questioner to ask precise and follow-up questions to clarify any ambiguities.\\n- **Impact**: This decision established that perjury under federal law requires a statement that is not only misleading but also false. It has become the controlling legal standard for perjury in federal jurisprudence.\\n\\n**Significance**:\\n- The decision has been cited in many cases since then and has become a cornerstone in perjury law, particularly in emphasizing the need for precise questioning.\\n- It was notably invoked during the impeachment proceedings of President Bill Clinton in 1998 as a defense against charges of perjury.\\n- The ruling has been both praised for protecting witnesses from unfair prosecution and criticized for creating a loophole that allows witnesses to evade perjury charges by giving misleading but technically truthful answers.\\n\\nFor more detailed information, you can refer to the [Wikipedia page on Bronston v. United States](https://en.wikipedia.org/wiki/Bronston_v._United_States).\""
      ]
     },
     "execution_count": 15,
     "metadata": {},
     "output_type": "execute_result"
    }
   ],
   "source": [
    "agent_executor.invoke(input={\"messages\": \"What is the most famous US Supreme Court perjury case?\"}, config={\"configurable\": {\"thread_id\": \"xyz_789\"}})[\"messages\"][-1].content"
   ]
  },
  {
   "cell_type": "code",
   "execution_count": 16,
   "metadata": {},
   "outputs": [
    {
     "data": {
      "text/plain": [
       "'In the context of the **Bronston v. United States** case, the primary legal framework applied was the federal perjury statute under **18 U.S.C. § 1621**, which requires that a statement be false and made with willful intent to deceive. Given the specifics of the case, where Bronston\\'s statements were misleading but technically truthful, it is challenging to apply other perjury-related laws directly. However, other related statutes and legal concepts might have been considered depending on the circumstances and the nature of the questioning.\\n\\n### Potentially Applicable Laws and Concepts\\n\\n1. **18 U.S.C. § 1623 - False Declarations Before Grand Jury or Court**:\\n   - This statute is similar to § 1621 but is specifically focused on false declarations made in court or before a grand jury. It also requires the false statement to be material. However, like § 1621, it requires the statement to be false, not just misleading.\\n\\n2. **18 U.S.C. § 1001 - False Statements**:\\n   - This law makes it a crime to knowingly and willfully make false or fraudulent statements or representations in any matter within the jurisdiction of the executive, legislative, or judicial branch of the U.S. Government. While it covers a broader range of false statements, it still requires the statement to be false rather than merely misleading.\\n\\n3. **Contempt of Court**:\\n   - If Bronston\\'s misleading statements had been seen as an obstruction of the judicial process, he might have been charged with contempt of court. Contempt charges can be used to address behavior that disrespects or undermines the authority of the court, including evasive or obstructive testimony.\\n\\n4. **Obstruction of Justice**:\\n   - Under certain circumstances, misleading statements that impede the administration of justice could potentially be prosecuted under obstruction of justice statutes. However, proving obstruction of justice typically requires demonstrating that the misleading conduct had a significant impact on the proceedings.\\n\\n5. **Perjury Trap**:\\n   - Although not a separate law, the concept of a \"perjury trap\" can be relevant. This occurs when a prosecutor calls a witness to testify with the primary intention of eliciting perjury. If it were proven that the questioning was designed to induce Bronston to make misleading statements, it might have influenced the legal strategy.\\n\\n### Legal Strategy and Application\\n\\nIn the **Bronston** case, the Supreme Court\\'s decision highlighted the importance of precise questioning. The ruling underscored that the burden is on the questioner to clarify and follow up on ambiguous answers. Given this context, applying other perjury-related laws would likely face similar challenges unless the misleading statements could be clearly shown to meet the criteria of falsehood and materiality required by those statutes.\\n\\nThe decision in **Bronston v. United States** serves as a critical precedent in delineating the boundaries of perjury and the responsibilities of legal practitioners in framing their questions to avoid ambiguities that could allow witnesses to evade perjury charges through technically truthful but misleading answers.'"
      ]
     },
     "execution_count": 16,
     "metadata": {},
     "output_type": "execute_result"
    }
   ],
   "source": [
    "agent_executor.invoke(input={\"messages\": \"Based on your knowledge of all laws in the US pertaining to perjury, were there any other laws that could have been applied in this case?\"}, config={\"configurable\": {\"thread_id\": \"xyz_789\"}})[\"messages\"][-1].content"
   ]
  },
  {
   "cell_type": "markdown",
   "metadata": {},
   "source": [
    "## Let's create a Python class that encapsulates the code above.  This will enable users to easily create chatbots for new use cases with custom CSV datasets"
   ]
  },
  {
   "cell_type": "code",
   "execution_count": 19,
   "metadata": {},
   "outputs": [],
   "source": [
    "import secrets\n",
    "\n",
    "class CSV_QA_Bot:\n",
    "    def __init__(self, llm: ChatOpenAI, csv_files: list[str], num_web_results_to_fetch: int = 10):\n",
    "        self._llm = llm\n",
    "        \n",
    "        docs = self._load_csv_files(csv_files)\n",
    "        \n",
    "        # split the docs into chunks, vectorize the chunks and load them into a vector store\n",
    "        db = self._create_vector_store(docs)\n",
    "        \n",
    "        # create a retriever from the vector store\n",
    "        self._faiss_retriever = db.as_retriever()\n",
    "        \n",
    "        # convert this retriever into a Langchain tool\n",
    "        self._faiss_retriever_tool = create_retriever_tool(\n",
    "            self._faiss_retriever,\n",
    "            name = \"law_dataset_retriever\",\n",
    "            description = \"Retrieve relevant context from the US laws dataset.\"\n",
    "        )\n",
    "        \n",
    "        # instantiate the YDC search tool in Langchain\n",
    "        self._ydc_api_wrapper = YouSearchAPIWrapper(num_web_results=num_web_results_to_fetch)\n",
    "        self._ydc_search_tool = YouSearchTool(api_wrapper=self._ydc_api_wrapper)\n",
    "        \n",
    "        \n",
    "        # create a list of tools that will be supplied to the Langchain agent\n",
    "        self._tools = [self._faiss_retriever_tool, self._ydc_search_tool]\n",
    "        \n",
    "        # Create a checkpointer to use memory\n",
    "        self._memory = MemorySaver()\n",
    "        \n",
    "        # create the agent executor\n",
    "        self._agent_executor = chat_agent_executor.create_tool_calling_executor(self._llm, tools, checkpointer=memory)\n",
    "        \n",
    "        # generate a thread ID for to keep track of conversation history\n",
    "        self._thread_id = self._generate_thread_id()\n",
    "\n",
    "    def _load_csv_files(self, csv_files: list[str]) -> list:\n",
    "        docs = []\n",
    "        for file in csv_files:\n",
    "            data_loader = CSVLoader(file)\n",
    "            docs.extend(data_loader.load())\n",
    "        return docs\n",
    "    \n",
    "    def _create_vector_store(self, docs: list) -> FAISS:\n",
    "        text_splitter = RecursiveCharacterTextSplitter(chunk_size = 1000, chunk_overlap = 100)\n",
    "        chunked_docs = text_splitter.split_documents(docs)\n",
    "        embeddings = OpenAIEmbeddings()\n",
    "        return FAISS.from_documents(documents=chunked_docs, embedding=embeddings)\n",
    "\n",
    "    def _generate_thread_id(self) -> str:\n",
    "        thread_id = secrets.token_urlsafe(16)\n",
    "        return thread_id\n",
    "    \n",
    "    def invoke_bot(self, input_str: str) -> str:\n",
    "        input = {\"messages\": input_str}\n",
    "        config = {\"configurable\": {\"thread_id\": self._thread_id}}\n",
    "        output = self._agent_executor.invoke(input=input, config=config)[\"messages\"][-1].content\n",
    "        return output"
   ]
  },
  {
   "cell_type": "markdown",
   "metadata": {},
   "source": [
    "## Let's try it out!"
   ]
  },
  {
   "cell_type": "code",
   "execution_count": 20,
   "metadata": {},
   "outputs": [],
   "source": [
    "conversational_agent = CSV_QA_Bot(llm, csv_files=[\"us_laws_dataset.csv\"])"
   ]
  },
  {
   "cell_type": "code",
   "execution_count": 21,
   "metadata": {},
   "outputs": [
    {
     "data": {
      "text/plain": [
       "\"### US Anti-Trust Laws\\n\\n1. **Sherman Act (1890)**: This is the foundational antitrust law in the United States, prohibiting monopolistic practices and promoting fair competition. It addresses and outlaws monopolistic behavior and conspiracies that restrain trade or commerce.\\n   - [Full Text](https://www.govinfo.gov/content/pkg/STATUTE-26/pdf/STATUTE-26-Pg209.pdf)\\n\\n2. **Clayton Act (1914)**: This act builds on the Sherman Act by addressing specific practices that could lead to anticompetitive behavior. It covers topics such as price discrimination, exclusive dealing agreements, and mergers and acquisitions that may substantially lessen competition.\\n   - [Full Text](https://www.govinfo.gov/content/pkg/STATUTE-38/pdf/STATUTE-38-Pg730.pdf)\\n\\n3. **Federal Trade Commission Act (1914)**: This act established the Federal Trade Commission (FTC) and outlaws unfair methods of competition and unfair or deceptive acts or practices in or affecting commerce.\\n   - [Full Text](https://www.govinfo.gov/content/pkg/STATUTE-38/pdf/STATUTE-38-Pg717.pdf)\\n\\n4. **Robinson-Patman Act (1936)**: This act is an amendment to the Clayton Act and prohibits anticompetitive practices by producers, specifically price discrimination.\\n   - [Full Text](https://www.govinfo.gov/content/pkg/STATUTE-49/pdf/STATUTE-49-Pg1526.pdf)\\n\\n5. **Celler-Kefauver Act (1950)**: This act is another amendment to the Clayton Act, aimed at closing loopholes regarding asset acquisitions that could lead to reduced competition.\\n   - [Full Text](https://www.govinfo.gov/content/pkg/STATUTE-64/pdf/STATUTE-64-Pg1125.pdf)\\n\\n### Recent US Anti-Trust Cases (2023)\\n\\n1. **Pro-Mark Services, Inc.**: On October 30, 2023, the Department of Justice's Antitrust Division and the United States Attorney’s Office for the District of North Dakota entered into a non-prosecution agreement with Pro-Mark Services, Inc. The company's former owners executed a scheme to obtain government set-aside construction contracts amounting to approximately $70 million in federal contracts despite not being eligible.\\n   - [Details](https://www.justice.gov/atr/antitrust-case-filings)\\n\\n2. **Google LLC**: The U.S. filed a suit to stop Google from protecting its search and advertising monopolies through exclusionary agreements designed to lock up the primary avenues through which users access search engines. The trial began on September 12, 2023.\\n   - [Details](https://www.justice.gov/atr/case/us-and-plaintiff-states-v-google-llc-2023)\\n\\n3. **RealPage, Inc.**: On November 1, 2023, the Attorney General’s Office for the District of Columbia filed a suit against RealPage, Inc. and multiple residential property companies alleging violations of the District of Columbia’s antitrust statute. The complaint alleges these companies entered into an illegal agreement to collectively raise rents on tenants in Washington, D.C. rental units.\\n   - [Details](https://www.arnoldporter.com/en/perspectives/advisories/2024/02/developments-in-us-antitrust-litigation-2023)\\n\\n4. **Live Nation Entertainment**: The company, which owns Ticketmaster, is accused of violating antitrust laws. The Justice Department drew on the concert behemoth’s internal communications in its lawsuit.\\n   - [Details](https://www.nytimes.com/topic/subject/antitrust-laws-and-competition-issues)\\n\\nThese cases highlight the ongoing efforts to enforce antitrust laws in various industries, from tech giants to local construction companies.\""
      ]
     },
     "execution_count": 21,
     "metadata": {},
     "output_type": "execute_result"
    }
   ],
   "source": [
    "conversational_agent.invoke_bot(\"What laws in the US pertain to anti-trust and is there a recent case in the USA that pertains to violations of these laws?\")"
   ]
  },
  {
   "cell_type": "code",
   "execution_count": 22,
   "metadata": {},
   "outputs": [
    {
     "data": {
      "text/plain": [
       "'One of the most famous U.S. Supreme Court antitrust cases is **Standard Oil Co. of New Jersey v. United States (1911)**. This landmark case led to the breakup of the Standard Oil Company, which was deemed to have violated the Sherman Antitrust Act by engaging in monopolistic practices and restraining trade.\\n\\n### Key Details of the Case:\\n\\n- **Background**: Standard Oil, founded by John D. Rockefeller, had grown to dominate the oil industry in the United States through a series of aggressive and often underhanded business practices, including predatory pricing and acquiring competitors.\\n  \\n- **Legal Issue**: The main issue was whether Standard Oil\\'s business practices constituted an illegal monopoly under the Sherman Antitrust Act of 1890.\\n\\n- **Supreme Court Decision**: In 1911, the Supreme Court ruled that Standard Oil was an illegal monopoly and ordered its dissolution. The Court applied the \"rule of reason,\" which means that only those combinations and contracts unreasonably restraining trade are subject to actions under the Sherman Act.\\n\\n- **Outcome**: The decision led to the breakup of Standard Oil into 34 separate companies, many of which became major players in the oil industry themselves, such as Exxon, Mobil, and Chevron.\\n\\n### Significance:\\n\\n- **Legal Precedent**: The case established the \"rule of reason\" as a standard for evaluating whether business practices constitute unreasonable restraints on trade.\\n  \\n- **Impact on Business Practices**: It marked a significant step in the U.S. government\\'s efforts to regulate monopolistic practices and maintain competitive markets.\\n  \\n- **Public Perception**: The case had a profound impact on public perception of monopolies and the role of government in regulating large corporations.\\n\\n### Further Reading:\\n\\n- [Full Text of the Decision](https://www.law.cornell.edu/supremecourt/text/221/1)\\n- [Summary and Analysis](https://www.oyez.org/cases/1900-1940/221us1)\\n\\nThis case remains a cornerstone in antitrust law and is frequently cited in discussions about monopolies and market competition.'"
      ]
     },
     "execution_count": 22,
     "metadata": {},
     "output_type": "execute_result"
    }
   ],
   "source": [
    "conversational_agent.invoke_bot(\"What is the most famous US Supreme Court anti-trust case?\")"
   ]
  },
  {
   "cell_type": "code",
   "execution_count": 23,
   "metadata": {},
   "outputs": [
    {
     "data": {
      "text/plain": [
       "\"The **Standard Oil Co. of New Jersey v. United States (1911)** case primarily involved the application of the Sherman Antitrust Act of 1890. However, several other antitrust laws could potentially have been applied or considered in similar contexts, had they existed at the time or been relevant to the specifics of the case. Here are some key antitrust laws and their potential applicability:\\n\\n### 1. **Clayton Act (1914)**\\n- **Provisions**: Addresses specific practices that the Sherman Act does not explicitly cover, such as price discrimination, exclusive dealing agreements, and mergers and acquisitions that may substantially lessen competition.\\n- **Applicability**: If the Clayton Act had been in effect at the time, it could have been used to address Standard Oil's acquisition of competitors and practices like exclusive dealing and price discrimination.\\n\\n### 2. **Federal Trade Commission Act (1914)**\\n- **Provisions**: Establishes the Federal Trade Commission (FTC) and prohibits unfair methods of competition and unfair or deceptive acts or practices in or affecting commerce.\\n- **Applicability**: The FTC could have investigated and taken action against Standard Oil's unfair business practices, adding another layer of regulatory scrutiny.\\n\\n### 3. **Robinson-Patman Act (1936)**\\n- **Provisions**: Prohibits anticompetitive practices by producers, specifically price discrimination that harms competition.\\n- **Applicability**: If Standard Oil engaged in price discrimination to undercut competitors, this act could have been used to address such practices.\\n\\n### 4. **Celler-Kefauver Act (1950)**\\n- **Provisions**: Amends the Clayton Act to close loopholes regarding asset acquisitions that could lead to reduced competition.\\n- **Applicability**: This act would have strengthened the government's ability to challenge Standard Oil's acquisition of competitors, potentially preventing the creation of such a dominant monopoly.\\n\\n### Hypothetical Application of These Laws:\\n\\n- **Sherman Act**: The primary law used in the case, addressing the overall monopolistic practices and conspiracy to restrain trade.\\n- **Clayton Act**: Could have been used to specifically target Standard Oil's mergers and acquisitions that substantially lessened competition.\\n- **FTC Act**: The FTC could have pursued actions against Standard Oil for unfair methods of competition and deceptive practices.\\n- **Robinson-Patman Act**: If price discrimination was a significant tactic used by Standard Oil, this act would have been relevant.\\n- **Celler-Kefauver Act**: Strengthened provisions against anticompetitive mergers and acquisitions, which were central to Standard Oil's strategy.\\n\\n### Conclusion:\\n\\nWhile the Sherman Antitrust Act was the primary tool used to break up Standard Oil, the subsequent development of additional antitrust laws like the Clayton Act and FTC Act provided more specific and robust mechanisms to address various anticompetitive practices. Had these laws been in effect or applicable at the time, they could have provided additional grounds for legal action against Standard Oil's monopolistic behavior.\""
      ]
     },
     "execution_count": 23,
     "metadata": {},
     "output_type": "execute_result"
    }
   ],
   "source": [
    "conversational_agent.invoke_bot(\"Based on your knowledge of all laws in the USA relating to anti-trust, were there any other laws that could have been applied in this case?\")"
   ]
  }
 ],
 "metadata": {
  "kernelspec": {
   "display_name": "llm-practice",
   "language": "python",
   "name": "python3"
  },
  "language_info": {
   "codemirror_mode": {
    "name": "ipython",
    "version": 3
   },
   "file_extension": ".py",
   "mimetype": "text/x-python",
   "name": "python",
   "nbconvert_exporter": "python",
   "pygments_lexer": "ipython3",
   "version": "3.10.14"
  }
 },
 "nbformat": 4,
 "nbformat_minor": 2
}
