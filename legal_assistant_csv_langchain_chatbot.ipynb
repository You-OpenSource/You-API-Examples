{
 "cells": [
  {
   "cell_type": "markdown",
   "metadata": {},
   "source": [
    "# Legal Assistant Bot"
   ]
  },
  {
   "cell_type": "markdown",
   "metadata": {},
   "source": [
    "This chatbot retrieves context from a proprietary datasource and the web to answer questions about federal laws in the United States of America (USA).  The proprietary datasource is a CSV file of all federal laws and their revision history in the USA.  The web data required to respond to the user's questions is retrieved using the You.com API.  The chatbot is implemented as an agent in Langchain."
   ]
  },
  {
   "cell_type": "markdown",
   "metadata": {},
   "source": [
    "## Install all required packages"
   ]
  },
  {
   "cell_type": "code",
   "execution_count": 1,
   "metadata": {},
   "outputs": [],
   "source": [
    "%%capture\n",
    "! pip install langgraph==0.0.59\n",
    "! pip install pandas==2.2.2\n",
    "! pip install openai==1.30.3\n",
    "! pip install langchain==0.2.1\n",
    "! pip install langchain_community==0.2.1\n",
    "! pip install langchain_openai==0.1.7\n",
    "! pip install langchain-anthropic\n",
    "! pip install langchain_text_splitters==0.2.0\n",
    "! pip install langchain_core==0.2.1\n",
    "! pip install numpy==1.26.4\n",
    "! pip install python-dotenv"
   ]
  },
  {
   "cell_type": "markdown",
   "metadata": {},
   "source": [
    "## Load in the US Federal Laws dataset and create a vector database representation of this dataset, which will then be converted into a Langchain Retriever and Tool"
   ]
  },
  {
   "cell_type": "code",
   "execution_count": 2,
   "metadata": {},
   "outputs": [
    {
     "data": {
      "text/html": [
       "<div>\n",
       "<style scoped>\n",
       "    .dataframe tbody tr th:only-of-type {\n",
       "        vertical-align: middle;\n",
       "    }\n",
       "\n",
       "    .dataframe tbody tr th {\n",
       "        vertical-align: top;\n",
       "    }\n",
       "\n",
       "    .dataframe thead th {\n",
       "        text-align: right;\n",
       "    }\n",
       "</style>\n",
       "<table border=\"1\" class=\"dataframe\">\n",
       "  <thead>\n",
       "    <tr style=\"text-align: right;\">\n",
       "      <th></th>\n",
       "      <th>row_number</th>\n",
       "      <th>action</th>\n",
       "      <th>Title</th>\n",
       "      <th>sal_volume</th>\n",
       "      <th>sal_page_start</th>\n",
       "      <th>BillCitation</th>\n",
       "      <th>congress_number</th>\n",
       "      <th>chapter</th>\n",
       "      <th>session_number</th>\n",
       "      <th>pl_no</th>\n",
       "      <th>date_of_passage</th>\n",
       "      <th>secondary_date</th>\n",
       "      <th>dates_conflict</th>\n",
       "      <th>Source</th>\n",
       "      <th>URL</th>\n",
       "      <th>alternate_sal_volume</th>\n",
       "      <th>alternate_sal_page_start</th>\n",
       "      <th>has_alternate_sal_citation</th>\n",
       "    </tr>\n",
       "  </thead>\n",
       "  <tbody>\n",
       "    <tr>\n",
       "      <th>0</th>\n",
       "      <td>1</td>\n",
       "      <td>An Act</td>\n",
       "      <td>To regulate the time and manner of administeri...</td>\n",
       "      <td>1</td>\n",
       "      <td>23.0</td>\n",
       "      <td>NaN</td>\n",
       "      <td>1</td>\n",
       "      <td>1.0</td>\n",
       "      <td>1.0</td>\n",
       "      <td>NaN</td>\n",
       "      <td>1789-06-01</td>\n",
       "      <td>NaN</td>\n",
       "      <td>NaN</td>\n",
       "      <td>HeinOnline</td>\n",
       "      <td>NaN</td>\n",
       "      <td>NaN</td>\n",
       "      <td>NaN</td>\n",
       "      <td>False</td>\n",
       "    </tr>\n",
       "    <tr>\n",
       "      <th>1</th>\n",
       "      <td>2</td>\n",
       "      <td>An Act</td>\n",
       "      <td>For laying a duty on goods, wares, and merchan...</td>\n",
       "      <td>1</td>\n",
       "      <td>24.0</td>\n",
       "      <td>NaN</td>\n",
       "      <td>1</td>\n",
       "      <td>2.0</td>\n",
       "      <td>1.0</td>\n",
       "      <td>NaN</td>\n",
       "      <td>1789-07-04</td>\n",
       "      <td>NaN</td>\n",
       "      <td>NaN</td>\n",
       "      <td>HeinOnline</td>\n",
       "      <td>NaN</td>\n",
       "      <td>NaN</td>\n",
       "      <td>NaN</td>\n",
       "      <td>False</td>\n",
       "    </tr>\n",
       "    <tr>\n",
       "      <th>2</th>\n",
       "      <td>3</td>\n",
       "      <td>An Act</td>\n",
       "      <td>Imposing duties on tonnage.</td>\n",
       "      <td>1</td>\n",
       "      <td>27.0</td>\n",
       "      <td>NaN</td>\n",
       "      <td>1</td>\n",
       "      <td>3.0</td>\n",
       "      <td>1.0</td>\n",
       "      <td>NaN</td>\n",
       "      <td>1789-07-20</td>\n",
       "      <td>NaN</td>\n",
       "      <td>NaN</td>\n",
       "      <td>HeinOnline</td>\n",
       "      <td>NaN</td>\n",
       "      <td>NaN</td>\n",
       "      <td>NaN</td>\n",
       "      <td>False</td>\n",
       "    </tr>\n",
       "    <tr>\n",
       "      <th>3</th>\n",
       "      <td>4</td>\n",
       "      <td>An Act</td>\n",
       "      <td>For establishing an executive department to be...</td>\n",
       "      <td>1</td>\n",
       "      <td>28.0</td>\n",
       "      <td>NaN</td>\n",
       "      <td>1</td>\n",
       "      <td>4.0</td>\n",
       "      <td>1.0</td>\n",
       "      <td>NaN</td>\n",
       "      <td>1789-07-27</td>\n",
       "      <td>NaN</td>\n",
       "      <td>NaN</td>\n",
       "      <td>HeinOnline</td>\n",
       "      <td>NaN</td>\n",
       "      <td>NaN</td>\n",
       "      <td>NaN</td>\n",
       "      <td>False</td>\n",
       "    </tr>\n",
       "    <tr>\n",
       "      <th>4</th>\n",
       "      <td>5</td>\n",
       "      <td>An Act</td>\n",
       "      <td>To regulate the collection of the duties impos...</td>\n",
       "      <td>1</td>\n",
       "      <td>29.0</td>\n",
       "      <td>NaN</td>\n",
       "      <td>1</td>\n",
       "      <td>5.0</td>\n",
       "      <td>1.0</td>\n",
       "      <td>NaN</td>\n",
       "      <td>1789-07-31</td>\n",
       "      <td>NaN</td>\n",
       "      <td>NaN</td>\n",
       "      <td>HeinOnline</td>\n",
       "      <td>NaN</td>\n",
       "      <td>NaN</td>\n",
       "      <td>NaN</td>\n",
       "      <td>False</td>\n",
       "    </tr>\n",
       "  </tbody>\n",
       "</table>\n",
       "</div>"
      ],
      "text/plain": [
       "   row_number  action                                              Title  \\\n",
       "0           1  An Act  To regulate the time and manner of administeri...   \n",
       "1           2  An Act  For laying a duty on goods, wares, and merchan...   \n",
       "2           3  An Act                        Imposing duties on tonnage.   \n",
       "3           4  An Act  For establishing an executive department to be...   \n",
       "4           5  An Act  To regulate the collection of the duties impos...   \n",
       "\n",
       "   sal_volume  sal_page_start BillCitation  congress_number  chapter  \\\n",
       "0           1            23.0          NaN                1      1.0   \n",
       "1           1            24.0          NaN                1      2.0   \n",
       "2           1            27.0          NaN                1      3.0   \n",
       "3           1            28.0          NaN                1      4.0   \n",
       "4           1            29.0          NaN                1      5.0   \n",
       "\n",
       "   session_number pl_no date_of_passage secondary_date dates_conflict  \\\n",
       "0             1.0   NaN      1789-06-01            NaN            NaN   \n",
       "1             1.0   NaN      1789-07-04            NaN            NaN   \n",
       "2             1.0   NaN      1789-07-20            NaN            NaN   \n",
       "3             1.0   NaN      1789-07-27            NaN            NaN   \n",
       "4             1.0   NaN      1789-07-31            NaN            NaN   \n",
       "\n",
       "       Source  URL  alternate_sal_volume  alternate_sal_page_start  \\\n",
       "0  HeinOnline  NaN                   NaN                       NaN   \n",
       "1  HeinOnline  NaN                   NaN                       NaN   \n",
       "2  HeinOnline  NaN                   NaN                       NaN   \n",
       "3  HeinOnline  NaN                   NaN                       NaN   \n",
       "4  HeinOnline  NaN                   NaN                       NaN   \n",
       "\n",
       "   has_alternate_sal_citation  \n",
       "0                       False  \n",
       "1                       False  \n",
       "2                       False  \n",
       "3                       False  \n",
       "4                       False  "
      ]
     },
     "execution_count": 2,
     "metadata": {},
     "output_type": "execute_result"
    }
   ],
   "source": [
    "# Let's take a look at our CSV dataset first\n",
    "import pandas as pd\n",
    "\n",
    "# The CSV file can be downloaded from: https://www.nature.com/articles/s41597-023-02758-z#Sec3\n",
    "df = pd.read_csv(\"us_laws_dataset.csv\")\n",
    "\n",
    "df.head()"
   ]
  },
  {
   "cell_type": "code",
   "execution_count": 3,
   "metadata": {},
   "outputs": [],
   "source": [
    "import openai\n",
    "import langchain\n",
    "import os"
   ]
  },
  {
   "cell_type": "code",
   "execution_count": 4,
   "metadata": {},
   "outputs": [
    {
     "data": {
      "text/plain": [
       "True"
      ]
     },
     "execution_count": 4,
     "metadata": {},
     "output_type": "execute_result"
    }
   ],
   "source": [
    "#os.environ[\"YDC_API_KEY\"] = \"<Insert your YDC API key here>\"\n",
    "#os.environ[\"OPENAI_API_KEY\"] = \"<Insert your Open AI API key here>\"\n",
    "#os.environ[\"ANTHROPIC_API_KEY\"] = \"<Insert your Anthropic API key here>\"\n",
    "\n",
    "# Or load from .env file\n",
    "from dotenv import load_dotenv\n",
    "load_dotenv()"
   ]
  },
  {
   "cell_type": "code",
   "execution_count": 5,
   "metadata": {},
   "outputs": [],
   "source": [
    "from langchain_community.document_loaders.csv_loader import CSVLoader\n",
    "\n",
    "# The CSV file can be downloaded from: https://www.nature.com/articles/s41597-023-02758-z#Sec3\n",
    "loader = CSVLoader(file_path = \"us_laws_dataset.csv\")\n",
    "\n",
    "data = loader.load()"
   ]
  },
  {
   "cell_type": "code",
   "execution_count": 6,
   "metadata": {},
   "outputs": [],
   "source": [
    "from langchain_community.vectorstores import FAISS\n",
    "from langchain_openai import OpenAIEmbeddings\n",
    "from langchain.text_splitter import RecursiveCharacterTextSplitter\n",
    "\n",
    "# split the document into chunks, and vectorize these chunks in a FAISS database\n",
    "text_splitter = RecursiveCharacterTextSplitter(chunk_size = 1000, chunk_overlap = 100)\n",
    "docs = text_splitter.split_documents(data)\n",
    "embeddings = OpenAIEmbeddings()\n",
    "db = FAISS.from_documents(documents=docs, embedding=embeddings)"
   ]
  },
  {
   "cell_type": "code",
   "execution_count": 7,
   "metadata": {},
   "outputs": [
    {
     "data": {
      "text/plain": [
       "[Document(page_content='row_number: 1885\\naction: An Act\\nTitle: In addition to the act, entitled \"An act for the prompt settlement of public accounts,\" and for the punishment of the crime of perjury\\nsal_volume: 3\\nsal_page_start: 770\\nBillCitation: NA\\ncongress_number: 17\\nchapter: 37\\nsession_number: 2\\npl_no: NA\\ndate_of_passage: 1823-03-01\\nsecondary_date: NA\\ndates_conflict: NA\\nSource: HeinOnline\\nURL: NA\\nalternate_sal_volume: NA\\nalternate_sal_page_start: NA\\nhas_alternate_sal_citation: FALSE', metadata={'source': 'us_laws_dataset.csv', 'row': 1884}),\n",
       " Document(page_content='row_number: 38724\\naction: An Act\\nTitle: An act to permit the use of unsworn declarations under penalty of perjury as evidence in Federal proceedings\\nsal_volume: 90\\nsal_page_start: 2534\\nBillCitation: H.R. 15531\\ncongress_number: 94\\nchapter: NA\\nsession_number: 2\\npl_no: 94-550\\ndate_of_passage: 1976-10-18\\nsecondary_date: NA\\ndates_conflict: FALSE\\nSource: NA\\nURL: https://www.govinfo.gov/content/pkg/STATUTE-90/pdf/STATUTE-90-Pg2534.pdf\\nalternate_sal_volume: 90\\nalternate_sal_page_start: 2534\\nhas_alternate_sal_citation: TRUE', metadata={'source': 'us_laws_dataset.csv', 'row': 38720}),\n",
       " Document(page_content='row_number: 44400\\naction: An Act\\nTitle: An act to amend title 18, United States Code, with respect to witness retaliation, witness tampering and jury tampering\\nsal_volume: 110\\nsal_page_start: 3017\\nBillCitation: H.R. 3120\\ncongress_number: 104\\nchapter: NA\\nsession_number: 2\\npl_no: 104-214\\ndate_of_passage: 1996-10-01\\nsecondary_date: NA\\ndates_conflict: FALSE\\nSource: NA\\nURL: https://www.govinfo.gov/content/pkg/STATUTE-110/pdf/STATUTE-110-Pg3017.pdf\\nalternate_sal_volume: 110\\nalternate_sal_page_start: 3017\\nhas_alternate_sal_citation: TRUE', metadata={'source': 'us_laws_dataset.csv', 'row': 44396})]"
      ]
     },
     "execution_count": 7,
     "metadata": {},
     "output_type": "execute_result"
    }
   ],
   "source": [
    "# test out the similarity search\n",
    "query = \"What laws and amendments relate to perjury?\"\n",
    "response = db.similarity_search(query, k=10)\n",
    "# let's look at the first 3 retrieved docs\n",
    "response[:3]"
   ]
  },
  {
   "cell_type": "code",
   "execution_count": 8,
   "metadata": {},
   "outputs": [],
   "source": [
    "from langchain.tools.retriever import create_retriever_tool\n",
    "\n",
    "# convert this retriver into a tool\n",
    "db_retriever = db.as_retriever()\n",
    "db_retriever_tool = create_retriever_tool(\n",
    "    db_retriever,\n",
    "    name = \"law_dataset_retriever\",\n",
    "    description = \"Retrieve relevant context from the US laws dataset.\"\n",
    ")"
   ]
  },
  {
   "cell_type": "markdown",
   "metadata": {},
   "source": [
    "## Instantiating the You.com Tool in Langchain"
   ]
  },
  {
   "cell_type": "code",
   "execution_count": 9,
   "metadata": {},
   "outputs": [],
   "source": [
    "from langchain_community.tools.you import YouSearchTool\n",
    "from langchain_community.utilities.you import YouSearchAPIWrapper\n",
    "\n",
    "api_wrapper = YouSearchAPIWrapper(num_web_results = 10)\n",
    "ydc_tool = YouSearchTool(api_wrapper=api_wrapper)"
   ]
  },
  {
   "cell_type": "code",
   "execution_count": 10,
   "metadata": {},
   "outputs": [
    {
     "data": {
      "text/plain": [
       "[Document(page_content='Meijer, Inc. v. Ferring B.V.; Ferring Pharmaceuticals, Inc.; and Aventis Pharmaceuticals [In Re: DDAVP Direct Purchaser Antitrust Litigation] U.S. v. Memphis Board of Realtors', metadata={'url': 'https://www.justice.gov/atr/antitrust-case-filings-alpha', 'thumbnail_url': None, 'title': 'Antitrust Division | Antitrust Case Filings | United States Department of Justice', 'description': 'An official website of the United States government · Official websites use .gov A .gov website belongs to an official government organization in the United States'}),\n",
       " Document(page_content=\"Dentsply International, Inc. v. Antitrust Division of the United States Department of Justice · U.S. v. Freddy Deoliveira · U.S. v. Wilhelm DerMinassian · U.S. v. Eric Descouraux · Leinani Deslandes, Stephanie Turner, et al. v. McDonald's USA, LLC, et al.\", metadata={'url': 'https://www.justice.gov/atr/antitrust-case-filings-alpha', 'thumbnail_url': None, 'title': 'Antitrust Division | Antitrust Case Filings | United States Department of Justice', 'description': 'An official website of the United States government · Official websites use .gov A .gov website belongs to an official government organization in the United States'}),\n",
       " Document(page_content='U.S. v. Arden-Mayfair, Inc., Matanuska Maid, Inc.; and Meadowmoor Alaska Dairy, Inc. U.S. v. Argos USA LLC, f.k.a. Argos Ready Mix LLC', metadata={'url': 'https://www.justice.gov/atr/antitrust-case-filings-alpha', 'thumbnail_url': None, 'title': 'Antitrust Division | Antitrust Case Filings | United States Department of Justice', 'description': 'An official website of the United States government · Official websites use .gov A .gov website belongs to an official government organization in the United States'})]"
      ]
     },
     "execution_count": 10,
     "metadata": {},
     "output_type": "execute_result"
    }
   ],
   "source": [
    "# test out the You.com search tool\n",
    "response = ydc_tool.invoke(\"Tell me about a recent high-profile case related to antitrust in the USA?\")\n",
    "# let's look at the first 3 results\n",
    "response[:3]"
   ]
  },
  {
   "cell_type": "markdown",
   "metadata": {},
   "source": [
    "## Instantiate our LLM"
   ]
  },
  {
   "cell_type": "code",
   "execution_count": 21,
   "metadata": {},
   "outputs": [],
   "source": [
    "from langchain_openai import ChatOpenAI\n",
    "from langchain_anthropic import ChatAnthropic\n",
    "\n",
    "llm = ChatAnthropic(model='claude-3-5-sonnet-20240620')\n",
    "#llm = ChatOpenAI(model=\"gpt-4o\", temperature=0.5)"
   ]
  },
  {
   "cell_type": "markdown",
   "metadata": {},
   "source": [
    "## Tying it all together"
   ]
  },
  {
   "cell_type": "code",
   "execution_count": 12,
   "metadata": {},
   "outputs": [],
   "source": [
    "from langgraph.prebuilt import chat_agent_executor\n",
    "from langgraph.checkpoint import MemorySaver\n",
    "\n",
    "# Create a checkpointer to use memory\n",
    "memory = MemorySaver()\n",
    "# the vector store representation of the CSV dataset and the You.com Search tool will both be passed as tools to the agent\n",
    "tools = [db_retriever_tool, ydc_tool]\n",
    "agent_executor = chat_agent_executor.create_tool_calling_executor(llm, tools, checkpointer=memory)"
   ]
  },
  {
   "cell_type": "markdown",
   "metadata": {},
   "source": [
    "## Let's try it out!"
   ]
  },
  {
   "cell_type": "code",
   "execution_count": 13,
   "metadata": {},
   "outputs": [
    {
     "name": "stdout",
     "output_type": "stream",
     "text": [
      "Based on the information retrieved, I can provide you with an overview of the laws pertaining to perjury in the United States and a recent case related to a violation of these laws.\n",
      "\n",
      "Laws pertaining to perjury in the US:\n",
      "\n",
      "1. The main federal statutes criminalizing perjury are 18 U.S.C. §§ 1621 and 1623.\n",
      "\n",
      "2. 18 U.S.C. § 1621 (Perjury generally):\n",
      "   - This is the traditional, broadly applicable perjury statute.\n",
      "   - It applies to false statements made under oath before legislative, administrative, or judicial bodies.\n",
      "   - Key elements include:\n",
      "     a) Taking an oath before a competent tribunal, officer, or person.\n",
      "     b) Willfully stating or subscribing to any material matter which the person does not believe to be true.\n",
      "   - The penalty includes fines and imprisonment for up to five years.\n",
      "\n",
      "3. 18 U.S.C. § 1623 (False declarations before grand jury or court):\n",
      "   - This statute specifically addresses false statements made in court or before a grand jury.\n",
      "   - It was added in 1971 as a result of the Organized Crime Control Act of 1970.\n",
      "\n",
      "4. The legal standard for perjury, as established in United States v. Dunnigan (1993), requires that a person:\n",
      "   - Testifies under oath or affirmation\n",
      "   - Gives false testimony concerning a material matter\n",
      "   - Does so with the willful intent to provide false testimony (not as a result of confusion, mistake, or faulty memory)\n",
      "\n",
      "5. Subornation of perjury (18 U.S.C. § 1622) is also a crime, which involves inducing another person to commit perjury.\n",
      "\n",
      "6. Some notable aspects of US perjury law include:\n",
      "   - A defense allowing individuals to recant a perjurious statement during the same proceeding.\n",
      "   - Application to written declarations made under penalty of perjury, such as tax returns.\n",
      "\n",
      "Regarding a recent case related to a violation of these laws:\n",
      "\n",
      "Unfortunately, the search results don't provide information about a specific recent case involving perjury. However, it's worth noting that perjury cases can be prosecuted at both federal and state levels. The FBI has primary investigative responsibility for perjury violations in cases involving departments and agencies of the United States, with some exceptions for specific agencies.\n",
      "\n",
      "To find a recent case, you would need to search through recent court records or news reports. Perjury cases can arise in various contexts, including criminal trials, civil litigation, grand jury proceedings, and even in official documents like tax returns.\n",
      "\n",
      "If you're interested in finding a specific recent case, I would recommend searching through legal databases or recent news articles about perjury convictions or charges. This would provide the most up-to-date information on perjury cases in the United States.\n"
     ]
    }
   ],
   "source": [
    "prompt_1 = \"What laws in the US pertain to perjury and is there a recent case in the US that relates to a violation of these laws?\"\n",
    "\n",
    "result = agent_executor.invoke(input={\"messages\": prompt_1}, config={\"configurable\": {\"thread_id\": \"xyz_789\"}})[\"messages\"][-1].content\n",
    "print(result)"
   ]
  },
  {
   "cell_type": "code",
   "execution_count": 14,
   "metadata": {},
   "outputs": [
    {
     "name": "stdout",
     "output_type": "stream",
     "text": [
      "Based on the search results, the most famous US Supreme Court perjury case is Bronston v. United States, 409 U.S. 352 (1973). This case is considered a seminal decision in US perjury law. Here are the key points about this case:\n",
      "\n",
      "1. Significance: Bronston v. United States is the controlling legal standard for perjury in federal jurisprudence.\n",
      "\n",
      "2. Decision: The Supreme Court strictly construed the federal perjury statute.\n",
      "\n",
      "3. Ruling: Chief Justice Warren Burger, writing for a unanimous Court, held that responses to questions made under oath that relay truthful information in themselves but are intended to mislead or evade the examiner could not be prosecuted as perjury.\n",
      "\n",
      "4. Implication: The criminal justice system must rely on more carefully worded follow-up questions to prevent evasive answers, rather than prosecuting for perjury.\n",
      "\n",
      "5. Legal Standard: The Court established that for a statement to be considered perjury, it must be false, concern a material matter, and be made with the willful intent to provide false testimony. It cannot be the result of confusion, mistake, or faulty memory.\n",
      "\n",
      "6. Impact: This decision has been cited in many subsequent cases and has become the controlling legal standard for perjury in federal courts.\n",
      "\n",
      "7. Controversy: The ruling has been criticized for creating a loophole in perjury statutes, essentially allowing a witness to mislead without legal consequences as long as their statements are literally true.\n",
      "\n",
      "8. Later Applications: The Bronston standard was notably invoked during Bill Clinton's impeachment proceedings in 1998 as a defense against perjury charges.\n",
      "\n",
      "While there have been other important perjury cases in the Supreme Court's history, Bronston v. United States stands out as the most famous and influential in shaping modern perjury law in the United States.\n"
     ]
    }
   ],
   "source": [
    "prompt_2 = \"What is the most famous US Supreme Court perjury case?\"\n",
    "result = agent_executor.invoke(input={\"messages\": prompt_2}, config={\"configurable\": {\"thread_id\": \"xyz_789\"}})[\"messages\"][-1].content\n",
    "print(result)"
   ]
  },
  {
   "cell_type": "code",
   "execution_count": 15,
   "metadata": {},
   "outputs": [
    {
     "name": "stdout",
     "output_type": "stream",
     "text": [
      "Based on the information provided about US laws pertaining to perjury and considering the Bronston v. United States case, it's important to note that the laws have evolved over time. However, to answer your question about whether other laws could have been applied in this case, we need to consider the laws that were in effect at the time of the Bronston case in 1973. Let's analyze the situation:\n",
      "\n",
      "1. Main Perjury Statute: The primary law applied in Bronston v. United States was likely 18 U.S.C. § 1621, which is the general federal perjury statute. This law was already in place at the time of the case.\n",
      "\n",
      "2. False Declarations Statute: In 1970, just a few years before the Bronston case, Congress enacted 18 U.S.C. § 1623, which specifically addresses false declarations before a grand jury or court. This law could potentially have been applied, but it was relatively new at the time of the Bronston case.\n",
      "\n",
      "3. Unsworn Declarations: The act \"to permit the use of unsworn declarations under penalty of perjury as evidence in Federal proceedings\" (Public Law 94-550) was passed in 1976, after the Bronston case. Therefore, it couldn't have been applied in this specific case.\n",
      "\n",
      "4. Witness Tampering: The act \"to amend title 18, United States Code, with respect to witness retaliation, witness tampering and jury tampering\" (Public Law 104-214) was passed in 1996, long after the Bronston case. So this also couldn't have been applied.\n",
      "\n",
      "5. Earlier Perjury Laws: The 1823 act \"for the punishment of the crime of perjury\" might have influenced the legal framework at the time, but it's likely that its provisions had been superseded or incorporated into more recent statutes by 1973.\n",
      "\n",
      "Given this information, it appears that the main laws that could have been applied in the Bronston case were:\n",
      "\n",
      "1. 18 U.S.C. § 1621 (the general perjury statute)\n",
      "2. 18 U.S.C. § 1623 (false declarations before a grand jury or court)\n",
      "\n",
      "The Court's decision in Bronston focused on interpreting these statutes, particularly § 1621. The Court's ruling essentially narrowed the application of the perjury statute by holding that literally true but misleading statements do not constitute perjury.\n",
      "\n",
      "It's worth noting that while other related laws existed or were later enacted, the Bronston decision set a precedent in interpreting perjury statutes that has influenced how these laws are applied in subsequent cases. The Court's interpretation emphasized the importance of precise questioning and placed the burden on the questioner to clarify evasive answers, rather than relying on perjury charges to address misleading but technically truthful statements.\n"
     ]
    }
   ],
   "source": [
    "prompt_3 =  \"Based on your knowledge of all laws in the US pertaining to perjury, were there any other laws that could have been applied in this case?\"\n",
    "result = agent_executor.invoke(input={\"messages\":prompt_3}, config={\"configurable\": {\"thread_id\": \"xyz_789\"}})[\"messages\"][-1].content\n",
    "print(result)"
   ]
  },
  {
   "cell_type": "markdown",
   "metadata": {},
   "source": [
    "## Let's create a Python class that encapsulates the code above.  This will enable users to easily create chatbots for new use cases with custom CSV datasets"
   ]
  },
  {
   "cell_type": "code",
   "execution_count": 22,
   "metadata": {},
   "outputs": [],
   "source": [
    "import secrets\n",
    "from typing import Union\n",
    "\n",
    "class CSV_QA_Bot:\n",
    "    def __init__(self, llm: Union[ChatOpenAI, ChatAnthropic], csv_files: list[str], num_web_results_to_fetch: int = 10):\n",
    "        self._llm = llm\n",
    "        \n",
    "        docs = self._load_csv_files(csv_files)\n",
    "        \n",
    "        # split the docs into chunks, vectorize the chunks and load them into a vector store\n",
    "        db = self._create_vector_store(docs)\n",
    "        \n",
    "        # create a retriever from the vector store\n",
    "        self._faiss_retriever = db.as_retriever()\n",
    "        \n",
    "        # convert this retriever into a Langchain tool\n",
    "        self._faiss_retriever_tool = create_retriever_tool(\n",
    "            self._faiss_retriever,\n",
    "            name = \"law_dataset_retriever\",\n",
    "            description = \"Retrieve relevant context from the US laws dataset.\"\n",
    "        )\n",
    "        \n",
    "        # instantiate the YDC search tool in Langchain\n",
    "        self._ydc_api_wrapper = YouSearchAPIWrapper(num_web_results=num_web_results_to_fetch)\n",
    "        self._ydc_search_tool = YouSearchTool(api_wrapper=self._ydc_api_wrapper)\n",
    "        \n",
    "        \n",
    "        # create a list of tools that will be supplied to the Langchain agent\n",
    "        self._tools = [self._faiss_retriever_tool, self._ydc_search_tool]\n",
    "        \n",
    "        # Create a checkpointer to use memory\n",
    "        self._memory = MemorySaver()\n",
    "        \n",
    "        # create the agent executor\n",
    "        self._agent_executor = chat_agent_executor.create_tool_calling_executor(self._llm, tools, checkpointer=memory)\n",
    "        \n",
    "        # generate a thread ID for to keep track of conversation history\n",
    "        self._thread_id = self._generate_thread_id()\n",
    "\n",
    "    def _load_csv_files(self, csv_files: list[str]) -> list:\n",
    "        docs = []\n",
    "        for file in csv_files:\n",
    "            data_loader = CSVLoader(file)\n",
    "            docs.extend(data_loader.load())\n",
    "        return docs\n",
    "    \n",
    "    def _create_vector_store(self, docs: list) -> FAISS:\n",
    "        text_splitter = RecursiveCharacterTextSplitter(chunk_size = 1000, chunk_overlap = 100)\n",
    "        chunked_docs = text_splitter.split_documents(docs)\n",
    "        embeddings = OpenAIEmbeddings()\n",
    "        return FAISS.from_documents(documents=chunked_docs, embedding=embeddings)\n",
    "\n",
    "    def _generate_thread_id(self) -> str:\n",
    "        thread_id = secrets.token_urlsafe(16)\n",
    "        return thread_id\n",
    "    \n",
    "    def invoke_bot(self, input_str: str) -> str:\n",
    "        input = {\"messages\": input_str}\n",
    "        config = {\"configurable\": {\"thread_id\": self._thread_id}}\n",
    "        output = self._agent_executor.invoke(input=input, config=config)[\"messages\"][-1].content\n",
    "        return output"
   ]
  },
  {
   "cell_type": "markdown",
   "metadata": {},
   "source": [
    "## Let's try it out!"
   ]
  },
  {
   "cell_type": "code",
   "execution_count": 23,
   "metadata": {},
   "outputs": [],
   "source": [
    "conversational_agent = CSV_QA_Bot(llm, csv_files=[\"us_laws_dataset.csv\"])"
   ]
  },
  {
   "cell_type": "code",
   "execution_count": 24,
   "metadata": {},
   "outputs": [
    {
     "name": "stdout",
     "output_type": "stream",
     "text": [
      "Based on the search results, I can provide information about a recent perjury case in the United States. The case involves Craig German, a 60-year-old man from Kernersville, North Carolina. This case is particularly interesting because it relates to perjury committed during the sentencing phase of a previous case.\n",
      "\n",
      "Here are the key details of this recent perjury case:\n",
      "\n",
      "1. Background: Craig German was previously convicted for conspiring to steal trade secrets from aircraft manufacturing companies.\n",
      "\n",
      "2. New Charges: After his initial conviction, German faced additional charges for committing perjury in his prior case and for providing false statements to a government agency (the FBI).\n",
      "\n",
      "3. Trial and Conviction: A federal jury in the U.S. District Court for the Southern District of Georgia found German guilty of perjury and false statements to a government agency after a three-day trial.\n",
      "\n",
      "4. Specifics of the Perjury:\n",
      "   - During the sentencing portion of his prior case, German testified under oath and denied copying more than 15,000 proprietary engineering drawings and documents onto a removable storage device while employed at an aircraft manufacturing company.\n",
      "   - The jury found this testimony to be false, constituting perjury.\n",
      "\n",
      "5. Additional False Statements: German was also found guilty of providing a materially false statement to the FBI during a voluntary meeting, where he emphatically denied copying, taking, or otherwise transferring the proprietary documents.\n",
      "\n",
      "6. Prosecution: The case was investigated by the FBI and prosecuted by Assistant U.S. Attorneys Jennifer G. Solari and Steven H. Lee.\n",
      "\n",
      "7. Potential Consequences: The conviction for perjury and false statements means German faces additional prison time on top of his sentence from the previous case involving trade secret theft.\n",
      "\n",
      "This case illustrates how seriously the U.S. justice system takes perjury, especially when it occurs during official proceedings like sentencing hearings. It also demonstrates that lying to federal investigators (in this case, the FBI) can result in additional criminal charges.\n",
      "\n",
      "The case aligns with the laws we discussed earlier, particularly the ones related to using declarations under penalty of perjury in federal proceedings and addressing witness tampering. It shows that the legal system actively enforces these laws to maintain the integrity of court proceedings and investigations.\n"
     ]
    }
   ],
   "source": [
    "prompt_1 = \"What laws in the US pertain to perjury and is there a recent case in the US that relates to a violation of these laws?\"\n",
    "\n",
    "print(conversational_agent.invoke_bot(prompt_1))"
   ]
  },
  {
   "cell_type": "code",
   "execution_count": 25,
   "metadata": {},
   "outputs": [
    {
     "name": "stdout",
     "output_type": "stream",
     "text": [
      "Based on the search results, the most famous US Supreme Court perjury case is Bronston v. United States, 409 U.S. 352 (1973). This case is considered seminal in US jurisprudence regarding perjury. Here are the key points about this landmark case:\n",
      "\n",
      "1. Significance: Bronston v. United States is the controlling legal standard for perjury in federal jurisprudence and has been widely cited since its decision.\n",
      "\n",
      "2. Ruling: The Supreme Court, in a unanimous decision written by Chief Justice Warren Burger, strictly construed the federal perjury statute.\n",
      "\n",
      "3. Key principle: The Court held that responses to questions made under oath that relay truthful information in themselves but are intended to mislead or evade the examiner cannot be prosecuted as perjury.\n",
      "\n",
      "4. Implications: This decision essentially created a loophole in perjury statutes, allowing witnesses to potentially mislead without legal consequences as long as their statements are literally true.\n",
      "\n",
      "5. Remedy: The Court stated that the criminal justice system must rely on more carefully worded follow-up questions to address evasive answers, rather than prosecuting for perjury.\n",
      "\n",
      "6. Later impact: The Bronston decision was invoked during Bill Clinton's impeachment proceedings in 1998 as a defense against perjury charges.\n",
      "\n",
      "7. Criticism: The ruling has been long criticized for potentially allowing witnesses to lie without consequences, but subsequent Courts have refused to overrule or limit its scope.\n",
      "\n",
      "8. Ongoing relevance: Legal experts continue to analyze cases under the Bronston standard, as seen in the example of President Clinton's testimony during his impeachment proceedings.\n",
      "\n",
      "This case remains crucial in understanding how perjury is defined and prosecuted in the United States federal court system, making it the most famous Supreme Court perjury case to date.\n"
     ]
    }
   ],
   "source": [
    "prompt_2 = \"What is the most famous US Supreme Court perjury case?\"\n",
    "\n",
    "print(conversational_agent.invoke_bot(prompt_2))"
   ]
  },
  {
   "cell_type": "code",
   "execution_count": 26,
   "metadata": {},
   "outputs": [
    {
     "name": "stdout",
     "output_type": "stream",
     "text": [
      "Based on the information retrieved about US laws pertaining to perjury and considering the Bronston v. United States case, it's important to note that the Bronston case was decided in 1973, which predates some of the laws mentioned in the retrieval. However, we can analyze whether any of these laws or other existing laws at the time could have been applied in this case:\n",
      "\n",
      "1. The 1823 Act for the punishment of the crime of perjury: This act was likely superseded by more modern statutes by the time of the Bronston case, but it shows the long-standing nature of perjury laws in the US.\n",
      "\n",
      "2. The federal perjury statute (18 U.S.C. § 1621): This was the primary law under consideration in the Bronston case. The Court's interpretation of this statute led to the ruling that literal truth, even if misleading, cannot be prosecuted as perjury.\n",
      "\n",
      "3. False Statements Statute (18 U.S.C. § 1001): While not specifically a perjury statute, this law prohibits making false statements to federal officials. It could potentially have been considered in cases where the statements were made to federal officials outside of court proceedings.\n",
      "\n",
      "4. Obstruction of Justice (18 U.S.C. § 1503): Although not a perjury statute per se, this law could potentially have been applied if the misleading statements were seen as an attempt to obstruct justice.\n",
      "\n",
      "5. The 1976 Act permitting unsworn declarations under penalty of perjury: This law came after the Bronston case, so it wouldn't have been applicable. However, it shows the evolution of perjury laws to include unsworn statements in certain circumstances.\n",
      "\n",
      "6. The 1996 Act amending Title 18 with respect to witness retaliation, witness tampering, and jury tampering: This also came after Bronston, but it demonstrates how laws related to court proceedings and testimony have expanded over time.\n",
      "\n",
      "In the specific context of the Bronston case, the Court's interpretation focused narrowly on the federal perjury statute. The ruling essentially stated that if a witness gives an answer that is literally true but nonresponsive to the question, it cannot be considered perjury even if the answer is intentionally misleading.\n",
      "\n",
      "Given this interpretation, it's unlikely that other laws could have been successfully applied in this specific case. The Court's decision set a high bar for perjury convictions, emphasizing the need for explicit falsehoods rather than merely misleading statements.\n",
      "\n",
      "However, in subsequent cases, prosecutors might consider using a combination of charges, including obstruction of justice or false statements, to address situations where witnesses provide misleading but technically truthful answers. The evolution of laws after Bronston also suggests that legislators have attempted to close some of the loopholes created by this decision, particularly in areas related to witness testimony and court proceedings.\n",
      "\n",
      "It's worth noting that the Bronston decision remains controversial, with some legal scholars arguing that it creates too high a bar for perjury convictions and potentially encourages evasive testimony. Nonetheless, it remains the controlling precedent in federal perjury cases.\n"
     ]
    }
   ],
   "source": [
    "prompt_3 =  \"Based on your knowledge of all laws in the US pertaining to perjury, were there any other laws that could have been applied in this case?\"\n",
    "\n",
    "print(conversational_agent.invoke_bot(prompt_3))"
   ]
  },
  {
   "cell_type": "code",
   "execution_count": null,
   "metadata": {},
   "outputs": [],
   "source": []
  }
 ],
 "metadata": {
  "kernelspec": {
   "display_name": "llm-practice",
   "language": "python",
   "name": "python3"
  },
  "language_info": {
   "codemirror_mode": {
    "name": "ipython",
    "version": 3
   },
   "file_extension": ".py",
   "mimetype": "text/x-python",
   "name": "python",
   "nbconvert_exporter": "python",
   "pygments_lexer": "ipython3",
   "version": "3.10.14"
  }
 },
 "nbformat": 4,
 "nbformat_minor": 2
}
