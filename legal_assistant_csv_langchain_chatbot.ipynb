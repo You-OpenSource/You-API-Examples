{
 "cells": [
  {
   "cell_type": "markdown",
   "metadata": {},
   "source": [
    "# Legal Assistant Bot"
   ]
  },
  {
   "cell_type": "markdown",
   "metadata": {},
   "source": [
    "This chatbot retrieves context from a proprietary data source and the web to answer questions about federal laws in the United States of America (USA).  The proprietary datasource is a CSV file of all federal laws and their revision history in the USA.  The web data required to respond to the user's questions is retrieved using the You.com API.  The chatbot is implemented as an agent in using LangChain and LangGraph."
   ]
  },
  {
   "cell_type": "markdown",
   "metadata": {},
   "source": [
    "## Install all required packages"
   ]
  },
  {
   "cell_type": "code",
   "execution_count": 24,
   "metadata": {},
   "outputs": [],
   "source": [
    "%%capture\n",
    "! pip install langgraph==0.0.59\n",
    "! pip install pandas==2.2.2\n",
    "! pip install openai==1.30.3\n",
    "! pip install langchain==0.2.1\n",
    "! pip install langchain_community==0.2.1\n",
    "! pip install langchain_openai==0.1.7\n",
    "! pip install langchain_text_splitters==0.2.0\n",
    "! pip install langchain_core==0.2.1\n",
    "! pip install numpy==1.26.4\n",
    "! pip install openai==1.30.3\n",
    "! pip install python-dotenv==1.0.1\n",
    "! pip install faiss-cpu==1.8.0"
   ]
  },
  {
   "cell_type": "markdown",
   "metadata": {},
   "source": [
    "## Load in the US Federal Laws dataset and create a vector database representation of this dataset, which will then be converted into a LangChain Retriever and Tool"
   ]
  },
  {
   "cell_type": "code",
   "execution_count": 25,
   "metadata": {},
   "outputs": [
    {
     "data": {
      "text/html": [
       "<div>\n",
       "<style scoped>\n",
       "    .dataframe tbody tr th:only-of-type {\n",
       "        vertical-align: middle;\n",
       "    }\n",
       "\n",
       "    .dataframe tbody tr th {\n",
       "        vertical-align: top;\n",
       "    }\n",
       "\n",
       "    .dataframe thead th {\n",
       "        text-align: right;\n",
       "    }\n",
       "</style>\n",
       "<table border=\"1\" class=\"dataframe\">\n",
       "  <thead>\n",
       "    <tr style=\"text-align: right;\">\n",
       "      <th></th>\n",
       "      <th>row_number</th>\n",
       "      <th>action</th>\n",
       "      <th>Title</th>\n",
       "      <th>sal_volume</th>\n",
       "      <th>sal_page_start</th>\n",
       "      <th>BillCitation</th>\n",
       "      <th>congress_number</th>\n",
       "      <th>chapter</th>\n",
       "      <th>session_number</th>\n",
       "      <th>pl_no</th>\n",
       "      <th>date_of_passage</th>\n",
       "      <th>secondary_date</th>\n",
       "      <th>dates_conflict</th>\n",
       "      <th>Source</th>\n",
       "      <th>URL</th>\n",
       "      <th>alternate_sal_volume</th>\n",
       "      <th>alternate_sal_page_start</th>\n",
       "      <th>has_alternate_sal_citation</th>\n",
       "    </tr>\n",
       "  </thead>\n",
       "  <tbody>\n",
       "    <tr>\n",
       "      <th>0</th>\n",
       "      <td>1</td>\n",
       "      <td>An Act</td>\n",
       "      <td>To regulate the time and manner of administeri...</td>\n",
       "      <td>1</td>\n",
       "      <td>23.0</td>\n",
       "      <td>NaN</td>\n",
       "      <td>1</td>\n",
       "      <td>1.0</td>\n",
       "      <td>1.0</td>\n",
       "      <td>NaN</td>\n",
       "      <td>1789-06-01</td>\n",
       "      <td>NaN</td>\n",
       "      <td>NaN</td>\n",
       "      <td>HeinOnline</td>\n",
       "      <td>NaN</td>\n",
       "      <td>NaN</td>\n",
       "      <td>NaN</td>\n",
       "      <td>False</td>\n",
       "    </tr>\n",
       "    <tr>\n",
       "      <th>1</th>\n",
       "      <td>2</td>\n",
       "      <td>An Act</td>\n",
       "      <td>For laying a duty on goods, wares, and merchan...</td>\n",
       "      <td>1</td>\n",
       "      <td>24.0</td>\n",
       "      <td>NaN</td>\n",
       "      <td>1</td>\n",
       "      <td>2.0</td>\n",
       "      <td>1.0</td>\n",
       "      <td>NaN</td>\n",
       "      <td>1789-07-04</td>\n",
       "      <td>NaN</td>\n",
       "      <td>NaN</td>\n",
       "      <td>HeinOnline</td>\n",
       "      <td>NaN</td>\n",
       "      <td>NaN</td>\n",
       "      <td>NaN</td>\n",
       "      <td>False</td>\n",
       "    </tr>\n",
       "    <tr>\n",
       "      <th>2</th>\n",
       "      <td>3</td>\n",
       "      <td>An Act</td>\n",
       "      <td>Imposing duties on tonnage.</td>\n",
       "      <td>1</td>\n",
       "      <td>27.0</td>\n",
       "      <td>NaN</td>\n",
       "      <td>1</td>\n",
       "      <td>3.0</td>\n",
       "      <td>1.0</td>\n",
       "      <td>NaN</td>\n",
       "      <td>1789-07-20</td>\n",
       "      <td>NaN</td>\n",
       "      <td>NaN</td>\n",
       "      <td>HeinOnline</td>\n",
       "      <td>NaN</td>\n",
       "      <td>NaN</td>\n",
       "      <td>NaN</td>\n",
       "      <td>False</td>\n",
       "    </tr>\n",
       "    <tr>\n",
       "      <th>3</th>\n",
       "      <td>4</td>\n",
       "      <td>An Act</td>\n",
       "      <td>For establishing an executive department to be...</td>\n",
       "      <td>1</td>\n",
       "      <td>28.0</td>\n",
       "      <td>NaN</td>\n",
       "      <td>1</td>\n",
       "      <td>4.0</td>\n",
       "      <td>1.0</td>\n",
       "      <td>NaN</td>\n",
       "      <td>1789-07-27</td>\n",
       "      <td>NaN</td>\n",
       "      <td>NaN</td>\n",
       "      <td>HeinOnline</td>\n",
       "      <td>NaN</td>\n",
       "      <td>NaN</td>\n",
       "      <td>NaN</td>\n",
       "      <td>False</td>\n",
       "    </tr>\n",
       "    <tr>\n",
       "      <th>4</th>\n",
       "      <td>5</td>\n",
       "      <td>An Act</td>\n",
       "      <td>To regulate the collection of the duties impos...</td>\n",
       "      <td>1</td>\n",
       "      <td>29.0</td>\n",
       "      <td>NaN</td>\n",
       "      <td>1</td>\n",
       "      <td>5.0</td>\n",
       "      <td>1.0</td>\n",
       "      <td>NaN</td>\n",
       "      <td>1789-07-31</td>\n",
       "      <td>NaN</td>\n",
       "      <td>NaN</td>\n",
       "      <td>HeinOnline</td>\n",
       "      <td>NaN</td>\n",
       "      <td>NaN</td>\n",
       "      <td>NaN</td>\n",
       "      <td>False</td>\n",
       "    </tr>\n",
       "  </tbody>\n",
       "</table>\n",
       "</div>"
      ],
      "text/plain": [
       "   row_number  action                                              Title  \\\n",
       "0           1  An Act  To regulate the time and manner of administeri...   \n",
       "1           2  An Act  For laying a duty on goods, wares, and merchan...   \n",
       "2           3  An Act                        Imposing duties on tonnage.   \n",
       "3           4  An Act  For establishing an executive department to be...   \n",
       "4           5  An Act  To regulate the collection of the duties impos...   \n",
       "\n",
       "   sal_volume  sal_page_start BillCitation  congress_number  chapter  \\\n",
       "0           1            23.0          NaN                1      1.0   \n",
       "1           1            24.0          NaN                1      2.0   \n",
       "2           1            27.0          NaN                1      3.0   \n",
       "3           1            28.0          NaN                1      4.0   \n",
       "4           1            29.0          NaN                1      5.0   \n",
       "\n",
       "   session_number pl_no date_of_passage secondary_date dates_conflict  \\\n",
       "0             1.0   NaN      1789-06-01            NaN            NaN   \n",
       "1             1.0   NaN      1789-07-04            NaN            NaN   \n",
       "2             1.0   NaN      1789-07-20            NaN            NaN   \n",
       "3             1.0   NaN      1789-07-27            NaN            NaN   \n",
       "4             1.0   NaN      1789-07-31            NaN            NaN   \n",
       "\n",
       "       Source  URL  alternate_sal_volume  alternate_sal_page_start  \\\n",
       "0  HeinOnline  NaN                   NaN                       NaN   \n",
       "1  HeinOnline  NaN                   NaN                       NaN   \n",
       "2  HeinOnline  NaN                   NaN                       NaN   \n",
       "3  HeinOnline  NaN                   NaN                       NaN   \n",
       "4  HeinOnline  NaN                   NaN                       NaN   \n",
       "\n",
       "   has_alternate_sal_citation  \n",
       "0                       False  \n",
       "1                       False  \n",
       "2                       False  \n",
       "3                       False  \n",
       "4                       False  "
      ]
     },
     "execution_count": 25,
     "metadata": {},
     "output_type": "execute_result"
    }
   ],
   "source": [
    "# Let's take a look at our CSV dataset first\n",
    "import pandas as pd\n",
    "\n",
    "# The CSV file can be downloaded from: https://www.nature.com/articles/s41597-023-02758-z#Sec3\n",
    "df = pd.read_csv(\"us_laws_dataset.csv\")\n",
    "\n",
    "df.head()"
   ]
  },
  {
   "cell_type": "code",
   "execution_count": 26,
   "metadata": {},
   "outputs": [],
   "source": [
    "import openai\n",
    "import langchain\n",
    "import os"
   ]
  },
  {
   "cell_type": "code",
   "execution_count": 27,
   "metadata": {},
   "outputs": [
    {
     "data": {
      "text/plain": [
       "True"
      ]
     },
     "execution_count": 27,
     "metadata": {},
     "output_type": "execute_result"
    }
   ],
   "source": [
    "# The YDC_API_KEY and OPENAI_API_KEY should be defined in a .env file\n",
    "# Let's load the API keys in from the .env file\n",
    "import dotenv\n",
    "dotenv.load_dotenv(\".env\", override=True)"
   ]
  },
  {
   "cell_type": "code",
   "execution_count": 28,
   "metadata": {},
   "outputs": [],
   "source": [
    "from langchain_community.document_loaders.csv_loader import CSVLoader\n",
    "\n",
    "# The CSV file can be downloaded from: https://www.nature.com/articles/s41597-023-02758-z#Sec3\n",
    "loader = CSVLoader(file_path = \"us_laws_dataset.csv\")\n",
    "\n",
    "data = loader.load()"
   ]
  },
  {
   "cell_type": "code",
   "execution_count": 29,
   "metadata": {},
   "outputs": [],
   "source": [
    "from langchain_community.vectorstores import FAISS\n",
    "from langchain_openai import OpenAIEmbeddings\n",
    "from langchain.text_splitter import RecursiveCharacterTextSplitter\n",
    "\n",
    "# split the document into chunks, and vectorize these chunks in a FAISS database\n",
    "text_splitter = RecursiveCharacterTextSplitter(chunk_size = 1000, chunk_overlap = 100)\n",
    "docs = text_splitter.split_documents(data)\n",
    "embeddings = OpenAIEmbeddings()\n",
    "db = FAISS.from_documents(documents=docs, embedding=embeddings)"
   ]
  },
  {
   "cell_type": "code",
   "execution_count": 30,
   "metadata": {},
   "outputs": [
    {
     "data": {
      "text/plain": [
       "[Document(page_content='row_number: 1885\\naction: An Act\\nTitle: In addition to the act, entitled \"An act for the prompt settlement of public accounts,\" and for the punishment of the crime of perjury\\nsal_volume: 3\\nsal_page_start: 770\\nBillCitation: NA\\ncongress_number: 17\\nchapter: 37\\nsession_number: 2\\npl_no: NA\\ndate_of_passage: 1823-03-01\\nsecondary_date: NA\\ndates_conflict: NA\\nSource: HeinOnline\\nURL: NA\\nalternate_sal_volume: NA\\nalternate_sal_page_start: NA\\nhas_alternate_sal_citation: FALSE', metadata={'source': 'us_laws_dataset.csv', 'row': 1884}),\n",
       " Document(page_content='row_number: 38724\\naction: An Act\\nTitle: An act to permit the use of unsworn declarations under penalty of perjury as evidence in Federal proceedings\\nsal_volume: 90\\nsal_page_start: 2534\\nBillCitation: H.R. 15531\\ncongress_number: 94\\nchapter: NA\\nsession_number: 2\\npl_no: 94-550\\ndate_of_passage: 1976-10-18\\nsecondary_date: NA\\ndates_conflict: FALSE\\nSource: NA\\nURL: https://www.govinfo.gov/content/pkg/STATUTE-90/pdf/STATUTE-90-Pg2534.pdf\\nalternate_sal_volume: 90\\nalternate_sal_page_start: 2534\\nhas_alternate_sal_citation: TRUE', metadata={'source': 'us_laws_dataset.csv', 'row': 38720}),\n",
       " Document(page_content='row_number: 33140\\naction: An Act\\nTitle: An Act to amend section 200 of the Soldiers and Sailors Civil Relief Act of 1940 to permit the establishment of certain facts by a declaration under penalty of perjury in lieu of an affidavit, and for other purposes\\nsal_volume: 74\\nsal_page_start: 820\\nBillCitation: H.R. 3313\\ncongress_number: 86\\nchapter: NA\\nsession_number: 2\\npl_no: 86-721\\ndate_of_passage: 1960-09-08\\nsecondary_date: NA\\ndates_conflict: FALSE\\nSource: NA\\nURL: https://www.govinfo.gov/content/pkg/STATUTE-74/pdf/STATUTE-74-Pg820.pdf\\nalternate_sal_volume: 74\\nalternate_sal_page_start: 820\\nhas_alternate_sal_citation: TRUE', metadata={'source': 'us_laws_dataset.csv', 'row': 33138})]"
      ]
     },
     "execution_count": 30,
     "metadata": {},
     "output_type": "execute_result"
    }
   ],
   "source": [
    "# test out the similarity search\n",
    "query = \"What laws and acts relate to perjury?\"\n",
    "response = db.similarity_search(query, k=10)\n",
    "# let's look at the first 3 retrieved docs\n",
    "response[:3]"
   ]
  },
  {
   "cell_type": "code",
   "execution_count": 31,
   "metadata": {},
   "outputs": [],
   "source": [
    "from langchain.tools.retriever import create_retriever_tool\n",
    "\n",
    "# convert this retriver into a tool\n",
    "db_retriever = db.as_retriever()\n",
    "db_retriever_tool = create_retriever_tool(\n",
    "    db_retriever,\n",
    "    name = \"law_dataset_retriever\",\n",
    "    description = \"Retrieve relevant context from the US laws dataset.\"\n",
    ")"
   ]
  },
  {
   "cell_type": "markdown",
   "metadata": {},
   "source": [
    "## Instantiating the You.com Tool in Langchain"
   ]
  },
  {
   "cell_type": "markdown",
   "metadata": {},
   "source": [
    "LangChain provides a wrapper around the You.com API and a You.com Tool.  For more information, please visit: https://python.langchain.com/v0.1/docs/integrations/tools/you/"
   ]
  },
  {
   "cell_type": "code",
   "execution_count": 32,
   "metadata": {},
   "outputs": [],
   "source": [
    "from langchain_community.tools.you import YouSearchTool\n",
    "from langchain_community.utilities.you import YouSearchAPIWrapper\n",
    "\n",
    "api_wrapper = YouSearchAPIWrapper(num_web_results = 10)\n",
    "ydc_tool = YouSearchTool(api_wrapper=api_wrapper)"
   ]
  },
  {
   "cell_type": "code",
   "execution_count": 33,
   "metadata": {},
   "outputs": [
    {
     "data": {
      "text/plain": [
       "[Document(page_content='Meijer, Inc. v. Ferring B.V.; Ferring Pharmaceuticals, Inc.; and Aventis Pharmaceuticals [In Re: DDAVP Direct Purchaser Antitrust Litigation] U.S. v. Memphis Board of Realtors', metadata={'url': 'https://www.justice.gov/atr/antitrust-case-filings-alpha', 'thumbnail_url': None, 'title': 'Antitrust Division | Antitrust Case Filings | United States Department of Justice', 'description': 'An official website of the United States government · Official websites use .gov A .gov website belongs to an official government organization in the United States'}),\n",
       " Document(page_content=\"Dentsply International, Inc. v. Antitrust Division of the United States Department of Justice · U.S. v. Freddy Deoliveira · U.S. v. Wilhelm DerMinassian · U.S. v. Eric Descouraux · Leinani Deslandes, Stephanie Turner, et al. v. McDonald's USA, LLC, et al.\", metadata={'url': 'https://www.justice.gov/atr/antitrust-case-filings-alpha', 'thumbnail_url': None, 'title': 'Antitrust Division | Antitrust Case Filings | United States Department of Justice', 'description': 'An official website of the United States government · Official websites use .gov A .gov website belongs to an official government organization in the United States'}),\n",
       " Document(page_content='U.S. v. Arden-Mayfair, Inc., Matanuska Maid, Inc.; and Meadowmoor Alaska Dairy, Inc. U.S. v. Argos USA LLC, f.k.a. Argos Ready Mix LLC', metadata={'url': 'https://www.justice.gov/atr/antitrust-case-filings-alpha', 'thumbnail_url': None, 'title': 'Antitrust Division | Antitrust Case Filings | United States Department of Justice', 'description': 'An official website of the United States government · Official websites use .gov A .gov website belongs to an official government organization in the United States'})]"
      ]
     },
     "execution_count": 33,
     "metadata": {},
     "output_type": "execute_result"
    }
   ],
   "source": [
    "# test out the You.com search tool\n",
    "response = ydc_tool.invoke(\"Tell me about a recent high-profile case related to antitrust in the USA.\")\n",
    "# let's look at the first 3 results\n",
    "response[:3]"
   ]
  },
  {
   "cell_type": "markdown",
   "metadata": {},
   "source": [
    "## Instantiate our LLM"
   ]
  },
  {
   "cell_type": "code",
   "execution_count": 34,
   "metadata": {},
   "outputs": [],
   "source": [
    "from langchain_openai import ChatOpenAI\n",
    "\n",
    "llm = ChatOpenAI(model=\"gpt-4o\", temperature=0.5)"
   ]
  },
  {
   "cell_type": "markdown",
   "metadata": {},
   "source": [
    "## Tying it all together"
   ]
  },
  {
   "cell_type": "code",
   "execution_count": 35,
   "metadata": {},
   "outputs": [],
   "source": [
    "from langgraph.prebuilt import chat_agent_executor\n",
    "from langgraph.checkpoint import MemorySaver\n",
    "\n",
    "# Create a checkpointer to use memory\n",
    "memory = MemorySaver()\n",
    "# the vector store representation of the CSV dataset and the You.com Search tool will both be passed as tools to the agent\n",
    "tools = [db_retriever_tool, ydc_tool]\n",
    "agent_executor = chat_agent_executor.create_tool_calling_executor(llm, tools, checkpointer=memory)"
   ]
  },
  {
   "cell_type": "markdown",
   "metadata": {},
   "source": [
    "## Let's try it out!"
   ]
  },
  {
   "cell_type": "code",
   "execution_count": 36,
   "metadata": {},
   "outputs": [
    {
     "data": {
      "text/plain": [
       "'Several laws in the United States address economic espionage:\\n\\n1. **Economic Espionage Act of 1996**:\\n   - **Public Law**: 104-294\\n   - **Date of Passage**: October 11, 1996\\n   - **Summary**: This act criminalizes the theft or misappropriation of trade secrets with the intent or knowledge that the offense will benefit a foreign government, foreign instrumentality, or foreign agent.\\n   - **URL**: [Economic Espionage Act of 1996](https://www.govinfo.gov/content/pkg/STATUTE-110/pdf/STATUTE-110-Pg3488.pdf)\\n\\n2. **An act to amend title 18, United States Code, to provide for increased penalties for foreign and economic espionage, and for other purposes**:\\n   - **Public Law**: 112-269\\n   - **Date of Passage**: January 14, 2013\\n   - **Summary**: This act amended Title 18 of the United States Code to increase penalties for foreign and economic espionage.\\n   - **URL**: [Public Law 112-269](https://www.govinfo.gov/content/pkg/STATUTE-126/html/STATUTE-126-Pg2442.htm)\\n\\n3. **An act to clarify the scope of the Economic Espionage Act of 1996**:\\n   - **Public Law**: 112-236\\n   - **Date of Passage**: December 28, 2012\\n   - **Summary**: This act clarifies certain aspects of the Economic Espionage Act of 1996 to ensure its effective enforcement.\\n   - **URL**: [Public Law 112-236](https://www.govinfo.gov/content/pkg/STATUTE-126/html/STATUTE-126-Pg1627.htm)\\n\\n4. **An Act to amend section three, title one, of the Act entitled \"An Act to punish acts of interference with the foreign relations, the neutrality, and the foreign commerce of the United States, to punish espionage, and better to enforce the criminal laws of the United States, and for other purposes,\" approved June fifteenth, nineteen hundred and seventeen, and for other purposes**:\\n   - **Public Law**: 65-150\\n   - **Date of Passage**: May 16, 1918\\n   - **Summary**: This act amended earlier legislation to further strengthen laws against espionage and interference with foreign relations and commerce.\\n   - **URL**: Not available\\n\\nThese laws collectively address various aspects of economic espionage, including definitions, penalties, and clarifications to ensure effective enforcement.'"
      ]
     },
     "execution_count": 36,
     "metadata": {},
     "output_type": "execute_result"
    }
   ],
   "source": [
    "agent_executor.invoke(input={\"messages\": \"What laws in the US address economic espionage?\"}, config={\"configurable\": {\"thread_id\": \"xyz_789\"}})[\"messages\"][-1].content"
   ]
  },
  {
   "cell_type": "code",
   "execution_count": 17,
   "metadata": {},
   "outputs": [
    {
     "data": {
      "text/plain": [
       "\"The most famous U.S. Supreme Court case related to economic espionage is **Totten v. United States**, 92 U.S. 105 (1876). This case is significant because it established the principle that certain secret contracts, particularly those involving espionage, could not be publicly reviewed by courts due to the necessity of maintaining confidentiality.\\n\\n### Key Details:\\n- **Case Citation**: Totten v. United States, 92 U.S. 105 (1876)\\n- **Summary**: The Supreme Court ruled that judicial review of espionage contracts is precluded when such review would inevitably lead to the disclosure of matters that the law regards as confidential. This principle was later upheld and expanded in subsequent cases, such as Tenet v. Doe (2005), which involved a contract claim against the CIA brought by Cold War-era spies.\\n\\n### Importance:\\n- **State Secrets Privilege**: The Totten case was an important precursor to the court's 1953 decision in United States v. Reynolds, wherein the court recognized the State Secrets Privilege.\\n- **Judicial Review Preclusion**: It clarified that judicial review is precluded in cases where success depends upon the existence of a secret espionage relationship with the government.\\n\\nFor more information, you can read about the case on [Wikipedia](https://en.wikipedia.org/wiki/Totten_v._United_States).\""
      ]
     },
     "execution_count": 17,
     "metadata": {},
     "output_type": "execute_result"
    }
   ],
   "source": [
    "agent_executor.invoke(input={\"messages\": \"What is the most famous US Supreme Court case related to economic espionage?\"}, config={\"configurable\": {\"thread_id\": \"xyz_789\"}})[\"messages\"][-1].content"
   ]
  },
  {
   "cell_type": "code",
   "execution_count": 18,
   "metadata": {},
   "outputs": [
    {
     "data": {
      "text/plain": [
       "'Certainly, several federal laws in the United States pertain to economic espionage and could potentially be applied in cases involving espionage activities. Here are some key laws:\\n\\n1. **Economic Espionage Act of 1996 (EEA)**\\n   - **Public Law No.**: 104-294\\n   - **Description**: This act criminalizes the theft or misappropriation of trade secrets with the intent or knowledge that the offense will benefit a foreign government, foreign instrumentality, or foreign agent.\\n   - **Key Sections**:\\n     - **18 U.S.C. § 1831**: Addresses economic espionage involving foreign entities.\\n     - **18 U.S.C. § 1832**: Addresses theft of trade secrets for commercial or economic advantage.\\n\\n2. **Espionage Act of 1917**\\n   - **Public Law No.**: 65-24\\n   - **Description**: Originally enacted to address espionage during wartime, this law has been amended to cover various forms of espionage, including economic espionage.\\n   - **Key Sections**:\\n     - **18 U.S.C. §§ 792-799**: Covers a wide range of espionage activities, including gathering or delivering defense information to aid a foreign government.\\n\\n3. **Foreign Agents Registration Act (FARA)**\\n   - **Public Law No.**: 75-583\\n   - **Description**: Requires individuals acting as agents of foreign principals in a political or quasi-political capacity to disclose their relationship with the foreign government and information about related activities and finances.\\n   - **Key Sections**:\\n     - **22 U.S.C. § 611 et seq.**: Addresses registration and disclosure requirements for foreign agents.\\n\\n4. **Computer Fraud and Abuse Act (CFAA)**\\n   - **Public Law No.**: 99-474\\n   - **Description**: This act addresses unauthorized access to computers and networks, which can be relevant in cases where economic espionage involves cyber activities.\\n   - **Key Sections**:\\n     - **18 U.S.C. § 1030**: Covers unauthorized access to computers to obtain information, commit fraud, or cause damage.\\n\\n5. **Trade Secrets Protection Act**\\n   - **Public Law No.**: 114-153\\n   - **Description**: This act provides a federal private right of action for the misappropriation of trade secrets.\\n   - **Key Sections**:\\n     - **18 U.S.C. § 1836**: Allows trade secret owners to bring a civil action for the misappropriation of their trade secrets.\\n\\n### Application to Totten v. United States\\nWhile the **Totten v. United States** case primarily dealt with the enforceability of espionage contracts and the preclusion of judicial review to maintain confidentiality, the following laws could have been relevant if the case involved modern aspects of economic espionage:\\n\\n- **Economic Espionage Act of 1996**: If the case involved the theft or misappropriation of trade secrets intended to benefit a foreign entity, the EEA would be directly applicable.\\n- **Espionage Act of 1917**: Given its broad coverage of espionage activities, this act could also apply if the activities involved national defense information or aiding a foreign government.\\n- **Computer Fraud and Abuse Act**: If any aspect of the espionage involved unauthorized access to computer systems or networks, the CFAA could be relevant.\\n\\nThese laws provide a robust framework for addressing various facets of economic espionage, from traditional espionage activities to modern cyber-related offenses.'"
      ]
     },
     "execution_count": 18,
     "metadata": {},
     "output_type": "execute_result"
    }
   ],
   "source": [
    "agent_executor.invoke(input={\"messages\": \"Based on your knowledge of federal laws in the US pertaining to economic espionage, were there any other laws that could have been applied in this case?\"}, config={\"configurable\": {\"thread_id\": \"xyz_789\"}})[\"messages\"][-1].content"
   ]
  },
  {
   "cell_type": "markdown",
   "metadata": {},
   "source": [
    "## Let's create a Python class that encapsulates the code above.  This will enable users to easily create chatbots for new use cases with custom CSV datasets"
   ]
  },
  {
   "cell_type": "code",
   "execution_count": 19,
   "metadata": {},
   "outputs": [],
   "source": [
    "import secrets\n",
    "\n",
    "class CSV_QA_Bot:\n",
    "    def __init__(self, llm: ChatOpenAI, csv_files: list[str], num_web_results_to_fetch: int = 10):\n",
    "        self._llm = llm\n",
    "        \n",
    "        docs = self._load_csv_files(csv_files)\n",
    "        \n",
    "        # split the docs into chunks, vectorize the chunks and load them into a vector store\n",
    "        db = self._create_vector_store(docs)\n",
    "        \n",
    "        # create a retriever from the vector store\n",
    "        self._faiss_retriever = db.as_retriever()\n",
    "        \n",
    "        # convert this retriever into a Langchain tool\n",
    "        self._faiss_retriever_tool = create_retriever_tool(\n",
    "            self._faiss_retriever,\n",
    "            name = \"custom_dataset_retriever\",\n",
    "            description = \"Retrieve relevant context from custom dataset.\"\n",
    "        )\n",
    "        \n",
    "        # instantiate the YDC search tool in Langchain\n",
    "        self._ydc_api_wrapper = YouSearchAPIWrapper(num_web_results=num_web_results_to_fetch)\n",
    "        self._ydc_search_tool = YouSearchTool(api_wrapper=self._ydc_api_wrapper)\n",
    "        \n",
    "        \n",
    "        # create a list of tools that will be supplied to the Langchain agent\n",
    "        self._tools = [self._faiss_retriever_tool, self._ydc_search_tool]\n",
    "        \n",
    "        # Create a checkpointer to use memory\n",
    "        self._memory = MemorySaver()\n",
    "        \n",
    "        # create the agent executor\n",
    "        self._agent_executor = chat_agent_executor.create_tool_calling_executor(self._llm, self._tools, checkpointer=self._memory)\n",
    "        \n",
    "        # generate a thread ID for to keep track of conversation history\n",
    "        self._thread_id = self._generate_thread_id()\n",
    "\n",
    "    def _load_csv_files(self, csv_files: list[str]) -> list:\n",
    "        docs = []\n",
    "        for file in csv_files:\n",
    "            data_loader = CSVLoader(file)\n",
    "            docs.extend(data_loader.load())\n",
    "        return docs\n",
    "    \n",
    "    def _create_vector_store(self, docs: list) -> FAISS:\n",
    "        text_splitter = RecursiveCharacterTextSplitter(chunk_size = 1000, chunk_overlap = 100)\n",
    "        chunked_docs = text_splitter.split_documents(docs)\n",
    "        embeddings = OpenAIEmbeddings()\n",
    "        return FAISS.from_documents(documents=chunked_docs, embedding=embeddings)\n",
    "\n",
    "    def _generate_thread_id(self) -> str:\n",
    "        thread_id = secrets.token_urlsafe(16)\n",
    "        return thread_id\n",
    "    \n",
    "    def invoke_bot(self, input_str: str) -> str:\n",
    "        input = {\"messages\": input_str}\n",
    "        config = {\"configurable\": {\"thread_id\": self._thread_id}}\n",
    "        output = self._agent_executor.invoke(input=input, config=config)\n",
    "        return output[\"messages\"][-1].content"
   ]
  },
  {
   "cell_type": "markdown",
   "metadata": {},
   "source": [
    "## Let's try it out!"
   ]
  },
  {
   "cell_type": "code",
   "execution_count": 20,
   "metadata": {},
   "outputs": [],
   "source": [
    "llm = ChatOpenAI(model=\"gpt-4o\", temperature=0.5)\n",
    "conversational_agent = CSV_QA_Bot(llm, csv_files=[\"us_laws_dataset.csv\"])"
   ]
  },
  {
   "cell_type": "code",
   "execution_count": 21,
   "metadata": {},
   "outputs": [
    {
     "data": {
      "text/plain": [
       "\"Insider trading in the USA is primarily addressed through several key pieces of legislation:\\n\\n1. **Securities Act of 1933**: This act requires full and fair disclosure of the character of securities sold in interstate and foreign commerce and through the mails, and aims to prevent fraud in the sale of securities. [Source](https://www.govinfo.gov/content/pkg/STATUTE-48/pdf/STATUTE-48-Pg74.pdf)\\n\\n2. **Securities Exchange Act of 1934**: This act provides for the regulation of securities exchanges and over-the-counter markets operating in interstate and foreign commerce and through the mails. It aims to prevent inequitable and unfair practices on such exchanges and markets. Sections 16(b) and 10(b) of this act directly and indirectly address insider trading. [Source](https://www.govinfo.gov/content/pkg/STATUTE-48/pdf/STATUTE-48-Pg881.pdf)\\n\\n3. **Insider Trading Sanctions Act of 1984**: This act enhances the penalties for insider trading violations, aiming to deter and punish those who engage in insider trading. [Source](https://www.govinfo.gov/content/pkg/STATUTE-98/pdf/STATUTE-98-Pg1264.pdf)\\n\\n4. **Insider Trading and Securities Fraud Enforcement Act of 1988**: This act further strengthens the penalties and enforcement mechanisms for insider trading and securities fraud. [Source](https://www.govinfo.gov/content/pkg/STATUTE-102/pdf/STATUTE-102-Pg4677.pdf)\\n\\nAdditionally, the **Securities and Exchange Commission (SEC)** plays a crucial role in enforcing these laws and prosecuting insider trading cases. The SEC has brought cases against corporate officers, directors, employees, and other individuals who trade securities based on material non-public information.\\n\\nFor more detailed information, you can refer to the respective acts and the SEC's resources on insider trading.\""
      ]
     },
     "execution_count": 21,
     "metadata": {},
     "output_type": "execute_result"
    }
   ],
   "source": [
    "conversational_agent.invoke_bot(\"What laws in the USA address insider trading?\")"
   ]
  },
  {
   "cell_type": "code",
   "execution_count": 22,
   "metadata": {},
   "outputs": [
    {
     "data": {
      "text/plain": [
       "'One of the most famous U.S. Supreme Court cases involving insider trading is **Salman v. United States**. This case addressed the issue of what constitutes a benefit to the tipper in insider trading cases.\\n\\n### Case Overview:\\n- **Defendant**: Bassam Salman\\n- **Facts**: Salman was convicted of making nearly $1.2 million by trading on information that came from his brother-in-law, Maher Kara, who was a Citigroup investment banker. Maher Kara had provided tips about mergers involving Citi clients to his brother, who in turn tipped Salman.\\n- **Legal Question**: The case centered on whether prosecutors needed to prove that the tipper (Maher Kara) received a tangible benefit for providing the insider information.\\n- **Supreme Court Decision**: The court upheld the conviction, emphasizing that a gift of confidential information to a relative or friend could be enough to establish liability for insider trading, even if the tipper did not receive a tangible benefit in return.\\n\\n### Significance:\\nThe **Salman v. United States** decision clarified that insider trading laws could be enforced even when the tipper did not receive a tangible benefit, as long as the tipper provided the information as a gift to a relative or friend. This case has had a significant impact on how insider trading cases are prosecuted in the United States.\\n\\nFor more details, you can refer to the [Reuters article on the case](https://www.reuters.com/article/us-usa-court-insidertrading/u-s-supreme-court-agrees-to-hear-insider-trading-appeal-idUSKCN0UX1VG/).'"
      ]
     },
     "execution_count": 22,
     "metadata": {},
     "output_type": "execute_result"
    }
   ],
   "source": [
    "conversational_agent.invoke_bot(\"What is the most famous US Supreme Court case of insider trading?\")"
   ]
  },
  {
   "cell_type": "code",
   "execution_count": 23,
   "metadata": {},
   "outputs": [
    {
     "data": {
      "text/plain": [
       "\"Yes, several federal laws in the USA related to insider trading could have been applied in the **Salman v. United States** case. These laws provide the framework for prosecuting insider trading and include:\\n\\n### 1. **Securities Exchange Act of 1934**\\n- **Section 10(b)**: This section prohibits any manipulative or deceptive device or contrivance in connection with the purchase or sale of any security.\\n- **Rule 10b-5**: Promulgated under Section 10(b), this rule makes it unlawful to employ any device, scheme, or artifice to defraud, make any untrue statement of a material fact, or engage in any act, practice, or course of business that operates as a fraud or deceit upon any person, in connection with the purchase or sale of any security.\\n\\n### 2. **Insider Trading Sanctions Act of 1984**\\n- This act enhances the penalties for insider trading violations, including civil penalties up to three times the profit gained or loss avoided from the illegal trades.\\n\\n### 3. **Insider Trading and Securities Fraud Enforcement Act of 1988**\\n- This act further strengthens the penalties and enforcement mechanisms for insider trading and securities fraud. It allows for the imposition of treble damages (three times the amount of profit gained or loss avoided) and increases the criminal penalties for insider trading.\\n\\n### 4. **Sarbanes-Oxley Act of 2002**\\n- **Section 807**: This section addresses securities fraud and imposes severe penalties for knowingly executing or attempting to execute a scheme to defraud any person in connection with any security.\\n- **Section 906**: This section imposes criminal penalties on corporate officers who knowingly certify false financial reports.\\n\\n### 5. **Dodd-Frank Wall Street Reform and Consumer Protection Act of 2010**\\n- This act includes provisions that enhance the SEC's ability to prosecute insider trading and other securities violations. It also provides for whistleblower incentives and protections, encouraging individuals to report insider trading violations.\\n\\n### 6. **Title 18, United States Code, Section 1348**\\n- This section criminalizes securities fraud and provides for penalties of up to 25 years in prison for those found guilty of defrauding any person in connection with any security.\\n\\n### Application to Salman v. United States:\\nIn the **Salman v. United States** case, the primary laws applied were the Securities Exchange Act of 1934 and Rule 10b-5, which directly address fraudulent activities in securities trading. However, the following additional laws could have been relevant:\\n\\n- The **Insider Trading Sanctions Act of 1984** and the **Insider Trading and Securities Fraud Enforcement Act of 1988** could have been used to impose enhanced civil penalties.\\n- The **Sarbanes-Oxley Act of 2002** and **Dodd-Frank Act** provisions could have provided additional grounds for prosecution and penalties.\\n- **Title 18, Section 1348** could have been invoked to pursue criminal charges for securities fraud.\\n\\nThese laws collectively ensure that insider trading is prosecuted comprehensively, with both civil and criminal penalties available to deter and punish such conduct.\""
      ]
     },
     "execution_count": 23,
     "metadata": {},
     "output_type": "execute_result"
    }
   ],
   "source": [
    "conversational_agent.invoke_bot(\"Based on your knowledge of federal laws in the USA related to insider trading, were there any other laws that could have been applied in this case?\")"
   ]
  }
 ],
 "metadata": {
  "kernelspec": {
   "display_name": "llm-practice",
   "language": "python",
   "name": "python3"
  },
  "language_info": {
   "codemirror_mode": {
    "name": "ipython",
    "version": 3
   },
   "file_extension": ".py",
   "mimetype": "text/x-python",
   "name": "python",
   "nbconvert_exporter": "python",
   "pygments_lexer": "ipython3",
   "version": "3.10.14"
  }
 },
 "nbformat": 4,
 "nbformat_minor": 2
}
