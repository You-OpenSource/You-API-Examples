{
 "cells": [
  {
   "cell_type": "markdown",
   "metadata": {},
   "source": [
    "# Legal Assistant Bot"
   ]
  },
  {
   "cell_type": "markdown",
   "metadata": {},
   "source": [
    "This chatbot retrieves context from a proprietary data source and the web to answer questions about federal laws in the United States of America (USA).  The proprietary datasource is a CSV file of all federal laws and their revision history in the USA.  The web data required to respond to the user's questions is retrieved using the You.com API.  The chatbot is implemented as an agent in using LangChain and LangGraph."
   ]
  },
  {
   "cell_type": "markdown",
   "metadata": {},
   "source": [
    "## Install all required packages"
   ]
  },
  {
   "cell_type": "code",
   "execution_count": 102,
   "metadata": {},
   "outputs": [],
   "source": [
    "%%capture\n",
    "! pip install langgraph==0.0.59\n",
    "! pip install pandas==2.2.2\n",
    "! pip install openai==1.30.3\n",
    "! pip install langchain==0.2.1\n",
    "! pip install langchain_community==0.2.1\n",
    "! pip install langchain_openai==0.1.7\n",
    "! pip install langchain_text_splitters==0.2.0\n",
    "! pip install langchain_core==0.2.1\n",
    "! pip install numpy==1.26.4\n",
    "! pip install openai==1.30.3\n",
    "! pip install python-dotenv==1.0.1\n",
    "! pip install faiss-cpu==1.8.0"
   ]
  },
  {
   "cell_type": "markdown",
   "metadata": {},
   "source": [
    "## Load in the US Federal Laws dataset and create a vector database representation of this dataset, which will then be converted into a LangChain Retriever and Tool"
   ]
  },
  {
   "cell_type": "code",
   "execution_count": 103,
   "metadata": {},
   "outputs": [
    {
     "data": {
      "text/html": [
       "<div>\n",
       "<style scoped>\n",
       "    .dataframe tbody tr th:only-of-type {\n",
       "        vertical-align: middle;\n",
       "    }\n",
       "\n",
       "    .dataframe tbody tr th {\n",
       "        vertical-align: top;\n",
       "    }\n",
       "\n",
       "    .dataframe thead th {\n",
       "        text-align: right;\n",
       "    }\n",
       "</style>\n",
       "<table border=\"1\" class=\"dataframe\">\n",
       "  <thead>\n",
       "    <tr style=\"text-align: right;\">\n",
       "      <th></th>\n",
       "      <th>row_number</th>\n",
       "      <th>action</th>\n",
       "      <th>Title</th>\n",
       "      <th>sal_volume</th>\n",
       "      <th>sal_page_start</th>\n",
       "      <th>BillCitation</th>\n",
       "      <th>congress_number</th>\n",
       "      <th>chapter</th>\n",
       "      <th>session_number</th>\n",
       "      <th>pl_no</th>\n",
       "      <th>date_of_passage</th>\n",
       "      <th>secondary_date</th>\n",
       "      <th>dates_conflict</th>\n",
       "      <th>Source</th>\n",
       "      <th>URL</th>\n",
       "      <th>alternate_sal_volume</th>\n",
       "      <th>alternate_sal_page_start</th>\n",
       "      <th>has_alternate_sal_citation</th>\n",
       "    </tr>\n",
       "  </thead>\n",
       "  <tbody>\n",
       "    <tr>\n",
       "      <th>0</th>\n",
       "      <td>1</td>\n",
       "      <td>An Act</td>\n",
       "      <td>To regulate the time and manner of administeri...</td>\n",
       "      <td>1</td>\n",
       "      <td>23.0</td>\n",
       "      <td>NaN</td>\n",
       "      <td>1</td>\n",
       "      <td>1.0</td>\n",
       "      <td>1.0</td>\n",
       "      <td>NaN</td>\n",
       "      <td>1789-06-01</td>\n",
       "      <td>NaN</td>\n",
       "      <td>NaN</td>\n",
       "      <td>HeinOnline</td>\n",
       "      <td>NaN</td>\n",
       "      <td>NaN</td>\n",
       "      <td>NaN</td>\n",
       "      <td>False</td>\n",
       "    </tr>\n",
       "    <tr>\n",
       "      <th>1</th>\n",
       "      <td>2</td>\n",
       "      <td>An Act</td>\n",
       "      <td>For laying a duty on goods, wares, and merchan...</td>\n",
       "      <td>1</td>\n",
       "      <td>24.0</td>\n",
       "      <td>NaN</td>\n",
       "      <td>1</td>\n",
       "      <td>2.0</td>\n",
       "      <td>1.0</td>\n",
       "      <td>NaN</td>\n",
       "      <td>1789-07-04</td>\n",
       "      <td>NaN</td>\n",
       "      <td>NaN</td>\n",
       "      <td>HeinOnline</td>\n",
       "      <td>NaN</td>\n",
       "      <td>NaN</td>\n",
       "      <td>NaN</td>\n",
       "      <td>False</td>\n",
       "    </tr>\n",
       "    <tr>\n",
       "      <th>2</th>\n",
       "      <td>3</td>\n",
       "      <td>An Act</td>\n",
       "      <td>Imposing duties on tonnage.</td>\n",
       "      <td>1</td>\n",
       "      <td>27.0</td>\n",
       "      <td>NaN</td>\n",
       "      <td>1</td>\n",
       "      <td>3.0</td>\n",
       "      <td>1.0</td>\n",
       "      <td>NaN</td>\n",
       "      <td>1789-07-20</td>\n",
       "      <td>NaN</td>\n",
       "      <td>NaN</td>\n",
       "      <td>HeinOnline</td>\n",
       "      <td>NaN</td>\n",
       "      <td>NaN</td>\n",
       "      <td>NaN</td>\n",
       "      <td>False</td>\n",
       "    </tr>\n",
       "    <tr>\n",
       "      <th>3</th>\n",
       "      <td>4</td>\n",
       "      <td>An Act</td>\n",
       "      <td>For establishing an executive department to be...</td>\n",
       "      <td>1</td>\n",
       "      <td>28.0</td>\n",
       "      <td>NaN</td>\n",
       "      <td>1</td>\n",
       "      <td>4.0</td>\n",
       "      <td>1.0</td>\n",
       "      <td>NaN</td>\n",
       "      <td>1789-07-27</td>\n",
       "      <td>NaN</td>\n",
       "      <td>NaN</td>\n",
       "      <td>HeinOnline</td>\n",
       "      <td>NaN</td>\n",
       "      <td>NaN</td>\n",
       "      <td>NaN</td>\n",
       "      <td>False</td>\n",
       "    </tr>\n",
       "    <tr>\n",
       "      <th>4</th>\n",
       "      <td>5</td>\n",
       "      <td>An Act</td>\n",
       "      <td>To regulate the collection of the duties impos...</td>\n",
       "      <td>1</td>\n",
       "      <td>29.0</td>\n",
       "      <td>NaN</td>\n",
       "      <td>1</td>\n",
       "      <td>5.0</td>\n",
       "      <td>1.0</td>\n",
       "      <td>NaN</td>\n",
       "      <td>1789-07-31</td>\n",
       "      <td>NaN</td>\n",
       "      <td>NaN</td>\n",
       "      <td>HeinOnline</td>\n",
       "      <td>NaN</td>\n",
       "      <td>NaN</td>\n",
       "      <td>NaN</td>\n",
       "      <td>False</td>\n",
       "    </tr>\n",
       "  </tbody>\n",
       "</table>\n",
       "</div>"
      ],
      "text/plain": [
       "   row_number  action                                              Title  \\\n",
       "0           1  An Act  To regulate the time and manner of administeri...   \n",
       "1           2  An Act  For laying a duty on goods, wares, and merchan...   \n",
       "2           3  An Act                        Imposing duties on tonnage.   \n",
       "3           4  An Act  For establishing an executive department to be...   \n",
       "4           5  An Act  To regulate the collection of the duties impos...   \n",
       "\n",
       "   sal_volume  sal_page_start BillCitation  congress_number  chapter  \\\n",
       "0           1            23.0          NaN                1      1.0   \n",
       "1           1            24.0          NaN                1      2.0   \n",
       "2           1            27.0          NaN                1      3.0   \n",
       "3           1            28.0          NaN                1      4.0   \n",
       "4           1            29.0          NaN                1      5.0   \n",
       "\n",
       "   session_number pl_no date_of_passage secondary_date dates_conflict  \\\n",
       "0             1.0   NaN      1789-06-01            NaN            NaN   \n",
       "1             1.0   NaN      1789-07-04            NaN            NaN   \n",
       "2             1.0   NaN      1789-07-20            NaN            NaN   \n",
       "3             1.0   NaN      1789-07-27            NaN            NaN   \n",
       "4             1.0   NaN      1789-07-31            NaN            NaN   \n",
       "\n",
       "       Source  URL  alternate_sal_volume  alternate_sal_page_start  \\\n",
       "0  HeinOnline  NaN                   NaN                       NaN   \n",
       "1  HeinOnline  NaN                   NaN                       NaN   \n",
       "2  HeinOnline  NaN                   NaN                       NaN   \n",
       "3  HeinOnline  NaN                   NaN                       NaN   \n",
       "4  HeinOnline  NaN                   NaN                       NaN   \n",
       "\n",
       "   has_alternate_sal_citation  \n",
       "0                       False  \n",
       "1                       False  \n",
       "2                       False  \n",
       "3                       False  \n",
       "4                       False  "
      ]
     },
     "execution_count": 103,
     "metadata": {},
     "output_type": "execute_result"
    }
   ],
   "source": [
    "# Let's take a look at our CSV dataset first\n",
    "import pandas as pd\n",
    "\n",
    "# The CSV file can be downloaded from: https://www.nature.com/articles/s41597-023-02758-z#Sec3\n",
    "df = pd.read_csv(\"us_laws_dataset.csv\")\n",
    "\n",
    "df.head()"
   ]
  },
  {
   "cell_type": "code",
   "execution_count": 104,
   "metadata": {},
   "outputs": [],
   "source": [
    "import openai\n",
    "import langchain\n",
    "import os"
   ]
  },
  {
   "cell_type": "code",
   "execution_count": 120,
   "metadata": {},
   "outputs": [],
   "source": [
    "# Insert your APIs here or alternatively, add them in a .env file and load the API keys from the .env file in the cell below\n",
    "os.environ[\"YDC_API_KEY\"] = \"<Insert your YDC API key here>\"\n",
    "os.environ[\"OPENAI_API_KEY\"] = \"<Insert your Open AI API key here>\""
   ]
  },
  {
   "cell_type": "code",
   "execution_count": 106,
   "metadata": {},
   "outputs": [
    {
     "data": {
      "text/plain": [
       "True"
      ]
     },
     "execution_count": 106,
     "metadata": {},
     "output_type": "execute_result"
    }
   ],
   "source": [
    "import dotenv\n",
    "dotenv.load_dotenv(\".env\", override=True)"
   ]
  },
  {
   "cell_type": "code",
   "execution_count": 107,
   "metadata": {},
   "outputs": [],
   "source": [
    "from langchain_community.document_loaders.csv_loader import CSVLoader\n",
    "\n",
    "# The CSV file can be downloaded from: https://www.nature.com/articles/s41597-023-02758-z#Sec3\n",
    "loader = CSVLoader(file_path = \"us_laws_dataset.csv\")\n",
    "\n",
    "data = loader.load()"
   ]
  },
  {
   "cell_type": "code",
   "execution_count": 108,
   "metadata": {},
   "outputs": [],
   "source": [
    "from langchain_community.vectorstores import FAISS\n",
    "from langchain_openai import OpenAIEmbeddings\n",
    "from langchain.text_splitter import RecursiveCharacterTextSplitter\n",
    "\n",
    "# split the document into chunks, and vectorize these chunks in a FAISS database\n",
    "text_splitter = RecursiveCharacterTextSplitter(chunk_size = 1000, chunk_overlap = 100)\n",
    "docs = text_splitter.split_documents(data)\n",
    "embeddings = OpenAIEmbeddings()\n",
    "db = FAISS.from_documents(documents=docs, embedding=embeddings)"
   ]
  },
  {
   "cell_type": "code",
   "execution_count": 109,
   "metadata": {},
   "outputs": [
    {
     "data": {
      "text/plain": [
       "[Document(page_content='row_number: 1885\\naction: An Act\\nTitle: In addition to the act, entitled \"An act for the prompt settlement of public accounts,\" and for the punishment of the crime of perjury\\nsal_volume: 3\\nsal_page_start: 770\\nBillCitation: NA\\ncongress_number: 17\\nchapter: 37\\nsession_number: 2\\npl_no: NA\\ndate_of_passage: 1823-03-01\\nsecondary_date: NA\\ndates_conflict: NA\\nSource: HeinOnline\\nURL: NA\\nalternate_sal_volume: NA\\nalternate_sal_page_start: NA\\nhas_alternate_sal_citation: FALSE', metadata={'source': 'us_laws_dataset.csv', 'row': 1884}),\n",
       " Document(page_content='row_number: 38724\\naction: An Act\\nTitle: An act to permit the use of unsworn declarations under penalty of perjury as evidence in Federal proceedings\\nsal_volume: 90\\nsal_page_start: 2534\\nBillCitation: H.R. 15531\\ncongress_number: 94\\nchapter: NA\\nsession_number: 2\\npl_no: 94-550\\ndate_of_passage: 1976-10-18\\nsecondary_date: NA\\ndates_conflict: FALSE\\nSource: NA\\nURL: https://www.govinfo.gov/content/pkg/STATUTE-90/pdf/STATUTE-90-Pg2534.pdf\\nalternate_sal_volume: 90\\nalternate_sal_page_start: 2534\\nhas_alternate_sal_citation: TRUE', metadata={'source': 'us_laws_dataset.csv', 'row': 38720}),\n",
       " Document(page_content='row_number: 33140\\naction: An Act\\nTitle: An Act to amend section 200 of the Soldiers and Sailors Civil Relief Act of 1940 to permit the establishment of certain facts by a declaration under penalty of perjury in lieu of an affidavit, and for other purposes\\nsal_volume: 74\\nsal_page_start: 820\\nBillCitation: H.R. 3313\\ncongress_number: 86\\nchapter: NA\\nsession_number: 2\\npl_no: 86-721\\ndate_of_passage: 1960-09-08\\nsecondary_date: NA\\ndates_conflict: FALSE\\nSource: NA\\nURL: https://www.govinfo.gov/content/pkg/STATUTE-74/pdf/STATUTE-74-Pg820.pdf\\nalternate_sal_volume: 74\\nalternate_sal_page_start: 820\\nhas_alternate_sal_citation: TRUE', metadata={'source': 'us_laws_dataset.csv', 'row': 33138})]"
      ]
     },
     "execution_count": 109,
     "metadata": {},
     "output_type": "execute_result"
    }
   ],
   "source": [
    "# test out the similarity search\n",
    "query = \"What laws and acts relate to perjury?\"\n",
    "response = db.similarity_search(query, k=10)\n",
    "# let's look at the first 3 retrieved docs\n",
    "response[:3]"
   ]
  },
  {
   "cell_type": "code",
   "execution_count": 110,
   "metadata": {},
   "outputs": [],
   "source": [
    "from langchain.tools.retriever import create_retriever_tool\n",
    "\n",
    "# convert this retriver into a tool\n",
    "db_retriever = db.as_retriever()\n",
    "db_retriever_tool = create_retriever_tool(\n",
    "    db_retriever,\n",
    "    name = \"law_dataset_retriever\",\n",
    "    description = \"Retrieve relevant context from the US laws dataset.\"\n",
    ")"
   ]
  },
  {
   "cell_type": "markdown",
   "metadata": {},
   "source": [
    "## Instantiating the You.com Tool in Langchain"
   ]
  },
  {
   "cell_type": "markdown",
   "metadata": {},
   "source": [
    "LangChain provides a wrapper around the You.com API and a You.com Tool.  For more information, please visit: https://python.langchain.com/v0.1/docs/integrations/tools/you/"
   ]
  },
  {
   "cell_type": "code",
   "execution_count": 111,
   "metadata": {},
   "outputs": [],
   "source": [
    "from langchain_community.tools.you import YouSearchTool\n",
    "from langchain_community.utilities.you import YouSearchAPIWrapper\n",
    "\n",
    "api_wrapper = YouSearchAPIWrapper(num_web_results = 10)\n",
    "ydc_tool = YouSearchTool(api_wrapper=api_wrapper)"
   ]
  },
  {
   "cell_type": "code",
   "execution_count": 112,
   "metadata": {},
   "outputs": [
    {
     "data": {
      "text/plain": [
       "[Document(page_content='Meijer, Inc. v. Ferring B.V.; Ferring Pharmaceuticals, Inc.; and Aventis Pharmaceuticals [In Re: DDAVP Direct Purchaser Antitrust Litigation] U.S. v. Memphis Board of Realtors', metadata={'url': 'https://www.justice.gov/atr/antitrust-case-filings-alpha', 'thumbnail_url': None, 'title': 'Antitrust Division | Antitrust Case Filings | United States Department of Justice', 'description': 'An official website of the United States government · Official websites use .gov A .gov website belongs to an official government organization in the United States'}),\n",
       " Document(page_content=\"Dentsply International, Inc. v. Antitrust Division of the United States Department of Justice · U.S. v. Freddy Deoliveira · U.S. v. Wilhelm DerMinassian · U.S. v. Eric Descouraux · Leinani Deslandes, Stephanie Turner, et al. v. McDonald's USA, LLC, et al.\", metadata={'url': 'https://www.justice.gov/atr/antitrust-case-filings-alpha', 'thumbnail_url': None, 'title': 'Antitrust Division | Antitrust Case Filings | United States Department of Justice', 'description': 'An official website of the United States government · Official websites use .gov A .gov website belongs to an official government organization in the United States'}),\n",
       " Document(page_content='U.S. v. Arden-Mayfair, Inc., Matanuska Maid, Inc.; and Meadowmoor Alaska Dairy, Inc. U.S. v. Argos USA LLC, f.k.a. Argos Ready Mix LLC', metadata={'url': 'https://www.justice.gov/atr/antitrust-case-filings-alpha', 'thumbnail_url': None, 'title': 'Antitrust Division | Antitrust Case Filings | United States Department of Justice', 'description': 'An official website of the United States government · Official websites use .gov A .gov website belongs to an official government organization in the United States'})]"
      ]
     },
     "execution_count": 112,
     "metadata": {},
     "output_type": "execute_result"
    }
   ],
   "source": [
    "# test out the You.com search tool\n",
    "response = ydc_tool.invoke(\"Tell me about a recent high-profile case related to antitrust in the USA.\")\n",
    "# let's look at the first 3 results\n",
    "response[:3]"
   ]
  },
  {
   "cell_type": "markdown",
   "metadata": {},
   "source": [
    "## Instantiate our LLM"
   ]
  },
  {
   "cell_type": "code",
   "execution_count": 113,
   "metadata": {},
   "outputs": [],
   "source": [
    "from langchain_openai import ChatOpenAI\n",
    "\n",
    "llm = ChatOpenAI(model=\"gpt-4o\", temperature=0.5)"
   ]
  },
  {
   "cell_type": "markdown",
   "metadata": {},
   "source": [
    "## Tying it all together"
   ]
  },
  {
   "cell_type": "code",
   "execution_count": 114,
   "metadata": {},
   "outputs": [],
   "source": [
    "from langgraph.prebuilt import chat_agent_executor\n",
    "from langgraph.checkpoint import MemorySaver\n",
    "\n",
    "# Create a checkpointer to use memory\n",
    "memory = MemorySaver()\n",
    "# the vector store representation of the CSV dataset and the You.com Search tool will both be passed as tools to the agent\n",
    "tools = [db_retriever_tool, ydc_tool]\n",
    "agent_executor = chat_agent_executor.create_tool_calling_executor(llm, tools, checkpointer=memory)"
   ]
  },
  {
   "cell_type": "markdown",
   "metadata": {},
   "source": [
    "## Let's try it out!"
   ]
  },
  {
   "cell_type": "code",
   "execution_count": 115,
   "metadata": {},
   "outputs": [
    {
     "data": {
      "text/plain": [
       "'Several laws in the United States address economic espionage:\\n\\n1. **Economic Espionage Act of 1996 (Public Law 104-294)**\\n   - **Date of Passage:** October 11, 1996\\n   - **Summary:** This act makes the theft or misappropriation of trade secrets a federal crime.\\n   - **URL:** [Economic Espionage Act of 1996](https://www.govinfo.gov/content/pkg/STATUTE-110/pdf/STATUTE-110-Pg3488.pdf)\\n   \\n2. **An act to clarify the scope of the Economic Espionage Act of 1996 (Public Law 112-236)**\\n   - **Date of Passage:** December 28, 2012\\n   - **Summary:** This act clarifies the scope of the original Economic Espionage Act of 1996.\\n   - **URL:** [Clarification of the Economic Espionage Act of 1996](https://www.govinfo.gov/content/pkg/STATUTE-126/html/STATUTE-126-Pg1627.htm)\\n\\n3. **An act to amend title 18, United States Code, to provide for increased penalties for foreign and economic espionage, and for other purposes (Public Law 112-269)**\\n   - **Date of Passage:** January 14, 2013\\n   - **Summary:** This act amends the U.S. Code to increase penalties for foreign and economic espionage.\\n   - **URL:** [Increased Penalties for Foreign and Economic Espionage](https://www.govinfo.gov/content/pkg/STATUTE-126/html/STATUTE-126-Pg2442.htm)\\n\\n4. **An Act to amend section three, title one, of the Act entitled \"An Act to punish acts of interference with the foreign relations, the neutrality, and the foreign commerce of the United States, to punish espionage, and better to enforce the criminal laws of the United States, and for other purposes,\" approved June fifteenth, nineteen hundred and seventeen, and for other purposes (Public Law 65-150)**\\n   - **Date of Passage:** May 16, 1918\\n   - **Summary:** This act, originally passed in 1917 and amended in 1918, was one of the earliest laws addressing espionage, including economic espionage.\\n   - **URL:** Not available\\n\\nThese laws collectively form the legal framework in the U.S. to combat and penalize economic espionage.'"
      ]
     },
     "execution_count": 115,
     "metadata": {},
     "output_type": "execute_result"
    }
   ],
   "source": [
    "agent_executor.invoke(input={\"messages\": \"What laws in the US address economic espionage?\"}, config={\"configurable\": {\"thread_id\": \"xyz_789\"}})[\"messages\"][-1].content"
   ]
  },
  {
   "cell_type": "code",
   "execution_count": 116,
   "metadata": {},
   "outputs": [
    {
     "data": {
      "text/plain": [
       "'The most famous U.S. Supreme Court case related to economic espionage is **\"Gorin v. United States\"** (1941).\\n\\n### Gorin v. United States (312 U.S. 19)\\n- **Date of Decision:** January 13, 1941\\n- **Summary:** This case involved the Espionage Act of 1917. The Supreme Court upheld the convictions of the defendants for obtaining and delivering documents related to national defense to a foreign agent, with the intent or reason to believe that the information would be used to the injury of the United States or to the advantage of a foreign nation.\\n- **Significance:** The ruling clarified the scope of the Espionage Act, establishing that the act of obtaining and delivering documents connected with national defense with intent to harm the U.S. or benefit a foreign nation constituted a crime under the Espionage Act.\\n- **URL:** [Gorin v. United States - Justia](https://supreme.justia.com/cases/federal/us/312/19/)\\n\\nThis case is a landmark in the context of espionage laws and has had a lasting impact on how economic espionage is prosecuted in the United States.'"
      ]
     },
     "execution_count": 116,
     "metadata": {},
     "output_type": "execute_result"
    }
   ],
   "source": [
    "agent_executor.invoke(input={\"messages\": \"What is the most famous US Supreme Court case related to economic espionage?\"}, config={\"configurable\": {\"thread_id\": \"xyz_789\"}})[\"messages\"][-1].content"
   ]
  },
  {
   "cell_type": "code",
   "execution_count": 117,
   "metadata": {},
   "outputs": [
    {
     "data": {
      "text/plain": [
       "'In the context of the \"Gorin v. United States\" case and the broader issue of economic espionage, several other federal laws could potentially be applied depending on the specific circumstances of the case. These laws include:\\n\\n### 1. Economic Espionage Act of 1996 (EEA)\\n- **Sections 1831 and 1832 of Title 18, U.S. Code**\\n  - **Section 1831:** Addresses economic espionage specifically involving the theft of trade secrets for the benefit of a foreign government, foreign instrumentality, or foreign agent.\\n  - **Section 1832:** Addresses the theft of trade secrets for commercial or economic advantage, regardless of the involvement of a foreign entity.\\n  - **Summary:** This act criminalizes the theft or misappropriation of trade secrets and provides penalties for individuals and organizations involved in such activities.\\n\\n### 2. Espionage Act of 1917\\n- **Title 18, U.S. Code, Sections 792-798**\\n  - **Summary:** This act addresses a wide range of espionage activities, including the unauthorized obtaining, receiving, or transmitting of information related to national defense with the intent to harm the United States or aid a foreign nation.\\n\\n### 3. Foreign Agents Registration Act (FARA)\\n- **Title 22, U.S. Code, Section 611 et seq.**\\n  - **Summary:** Requires individuals and entities acting as agents of foreign principals in a political or quasi-political capacity to disclose their relationship with the foreign principal and information about related activities and finances.\\n\\n### 4. Computer Fraud and Abuse Act (CFAA)\\n- **Title 18, U.S. Code, Section 1030**\\n  - **Summary:** This act addresses unauthorized access to computers and networks, which could be relevant in cases where trade secrets or sensitive information are obtained through hacking or other forms of cyber intrusion.\\n\\n### 5. Trade Secrets Act\\n- **Title 18, U.S. Code, Section 1905**\\n  - **Summary:** Prohibits federal employees from disclosing trade secrets and other confidential business information without authorization.\\n\\n### 6. National Stolen Property Act (NSPA)\\n- **Title 18, U.S. Code, Sections 2314 and 2315**\\n  - **Summary:** Addresses the transportation of stolen property, including trade secrets, across state lines or international borders.\\n\\n### 7. Racketeer Influenced and Corrupt Organizations Act (RICO)\\n- **Title 18, U.S. Code, Sections 1961-1968**\\n  - **Summary:** Provides for extended criminal penalties and civil cause of action for acts performed as part of an ongoing criminal organization, which could include economic espionage activities.\\n\\n### Application in \"Gorin v. United States\"\\nWhile \"Gorin v. United States\" primarily involved the Espionage Act of 1917, the Economic Espionage Act of 1996 could also be relevant if the case had occurred after its enactment. The EEA specifically targets the theft of trade secrets and provides a more focused legal framework for prosecuting economic espionage. Additionally, the Computer Fraud and Abuse Act could be applicable if the espionage involved unauthorized access to computer systems to obtain sensitive information.\\n\\nOverall, the choice of applicable laws would depend on the specific facts of the case, including the nature of the information obtained, the methods used to obtain it, and the intended use of the information.'"
      ]
     },
     "execution_count": 117,
     "metadata": {},
     "output_type": "execute_result"
    }
   ],
   "source": [
    "agent_executor.invoke(input={\"messages\": \"Based on your knowledge of federal laws in the US pertaining to economic espionage, were there any other laws that could have been applied in this case?\"}, config={\"configurable\": {\"thread_id\": \"xyz_789\"}})[\"messages\"][-1].content"
   ]
  },
  {
   "cell_type": "markdown",
   "metadata": {},
   "source": [
    "## Let's create a Python class that encapsulates the code above.  This will enable users to easily create chatbots for new use cases with custom CSV datasets"
   ]
  },
  {
   "cell_type": "code",
   "execution_count": 118,
   "metadata": {},
   "outputs": [],
   "source": [
    "import secrets\n",
    "\n",
    "class CSV_QA_Bot:\n",
    "    def __init__(self, llm: ChatOpenAI, csv_files: list[str], num_web_results_to_fetch: int = 10):\n",
    "        self._llm = llm\n",
    "        \n",
    "        docs = self._load_csv_files(csv_files)\n",
    "        \n",
    "        # split the docs into chunks, vectorize the chunks and load them into a vector store\n",
    "        db = self._create_vector_store(docs)\n",
    "        \n",
    "        # create a retriever from the vector store\n",
    "        self._faiss_retriever = db.as_retriever()\n",
    "        \n",
    "        # convert this retriever into a Langchain tool\n",
    "        self._faiss_retriever_tool = create_retriever_tool(\n",
    "            self._faiss_retriever,\n",
    "            name = \"custom_dataset_retriever\",\n",
    "            description = \"Retrieve relevant context from custom dataset.\"\n",
    "        )\n",
    "        \n",
    "        # instantiate the YDC search tool in Langchain\n",
    "        self._ydc_api_wrapper = YouSearchAPIWrapper(num_web_results=num_web_results_to_fetch)\n",
    "        self._ydc_search_tool = YouSearchTool(api_wrapper=self._ydc_api_wrapper)\n",
    "        \n",
    "        \n",
    "        # create a list of tools that will be supplied to the Langchain agent\n",
    "        self._tools = [self._faiss_retriever_tool, self._ydc_search_tool]\n",
    "        \n",
    "        # Create a checkpointer to use memory\n",
    "        self._memory = MemorySaver()\n",
    "        \n",
    "        # create the agent executor\n",
    "        self._agent_executor = chat_agent_executor.create_tool_calling_executor(self._llm, self._tools, checkpointer=self._memory)\n",
    "        \n",
    "        # generate a thread ID for to keep track of conversation history\n",
    "        self._thread_id = self._generate_thread_id()\n",
    "\n",
    "    def _load_csv_files(self, csv_files: list[str]) -> list:\n",
    "        docs = []\n",
    "        for file in csv_files:\n",
    "            data_loader = CSVLoader(file)\n",
    "            docs.extend(data_loader.load())\n",
    "        return docs\n",
    "    \n",
    "    def _create_vector_store(self, docs: list) -> FAISS:\n",
    "        text_splitter = RecursiveCharacterTextSplitter(chunk_size = 1000, chunk_overlap = 100)\n",
    "        chunked_docs = text_splitter.split_documents(docs)\n",
    "        embeddings = OpenAIEmbeddings()\n",
    "        return FAISS.from_documents(documents=chunked_docs, embedding=embeddings)\n",
    "\n",
    "    def _generate_thread_id(self) -> str:\n",
    "        thread_id = secrets.token_urlsafe(16)\n",
    "        return thread_id\n",
    "    \n",
    "    def invoke_bot(self, input_str: str) -> str:\n",
    "        input = {\"messages\": input_str}\n",
    "        config = {\"configurable\": {\"thread_id\": self._thread_id}}\n",
    "        output = self._agent_executor.invoke(input=input, config=config)\n",
    "        return output[\"messages\"][-1].content"
   ]
  },
  {
   "cell_type": "markdown",
   "metadata": {},
   "source": [
    "## Let's try it out!"
   ]
  },
  {
   "cell_type": "code",
   "execution_count": 119,
   "metadata": {},
   "outputs": [],
   "source": [
    "llm = ChatOpenAI(model=\"gpt-4o\", temperature=0.5)\n",
    "conversational_agent = CSV_QA_Bot(llm, csv_files=[\"us_laws_dataset.csv\"])"
   ]
  },
  {
   "cell_type": "code",
   "execution_count": 121,
   "metadata": {},
   "outputs": [
    {
     "data": {
      "text/plain": [
       "'In the United States, several laws and acts specifically address insider trading, including:\\n\\n1. **Securities Act of 1933**:\\n   - This act requires the full and fair disclosure of the character of securities sold in interstate and foreign commerce and through the mails to prevent fraud in the sale of securities.\\n   - [Link to the Act](https://www.sec.gov/Archives/edgar/data/1164964/000101968715004168/globalfuture_8k-ex9904.htm)\\n\\n2. **Securities Exchange Act of 1934**:\\n   - This act provides for the regulation of securities exchanges and over-the-counter markets operating in interstate and foreign commerce and through the mails to prevent inequitable and unfair practices on such exchanges and markets.\\n   - Sections 16(b) and 10(b) of the Securities Exchange Act of 1934 directly and indirectly address insider trading.\\n   - [Link to the Act](https://www.sec.gov/Archives/edgar/data/1164964/000101968715004168/globalfuture_8k-ex9904.htm)\\n\\n3. **Insider Trading Sanctions Act of 1984**:\\n   - This act allows the Securities and Exchange Commission (SEC) to seek civil penalties for insider trading.\\n   - [Link to the Act](https://www.govinfo.gov/content/pkg/STATUTE-98/pdf/STATUTE-98-Pg1264.pdf)\\n\\n4. **Insider Trading and Securities Fraud Enforcement Act of 1988**:\\n   - This act enhances the penalties for insider trading and provides the SEC with additional enforcement powers.\\n   - [Link to the Act](https://www.govinfo.gov/content/pkg/STATUTE-102/pdf/STATUTE-102-Pg4677.pdf)\\n\\n5. **Rule 10b5-1**:\\n   - This rule permits criminal liability for an individual who trades on any stock based on misappropriated information.\\n   - [Link to the Rule](https://www.law.cornell.edu/wex/insider_trading)\\n\\nThese laws and regulations are designed to prevent and penalize the misuse of material non-public information for trading purposes. Violations of these laws can result in severe civil and criminal penalties, including fines and imprisonment.'"
      ]
     },
     "execution_count": 121,
     "metadata": {},
     "output_type": "execute_result"
    }
   ],
   "source": [
    "conversational_agent.invoke_bot(\"What laws in the USA address insider trading?\")"
   ]
  },
  {
   "cell_type": "code",
   "execution_count": 122,
   "metadata": {},
   "outputs": [
    {
     "data": {
      "text/plain": [
       "\"One of the most famous U.S. Supreme Court cases involving insider trading is **Salman v. United States**, decided on December 6, 2016. In this case, the Supreme Court upheld the conviction of Bassam Salman for insider trading. The Court ruled that gifts of confidential information from business executives to relatives violate securities laws, even if the tipper does not receive a direct financial benefit.\\n\\n### Key Points from Salman v. United States:\\n- **Issue**: Whether the insider trading laws require that the insider (tipper) receive a tangible benefit in exchange for the tip.\\n- **Ruling**: The Supreme Court held that a gift of confidential information to a relative or friend can constitute a violation of insider trading laws, even if the tipper does not receive a direct financial benefit.\\n- **Impact**: The decision made it easier to prosecute insider trading cases by clarifying that the benefit to the tipper can be intangible, such as enhancing a personal relationship.\\n\\n### Background:\\n- **Case Details**: Bassam Salman was convicted of trading on confidential information that he received from his brother-in-law, who worked at an investment bank.\\n- **Legal Precedent**: The Court's decision relied on the 1983 ruling in Dirks v. Securities and Exchange Commission, which required evidence that the insider gained something from the initial disclosure, either directly or indirectly.\\n\\n### Significance:\\n- The ruling reinforced the ability of prosecutors to pursue insider trading cases involving tips to friends and family, even without a direct financial benefit to the tipper.\\n- The case underscored the importance of maintaining the integrity of the securities markets by ensuring that all investors have relatively equal access to material information.\\n\\nFor further reading, you can refer to the [New York Times article on the case](https://www.nytimes.com/2016/12/06/business/dealbook/supreme-court-insider-trading.html).\""
      ]
     },
     "execution_count": 122,
     "metadata": {},
     "output_type": "execute_result"
    }
   ],
   "source": [
    "conversational_agent.invoke_bot(\"What is the most famous US Supreme Court case of insider trading?\")"
   ]
  },
  {
   "cell_type": "code",
   "execution_count": 123,
   "metadata": {},
   "outputs": [
    {
     "data": {
      "text/plain": [
       "\"In addition to the specific ruling in **Salman v. United States**, several federal laws and regulations in the USA address insider trading and could have been applied in this case. These include:\\n\\n### 1. **Securities Exchange Act of 1934**\\n   - **Section 10(b)**: This section prohibits any manipulative or deceptive device or contrivance in connection with the purchase or sale of any security. It is often enforced through SEC Rule 10b-5.\\n   - **Rule 10b-5**: This rule makes it unlawful for any person to employ any device, scheme, or artifice to defraud, to make any untrue statement of a material fact, or to omit to state a material fact necessary in order to make the statements made not misleading, or to engage in any act, practice, or course of business which operates or would operate as a fraud or deceit upon any person, in connection with the purchase or sale of any security.\\n\\n### 2. **Insider Trading Sanctions Act of 1984**\\n   - This act allows the SEC to seek civil penalties for insider trading violations. It enhances the penalties for those found guilty of insider trading, including fines and the possibility of disgorging profits obtained through illegal trading.\\n\\n### 3. **Insider Trading and Securities Fraud Enforcement Act of 1988**\\n   - This act further strengthens the penalties for insider trading and provides the SEC with additional enforcement powers. It allows for the imposition of treble damages, which means that violators can be fined up to three times the amount of profit gained or loss avoided.\\n\\n### 4. **Sarbanes-Oxley Act of 2002**\\n   - **Section 306**: This section prohibits insider trading during pension fund blackout periods. It also requires that insiders report their trades to the SEC within two business days, thus increasing transparency and accountability.\\n   - **Section 807**: This section adds criminal penalties for defrauding shareholders of publicly traded companies.\\n\\n### 5. **Dodd-Frank Wall Street Reform and Consumer Protection Act of 2010**\\n   - **Section 922**: This section established the SEC's whistleblower program, which incentivizes individuals to report violations of securities laws, including insider trading, by offering monetary rewards for information that leads to successful enforcement actions.\\n   - **Section 929P**: This section provides the SEC with greater authority to bring enforcement actions against violators of securities laws, including insider trading, in administrative proceedings.\\n\\n### 6. **Rule 10b5-1**\\n   - This rule allows insiders to establish pre-arranged trading plans when they are not in possession of material non-public information. Trades made under such plans can provide an affirmative defense to insider trading allegations if properly executed.\\n\\n### 7. **Classical Theory and Misappropriation Theory of Insider Trading**\\n   - **Classical Theory**: This theory holds that a corporate insider violates Section 10(b) and Rule 10b-5 by trading in the corporation's securities on the basis of material, non-public information.\\n   - **Misappropriation Theory**: This theory extends liability to individuals who misappropriate confidential information for securities trading purposes, even if they are not corporate insiders.\\n\\nIn the case of **Salman v. United States**, the prosecution could have relied on these laws and regulations to build their case, particularly focusing on Section 10(b) of the Securities Exchange Act of 1934 and Rule 10b-5, along with the classical and misappropriation theories of insider trading. These laws provide a comprehensive framework for addressing and prosecuting insider trading violations.\""
      ]
     },
     "execution_count": 123,
     "metadata": {},
     "output_type": "execute_result"
    }
   ],
   "source": [
    "conversational_agent.invoke_bot(\"Based on your knowledge of federal laws in the USA related to insider trading, were there any other laws that could have been applied in this case?\")"
   ]
  }
 ],
 "metadata": {
  "kernelspec": {
   "display_name": "llm-practice",
   "language": "python",
   "name": "python3"
  },
  "language_info": {
   "codemirror_mode": {
    "name": "ipython",
    "version": 3
   },
   "file_extension": ".py",
   "mimetype": "text/x-python",
   "name": "python",
   "nbconvert_exporter": "python",
   "pygments_lexer": "ipython3",
   "version": "3.10.14"
  }
 },
 "nbformat": 4,
 "nbformat_minor": 2
}
