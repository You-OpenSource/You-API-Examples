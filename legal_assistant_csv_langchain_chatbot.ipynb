{
 "cells": [
  {
   "cell_type": "markdown",
   "metadata": {},
   "source": [
    "# Legal Assistant Bot"
   ]
  },
  {
   "cell_type": "markdown",
   "metadata": {},
   "source": [
    "This chatbot retrieves context from a proprietary data source and the web to answer questions about federal laws in the United States of America (USA).  The proprietary datasource is a CSV file of all federal laws and their revision history in the USA.  The web data required to respond to the user's questions is retrieved using the You.com API.  The chatbot is implemented as an agent in using LangChain and LangGraph."
   ]
  },
  {
   "cell_type": "markdown",
   "metadata": {},
   "source": [
    "## Install all required packages"
   ]
  },
  {
   "cell_type": "code",
   "execution_count": 1,
   "metadata": {},
   "outputs": [],
   "source": [
    "%%capture\n",
    "! pip install langgraph==0.0.59\n",
    "! pip install pandas==2.2.2\n",
    "! pip install openai==1.30.3\n",
    "! pip install langchain==0.2.1\n",
    "! pip install langchain_community==0.2.1\n",
    "! pip install langchain_openai==0.1.7\n",
    "! pip install langchain_text_splitters==0.2.0\n",
    "! pip install langchain_core==0.2.1\n",
    "! pip install numpy==1.26.4\n",
    "! pip install openai==1.30.3\n",
    "! pip install python-dotenv==1.0.1\n",
    "! pip install pypdf==4.2.0\n",
    "! pip install faiss-cpu==1.8.0"
   ]
  },
  {
   "cell_type": "code",
   "execution_count": 27,
   "metadata": {},
   "outputs": [],
   "source": [
    "%%capture\n",
    "import dotenv\n",
    "dotenv.load_dotenv(\".env\", override=True)"
   ]
  },
  {
   "cell_type": "markdown",
   "metadata": {},
   "source": [
    "## Load in the US Federal Laws dataset and create a vector database representation of this dataset, which will then be converted into a LangChain Retriever and Tool"
   ]
  },
  {
   "cell_type": "code",
   "execution_count": 3,
   "metadata": {},
   "outputs": [
    {
     "data": {
      "text/html": [
       "<div>\n",
       "<style scoped>\n",
       "    .dataframe tbody tr th:only-of-type {\n",
       "        vertical-align: middle;\n",
       "    }\n",
       "\n",
       "    .dataframe tbody tr th {\n",
       "        vertical-align: top;\n",
       "    }\n",
       "\n",
       "    .dataframe thead th {\n",
       "        text-align: right;\n",
       "    }\n",
       "</style>\n",
       "<table border=\"1\" class=\"dataframe\">\n",
       "  <thead>\n",
       "    <tr style=\"text-align: right;\">\n",
       "      <th></th>\n",
       "      <th>row_number</th>\n",
       "      <th>action</th>\n",
       "      <th>Title</th>\n",
       "      <th>sal_volume</th>\n",
       "      <th>sal_page_start</th>\n",
       "      <th>BillCitation</th>\n",
       "      <th>congress_number</th>\n",
       "      <th>chapter</th>\n",
       "      <th>session_number</th>\n",
       "      <th>pl_no</th>\n",
       "      <th>date_of_passage</th>\n",
       "      <th>secondary_date</th>\n",
       "      <th>dates_conflict</th>\n",
       "      <th>Source</th>\n",
       "      <th>URL</th>\n",
       "      <th>alternate_sal_volume</th>\n",
       "      <th>alternate_sal_page_start</th>\n",
       "      <th>has_alternate_sal_citation</th>\n",
       "    </tr>\n",
       "  </thead>\n",
       "  <tbody>\n",
       "    <tr>\n",
       "      <th>0</th>\n",
       "      <td>1</td>\n",
       "      <td>An Act</td>\n",
       "      <td>To regulate the time and manner of administeri...</td>\n",
       "      <td>1</td>\n",
       "      <td>23.0</td>\n",
       "      <td>NaN</td>\n",
       "      <td>1</td>\n",
       "      <td>1.0</td>\n",
       "      <td>1.0</td>\n",
       "      <td>NaN</td>\n",
       "      <td>1789-06-01</td>\n",
       "      <td>NaN</td>\n",
       "      <td>NaN</td>\n",
       "      <td>HeinOnline</td>\n",
       "      <td>NaN</td>\n",
       "      <td>NaN</td>\n",
       "      <td>NaN</td>\n",
       "      <td>False</td>\n",
       "    </tr>\n",
       "    <tr>\n",
       "      <th>1</th>\n",
       "      <td>2</td>\n",
       "      <td>An Act</td>\n",
       "      <td>For laying a duty on goods, wares, and merchan...</td>\n",
       "      <td>1</td>\n",
       "      <td>24.0</td>\n",
       "      <td>NaN</td>\n",
       "      <td>1</td>\n",
       "      <td>2.0</td>\n",
       "      <td>1.0</td>\n",
       "      <td>NaN</td>\n",
       "      <td>1789-07-04</td>\n",
       "      <td>NaN</td>\n",
       "      <td>NaN</td>\n",
       "      <td>HeinOnline</td>\n",
       "      <td>NaN</td>\n",
       "      <td>NaN</td>\n",
       "      <td>NaN</td>\n",
       "      <td>False</td>\n",
       "    </tr>\n",
       "    <tr>\n",
       "      <th>2</th>\n",
       "      <td>3</td>\n",
       "      <td>An Act</td>\n",
       "      <td>Imposing duties on tonnage.</td>\n",
       "      <td>1</td>\n",
       "      <td>27.0</td>\n",
       "      <td>NaN</td>\n",
       "      <td>1</td>\n",
       "      <td>3.0</td>\n",
       "      <td>1.0</td>\n",
       "      <td>NaN</td>\n",
       "      <td>1789-07-20</td>\n",
       "      <td>NaN</td>\n",
       "      <td>NaN</td>\n",
       "      <td>HeinOnline</td>\n",
       "      <td>NaN</td>\n",
       "      <td>NaN</td>\n",
       "      <td>NaN</td>\n",
       "      <td>False</td>\n",
       "    </tr>\n",
       "    <tr>\n",
       "      <th>3</th>\n",
       "      <td>4</td>\n",
       "      <td>An Act</td>\n",
       "      <td>For establishing an executive department to be...</td>\n",
       "      <td>1</td>\n",
       "      <td>28.0</td>\n",
       "      <td>NaN</td>\n",
       "      <td>1</td>\n",
       "      <td>4.0</td>\n",
       "      <td>1.0</td>\n",
       "      <td>NaN</td>\n",
       "      <td>1789-07-27</td>\n",
       "      <td>NaN</td>\n",
       "      <td>NaN</td>\n",
       "      <td>HeinOnline</td>\n",
       "      <td>NaN</td>\n",
       "      <td>NaN</td>\n",
       "      <td>NaN</td>\n",
       "      <td>False</td>\n",
       "    </tr>\n",
       "    <tr>\n",
       "      <th>4</th>\n",
       "      <td>5</td>\n",
       "      <td>An Act</td>\n",
       "      <td>To regulate the collection of the duties impos...</td>\n",
       "      <td>1</td>\n",
       "      <td>29.0</td>\n",
       "      <td>NaN</td>\n",
       "      <td>1</td>\n",
       "      <td>5.0</td>\n",
       "      <td>1.0</td>\n",
       "      <td>NaN</td>\n",
       "      <td>1789-07-31</td>\n",
       "      <td>NaN</td>\n",
       "      <td>NaN</td>\n",
       "      <td>HeinOnline</td>\n",
       "      <td>NaN</td>\n",
       "      <td>NaN</td>\n",
       "      <td>NaN</td>\n",
       "      <td>False</td>\n",
       "    </tr>\n",
       "  </tbody>\n",
       "</table>\n",
       "</div>"
      ],
      "text/plain": [
       "   row_number  action                                              Title  \\\n",
       "0           1  An Act  To regulate the time and manner of administeri...   \n",
       "1           2  An Act  For laying a duty on goods, wares, and merchan...   \n",
       "2           3  An Act                        Imposing duties on tonnage.   \n",
       "3           4  An Act  For establishing an executive department to be...   \n",
       "4           5  An Act  To regulate the collection of the duties impos...   \n",
       "\n",
       "   sal_volume  sal_page_start BillCitation  congress_number  chapter  \\\n",
       "0           1            23.0          NaN                1      1.0   \n",
       "1           1            24.0          NaN                1      2.0   \n",
       "2           1            27.0          NaN                1      3.0   \n",
       "3           1            28.0          NaN                1      4.0   \n",
       "4           1            29.0          NaN                1      5.0   \n",
       "\n",
       "   session_number pl_no date_of_passage secondary_date dates_conflict  \\\n",
       "0             1.0   NaN      1789-06-01            NaN            NaN   \n",
       "1             1.0   NaN      1789-07-04            NaN            NaN   \n",
       "2             1.0   NaN      1789-07-20            NaN            NaN   \n",
       "3             1.0   NaN      1789-07-27            NaN            NaN   \n",
       "4             1.0   NaN      1789-07-31            NaN            NaN   \n",
       "\n",
       "       Source  URL  alternate_sal_volume  alternate_sal_page_start  \\\n",
       "0  HeinOnline  NaN                   NaN                       NaN   \n",
       "1  HeinOnline  NaN                   NaN                       NaN   \n",
       "2  HeinOnline  NaN                   NaN                       NaN   \n",
       "3  HeinOnline  NaN                   NaN                       NaN   \n",
       "4  HeinOnline  NaN                   NaN                       NaN   \n",
       "\n",
       "   has_alternate_sal_citation  \n",
       "0                       False  \n",
       "1                       False  \n",
       "2                       False  \n",
       "3                       False  \n",
       "4                       False  "
      ]
     },
     "execution_count": 3,
     "metadata": {},
     "output_type": "execute_result"
    }
   ],
   "source": [
    "# Let's take a look at our CSV dataset first\n",
    "import pandas as pd\n",
    "\n",
    "# The CSV file can be downloaded from: https://www.nature.com/articles/s41597-023-02758-z#Sec3\n",
    "df = pd.read_csv(\"us_laws_dataset.csv\")\n",
    "\n",
    "df.head()"
   ]
  },
  {
   "cell_type": "code",
   "execution_count": 4,
   "metadata": {},
   "outputs": [],
   "source": [
    "import openai\n",
    "import langchain\n",
    "import os"
   ]
  },
  {
   "cell_type": "code",
   "execution_count": 8,
   "metadata": {},
   "outputs": [],
   "source": [
    "os.environ[\"YDC_API_KEY\"] = \"<Insert your YDC API key here>\"\n",
    "os.environ[\"OPENAI_API_KEY\"] = \"<Insert your Open AI API key here>\""
   ]
  },
  {
   "cell_type": "code",
   "execution_count": 9,
   "metadata": {},
   "outputs": [],
   "source": [
    "from langchain_community.document_loaders.csv_loader import CSVLoader\n",
    "\n",
    "# The CSV file can be downloaded from: https://www.nature.com/articles/s41597-023-02758-z#Sec3\n",
    "loader = CSVLoader(file_path = \"us_laws_dataset.csv\")\n",
    "\n",
    "data = loader.load()"
   ]
  },
  {
   "cell_type": "code",
   "execution_count": 10,
   "metadata": {},
   "outputs": [],
   "source": [
    "from langchain_community.vectorstores import FAISS\n",
    "from langchain_openai import OpenAIEmbeddings\n",
    "from langchain.text_splitter import RecursiveCharacterTextSplitter\n",
    "\n",
    "# split the document into chunks, and vectorize these chunks in a FAISS database\n",
    "text_splitter = RecursiveCharacterTextSplitter(chunk_size = 1000, chunk_overlap = 100)\n",
    "docs = text_splitter.split_documents(data)\n",
    "embeddings = OpenAIEmbeddings()\n",
    "db = FAISS.from_documents(documents=docs, embedding=embeddings)"
   ]
  },
  {
   "cell_type": "code",
   "execution_count": 11,
   "metadata": {},
   "outputs": [
    {
     "data": {
      "text/plain": [
       "[Document(page_content='row_number: 1885\\naction: An Act\\nTitle: In addition to the act, entitled \"An act for the prompt settlement of public accounts,\" and for the punishment of the crime of perjury\\nsal_volume: 3\\nsal_page_start: 770\\nBillCitation: NA\\ncongress_number: 17\\nchapter: 37\\nsession_number: 2\\npl_no: NA\\ndate_of_passage: 1823-03-01\\nsecondary_date: NA\\ndates_conflict: NA\\nSource: HeinOnline\\nURL: NA\\nalternate_sal_volume: NA\\nalternate_sal_page_start: NA\\nhas_alternate_sal_citation: FALSE', metadata={'source': 'us_laws_dataset.csv', 'row': 1884}),\n",
       " Document(page_content='row_number: 38724\\naction: An Act\\nTitle: An act to permit the use of unsworn declarations under penalty of perjury as evidence in Federal proceedings\\nsal_volume: 90\\nsal_page_start: 2534\\nBillCitation: H.R. 15531\\ncongress_number: 94\\nchapter: NA\\nsession_number: 2\\npl_no: 94-550\\ndate_of_passage: 1976-10-18\\nsecondary_date: NA\\ndates_conflict: FALSE\\nSource: NA\\nURL: https://www.govinfo.gov/content/pkg/STATUTE-90/pdf/STATUTE-90-Pg2534.pdf\\nalternate_sal_volume: 90\\nalternate_sal_page_start: 2534\\nhas_alternate_sal_citation: TRUE', metadata={'source': 'us_laws_dataset.csv', 'row': 38720}),\n",
       " Document(page_content='row_number: 44400\\naction: An Act\\nTitle: An act to amend title 18, United States Code, with respect to witness retaliation, witness tampering and jury tampering\\nsal_volume: 110\\nsal_page_start: 3017\\nBillCitation: H.R. 3120\\ncongress_number: 104\\nchapter: NA\\nsession_number: 2\\npl_no: 104-214\\ndate_of_passage: 1996-10-01\\nsecondary_date: NA\\ndates_conflict: FALSE\\nSource: NA\\nURL: https://www.govinfo.gov/content/pkg/STATUTE-110/pdf/STATUTE-110-Pg3017.pdf\\nalternate_sal_volume: 110\\nalternate_sal_page_start: 3017\\nhas_alternate_sal_citation: TRUE', metadata={'source': 'us_laws_dataset.csv', 'row': 44396})]"
      ]
     },
     "execution_count": 11,
     "metadata": {},
     "output_type": "execute_result"
    }
   ],
   "source": [
    "# test out the similarity search\n",
    "query = \"What laws and amendments relate to perjury?\"\n",
    "response = db.similarity_search(query, k=10)\n",
    "# let's look at the first 3 retrieved docs\n",
    "response[:3]"
   ]
  },
  {
   "cell_type": "code",
   "execution_count": 12,
   "metadata": {},
   "outputs": [],
   "source": [
    "from langchain.tools.retriever import create_retriever_tool\n",
    "\n",
    "# convert this retriver into a tool\n",
    "db_retriever = db.as_retriever()\n",
    "db_retriever_tool = create_retriever_tool(\n",
    "    db_retriever,\n",
    "    name = \"law_dataset_retriever\",\n",
    "    description = \"Retrieve relevant context from the US laws dataset.\"\n",
    ")"
   ]
  },
  {
   "cell_type": "markdown",
   "metadata": {},
   "source": [
    "## Instantiating the You.com Tool in Langchain"
   ]
  },
  {
   "cell_type": "markdown",
   "metadata": {},
   "source": [
    "LangChain provides a wrapper around the You.com API and a You.com Tool.  For more information, please visit: https://python.langchain.com/v0.1/docs/integrations/tools/you/"
   ]
  },
  {
   "cell_type": "code",
   "execution_count": 13,
   "metadata": {},
   "outputs": [],
   "source": [
    "from langchain_community.tools.you import YouSearchTool\n",
    "from langchain_community.utilities.you import YouSearchAPIWrapper\n",
    "\n",
    "api_wrapper = YouSearchAPIWrapper(num_web_results = 10)\n",
    "ydc_tool = YouSearchTool(api_wrapper=api_wrapper)"
   ]
  },
  {
   "cell_type": "code",
   "execution_count": 14,
   "metadata": {},
   "outputs": [
    {
     "data": {
      "text/plain": [
       "[Document(page_content='Meijer, Inc. v. Ferring B.V.; Ferring Pharmaceuticals, Inc.; and Aventis Pharmaceuticals [In Re: DDAVP Direct Purchaser Antitrust Litigation] U.S. v. Memphis Board of Realtors', metadata={'url': 'https://www.justice.gov/atr/antitrust-case-filings-alpha', 'thumbnail_url': None, 'title': 'Antitrust Division | Antitrust Case Filings | United States Department of Justice', 'description': 'An official website of the United States government · Official websites use .gov A .gov website belongs to an official government organization in the United States'}),\n",
       " Document(page_content=\"Dentsply International, Inc. v. Antitrust Division of the United States Department of Justice · U.S. v. Freddy Deoliveira · U.S. v. Wilhelm DerMinassian · U.S. v. Eric Descouraux · Leinani Deslandes, Stephanie Turner, et al. v. McDonald's USA, LLC, et al.\", metadata={'url': 'https://www.justice.gov/atr/antitrust-case-filings-alpha', 'thumbnail_url': None, 'title': 'Antitrust Division | Antitrust Case Filings | United States Department of Justice', 'description': 'An official website of the United States government · Official websites use .gov A .gov website belongs to an official government organization in the United States'}),\n",
       " Document(page_content='U.S. v. Arden-Mayfair, Inc., Matanuska Maid, Inc.; and Meadowmoor Alaska Dairy, Inc. U.S. v. Argos USA LLC, f.k.a. Argos Ready Mix LLC', metadata={'url': 'https://www.justice.gov/atr/antitrust-case-filings-alpha', 'thumbnail_url': None, 'title': 'Antitrust Division | Antitrust Case Filings | United States Department of Justice', 'description': 'An official website of the United States government · Official websites use .gov A .gov website belongs to an official government organization in the United States'})]"
      ]
     },
     "execution_count": 14,
     "metadata": {},
     "output_type": "execute_result"
    }
   ],
   "source": [
    "# test out the You.com search tool\n",
    "response = ydc_tool.invoke(\"Tell me about a recent high-profile case related to antitrust in the USA?\")\n",
    "# let's look at the first 3 results\n",
    "response[:3]"
   ]
  },
  {
   "cell_type": "markdown",
   "metadata": {},
   "source": [
    "## Instantiate our LLM"
   ]
  },
  {
   "cell_type": "code",
   "execution_count": 15,
   "metadata": {},
   "outputs": [],
   "source": [
    "from langchain_openai import ChatOpenAI\n",
    "\n",
    "llm = ChatOpenAI(model=\"gpt-4o\", temperature=0.5)"
   ]
  },
  {
   "cell_type": "markdown",
   "metadata": {},
   "source": [
    "## Tying it all together"
   ]
  },
  {
   "cell_type": "code",
   "execution_count": 16,
   "metadata": {},
   "outputs": [],
   "source": [
    "from langgraph.prebuilt import chat_agent_executor\n",
    "from langgraph.checkpoint import MemorySaver\n",
    "\n",
    "# Create a checkpointer to use memory\n",
    "memory = MemorySaver()\n",
    "# the vector store representation of the CSV dataset and the You.com Search tool will both be passed as tools to the agent\n",
    "tools = [db_retriever_tool, ydc_tool]\n",
    "agent_executor = chat_agent_executor.create_tool_calling_executor(llm, tools, checkpointer=memory)"
   ]
  },
  {
   "cell_type": "markdown",
   "metadata": {},
   "source": [
    "## Let's try it out!"
   ]
  },
  {
   "cell_type": "code",
   "execution_count": 25,
   "metadata": {},
   "outputs": [
    {
     "data": {
      "text/plain": [
       "'### US Laws Pertaining to Perjury\\n\\nIn the United States, perjury is governed by several federal statutes and legal precedents. Here are the primary laws that pertain to perjury:\\n\\n1. **18 U.S. Code § 1621 - Perjury Generally**\\n   - **Definition**: This statute makes it a crime to willfully make false statements under oath in any case where an oath is authorized by U.S. law.\\n   - **Penalties**: Perjury under this statute is classified as a felony and can result in a fine or imprisonment for up to five years, or both.\\n   - **Elements**: The elements of perjury include taking an oath, willfully making a false statement, believing the statement to be untrue, and the statement relating to a material fact.\\n   - [18 U.S. Code § 1621 - Perjury generally](https://www.law.cornell.edu/uscode/text/18/1621)\\n\\n2. **18 U.S. Code § 1622 - Subornation of Perjury**\\n   - **Definition**: This statute makes it a crime to persuade or induce another person to commit perjury.\\n   - **Penalties**: The penalties for subornation of perjury are the same as for perjury itself.\\n\\n3. **18 U.S. Code § 1623 - False Declarations Before Grand Jury or Court**\\n   - **Definition**: This statute addresses knowingly making false material declarations under oath before a grand jury or court.\\n   - **Recantation**: It includes provisions allowing a person to recant their false statement under certain conditions without penalty.\\n   - [18 U.S. Code § 1623 - False declarations before grand jury or court](https://www.law.cornell.edu/uscode/text/18/1623)\\n\\n4. **Obstruction of Justice (18 U.S. Code § 1503)**\\n   - **Definition**: This statute makes it a crime to corruptly influence, obstruct, or impede the due administration of justice.\\n   - **Relevance**: Perjury can sometimes be prosecuted under this statute if it is part of a broader effort to obstruct justice.\\n\\n5. **Contempt of Court**\\n   - **Definition**: Courts have inherent authority to hold individuals in contempt for actions that show disrespect for the court or disrupt its proceedings.\\n   - **Relevance**: Contempt charges can be used to address behavior that undermines the court\\'s authority, including false statements.\\n\\n### Recent Case Related to Perjury\\n\\nA recent notable case involving perjury is the case of **Craig German**, a North Carolina man who was previously convicted for conspiring to steal trade secrets from aircraft manufacturing companies. He faced additional prison time after being convicted of perjury in his prior case.\\n\\n#### Case Details:\\n- **Defendant**: Craig German, 60, of Kernersville, N.C.\\n- **Charges**: Perjury and False Statements to a Government Agency\\n- **Court**: U.S. District Court, Southern District of Georgia\\n- **Facts**: German was found guilty of committing perjury during the sentencing portion of his prior case when he testified under oath and denied copying more than 15,000 proprietary engineering drawings and documents onto a removable storage device while employed at an aircraft manufacturing company.\\n- **Investigation**: The case was investigated by the FBI.\\n- **Prosecution**: The case was prosecuted by Assistant U.S. Attorneys Jennifer G. Solari and Steven H. Lee.\\n- **Outcome**: German was convicted on charges of perjury and false statements to a government agency after a three-day jury trial.\\n\\n#### Statements:\\n- **Chris Hacker, Special Agent in Charge of FBI Atlanta**: \"Not only did German engage in illegal and deceptive practices to steal trade secrets, but he also blatantly committed perjury. The FBI will not tolerate anyone who tries to deceive the justice system.\"\\n\\n#### Source:\\n- [Southern District of Georgia | Jury finds North Carolina man guilty for lying during sentencing in previous case involving theft of company’s trade secrets](https://www.justice.gov/usao-sdga/pr/jury-finds-north-carolina-man-guilty-lying-during-sentencing-previous-case-involving)\\n\\nThis case underscores the seriousness with which the U.S. legal system treats perjury and the potential for significant additional penalties when perjury is committed in the context of other criminal activities.'"
      ]
     },
     "execution_count": 25,
     "metadata": {},
     "output_type": "execute_result"
    }
   ],
   "source": [
    "agent_executor.invoke(input={\"messages\": \"What laws in the US pertain to perjury and is there a recent case in the US that relates to a violation of these laws?\"}, config={\"configurable\": {\"thread_id\": \"xyz_789\"}})[\"messages\"][-1].content"
   ]
  },
  {
   "cell_type": "code",
   "execution_count": 18,
   "metadata": {},
   "outputs": [
    {
     "data": {
      "text/plain": [
       "'One of the most famous U.S. Supreme Court cases involving perjury is **Bronston v. United States, 409 U.S. 352 (1973)**. This case is seminal because it set a significant precedent regarding the interpretation of the federal perjury statute.\\n\\n### Bronston v. United States (1973)\\n\\n#### Case Summary:\\n- **Facts**: Samuel Bronston, the president of a film production company, was questioned under oath during a bankruptcy proceeding. He was asked about his personal bank accounts in Switzerland. Bronston\\'s answers were technically true but misleading. He stated that his company had an account in Switzerland, but did not mention his personal account there.\\n- **Legal Issue**: The issue was whether Bronston\\'s misleading but literally true statements could be prosecuted under the federal perjury statute (18 U.S.C. § 1621).\\n- **Supreme Court Decision**: The Supreme Court unanimously held that literally true statements, even if misleading, do not constitute perjury under the federal statute. The Court emphasized that it is the responsibility of the questioner to ask precise questions and follow up on ambiguous answers.\\n\\n#### Key Points:\\n- **Literal Truth Defense**: The Court ruled that perjury cannot be based on statements that are literally true, even if they are intended to mislead. This established what is known as the \"literal truth\" defense.\\n- **Responsibility of Questioners**: The decision placed the burden on lawyers and questioners to ask clear and precise questions and to probe further if they suspect evasion.\\n- **Impact**: This case has been cited in numerous subsequent cases and remains a cornerstone in the interpretation of perjury laws in the United States.\\n\\n#### Notable Quotes:\\n- Chief Justice Warren Burger wrote for the unanimous Court: \"Precise questioning is imperative as a predicate for the offense of perjury.\"\\n\\n#### Significance:\\n- **Legal Precedent**: Bronston v. United States is frequently cited in legal arguments and court decisions involving perjury. It has influenced how courts interpret what constitutes a false statement under oath.\\n- **Public Awareness**: The case highlights the importance of careful and precise questioning in legal proceedings, impacting both legal professionals and the general public\\'s understanding of perjury.\\n\\n#### Further Reading:\\n- [Bronston v. United States - Wikipedia](https://en.wikipedia.org/wiki/Bronston_v._United_States)\\n- [Supreme Court Opinion - Justia](https://supreme.justia.com/cases/federal/us/409/352/)\\n\\nThis case remains a landmark decision in U.S. perjury law and continues to shape the legal landscape regarding what constitutes perjury and the responsibilities of legal practitioners in court proceedings.'"
      ]
     },
     "execution_count": 18,
     "metadata": {},
     "output_type": "execute_result"
    }
   ],
   "source": [
    "agent_executor.invoke(input={\"messages\": \"What is the most famous US Supreme Court perjury case?\"}, config={\"configurable\": {\"thread_id\": \"xyz_789\"}})[\"messages\"][-1].content"
   ]
  },
  {
   "cell_type": "code",
   "execution_count": 19,
   "metadata": {},
   "outputs": [
    {
     "data": {
      "text/plain": [
       "'In the case of **Bronston v. United States**, the primary legal issue revolved around the interpretation of the federal perjury statute, specifically 18 U.S.C. § 1621. However, considering the nature of Bronston\\'s testimony and the broader context of perjury laws in the U.S., there are a few other statutes and legal principles that might have been relevant or could have been considered:\\n\\n### 1. **False Declarations Before Grand Jury or Court (18 U.S.C. § 1623)**\\n- **Overview**: This statute addresses knowingly making false material declarations under oath before a grand jury or court.\\n- **Relevance**: While Bronston\\'s statements were literally true, if it could have been shown that he knowingly made a false material declaration in a more straightforward manner, § 1623 might have been applicable. However, this statute also requires the false statement to be unambiguous.\\n\\n### 2. **Obstruction of Justice (18 U.S.C. § 1503)**\\n- **Overview**: This statute makes it a crime to corruptly influence, obstruct, or impede the due administration of justice.\\n- **Relevance**: If Bronston\\'s misleading statements were part of a broader effort to obstruct the bankruptcy proceedings or mislead the court, prosecutors might have considered charging him under this statute. However, proving obstruction requires demonstrating a corrupt intent to interfere with the judicial process.\\n\\n### 3. **Contempt of Court**\\n- **Overview**: Courts have inherent authority to hold individuals in contempt for actions that show disrespect for the court or disrupt its proceedings.\\n- **Relevance**: If Bronston\\'s behavior was deemed to be contemptuous, the court could have imposed sanctions for contempt. This would not be a perjury charge per se, but it addresses the conduct that undermines the court\\'s authority.\\n\\n### 4. **Subornation of Perjury (18 U.S.C. § 1622)**\\n- **Overview**: This statute makes it a crime to persuade another person to commit perjury.\\n- **Relevance**: If there had been evidence that someone else had persuaded Bronston to make misleading statements, that individual could have been charged under this statute. This would not directly apply to Bronston unless he was involved in persuading someone else to lie.\\n\\n### Legal Principles and Case Law:\\n- **Literal Truth Doctrine**: The Supreme Court\\'s decision in Bronston v. United States established the \"literal truth\" doctrine, which holds that literally true but misleading statements do not constitute perjury. This principle significantly influenced the outcome of Bronston\\'s case.\\n- **Duty to Clarify**: The Court emphasized that it is the responsibility of the questioner to ask precise and clear questions. This principle underscores the importance of careful questioning in legal proceedings.\\n\\n### Application in Bronston\\'s Case:\\nGiven the specifics of Bronston\\'s testimony and the Supreme Court\\'s interpretation of the perjury statute, it is unlikely that other perjury-related statutes would have changed the outcome. The key issue was the literal truth of Bronston\\'s statements, and the Court\\'s ruling focused on the need for precise questioning.\\n\\nHowever, if there had been additional evidence of intent to obstruct justice or if Bronston\\'s statements had been part of a broader scheme to mislead the court, other statutes like obstruction of justice or contempt of court might have been considered. Ultimately, the Bronston case serves as a critical example of the limitations and requirements of perjury laws in the U.S. legal system.'"
      ]
     },
     "execution_count": 19,
     "metadata": {},
     "output_type": "execute_result"
    }
   ],
   "source": [
    "agent_executor.invoke(input={\"messages\": \"Based on your knowledge of all laws in the US pertaining to perjury, were there any other laws that could have been applied in this case?\"}, config={\"configurable\": {\"thread_id\": \"xyz_789\"}})[\"messages\"][-1].content"
   ]
  },
  {
   "cell_type": "markdown",
   "metadata": {},
   "source": [
    "## Let's create a Python class that encapsulates the code above.  This will enable users to easily create chatbots for new use cases with custom CSV datasets"
   ]
  },
  {
   "cell_type": "code",
   "execution_count": 28,
   "metadata": {},
   "outputs": [],
   "source": [
    "import secrets\n",
    "\n",
    "class CSV_QA_Bot:\n",
    "    def __init__(self, llm: ChatOpenAI, csv_files: list[str], num_web_results_to_fetch: int = 10):\n",
    "        self._llm = llm\n",
    "        \n",
    "        docs = self._load_csv_files(csv_files)\n",
    "        \n",
    "        # split the docs into chunks, vectorize the chunks and load them into a vector store\n",
    "        db = self._create_vector_store(docs)\n",
    "        \n",
    "        # create a retriever from the vector store\n",
    "        self._faiss_retriever = db.as_retriever()\n",
    "        \n",
    "        # convert this retriever into a Langchain tool\n",
    "        self._faiss_retriever_tool = create_retriever_tool(\n",
    "            self._faiss_retriever,\n",
    "            name = \"custom_dataset_retriever\",\n",
    "            description = \"Retrieve relevant context from custom dataset.\"\n",
    "        )\n",
    "        \n",
    "        # instantiate the YDC search tool in Langchain\n",
    "        self._ydc_api_wrapper = YouSearchAPIWrapper(num_web_results=num_web_results_to_fetch)\n",
    "        self._ydc_search_tool = YouSearchTool(api_wrapper=self._ydc_api_wrapper)\n",
    "        \n",
    "        \n",
    "        # create a list of tools that will be supplied to the Langchain agent\n",
    "        self._tools = [self._faiss_retriever_tool, self._ydc_search_tool]\n",
    "        \n",
    "        # Create a checkpointer to use memory\n",
    "        self._memory = MemorySaver()\n",
    "        \n",
    "        # create the agent executor\n",
    "        self._agent_executor = chat_agent_executor.create_tool_calling_executor(self._llm, self._tools, checkpointer=self._memory)\n",
    "        \n",
    "        # generate a thread ID for to keep track of conversation history\n",
    "        self._thread_id = self._generate_thread_id()\n",
    "\n",
    "    def _load_csv_files(self, csv_files: list[str]) -> list:\n",
    "        docs = []\n",
    "        for file in csv_files:\n",
    "            data_loader = CSVLoader(file)\n",
    "            docs.extend(data_loader.load())\n",
    "        return docs\n",
    "    \n",
    "    def _create_vector_store(self, docs: list) -> FAISS:\n",
    "        text_splitter = RecursiveCharacterTextSplitter(chunk_size = 1000, chunk_overlap = 100)\n",
    "        chunked_docs = text_splitter.split_documents(docs)\n",
    "        embeddings = OpenAIEmbeddings()\n",
    "        return FAISS.from_documents(documents=chunked_docs, embedding=embeddings)\n",
    "\n",
    "    def _generate_thread_id(self) -> str:\n",
    "        thread_id = secrets.token_urlsafe(16)\n",
    "        return thread_id\n",
    "    \n",
    "    def invoke_bot(self, input_str: str) -> str:\n",
    "        input = {\"messages\": input_str}\n",
    "        config = {\"configurable\": {\"thread_id\": self._thread_id}}\n",
    "        output = self._agent_executor.invoke(input=input, config=config)[\"messages\"][-1].content\n",
    "        return output"
   ]
  },
  {
   "cell_type": "markdown",
   "metadata": {},
   "source": [
    "## Let's try it out!"
   ]
  },
  {
   "cell_type": "code",
   "execution_count": 29,
   "metadata": {},
   "outputs": [
    {
     "ename": "RuntimeError",
     "evalue": "Error loading us_laws_dataset.csv",
     "output_type": "error",
     "traceback": [
      "\u001b[0;31m---------------------------------------------------------------------------\u001b[0m",
      "\u001b[0;31mFileNotFoundError\u001b[0m                         Traceback (most recent call last)",
      "File \u001b[0;32m~/anaconda3/envs/llm-practice/lib/python3.10/site-packages/langchain_community/document_loaders/csv_loader.py:67\u001b[0m, in \u001b[0;36mCSVLoader.lazy_load\u001b[0;34m(self)\u001b[0m\n\u001b[1;32m     66\u001b[0m \u001b[38;5;28;01mtry\u001b[39;00m:\n\u001b[0;32m---> 67\u001b[0m     \u001b[38;5;28;01mwith\u001b[39;00m \u001b[38;5;28;43mopen\u001b[39;49m\u001b[43m(\u001b[49m\u001b[38;5;28;43mself\u001b[39;49m\u001b[38;5;241;43m.\u001b[39;49m\u001b[43mfile_path\u001b[49m\u001b[43m,\u001b[49m\u001b[43m \u001b[49m\u001b[43mnewline\u001b[49m\u001b[38;5;241;43m=\u001b[39;49m\u001b[38;5;124;43m\"\u001b[39;49m\u001b[38;5;124;43m\"\u001b[39;49m\u001b[43m,\u001b[49m\u001b[43m \u001b[49m\u001b[43mencoding\u001b[49m\u001b[38;5;241;43m=\u001b[39;49m\u001b[38;5;28;43mself\u001b[39;49m\u001b[38;5;241;43m.\u001b[39;49m\u001b[43mencoding\u001b[49m\u001b[43m)\u001b[49m \u001b[38;5;28;01mas\u001b[39;00m csvfile:\n\u001b[1;32m     68\u001b[0m         \u001b[38;5;28;01myield from\u001b[39;00m \u001b[38;5;28mself\u001b[39m\u001b[38;5;241m.\u001b[39m__read_file(csvfile)\n",
      "\u001b[0;31mFileNotFoundError\u001b[0m: [Errno 2] No such file or directory: 'us_laws_dataset.csv'",
      "\nThe above exception was the direct cause of the following exception:\n",
      "\u001b[0;31mRuntimeError\u001b[0m                              Traceback (most recent call last)",
      "Cell \u001b[0;32mIn[29], line 1\u001b[0m\n\u001b[0;32m----> 1\u001b[0m conversational_agent \u001b[38;5;241m=\u001b[39m \u001b[43mCSV_QA_Bot\u001b[49m\u001b[43m(\u001b[49m\u001b[43mllm\u001b[49m\u001b[43m,\u001b[49m\u001b[43m \u001b[49m\u001b[43mcsv_files\u001b[49m\u001b[38;5;241;43m=\u001b[39;49m\u001b[43m[\u001b[49m\u001b[38;5;124;43m\"\u001b[39;49m\u001b[38;5;124;43mus_laws_dataset.csv\u001b[39;49m\u001b[38;5;124;43m\"\u001b[39;49m\u001b[43m]\u001b[49m\u001b[43m)\u001b[49m\n",
      "Cell \u001b[0;32mIn[28], line 7\u001b[0m, in \u001b[0;36mCSV_QA_Bot.__init__\u001b[0;34m(self, llm, csv_files, num_web_results_to_fetch)\u001b[0m\n\u001b[1;32m      4\u001b[0m \u001b[38;5;28;01mdef\u001b[39;00m \u001b[38;5;21m__init__\u001b[39m(\u001b[38;5;28mself\u001b[39m, llm: ChatOpenAI, csv_files: \u001b[38;5;28mlist\u001b[39m[\u001b[38;5;28mstr\u001b[39m], num_web_results_to_fetch: \u001b[38;5;28mint\u001b[39m \u001b[38;5;241m=\u001b[39m \u001b[38;5;241m10\u001b[39m):\n\u001b[1;32m      5\u001b[0m     \u001b[38;5;28mself\u001b[39m\u001b[38;5;241m.\u001b[39m_llm \u001b[38;5;241m=\u001b[39m llm\n\u001b[0;32m----> 7\u001b[0m     docs \u001b[38;5;241m=\u001b[39m \u001b[38;5;28;43mself\u001b[39;49m\u001b[38;5;241;43m.\u001b[39;49m\u001b[43m_load_csv_files\u001b[49m\u001b[43m(\u001b[49m\u001b[43mcsv_files\u001b[49m\u001b[43m)\u001b[49m\n\u001b[1;32m      9\u001b[0m     \u001b[38;5;66;03m# split the docs into chunks, vectorize the chunks and load them into a vector store\u001b[39;00m\n\u001b[1;32m     10\u001b[0m     db \u001b[38;5;241m=\u001b[39m \u001b[38;5;28mself\u001b[39m\u001b[38;5;241m.\u001b[39m_create_vector_store(docs)\n",
      "Cell \u001b[0;32mIn[28], line 43\u001b[0m, in \u001b[0;36mCSV_QA_Bot._load_csv_files\u001b[0;34m(self, csv_files)\u001b[0m\n\u001b[1;32m     41\u001b[0m \u001b[38;5;28;01mfor\u001b[39;00m file \u001b[38;5;129;01min\u001b[39;00m csv_files:\n\u001b[1;32m     42\u001b[0m     data_loader \u001b[38;5;241m=\u001b[39m CSVLoader(file)\n\u001b[0;32m---> 43\u001b[0m     docs\u001b[38;5;241m.\u001b[39mextend(\u001b[43mdata_loader\u001b[49m\u001b[38;5;241;43m.\u001b[39;49m\u001b[43mload\u001b[49m\u001b[43m(\u001b[49m\u001b[43m)\u001b[49m)\n\u001b[1;32m     44\u001b[0m \u001b[38;5;28;01mreturn\u001b[39;00m docs\n",
      "File \u001b[0;32m~/anaconda3/envs/llm-practice/lib/python3.10/site-packages/langchain_core/document_loaders/base.py:29\u001b[0m, in \u001b[0;36mBaseLoader.load\u001b[0;34m(self)\u001b[0m\n\u001b[1;32m     27\u001b[0m \u001b[38;5;28;01mdef\u001b[39;00m \u001b[38;5;21mload\u001b[39m(\u001b[38;5;28mself\u001b[39m) \u001b[38;5;241m-\u001b[39m\u001b[38;5;241m>\u001b[39m List[Document]:\n\u001b[1;32m     28\u001b[0m \u001b[38;5;250m    \u001b[39m\u001b[38;5;124;03m\"\"\"Load data into Document objects.\"\"\"\u001b[39;00m\n\u001b[0;32m---> 29\u001b[0m     \u001b[38;5;28;01mreturn\u001b[39;00m \u001b[38;5;28;43mlist\u001b[39;49m\u001b[43m(\u001b[49m\u001b[38;5;28;43mself\u001b[39;49m\u001b[38;5;241;43m.\u001b[39;49m\u001b[43mlazy_load\u001b[49m\u001b[43m(\u001b[49m\u001b[43m)\u001b[49m\u001b[43m)\u001b[49m\n",
      "File \u001b[0;32m~/anaconda3/envs/llm-practice/lib/python3.10/site-packages/langchain_community/document_loaders/csv_loader.py:84\u001b[0m, in \u001b[0;36mCSVLoader.lazy_load\u001b[0;34m(self)\u001b[0m\n\u001b[1;32m     82\u001b[0m         \u001b[38;5;28;01mraise\u001b[39;00m \u001b[38;5;167;01mRuntimeError\u001b[39;00m(\u001b[38;5;124mf\u001b[39m\u001b[38;5;124m\"\u001b[39m\u001b[38;5;124mError loading \u001b[39m\u001b[38;5;132;01m{\u001b[39;00m\u001b[38;5;28mself\u001b[39m\u001b[38;5;241m.\u001b[39mfile_path\u001b[38;5;132;01m}\u001b[39;00m\u001b[38;5;124m\"\u001b[39m) \u001b[38;5;28;01mfrom\u001b[39;00m \u001b[38;5;21;01me\u001b[39;00m\n\u001b[1;32m     83\u001b[0m \u001b[38;5;28;01mexcept\u001b[39;00m \u001b[38;5;167;01mException\u001b[39;00m \u001b[38;5;28;01mas\u001b[39;00m e:\n\u001b[0;32m---> 84\u001b[0m     \u001b[38;5;28;01mraise\u001b[39;00m \u001b[38;5;167;01mRuntimeError\u001b[39;00m(\u001b[38;5;124mf\u001b[39m\u001b[38;5;124m\"\u001b[39m\u001b[38;5;124mError loading \u001b[39m\u001b[38;5;132;01m{\u001b[39;00m\u001b[38;5;28mself\u001b[39m\u001b[38;5;241m.\u001b[39mfile_path\u001b[38;5;132;01m}\u001b[39;00m\u001b[38;5;124m\"\u001b[39m) \u001b[38;5;28;01mfrom\u001b[39;00m \u001b[38;5;21;01me\u001b[39;00m\n",
      "\u001b[0;31mRuntimeError\u001b[0m: Error loading us_laws_dataset.csv"
     ]
    }
   ],
   "source": [
    "conversational_agent = CSV_QA_Bot(llm, csv_files=[\"us_laws_dataset.csv\"])"
   ]
  },
  {
   "cell_type": "code",
   "execution_count": 22,
   "metadata": {},
   "outputs": [
    {
     "data": {
      "text/plain": [
       "\"### US Anti-Trust Laws\\n\\n1. **Sherman Act (1890)**: Prohibits monopolistic practices and restraints on trade.\\n   - [Full Text](https://www.govinfo.gov/content/pkg/STATUTE-26/pdf/STATUTE-26-Pg209.pdf)\\n\\n2. **Clayton Act (1914)**: Addresses specific practices that the Sherman Act does not cover, such as mergers and interlocking directorates.\\n   - [Full Text](https://www.govinfo.gov/content/pkg/STATUTE-38/pdf/STATUTE-38-Pg730.pdf)\\n\\n3. **Federal Trade Commission Act (1914)**: Establishes the Federal Trade Commission (FTC) to enforce antitrust laws.\\n   - [Full Text](https://www.govinfo.gov/content/pkg/STATUTE-38/pdf/STATUTE-38-Pg717.pdf)\\n\\n4. **Robinson-Patman Act (1936)**: Prohibits price discrimination.\\n   - [Full Text](https://www.govinfo.gov/content/pkg/STATUTE-49/pdf/STATUTE-49-Pg1526.pdf)\\n\\n5. **Hart-Scott-Rodino Antitrust Improvements Act (1976)**: Requires large companies to file pre-merger notifications with the FTC and the Department of Justice.\\n   - [Full Text](https://www.govinfo.gov/content/pkg/STATUTE-90/pdf/STATUTE-90-Pg1383.pdf)\\n\\n### Recent US Anti-Trust Cases\\n\\n1. **Pro-Mark Services, Inc. (2023)**\\n   - The Department of Justice, Antitrust Division, and the United States Attorney’s Office for the District of North Dakota entered into a non-prosecution agreement with Pro-Mark Services, Inc. The company's former owners executed a scheme to obtain approximately $70 million in federal contracts despite being ineligible.\\n   - [Source](https://www.justice.gov/atr/antitrust-case-filings)\\n\\n2. **Google LLC (2023)**\\n   - The U.S. filed a suit to stop Google from protecting its search and advertising monopolies through exclusionary agreements. The trial began on September 12, 2023.\\n   - [Source](https://www.justice.gov/atr/case/us-and-plaintiff-states-v-google-llc-2023)\\n\\n3. **RealPage, Inc. (2023)**\\n   - On November 1, 2023, the Attorney General’s Office for the District of Columbia filed a suit against RealPage, Inc. and multiple residential property companies for allegedly entering into an illegal agreement to raise rents on tenants in Washington, D.C. rental units.\\n   - [Source](https://www.arnoldporter.com/en/perspectives/advisories/2024/02/developments-in-us-antitrust-litigation-2023)\\n\\n4. **Live Nation Entertainment (2023)**\\n   - Accused of violating antitrust laws, Live Nation Entertainment is facing a lawsuit that could reconfigure the live music industry.\\n   - [Source](https://www.nytimes.com/topic/subject/antitrust-laws-and-competition-issues)\\n\\nThese cases highlight ongoing efforts to enforce antitrust laws in various industries, including technology and real estate.\""
      ]
     },
     "execution_count": 22,
     "metadata": {},
     "output_type": "execute_result"
    }
   ],
   "source": [
    "conversational_agent.invoke_bot(\"What laws in the US pertain to anti-trust and is there a recent case in the USA that pertains to violations of these laws?\")"
   ]
  },
  {
   "cell_type": "code",
   "execution_count": 23,
   "metadata": {},
   "outputs": [
    {
     "data": {
      "text/plain": [
       "\"The most famous U.S. Supreme Court antitrust case is **United States v. Microsoft Corp.**, 253 F.3d 34 (D.C. Cir. 2001).\\n\\n### Key Details:\\n\\n- **Case Name**: United States v. Microsoft Corp.\\n- **Citation**: 253 F.3d 34 (D.C. Cir. 2001)\\n- **Court**: United States Court of Appeals for the District of Columbia Circuit\\n- **Date Decided**: June 28, 2001\\n\\n### Background:\\nThe case was a landmark antitrust lawsuit filed by the United States Department of Justice (DOJ) and 20 states against Microsoft Corporation. The plaintiffs alleged that Microsoft had engaged in anti-competitive practices to maintain its monopoly in the market for personal computer operating systems.\\n\\n### Key Issues:\\n1. **Monopoly Maintenance**: Microsoft was accused of maintaining its monopoly power by anti-competitive means.\\n2. **Bundling**: The company was also charged with bundling its Internet Explorer web browser with its Windows operating system to stifle competition from other web browsers, particularly Netscape Navigator.\\n\\n### Court's Findings:\\n- The court found that Microsoft had indeed maintained its monopoly through anti-competitive means.\\n- The bundling of Internet Explorer with Windows was deemed anti-competitive, as it discouraged the use and development of other web browsers.\\n\\n### Outcome:\\nInitially, the District Court ordered the breakup of Microsoft into two separate units, one for the operating system and one for software applications. However, on appeal, the breakup order was overturned, and the case was settled with Microsoft agreeing to various restrictions and oversight measures to prevent anti-competitive practices.\\n\\n### Significance:\\n- The case is one of the most significant antitrust cases in U.S. history.\\n- It set important precedents regarding the application of antitrust laws to technology companies.\\n- The case had a lasting impact on the software industry and influenced how other tech giants operate.\\n\\n### Additional Information:\\n- **Full Text**: [United States v. Microsoft Corp. Decision](https://www.justice.gov/atr/us-v-microsoft-court-documents)\\n- **Summary and Analysis**: [Wikipedia Entry](https://en.wikipedia.org/wiki/United_States_v._Microsoft_Corp.)\\n\\nThis case remains a cornerstone in the study of antitrust law and its application to modern technology companies.\""
      ]
     },
     "execution_count": 23,
     "metadata": {},
     "output_type": "execute_result"
    }
   ],
   "source": [
    "conversational_agent.invoke_bot(\"What is the most famous US Supreme Court anti-trust case?\")"
   ]
  },
  {
   "cell_type": "code",
   "execution_count": 24,
   "metadata": {},
   "outputs": [
    {
     "data": {
      "text/plain": [
       "\"In the United States v. Microsoft Corp. case, several antitrust laws were relevant and could have been applied. Here are the primary antitrust laws in the United States that could have been pertinent:\\n\\n### 1. **Sherman Antitrust Act (1890)**\\n   - **Section 1**: Prohibits contracts, combinations, or conspiracies in restraint of trade.\\n   - **Section 2**: Prohibits monopolization, attempts to monopolize, or conspiracies to monopolize any part of trade or commerce.\\n\\n### 2. **Clayton Act (1914)**\\n   - **Section 3**: Prohibits exclusive dealing agreements and tying arrangements that may substantially lessen competition or tend to create a monopoly.\\n   - **Section 7**: Addresses mergers and acquisitions that may substantially lessen competition or tend to create a monopoly.\\n   - **Section 8**: Prohibits interlocking directorates (same person making business decisions for competing companies).\\n\\n### 3. **Federal Trade Commission Act (1914)**\\n   - **Section 5**: Prohibits unfair methods of competition and unfair or deceptive acts or practices in or affecting commerce. The FTC can bring actions under this act, which is broader in scope than the Sherman Act.\\n\\n### Application to United States v. Microsoft Corp.:\\n1. **Sherman Act**:\\n   - **Section 1**: The bundling of Internet Explorer with Windows could be seen as a combination that restrains trade by limiting the ability of other web browsers to compete.\\n   - **Section 2**: Microsoft's practices to maintain its monopoly in the operating system market, such as exclusionary agreements with OEMs and anti-competitive bundling, directly relate to monopolization claims.\\n\\n2. **Clayton Act**:\\n   - **Section 3**: Microsoft's bundling of Internet Explorer with Windows could be interpreted as a tying arrangement, where the sale of one product (Windows) is tied to the sale of another (Internet Explorer), potentially lessening competition.\\n   - **Section 7**: While not directly relevant to the Microsoft case, this section could apply if Microsoft had engaged in mergers or acquisitions aimed at reducing competition.\\n   - **Section 8**: This would apply if there were interlocking directorates, although there were no such allegations in the Microsoft case.\\n\\n3. **Federal Trade Commission Act**:\\n   - **Section 5**: The FTC could have pursued claims against Microsoft for unfair methods of competition, given the broad scope of this section. However, the DOJ took the lead in this particular case.\\n\\n### Conclusion:\\nIn the United States v. Microsoft Corp. case, the primary laws applied were the Sherman Act, specifically Sections 1 and 2. However, provisions of the Clayton Act, particularly Section 3 regarding tying arrangements, could also have been relevant. The Federal Trade Commission Act's Section 5 could have provided an additional avenue for addressing unfair competition practices, although the DOJ was the primary enforcer in this instance.\""
      ]
     },
     "execution_count": 24,
     "metadata": {},
     "output_type": "execute_result"
    }
   ],
   "source": [
    "conversational_agent.invoke_bot(\"Based on your knowledge of all laws in the USA relating to anti-trust, were there any other laws that could have been applied in this case?\")"
   ]
  }
 ],
 "metadata": {
  "kernelspec": {
   "display_name": "llm-practice",
   "language": "python",
   "name": "python3"
  },
  "language_info": {
   "codemirror_mode": {
    "name": "ipython",
    "version": 3
   },
   "file_extension": ".py",
   "mimetype": "text/x-python",
   "name": "python",
   "nbconvert_exporter": "python",
   "pygments_lexer": "ipython3",
   "version": "3.10.14"
  }
 },
 "nbformat": 4,
 "nbformat_minor": 2
}
