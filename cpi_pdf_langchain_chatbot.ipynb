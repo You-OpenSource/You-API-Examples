{
  "cells": [
    {
      "cell_type": "markdown",
      "metadata": {},
      "source": [
        "# CPI Q/A bot"
      ]
    },
    {
      "cell_type": "markdown",
      "metadata": {},
      "source": [
        "This chatbot retrieves context from a proprietary datasource and the web to answer questions about Consumer Price Index (CPI) changes in the province of British Columbia (BC) in April 2024.  The proprietary datasource is a PDF report highlighting CPI changes in BC in April 2024 over a 12-month period.  The web data needed to answer the question is being retrieved using the You.com API.  The chatbot is implemented as a parallel chain in LangChain."
      ]
    },
    {
      "cell_type": "markdown",
      "metadata": {},
      "source": [
        "## Install all required packages"
      ]
    },
    {
      "cell_type": "code",
      "execution_count": 1,
      "metadata": {},
      "outputs": [],
      "source": [
        "%%capture\n",
        "! pip install openai==1.30.3\n",
        "! pip install langchain==0.2.1\n",
        "! pip install langchain_community==0.2.1\n",
        "! pip install langchain_openai==0.1.7\n",
        "! pip install langchain_text_splitters==0.2.0\n",
        "! pip install langchain_core==0.2.1\n",
        "! pip install numpy==1.26.4\n",
        "! pip install pandas==2.2.2\n",
        "! pip install python-dotenv==1.0.1\n",
        "! pip install pypdf==4.2.0\n",
        "! pip install faiss-cpu==1.8.0\n"
      ]
    },
    {
      "cell_type": "code",
      "execution_count": 2,
      "metadata": {},
      "outputs": [],
      "source": [
        "import langchain\n",
        "import os"
      ]
    },
    {
      "cell_type": "code",
      "execution_count": 3,
      "metadata": {},
      "outputs": [],
      "source": [
        "# Insert your APIs here or alternatively, add them in a .env file and load the API keys from the .env file in the cell below\n",
        "os.environ[\"YDC_API_KEY\"] = \"<Insert your YDC API key here>\"\n",
        "os.environ[\"OPENAI_API_KEY\"] = \"<Insert your Open AI API key here>\""
      ]
    },
    {
      "cell_type": "code",
      "execution_count": 4,
      "metadata": {},
      "outputs": [
        {
          "data": {
            "text/plain": [
              "True"
            ]
          },
          "execution_count": 4,
          "metadata": {},
          "output_type": "execute_result"
        }
      ],
      "source": [
        "import dotenv\n",
        "dotenv.load_dotenv(\".env\", override=True)\n"
      ]
    },
    {
      "cell_type": "markdown",
      "metadata": {},
      "source": [
        "## Instantiating the You.com Retriever in LangChain"
      ]
    },
    {
      "cell_type": "markdown",
      "metadata": {},
      "source": [
        "LangChain provides a You.com retriever.  For more information, please visit: https://python.langchain.com/v0.1/docs/integrations/retrievers/you-retriever/"
      ]
    },
    {
      "cell_type": "code",
      "execution_count": 5,
      "metadata": {},
      "outputs": [],
      "source": [
        "from langchain_community.retrievers.you import YouRetriever\n",
        "\n",
        "ydc_retriever = YouRetriever(num_web_results = 10)"
      ]
    },
    {
      "cell_type": "code",
      "execution_count": 6,
      "metadata": {},
      "outputs": [
        {
          "data": {
            "text/plain": [
              "[Document(page_content=\"OTTAWA, Feb 20 (Reuters) - Canada's annual inflation rate slowed significantly more than expected to 2.9% in January and core price measures also eased, data showed on Tuesday, bringing forward bets for an early interest rate cut.\", metadata={'url': 'https://www.reuters.com/world/americas/canadas-inflation-rate-drops-more-than-expected-29-january-2024-02-20/', 'thumbnail_url': None, 'title': \"Canada's inflation rate slows and bolsters bets on early rate cut | Reuters\", 'description': \"Canada's annual inflation rate slowed significantly more than expected to 2.9% in January and core price measures also eased, data showed on Tuesday, bringing forward bets for an early interest rate cut.\"}),\n",
              " Document(page_content='The BoC projects headline inflation will remain around 3% in the first half of 2024, before cooling down to 2.5% by end-year. The central bank said last month that while interest rates had helped to bring down overall inflation, which touched a peak of 8.1% in June 2022, categories including shelter costs have fed underlying pressures.', metadata={'url': 'https://www.reuters.com/world/americas/canadas-inflation-rate-drops-more-than-expected-29-january-2024-02-20/', 'thumbnail_url': None, 'title': \"Canada's inflation rate slows and bolsters bets on early rate cut | Reuters\", 'description': \"Canada's annual inflation rate slowed significantly more than expected to 2.9% in January and core price measures also eased, data showed on Tuesday, bringing forward bets for an early interest rate cut.\"}),\n",
              " Document(page_content='Prices of store-bought food rose 3.4% - the slowest pace since August 2021 - also putting downward pressure on headline inflation. Excluding volatile food and energy, prices rose 3.1% compared with a 3.4% rise in December. The Canadian dollar reversed an early morning trend and weakened 0.25% to 1.3522 against the U.S. dollar at 1915 GMT. The two-year government bond yield dropped 13.9 basis points to 4.163%.', metadata={'url': 'https://www.reuters.com/world/americas/canadas-inflation-rate-drops-more-than-expected-29-january-2024-02-20/', 'thumbnail_url': None, 'title': \"Canada's inflation rate slows and bolsters bets on early rate cut | Reuters\", 'description': \"Canada's annual inflation rate slowed significantly more than expected to 2.9% in January and core price measures also eased, data showed on Tuesday, bringing forward bets for an early interest rate cut.\"})]"
            ]
          },
          "execution_count": 6,
          "metadata": {},
          "output_type": "execute_result"
        }
      ],
      "source": [
        "# Let's test it out\n",
        "response = ydc_retriever.invoke(\"Has the inflation in Canada dropped in 2024?\")\n",
        "# Let's take a look at the first 3 responses\n",
        "response[:3]"
      ]
    },
    {
      "cell_type": "markdown",
      "metadata": {},
      "source": [
        "## Creating a Vector DB retriever based on data from a PDF File"
      ]
    },
    {
      "cell_type": "markdown",
      "metadata": {},
      "source": [
        "We are going to load a PDF file using the PyPDFLoader in LangChain.  We will then use the RecursiveTextSplitter in LangChain to split the documents into chunks that can be vectorized.  The vectorized chunks of text will be stored in a Facebook AI Similarity Search (FAISS) vector store.  This vector store will be converted into a LangChain retriever."
      ]
    },
    {
      "cell_type": "code",
      "execution_count": 25,
      "metadata": {},
      "outputs": [],
      "source": [
        "from langchain_community.document_loaders import PyPDFLoader\n",
        "\n",
        "# The PDF file we are using can be downloaded from: https://www2.gov.bc.ca/assets/gov/data/statistics/economy/cpi/cpi_highlights.pdf\n",
        "# load the PDF file\n",
        "loader = PyPDFLoader(\"bc_cpi_highlights.pdf\")\n",
        "docs = loader.load()"
      ]
    },
    {
      "cell_type": "code",
      "execution_count": 8,
      "metadata": {},
      "outputs": [],
      "source": [
        "from langchain_community.vectorstores import FAISS\n",
        "from langchain_openai import OpenAIEmbeddings\n",
        "from langchain.text_splitter import RecursiveCharacterTextSplitter\n",
        "\n",
        "# split the document into chunks, and vectorize these chunks in a FAISS database\n",
        "text_splitter = RecursiveCharacterTextSplitter(chunk_size = 1000, chunk_overlap = 100)\n",
        "notes = text_splitter.split_documents(docs)\n",
        "embeddings = OpenAIEmbeddings()\n",
        "db = FAISS.from_documents(documents=notes, embedding=embeddings)"
      ]
    },
    {
      "cell_type": "code",
<<<<<<< HEAD
      "execution_count": 9,
=======
      "execution_count": 27,
>>>>>>> main
      "metadata": {},
      "outputs": [
        {
          "data": {
            "text/plain": [
              "'(excluding fish, seafood, and other marine products) \\n(+2.1%). At the same time, fruit, fruit preparations, \\nand nut s was the only major food category to \\ndecrease in price (- 0.1%)  \\nBritish Columbians paid more for both  health (+2.7%) \\nand personal (+ 2.0%) care  when compared to \\n12-months ago. Services, instead of items within \\nthese categories, had the largest price increase. Personal services (such a hairdressing) cost 4.8% \\nmore when compared to 12 -months ago, while the \\ncost of health care services (such as eye and dental \\ncare) increased by 4.3%.  Consumer Price \\nIndex   \\n \\n \\nReference date:  April  2024  Issue:  #24-04 Released:  May 21 , 2024 \\n      \\n-5.8-1.91.92.22.32.62.82.96.8\\nClothing & FootwearHouseholdRecreationAlc., Tob., & CannabisHealth & PersonalFoodTransportationAll-itemsShelterInflation by Category\\n% change, same month previous year'"
            ]
          },
          "execution_count": 9,
          "metadata": {},
          "output_type": "execute_result"
        }
      ],
      "source": [
        "# test out the similarity search\n",
        "query = \"How much did food prices increase in April 2024?\"\n",
        "response = db.similarity_search(query, k=3)\n",
        "response[0].page_content"
      ]
    },
    {
      "cell_type": "code",
      "execution_count": 10,
      "metadata": {},
      "outputs": [],
      "source": [
        "# Create the retriever\n",
        "faiss_retriever = db.as_retriever()"
      ]
    },
    {
      "cell_type": "markdown",
      "metadata": {},
      "source": [
        "## Create an Ensemble Retriever using the You.Com Retriever and the FAISS Retriever"
      ]
    },
    {
      "cell_type": "markdown",
      "metadata": {},
      "source": [
        "The Ensemble Retriever in LangChain ensembles results from multiple retrievers.  We will create an Ensemble Retriever with the FAISS vector store retriever and the You.com retriever that we defined above as constituent retrievers."
      ]
    },
    {
      "cell_type": "code",
      "execution_count": 11,
      "metadata": {},
      "outputs": [],
      "source": [
        "from langchain.retrievers import EnsembleRetriever\n",
        "\n",
        "ensemble_retriever = EnsembleRetriever(\n",
        "    retrievers = [ydc_retriever, faiss_retriever], weights = [0.5, 0.5]\n",
        ")"
      ]
    },
    {
      "cell_type": "markdown",
      "metadata": {},
      "source": [
        "## Instantiate the LLM"
      ]
    },
    {
      "cell_type": "code",
      "execution_count": 12,
      "metadata": {},
      "outputs": [],
      "source": [
        "from langchain_openai import ChatOpenAI\n",
        "llm = ChatOpenAI(model=\"gpt-4o\", temperature=0.5)"
      ]
    },
    {
      "cell_type": "markdown",
      "metadata": {},
      "source": [
        "## Create the Prompt Template"
      ]
    },
    {
      "cell_type": "code",
      "execution_count": 13,
      "metadata": {},
      "outputs": [],
      "source": [
        "system_prompt = \"\"\"\n",
        "You are an assistant that answers questions pertaining to CPI (Consumer Price Index).  Please utilize the following retrieved context from the web and from a proprietary\n",
        "datasource to provide an accurate answer to the question.  Please try and utilize numbers where applicable to substantiate your answer.  If you do not know the answer, simply say you do not \n",
        "know the answer.  Please keep the response concise.\n",
        "\n",
        "{context}\n",
        "\"\"\""
      ]
    },
    {
      "cell_type": "code",
      "execution_count": 14,
      "metadata": {},
      "outputs": [],
      "source": [
        "from langchain_core.prompts import ChatPromptTemplate, MessagesPlaceholder\n",
        "\n",
        "qa_prompt = ChatPromptTemplate.from_messages(\n",
        "    [\n",
        "        (\"system\", system_prompt),\n",
        "        (\"human\", \"{input}\"),\n",
        "    ]\n",
        ")"
      ]
    },
    {
      "cell_type": "markdown",
      "metadata": {},
      "source": [
        "## Create a basic chain without chat history"
      ]
    },
    {
      "cell_type": "markdown",
      "metadata": {},
      "source": [
        "We will test our chain first without chat history."
      ]
    },
    {
      "cell_type": "code",
      "execution_count": 15,
      "metadata": {},
      "outputs": [],
      "source": [
        "from langchain.chains.combine_documents import create_stuff_documents_chain\n",
        "from langchain.chains import create_retrieval_chain\n",
        "\n",
        "qa_chain = create_stuff_documents_chain(llm, qa_prompt)\n",
        "rag_chain = create_retrieval_chain(ensemble_retriever, qa_chain)"
      ]
    },
    {
      "cell_type": "code",
      "execution_count": 16,
      "metadata": {},
      "outputs": [],
      "source": [
        "response = rag_chain.invoke({\"input\": \"How did the CPI in April 2024 in BC compare to the national CPI in Canada?\"})"
      ]
    },
    {
      "cell_type": "code",
      "execution_count": 17,
      "metadata": {},
      "outputs": [
        {
          "data": {
            "text/plain": [
              "\"In April 2024, the Consumer Price Index (CPI) in British Columbia increased by 2.9% compared to April 2023. Nationally, Canada's CPI was up by 2.7% over the same period. Therefore, the CPI in British Columbia rose slightly more than the national average.\""
            ]
          },
          "execution_count": 17,
          "metadata": {},
          "output_type": "execute_result"
        }
      ],
      "source": [
        "response[\"answer\"]"
      ]
    },
    {
      "cell_type": "markdown",
      "metadata": {},
      "source": [
        "## Add chat history to our chatbot"
      ]
    },
    {
      "cell_type": "markdown",
      "metadata": {},
      "source": [
        "Chat history is an integral component of any chat application, as the input query might require additional conversational context to be understood by the LLM.  We are going to add chat history to our chatbot and contextualize the input prompts with chat history."
      ]
    },
    {
      "cell_type": "code",
      "execution_count": 18,
      "metadata": {},
      "outputs": [],
      "source": [
        "# Create a prompt that utilizes the chat history as context to reformulate the most recent input, as a standalone question that the LLM can comprehend\n",
        "from langchain.chains import create_history_aware_retriever\n",
        "\n",
        "contextualize_q_system_prompt = \"\"\"\n",
        "Given a chat history and the latest question, which might reference context in the chat history, formulate a standalone question, which can be understood without chat history.\n",
        "Do not answer the question, just reformulate the question if necessary and return it as it otherwise.\n",
        "\"\"\"\n",
        "\n",
        "contextualize_q_prompt = ChatPromptTemplate.from_messages(\n",
        "    [\n",
        "        (\"system\", contextualize_q_system_prompt),\n",
        "        MessagesPlaceholder(\"chat_history\"),\n",
        "        (\"human\", \"{input}\")\n",
        "    ]\n",
        ")"
      ]
    },
    {
      "cell_type": "code",
      "execution_count": 19,
      "metadata": {},
      "outputs": [],
      "source": [
        "# Create a chain that takes conversation history and contextualizes the prompt\n",
        "history_aware_retriever = create_history_aware_retriever(llm, ensemble_retriever, contextualize_q_prompt)"
      ]
    },
    {
      "cell_type": "code",
      "execution_count": 20,
      "metadata": {},
      "outputs": [],
      "source": [
        "# rejig qa prompt to include the chat history\n",
        "qa_prompt = ChatPromptTemplate.from_messages(\n",
        "    [\n",
        "        (\"system\", system_prompt),\n",
        "        MessagesPlaceholder(\"chat_history\"),\n",
        "        (\"human\", \"{input}\")\n",
        "    ]\n",
        ")"
      ]
    },
    {
      "cell_type": "code",
      "execution_count": 21,
      "metadata": {},
      "outputs": [],
      "source": [
        "from langchain_core.chat_history import BaseChatMessageHistory\n",
        "from langchain_community.chat_message_histories import ChatMessageHistory\n",
        "\n",
        "# statefully manage session history\n",
        "store = {}\n",
        "\n",
        "def get_session_history(session_id: str) -> BaseChatMessageHistory:\n",
        "    if session_id not in store:\n",
        "        store[session_id] = ChatMessageHistory()\n",
        "        \n",
        "    return store[session_id]"
      ]
    },
    {
      "cell_type": "code",
      "execution_count": 22,
      "metadata": {},
      "outputs": [],
      "source": [
        "# create chains that include message history\n",
        "qa_chain = create_stuff_documents_chain(llm, qa_prompt)\n",
        "rag_chain = create_retrieval_chain(history_aware_retriever, qa_chain)"
      ]
    },
    {
      "cell_type": "code",
      "execution_count": 23,
      "metadata": {},
      "outputs": [],
      "source": [
        "from langchain_core.runnables.history import RunnableWithMessageHistory\n",
        "\n",
        "# create final chain that ties everything together\n",
        "\n",
        "conversation_rag_chain = RunnableWithMessageHistory(\n",
        "    rag_chain,\n",
        "    get_session_history,\n",
        "    input_messages_key = \"input\",\n",
        "    history_messages_key = \"chat_history\",\n",
        "    output_messages_key = \"answer\"\n",
        ")"
      ]
    },
    {
      "cell_type": "markdown",
      "metadata": {},
      "source": [
        "## Let's try it out!"
      ]
    },
    {
      "cell_type": "code",
      "execution_count": 24,
      "metadata": {},
      "outputs": [
        {
          "data": {
            "text/plain": [
              "'In April 2024, food prices in British Columbia increased by 2.6% compared to April 2023.'"
            ]
          },
          "execution_count": 24,
          "metadata": {},
          "output_type": "execute_result"
        }
      ],
      "source": [
        "conversation_rag_chain.invoke({\"input\": \"How much did food prices increase in April 2024 in BC compared to April 2023?\"}, config = {\"configurable\": {\"session_id\": \"xyz_789\"}})[\"answer\"]"
      ]
    },
    {
      "cell_type": "code",
      "execution_count": 25,
      "metadata": {},
      "outputs": [
        {
          "data": {
            "text/plain": [
              "'In April 2024, food prices in British Columbia increased by 2.6% compared to April 2023. Nationally, food prices increased by 2.3% over the same period. Therefore, the increase in food prices in British Columbia was slightly higher than the national average.'"
            ]
          },
          "execution_count": 25,
          "metadata": {},
          "output_type": "execute_result"
        }
      ],
      "source": [
        "conversation_rag_chain.invoke({\"input\": \"How does that compare to the increase in food prices across the nation?\"}, config = {\"configurable\": {\"session_id\": \"xyz_789\"}})[\"answer\"]"
      ]
    },
    {
      "cell_type": "code",
      "execution_count": 26,
      "metadata": {},
      "outputs": [
        {
          "data": {
            "text/plain": [
              "'Several factors contributed to the rising food prices in British Columbia in April 2024:\\n\\n1. **Beef and Veal Prices**: Beef and veal prices rose significantly, increasing by 7.0% from April 2023 due to tight supplies and strong demand.\\n2. **Pork Prices**: Wholesale pork prices saw an 18.3% increase compared to April 2023, driven by higher demand.\\n3. **General Food Inflation**: The overall food price index in British Columbia climbed by 5.4% over the past 12 months, indicating a general trend of rising food costs.\\n4. **Supply Chain Disruptions**: Ongoing supply chain issues, including those exacerbated by global events, have continued to impact food prices.\\n5. **Energy Costs**: Although energy prices decreased by 3.9%, the overall cost of production and transportation, which are heavily influenced by energy prices, still contributed to the rising food prices.\\n\\nThese factors combined to drive the increase in food prices observed in April 2024.'"
            ]
          },
          "execution_count": 26,
          "metadata": {},
          "output_type": "execute_result"
        }
      ],
      "source": [
        "conversation_rag_chain.invoke({\"input\": \"What contributed to the rising food prices in BC in April 2024?\"}, config = {\"configurable\": {\"session_id\": \"xyz_789\"}})[\"answer\"]"
      ]
    },
    {
      "cell_type": "code",
      "execution_count": 27,
      "metadata": {},
      "outputs": [
        {
          "data": {
            "text/plain": [
              "\"In April 2024, the Consumer Price Index (CPI) in British Columbia increased by 2.9% compared to April 2023. Nationally, Canada's CPI increased by 2.7% over the same period. Therefore, the CPI increase in British Columbia was slightly higher than the national average.\""
            ]
          },
          "execution_count": 27,
          "metadata": {},
          "output_type": "execute_result"
        }
      ],
      "source": [
        "conversation_rag_chain.invoke({\"input\": \"How did the CPI in April 2024 in BC compare to the national CPI in Canada?\"}, config = {\"configurable\": {\"session_id\": \"xyz_789\"}})[\"answer\"]"
      ]
    },
    {
      "cell_type": "markdown",
      "metadata": {},
      "source": [
        "## Create a Python object that encapsulates the functionality of creating a chatbot that retrieves context from PDF files and the web"
      ]
    },
    {
      "cell_type": "markdown",
      "metadata": {},
      "source": [
        "Let's create a Python class that encapsulates the code above.  This will enable users to easily create chatbots for new use cases with custom PDF files and prompts."
      ]
    },
    {
      "cell_type": "code",
      "execution_count": 28,
      "metadata": {},
      "outputs": [],
      "source": [
        "import secrets\n",
        "class PDF_QA_Bot:\n",
        "    def __init__(self, llm: ChatOpenAI, pdf_files: list[str], system_prompt: str, num_web_results_to_fetch: int = 10):\n",
        "        \n",
        "        self._llm = llm\n",
        "        \n",
        "        docs = self._load_pdf_documents(pdf_files)\n",
        "        \n",
        "        # split the docs into chunks, vectorize the chunks and load them into a vector store\n",
        "        db = self._create_vector_store(docs)\n",
        "        \n",
        "        # create LangChain retriever from the vector store\n",
        "        self._faiss_retriever = db.as_retriever()\n",
        "        \n",
        "        # create YDC retriever\n",
        "        self._ydc_retriever = YouRetriever(num_web_results = num_web_results_to_fetch)\n",
        "\n",
        "        # create ensemble retriever \n",
        "        self._ensemble_retriever = EnsembleRetriever(\n",
        "            retrievers = [self._ydc_retriever, self._faiss_retriever], weights = [0.5, 0.5]\n",
        "        )\n",
        "\n",
        "        # create the system prompt from the user input\n",
        "        self._system_prompt = system_prompt + \"\\n\\n\" + \"{context}\"\n",
        "\n",
        "        self._contextualize_q_system_prompt = \"\"\"\n",
        "        Given a chat history and the latest question, which might reference context in the chat history, formulate a standalone question, which can be understood without chat history.\n",
        "        Do not answer the question, just reformulate the question if necessary and return it as it otherwise.\n",
        "        \"\"\"\n",
        "\n",
        "        # Create a prompt that utilizes the chat history as context to reformulate the most recent input, as a standalone question that the LLM can comprehend\n",
        "        self._contextualize_q_prompt = ChatPromptTemplate.from_messages(\n",
        "            [\n",
        "                (\"system\", self._contextualize_q_system_prompt),\n",
        "                MessagesPlaceholder(\"chat_history\"),\n",
        "                (\"human\", \"{input}\")\n",
        "            ]\n",
        "        )\n",
        "\n",
        "        self._history_aware_retriever = create_history_aware_retriever(self._llm, self._ensemble_retriever, self._contextualize_q_prompt)\n",
        "\n",
        "        self._qa_prompt = ChatPromptTemplate.from_messages(\n",
        "            [\n",
        "                (\"system\", self._system_prompt),\n",
        "                MessagesPlaceholder(\"chat_history\"),\n",
        "                (\"human\", \"{input}\")\n",
        "            ]\n",
        "        )\n",
        "\n",
        "        self._messages_store = {}\n",
        "        self._session_id = self._generate_session_id()\n",
        "\n",
        "        # create chains that include message history\n",
        "        self._qa_chain = create_stuff_documents_chain(self._llm, self._qa_prompt)\n",
        "        self._rag_chain = create_retrieval_chain(self._history_aware_retriever, self._qa_chain)\n",
        "\n",
        "        # create final chain that ties everything together\n",
        "        self._conversation_rag_chain = RunnableWithMessageHistory(\n",
        "            self._rag_chain,\n",
        "            self._get_session_history,\n",
        "            input_messages_key = \"input\",\n",
        "            history_messages_key = \"chat_history\",\n",
        "            output_messages_key = \"answer\"\n",
        "        )\n",
        "        \n",
        "    def _load_pdf_documents(self, pdf_files: list[str]) -> list:\n",
        "        docs = []\n",
        "        for file in pdf_files:\n",
        "            file_loader = PyPDFLoader(file)\n",
        "            docs.extend(file_loader.load())\n",
        "        return docs\n",
        "    \n",
        "    def _create_vector_store(self, docs: list):\n",
        "        text_splitter = RecursiveCharacterTextSplitter(chunk_size=1000, chunk_overlap=100)\n",
        "        chunked_docs = text_splitter.split_documents(docs)\n",
        "        embeddings = OpenAIEmbeddings()\n",
        "        return FAISS.from_documents(documents=chunked_docs, embedding=embeddings)\n",
        "    \n",
        "    \n",
        "    def _get_session_history(self, session_id) -> BaseChatMessageHistory:\n",
        "        \"\"\"Statefully manage chat history\"\"\"\n",
        "        if session_id not in self._messages_store:\n",
        "            self._messages_store[session_id] = ChatMessageHistory()\n",
        "            \n",
        "        return self._messages_store[self._session_id]\n",
        "    \n",
        "    def _generate_session_id(self) -> str:\n",
        "        session_id = secrets.token_urlsafe(16)\n",
        "        return session_id\n",
        "    \n",
        "    def invoke_bot(self, input_str: str) -> str:\n",
        "        input = {\"input\": input_str}\n",
        "        config = {\"configurable\": {\"session_id\": self._session_id}}\n",
        "        output = self._conversation_rag_chain.invoke(input, config)\n",
        "        return output[\"answer\"]\n",
        "        \n",
        "\n",
        "        "
      ]
    },
    {
      "cell_type": "markdown",
      "metadata": {},
      "source": [
        "## Let's try it out!"
      ]
    },
    {
      "cell_type": "code",
      "execution_count": 29,
      "metadata": {},
      "outputs": [],
      "source": [
        "llm = ChatOpenAI(model=\"gpt-4o\", temperature=0.5)\n",
        "conversational_rag_system_prompt = \"\"\"You are an assistant that answers questions pertaining to CPI (Consumer Price Index).  Please utilize the following retrieved context from the web and from a proprietary\n",
        "datasource to provide an accurate answer to the question.  Please try and utilize numbers where applicable to substantiate your answer.  If you do not know the answer, simply say you do not \n",
        "know the answer.  Please keep the response concise.\"\"\"\n",
        "conversational_rag = PDF_QA_Bot(llm, pdf_files=[\"bc_cpi_highlights.pdf\"], system_prompt=conversational_rag_system_prompt, num_web_results_to_fetch=10)"
      ]
    },
    {
      "cell_type": "code",
      "execution_count": 30,
      "metadata": {},
      "outputs": [
        {
          "data": {
            "text/plain": [
              "'In April 2024, food prices in British Columbia increased by 2.6% compared to April 2023.'"
            ]
          },
          "execution_count": 30,
          "metadata": {},
          "output_type": "execute_result"
        }
      ],
      "source": [
        "conversational_rag.invoke_bot(\"How much did food prices increase in April 2024 in BC compared to April 2023?\")"
      ]
    },
    {
      "cell_type": "code",
      "execution_count": 31,
      "metadata": {},
      "outputs": [
        {
          "data": {
            "text/plain": [
              "'Nationally, food prices in Canada increased by 2.3% in April 2024 compared to April 2023. Therefore, the increase in food prices in British Columbia (2.6%) was slightly higher than the national average.'"
            ]
          },
          "execution_count": 31,
          "metadata": {},
          "output_type": "execute_result"
        }
      ],
      "source": [
        "conversational_rag.invoke_bot(\"How does that compare to the increase in food prices across the nation?\")"
      ]
    },
    {
      "cell_type": "code",
      "execution_count": 32,
      "metadata": {},
      "outputs": [
        {
          "data": {
            "text/plain": [
              "'Several factors contributed to the rising food prices in British Columbia in April 2024:\\n\\n1. **Increased Costs for Specific Food Categories**: Beef and veal prices rose by 7.0% from April 2023 due to tight supplies and strong demand. Wholesale pork prices also saw a significant increase of 18.3% over the same period.\\n\\n2. **General Inflation**: The overall Consumer Price Index (CPI) in British Columbia increased by 2.9% from April 2023 to April 2024, with food prices specifically rising by 2.6%.\\n\\n3. **Supply Chain Issues**: Ongoing supply chain disruptions and higher production costs, including labor and transportation, contributed to the increase in food prices.\\n\\n4. **Global Events**: Factors such as climate events affecting harvests and geopolitical tensions have also played a role in driving up food prices.\\n\\nThese combined factors led to the overall increase in food prices in the region.'"
            ]
          },
          "execution_count": 32,
          "metadata": {},
          "output_type": "execute_result"
        }
      ],
      "source": [
        "conversational_rag.invoke_bot(\"What contributed to the rising food prices in BC in April 2024?\")"
      ]
    }
  ],
  "metadata": {
    "kernelspec": {
      "display_name": "llm-practice",
      "language": "python",
      "name": "python3"
    },
    "language_info": {
      "codemirror_mode": {
        "name": "ipython",
        "version": 3
      },
      "file_extension": ".py",
      "mimetype": "text/x-python",
      "name": "python",
      "nbconvert_exporter": "python",
      "pygments_lexer": "ipython3",
      "version": "3.10.14"
    }
  },
  "nbformat": 4,
  "nbformat_minor": 2
}
