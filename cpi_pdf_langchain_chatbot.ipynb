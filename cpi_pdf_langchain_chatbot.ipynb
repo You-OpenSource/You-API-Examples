{
 "cells": [
  {
   "cell_type": "markdown",
   "metadata": {},
   "source": [
    "# CPI Q/A bot"
   ]
  },
  {
   "cell_type": "markdown",
   "metadata": {},
   "source": [
    "This chatbot retrieves context from a proprietary datasource and the web to answer questions about Consumer Price Index (CPI) changes in the province of British Columbia (BC) in April 2024.  The proprietary datasource is a PDF report highlighting CPI changes in BC in April 2024 over a 12-month period.  The web data needed to answer the question is being retrieved using the You.com API.  The chatbot is implemented as a parallel chain in Langchain."
   ]
  },
  {
   "cell_type": "markdown",
   "metadata": {},
   "source": [
    "The following packages and versions are being utilized in the code below:\n",
    "- openai==1.30.3\n",
    "- langchain==0.2.1\n",
    "- langchain_community==0.2.1\n",
    "- langchain_openai==0.1.7\n",
    "- langchain_text_splitters==0.2.0\n",
    "- langchain_core==0.2.1\n",
    "- numpy==1.26.4\n",
    "- pandas==2.2.2"
   ]
  },
  {
   "cell_type": "code",
   "execution_count": 119,
   "metadata": {},
   "outputs": [],
   "source": [
    "import langchain\n",
    "import os"
   ]
  },
  {
   "cell_type": "code",
   "execution_count": 91,
   "metadata": {},
   "outputs": [],
   "source": [
    "os.environ[\"YDC_API_KEY\"] = \"<Insert your YDC API key here>\"\n",
    "os.environ[\"OPENAI_API_KEY\"] = \"<Insert your OpenAI key here>\""
   ]
  },
  {
   "cell_type": "markdown",
   "metadata": {},
   "source": [
    "## Instantiating the You.com Retriever in Langchain"
   ]
  },
  {
   "cell_type": "markdown",
   "metadata": {},
   "source": [
    "Langchain provides a You.com retriever.  For more information, please visit: https://python.langchain.com/v0.1/docs/integrations/retrievers/you-retriever/"
   ]
  },
  {
   "cell_type": "code",
   "execution_count": 92,
   "metadata": {},
   "outputs": [],
   "source": [
    "from langchain_community.retrievers.you import YouRetriever\n",
    "\n",
    "ydc_retriever = YouRetriever(num_web_results = 10)"
   ]
  },
  {
   "cell_type": "code",
   "execution_count": 93,
   "metadata": {},
   "outputs": [
    {
     "data": {
      "text/plain": [
       "[Document(page_content='Mail to: BC Stats, Box 9410 Stn Prov Govt, Victoria BC V8W 9V1', metadata={'url': 'https://www2.gov.bc.ca/gov/content/data/statistics/economy/consumer-price-index', 'thumbnail_url': None, 'title': 'Consumer Price Index (CPI) - Province of British Columbia', 'description': \"Looking for more data? Explore the B.C. Government's extensive collection of datasets, applications and web services · Please send your questions and service requests to BC Stats here\"}),\n",
       " Document(page_content='Consumer Price Index (CPI) data', metadata={'url': 'https://www2.gov.bc.ca/gov/content/data/statistics/economy/consumer-price-index', 'thumbnail_url': None, 'title': 'Consumer Price Index (CPI) - Province of British Columbia', 'description': \"Looking for more data? Explore the B.C. Government's extensive collection of datasets, applications and web services · Please send your questions and service requests to BC Stats here\"}),\n",
       " Document(page_content=\"Shelter inflation has been a thorn in the Bank of Canada's side, but it took a small step in the right direction in April, up 6.4% y/y, down a tenth from March. Rent inflation cooled slightly to 8.2% y/y as did mortgage interest costs, which remain high at 24.5% y/y. Leaning against these increases, homeowner's replacement cost is down 0.9% versus a year ago. CPI ex-shelter was up only 1.2% y/y on April.\", metadata={'url': 'https://economics.td.com/ca-cpi', 'thumbnail_url': None, 'title': 'Canadian Consumer Price Index (April 2024)', 'description': \"But it wasn't entirely due to the increase in the federal carbon levy. Statistics Canada cited that higher oil prices and the switch to summer blends were also factors lifting prices at the pump. Excluding gasoline, all-items CPI slowed to 2.5% y/y in April, down from 2.8% in March.\"})]"
      ]
     },
     "execution_count": 93,
     "metadata": {},
     "output_type": "execute_result"
    }
   ],
   "source": [
    "# Let's test it out\n",
    "response = ydc_retriever.invoke(\"British Columbia’s Consumer Price Index (CPI) in April 2024 was 2.9% higher (unadjusted) than in April 2023.  How does this compare to the Canadian CPI?\")\n",
    "# Let's take a look at the first 3 responses\n",
    "response[:3]"
   ]
  },
  {
   "cell_type": "markdown",
   "metadata": {},
   "source": [
    "## Creating a Vector DB retriever based on data from a PDF File"
   ]
  },
  {
   "cell_type": "markdown",
   "metadata": {},
   "source": [
    "We are going to load a PDF file using the PyPDFLoader in Langchain.  We will then use the RecursiveTextSplitter in Langchain to split the documents into chuncks that can be vectorized.  The vectorized chunks of text will be stored in a Facebook AI Similarity Search (FAISS) vector store.  This vector store will be converted into a Langchain retriever."
   ]
  },
  {
   "cell_type": "code",
   "execution_count": 94,
   "metadata": {},
   "outputs": [],
   "source": [
    "from langchain_community.document_loaders import PyPDFLoader\n",
    "\n",
    "# The PDF file we are using can be downloaded from: https://www2.gov.bc.ca/assets/gov/data/statistics/economy/cpi/cpi_highlights.pdf\n",
    "# load the PDF file\n",
    "loader = PyPDFLoader(\"bc_cpi_highlights.pdf\")\n",
    "docs = loader.load()"
   ]
  },
  {
   "cell_type": "code",
   "execution_count": 95,
   "metadata": {},
   "outputs": [],
   "source": [
    "from langchain_community.vectorstores import FAISS\n",
    "from langchain_openai import OpenAIEmbeddings\n",
    "from langchain.text_splitter import RecursiveCharacterTextSplitter\n",
    "\n",
    "# split the document into chunks, and vectorize these chunks in a FAISS database\n",
    "text_splitter = RecursiveCharacterTextSplitter(chunk_size = 1000, chunk_overlap = 100)\n",
    "notes = text_splitter.split_documents(docs)\n",
    "embeddings = OpenAIEmbeddings()\n",
    "db = FAISS.from_documents(documents=notes, embedding=embeddings)"
   ]
  },
  {
   "cell_type": "code",
   "execution_count": 96,
   "metadata": {},
   "outputs": [
    {
     "data": {
      "text/plain": [
       "'(excluding fish, seafood, and other marine products) \\n(+2.1%). At the same time, fruit, fruit preparations, \\nand nut s was the only major food category to \\ndecrease in price (- 0.1%)  \\nBritish Columbians paid more for both  health (+2.7%) \\nand personal (+ 2.0%) care  when compared to \\n12-months ago. Services, instead of items within \\nthese categories, had the largest price increase. Personal services (such a hairdressing) cost 4.8% \\nmore when compared to 12 -months ago, while the \\ncost of health care services (such as eye and dental \\ncare) increased by 4.3%.  Consumer Price \\nIndex   \\n \\n \\nReference date:  April  2024  Issue:  #24-04 Released:  May 21 , 2024 \\n      \\n-5.8-1.91.92.22.32.62.82.96.8\\nClothing & FootwearHouseholdRecreationAlc., Tob., & CannabisHealth & PersonalFoodTransportationAll-itemsShelterInflation by Category\\n% change, same month previous year'"
      ]
     },
     "execution_count": 96,
     "metadata": {},
     "output_type": "execute_result"
    }
   ],
   "source": [
    "# test out the similarity search\n",
    "query = \"How much did food prices increase in April 2024?\"\n",
    "response = db.similarity_search(query, k=3)\n",
    "response[0].page_content"
   ]
  },
  {
   "cell_type": "code",
   "execution_count": 97,
   "metadata": {},
   "outputs": [],
   "source": [
    "# Create the retriever\n",
    "faiss_retriever = db.as_retriever()"
   ]
  },
  {
   "cell_type": "markdown",
   "metadata": {},
   "source": [
    "## Create an Ensemble Retriever using the You.Com Retriever and the FAISS Retriever"
   ]
  },
  {
   "cell_type": "markdown",
   "metadata": {},
   "source": [
    "The Ensemble Retriever in Langchain ensembles results from multiple retrievers.  We will create an Ensemble Retriever with the FAISS Vector store retriever and the You.com retriever that we defined above as constituent retrievers."
   ]
  },
  {
   "cell_type": "code",
   "execution_count": 98,
   "metadata": {},
   "outputs": [],
   "source": [
    "from langchain.retrievers import EnsembleRetriever\n",
    "\n",
    "ensemble_retriever = EnsembleRetriever(\n",
    "    retrievers = [ydc_retriever, faiss_retriever], weights = [0.5, 0.5]\n",
    ")"
   ]
  },
  {
   "cell_type": "markdown",
   "metadata": {},
   "source": [
    "## Instantiate the LLM"
   ]
  },
  {
   "cell_type": "code",
   "execution_count": 99,
   "metadata": {},
   "outputs": [],
   "source": [
    "from langchain_openai import ChatOpenAI\n",
    "llm = ChatOpenAI(model=\"gpt-4o\", temperature=0.5)"
   ]
  },
  {
   "cell_type": "markdown",
   "metadata": {},
   "source": [
    "## Create the Prompt Template"
   ]
  },
  {
   "cell_type": "code",
   "execution_count": 100,
   "metadata": {},
   "outputs": [],
   "source": [
    "system_prompt = \"\"\"\n",
    "You are an assistant that answers questions pertaining to CPI (Consumer Price Index).  Please utilize the following retrieved context from the web and from a proprietary\n",
    "datasource to provide an accurate answer to the question.  Please try and utilize numbers where applicable to substantiate your answer.  If you do not know the answer, simply say you do not \n",
    "know the answer.  Please keep the response concise.\n",
    "\n",
    "{context}\n",
    "\"\"\""
   ]
  },
  {
   "cell_type": "code",
   "execution_count": 101,
   "metadata": {},
   "outputs": [],
   "source": [
    "from langchain_core.prompts import ChatPromptTemplate, MessagesPlaceholder\n",
    "\n",
    "qa_prompt = ChatPromptTemplate.from_messages(\n",
    "    [\n",
    "        (\"system\", system_prompt),\n",
    "        (\"human\", \"{input}\"),\n",
    "    ]\n",
    ")"
   ]
  },
  {
   "cell_type": "markdown",
   "metadata": {},
   "source": [
    "## Create a basic chain without chat history"
   ]
  },
  {
   "cell_type": "markdown",
   "metadata": {},
   "source": [
    "We will test our chain first without chat history."
   ]
  },
  {
   "cell_type": "code",
   "execution_count": 102,
   "metadata": {},
   "outputs": [],
   "source": [
    "from langchain.chains.combine_documents import create_stuff_documents_chain\n",
    "from langchain.chains import create_retrieval_chain\n",
    "\n",
    "qa_chain = create_stuff_documents_chain(llm, qa_prompt)\n",
    "rag_chain = create_retrieval_chain(ensemble_retriever, qa_chain)"
   ]
  },
  {
   "cell_type": "code",
   "execution_count": 103,
   "metadata": {},
   "outputs": [],
   "source": [
    "response = rag_chain.invoke({\"input\": \"How did the CPI in April 2024 in BC compare to the national CPI in Canada?\"})"
   ]
  },
  {
   "cell_type": "code",
   "execution_count": 104,
   "metadata": {},
   "outputs": [
    {
     "data": {
      "text/plain": [
       "\"In April 2024, the Consumer Price Index (CPI) in British Columbia increased by 2.9% compared to April 2023. Nationally, Canada's CPI was up by 2.7% over the same period. Therefore, the CPI increase in British Columbia was slightly higher than the national average.\""
      ]
     },
     "execution_count": 104,
     "metadata": {},
     "output_type": "execute_result"
    }
   ],
   "source": [
    "response[\"answer\"]"
   ]
  },
  {
   "cell_type": "markdown",
   "metadata": {},
   "source": [
    "## Add chat history to our chatbot"
   ]
  },
  {
   "cell_type": "markdown",
   "metadata": {},
   "source": [
    "Chat history is an integral component of any chat application, as the input query might require additional conversational context to be understood by the LLM.  We are going to add chat history to our chatbot, and contextualize the input prompts with chat history."
   ]
  },
  {
   "cell_type": "code",
   "execution_count": 105,
   "metadata": {},
   "outputs": [],
   "source": [
    "# Create a prompt that utilizes the chat history as context to reformulate the most recent input, as a standalone question that the LLM can comprehend\n",
    "from langchain.chains import create_history_aware_retriever\n",
    "\n",
    "contextualize_q_system_prompt = \"\"\"\n",
    "Given a chat history and the latest question, which might reference context in the chat history, formulate a standalone question, which can be understood without chat history.\n",
    "Do not answer the question, just reformulate the question if necessary and return it as it otherwise.\n",
    "\"\"\"\n",
    "\n",
    "contextualize_q_prompt = ChatPromptTemplate.from_messages(\n",
    "    [\n",
    "        (\"system\", contextualize_q_system_prompt),\n",
    "        MessagesPlaceholder(\"chat_history\"),\n",
    "        (\"human\", \"{input}\")\n",
    "    ]\n",
    ")"
   ]
  },
  {
   "cell_type": "code",
   "execution_count": 106,
   "metadata": {},
   "outputs": [],
   "source": [
    "# Create a chain that takes conversation history and contextualizes the prompt\n",
    "history_aware_retriever = create_history_aware_retriever(llm, ensemble_retriever, contextualize_q_prompt)"
   ]
  },
  {
   "cell_type": "code",
   "execution_count": 107,
   "metadata": {},
   "outputs": [],
   "source": [
    "# rejig qa prompt to include the chat history\n",
    "qa_prompt = ChatPromptTemplate.from_messages(\n",
    "    [\n",
    "        (\"system\", system_prompt),\n",
    "        MessagesPlaceholder(\"chat_history\"),\n",
    "        (\"human\", \"{input}\")\n",
    "    ]\n",
    ")"
   ]
  },
  {
   "cell_type": "code",
   "execution_count": 108,
   "metadata": {},
   "outputs": [],
   "source": [
    "from langchain_core.chat_history import BaseChatMessageHistory\n",
    "from langchain_community.chat_message_histories import ChatMessageHistory\n",
    "\n",
    "# statefully manage session history\n",
    "store = {}\n",
    "\n",
    "def get_session_history(session_id: str) -> BaseChatMessageHistory:\n",
    "    if session_id not in store:\n",
    "        store[session_id] = ChatMessageHistory()\n",
    "        \n",
    "    return store[session_id]"
   ]
  },
  {
   "cell_type": "code",
   "execution_count": 109,
   "metadata": {},
   "outputs": [],
   "source": [
    "# create chains that include message history\n",
    "qa_chain = create_stuff_documents_chain(llm, qa_prompt)\n",
    "rag_chain = create_retrieval_chain(history_aware_retriever, qa_chain)"
   ]
  },
  {
   "cell_type": "code",
   "execution_count": 110,
   "metadata": {},
   "outputs": [],
   "source": [
    "from langchain_core.runnables.history import RunnableWithMessageHistory\n",
    "\n",
    "# create final chain that ties everything together\n",
    "\n",
    "conversation_rag_chain = RunnableWithMessageHistory(\n",
    "    rag_chain,\n",
    "    get_session_history,\n",
    "    input_messages_key = \"input\",\n",
    "    history_messages_key = \"chat_history\",\n",
    "    output_messages_key = \"answer\"\n",
    ")"
   ]
  },
  {
   "cell_type": "markdown",
   "metadata": {},
   "source": [
    "## Let's try it out!"
   ]
  },
  {
   "cell_type": "code",
   "execution_count": 111,
   "metadata": {},
   "outputs": [
    {
     "data": {
      "text/plain": [
       "'Food prices in British Columbia increased by 2.6% in April 2024 compared to April 2023.'"
      ]
     },
     "execution_count": 111,
     "metadata": {},
     "output_type": "execute_result"
    }
   ],
   "source": [
    "conversation_rag_chain.invoke({\"input\": \"How much did food prices increase in April 2024 in BC compared to April 2023?\"}, config = {\"configurable\": {\"session_id\": \"xyz_789\"}})[\"answer\"]"
   ]
  },
  {
   "cell_type": "code",
   "execution_count": 112,
   "metadata": {},
   "outputs": [
    {
     "data": {
      "text/plain": [
       "'In April 2024, food prices in British Columbia increased by 2.6% compared to April 2023. Nationally, food prices in Canada increased by 2.3% over the same period. Thus, the increase in food prices in British Columbia was slightly higher than the national average.'"
      ]
     },
     "execution_count": 112,
     "metadata": {},
     "output_type": "execute_result"
    }
   ],
   "source": [
    "conversation_rag_chain.invoke({\"input\": \"How does that compare to the increase in food prices across the nation?\"}, config = {\"configurable\": {\"session_id\": \"xyz_789\"}})[\"answer\"]"
   ]
  },
  {
   "cell_type": "code",
   "execution_count": 113,
   "metadata": {},
   "outputs": [
    {
     "data": {
      "text/plain": [
       "'Several factors contributed to the rising food prices in British Columbia in April 2024:\\n\\n1. **Beef and Veal Prices**: Beef and veal prices rose by 0.8% in April 2024 and were 7.0% higher than in April 2023. This increase was driven by tight supplies and strong demand.\\n\\n2. **Pork Prices**: Wholesale pork prices increased by 2.9% in April 2024 and were 18.3% higher than in April 2023 due to higher demand.\\n\\n3. **Poultry Prices**: Although poultry prices decreased by 0.6% in April 2024, they were still 0.9% higher than in April 2023.\\n\\n4. **General Food Inflation**: The overall food price index in British Columbia climbed to 179.2 (+5.4%) over the latest 12-month average, reflecting broader food inflation trends.\\n\\nThese specific increases in meat prices, along with general food inflation trends, contributed to the overall rise in food prices in British Columbia in April 2024.'"
      ]
     },
     "execution_count": 113,
     "metadata": {},
     "output_type": "execute_result"
    }
   ],
   "source": [
    "conversation_rag_chain.invoke({\"input\": \"What contributed to the rising food prices in BC in April 2024?\"}, config = {\"configurable\": {\"session_id\": \"xyz_789\"}})[\"answer\"]"
   ]
  },
  {
   "cell_type": "code",
   "execution_count": 114,
   "metadata": {},
   "outputs": [
    {
     "data": {
      "text/plain": [
       "'In April 2024, the Consumer Price Index (CPI) in British Columbia increased by 2.9% compared to April 2023. Nationally, the CPI in Canada increased by 2.7% over the same period. Therefore, the CPI increase in British Columbia was slightly higher than the national average.'"
      ]
     },
     "execution_count": 114,
     "metadata": {},
     "output_type": "execute_result"
    }
   ],
   "source": [
    "conversation_rag_chain.invoke({\"input\": \"How did the CPI in April 2024 in BC compare to the national CPI in Canada?\"}, config = {\"configurable\": {\"session_id\": \"xyz_789\"}})[\"answer\"]"
   ]
  },
  {
   "cell_type": "markdown",
   "metadata": {},
   "source": [
    "## Create a Python object that encapsulates the functionality of creating a chatbot that retrieves context from PDF files and the web"
   ]
  },
  {
   "cell_type": "markdown",
   "metadata": {},
   "source": [
    "Let's create a Python class that encapsulates the code above.  This will enable users to easily create chatbots for new use cases with custom PDF files and prompts."
   ]
  },
  {
   "cell_type": "code",
   "execution_count": 131,
   "metadata": {},
   "outputs": [],
   "source": [
    "import secrets\n",
    "class PDF_QA_Bot:\n",
    "    def __init__(self, llm: ChatOpenAI, pdf_files: list[str], system_prompt: str, num_web_results_to_fetch: int = 10):\n",
    "        \n",
    "        self._llm = llm\n",
    "        \n",
    "        docs = self._load_pdf_documents(pdf_files)\n",
    "        \n",
    "        # split the docs into chunks, vectorize the chunks and load them into a vector store\n",
    "        db = self._create_vector_store(docs)\n",
    "        \n",
    "        # create Langchain retriever from the vector store\n",
    "        self._faiss_retriever = db.as_retriever()\n",
    "        \n",
    "        # create YDC retriever\n",
    "        self._ydc_retriever = YouRetriever(num_web_results = 10)\n",
    "\n",
    "        # create ensemble retriever \n",
    "        self._ensemble_retriever = EnsembleRetriever(\n",
    "            retrievers = [self._ydc_retriever, self._faiss_retriever], weights = [0.5, 0.5]\n",
    "        )\n",
    "\n",
    "        # create the system prompt from the user input\n",
    "        self._system_prompt = system_prompt + \"\\n\\n\" + \"{context}\"\n",
    "\n",
    "        self._contextualize_q_system_prompt = \"\"\"\n",
    "        Given a chat history and the latest question, which might reference context in the chat history, formulate a standalone question, which can be understood without chat history.\n",
    "        Do not answer the question, just reformulate the question if necessary and return it as it otherwise.\n",
    "        \"\"\"\n",
    "\n",
    "        # Create a prompt that utilizes the chat history as context to reformulate the most recent input, as a standalone question that the LLM can comprehend\n",
    "        self._contextualize_q_prompt = ChatPromptTemplate.from_messages(\n",
    "            [\n",
    "                (\"system\", contextualize_q_system_prompt),\n",
    "                MessagesPlaceholder(\"chat_history\"),\n",
    "                (\"human\", \"{input}\")\n",
    "            ]\n",
    "        )\n",
    "\n",
    "        self._history_aware_retriever = create_history_aware_retriever(llm, ensemble_retriever, contextualize_q_prompt)\n",
    "\n",
    "        self._qa_prompt = ChatPromptTemplate.from_messages(\n",
    "            [\n",
    "                (\"system\", system_prompt),\n",
    "                MessagesPlaceholder(\"chat_history\"),\n",
    "                (\"human\", \"{input}\")\n",
    "            ]\n",
    "        )\n",
    "\n",
    "        self._messages_store = {}\n",
    "        self._session_id = self._generate_session_id()\n",
    "\n",
    "        # create chains that include message history\n",
    "        self._qa_chain = create_stuff_documents_chain(llm, qa_prompt)\n",
    "        self._rag_chain = create_retrieval_chain(history_aware_retriever, qa_chain)\n",
    "\n",
    "        # create final chain that ties everything together\n",
    "        self._conversation_rag_chain = RunnableWithMessageHistory(\n",
    "            rag_chain,\n",
    "            self._get_session_history,\n",
    "            input_messages_key = \"input\",\n",
    "            history_messages_key = \"chat_history\",\n",
    "            output_messages_key = \"answer\"\n",
    "        )\n",
    "        \n",
    "    def _load_pdf_documents(self, pdf_files: list[str]) -> list:\n",
    "        docs = []\n",
    "        for file in pdf_files:\n",
    "            file_loader = PyPDFLoader(file)\n",
    "            docs.extend(file_loader.load())\n",
    "        return docs\n",
    "    \n",
    "    def _create_vector_store(self, docs: list):\n",
    "        text_splitter = RecursiveCharacterTextSplitter(chunk_size=1000, chunk_overlap=100)\n",
    "        chunked_docs = text_splitter.split_documents(docs)\n",
    "        embeddings = OpenAIEmbeddings()\n",
    "        return FAISS.from_documents(documents=chunked_docs, embedding=embeddings)\n",
    "    \n",
    "    \n",
    "    def _get_session_history(self, session_id) -> BaseChatMessageHistory:\n",
    "        \"\"\"Statefully manage chat history\"\"\"\n",
    "        if session_id not in store:\n",
    "            store[session_id] = ChatMessageHistory()\n",
    "            \n",
    "        return store[self._session_id]\n",
    "    \n",
    "    def _generate_session_id(self) -> str:\n",
    "        session_id = secrets.token_urlsafe(16)\n",
    "        return session_id\n",
    "    \n",
    "    def invoke_bot(self, input_str: str) -> str:\n",
    "        input = {\"input\": input_str}\n",
    "        config = {\"configurable\": {\"session_id\": self._session_id}}\n",
    "        output = self._conversation_rag_chain.invoke(input, config)\n",
    "        return output[\"answer\"]\n",
    "        \n",
    "\n",
    "        "
   ]
  },
  {
   "cell_type": "markdown",
   "metadata": {},
   "source": [
    "## Let's try it out!"
   ]
  },
  {
   "cell_type": "code",
   "execution_count": 132,
   "metadata": {},
   "outputs": [],
   "source": [
    "conversational_rag_system_prompt = \"\"\"You are an assistant that answers questions pertaining to CPI (Consumer Price Index).  Please utilize the following retrieved context from the web and from a proprietary\n",
    "datasource to provide an accurate answer to the question.  Please try and utilize numbers where applicable to substantiate your answer.  If you do not know the answer, simply say you do not \n",
    "know the answer.  Please keep the response concise.\"\"\"\n",
    "conversational_rag = PDF_QA_Bot(llm, pdf_files=[\"bc_cpi_highlights.pdf\"], system_prompt=conversational_rag_system_prompt, num_web_results_to_fetch=10)"
   ]
  },
  {
   "cell_type": "code",
   "execution_count": 133,
   "metadata": {},
   "outputs": [
    {
     "data": {
      "text/plain": [
       "'Food prices in British Columbia increased by 2.6% in April 2024 compared to April 2023.'"
      ]
     },
     "execution_count": 133,
     "metadata": {},
     "output_type": "execute_result"
    }
   ],
   "source": [
    "conversational_rag.invoke_bot(\"How much did food prices increase in April 2024 in BC compared to April 2023?\")"
   ]
  },
  {
   "cell_type": "code",
   "execution_count": 134,
   "metadata": {},
   "outputs": [
    {
     "data": {
      "text/plain": [
       "'The increase in food prices in British Columbia (2.6%) in April 2024 compared to April 2023 is slightly higher than the national increase of 2.3% for the same period.'"
      ]
     },
     "execution_count": 134,
     "metadata": {},
     "output_type": "execute_result"
    }
   ],
   "source": [
    "conversational_rag.invoke_bot(\"How does that compare to the increase in food prices across the nation?\")"
   ]
  },
  {
   "cell_type": "code",
   "execution_count": 135,
   "metadata": {},
   "outputs": [
    {
     "data": {
      "text/plain": [
       "'Several factors contributed to the rising food prices in British Columbia in April 2024:\\n\\n1. **Supply Constraints**: Tight supplies of certain products, such as beef and veal, which saw significant price increases due to strong demand and limited availability.\\n2. **Higher Demand**: Increased demand for products like wholesale pork, which saw a substantial price rise due to higher demand after previous declines.\\n3. **Global Events**: International events and climate conditions impacting harvests, such as wildfires and flooding, which have affected the supply chain and increased costs.\\n4. **Inflation**: General inflationary pressures across various sectors, including transportation and energy, which indirectly affect food prices.\\n5. **Corporate Behavior**: Allegations of price gouging by major grocery chains, which have been a subject of media and government attention.\\n\\nThese factors combined to drive the overall increase in food prices in the region.'"
      ]
     },
     "execution_count": 135,
     "metadata": {},
     "output_type": "execute_result"
    }
   ],
   "source": [
    "conversational_rag.invoke_bot(\"What contributed to the rising food prices in BC in April 2024?\")"
   ]
  },
  {
   "cell_type": "code",
   "execution_count": null,
   "metadata": {},
   "outputs": [],
   "source": []
  }
 ],
 "metadata": {
  "kernelspec": {
   "display_name": "llm-practice",
   "language": "python",
   "name": "python3"
  },
  "language_info": {
   "codemirror_mode": {
    "name": "ipython",
    "version": 3
   },
   "file_extension": ".py",
   "mimetype": "text/x-python",
   "name": "python",
   "nbconvert_exporter": "python",
   "pygments_lexer": "ipython3",
   "version": "3.10.14"
  }
 },
 "nbformat": 4,
 "nbformat_minor": 2
}
