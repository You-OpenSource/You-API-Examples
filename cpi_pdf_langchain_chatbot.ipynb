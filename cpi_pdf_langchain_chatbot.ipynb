{
 "cells": [
  {
   "cell_type": "markdown",
   "metadata": {},
   "source": [
    "# CPI Q/A bot"
   ]
  },
  {
   "cell_type": "markdown",
   "metadata": {},
   "source": [
    "This chatbot retrieves context from a proprietary datasource and the web to answer questions about Consumer Price Index (CPI) changes in the province of British Columbia (BC) in April 2024.  The proprietary datasource is a PDF report highlighting CPI changes in BC in April 2024 over a 12-month period.  The web data needed to answer the question is being retrieved using the You.com API.  The chatbot is implemented as a parallel chain in Langchain."
   ]
  },
  {
   "cell_type": "code",
   "execution_count": 25,
   "metadata": {},
   "outputs": [],
   "source": [
    "import openai\n",
    "import langchain\n",
    "import os"
   ]
  },
  {
   "cell_type": "code",
   "execution_count": 26,
   "metadata": {},
   "outputs": [],
   "source": [
    "os.environ[\"YDC_API_KEY\"] = \"<Insert your YDC API key here>\"\n",
    "os.environ[\"OPENAI_API_KEY\"] = \"<Insert your OpenAI key here>\""
   ]
  },
  {
   "cell_type": "markdown",
   "metadata": {},
   "source": [
    "## Instantiating the You.com Retriever in Langchain"
   ]
  },
  {
   "cell_type": "markdown",
   "metadata": {},
   "source": [
    "Langchain provides a You.com retriever.  For more information, please visit: https://python.langchain.com/v0.1/docs/integrations/retrievers/you-retriever/"
   ]
  },
  {
   "cell_type": "code",
   "execution_count": 27,
   "metadata": {},
   "outputs": [],
   "source": [
    "from langchain_community.retrievers.you import YouRetriever\n",
    "\n",
    "ydc_retriever = YouRetriever(num_web_results = 10)"
   ]
  },
  {
   "cell_type": "code",
   "execution_count": 28,
   "metadata": {},
   "outputs": [
    {
     "data": {
      "text/plain": [
       "[Document(page_content='Mail to: BC Stats, Box 9410 Stn Prov Govt, Victoria BC V8W 9V1', metadata={'url': 'https://www2.gov.bc.ca/gov/content/data/statistics/economy/consumer-price-index', 'thumbnail_url': None, 'title': 'Consumer Price Index (CPI) - Province of British Columbia', 'description': \"Looking for more data? Explore the B.C. Government's extensive collection of datasets, applications and web services · Please send your questions and service requests to BC Stats here\"}),\n",
       " Document(page_content='Consumer Price Index (CPI) data', metadata={'url': 'https://www2.gov.bc.ca/gov/content/data/statistics/economy/consumer-price-index', 'thumbnail_url': None, 'title': 'Consumer Price Index (CPI) - Province of British Columbia', 'description': \"Looking for more data? Explore the B.C. Government's extensive collection of datasets, applications and web services · Please send your questions and service requests to BC Stats here\"}),\n",
       " Document(page_content=\"Shelter inflation has been a thorn in the Bank of Canada's side, but it took a small step in the right direction in April, up 6.4% y/y, down a tenth from March. Rent inflation cooled slightly to 8.2% y/y as did mortgage interest costs, which remain high at 24.5% y/y. Leaning against these increases, homeowner's replacement cost is down 0.9% versus a year ago. CPI ex-shelter was up only 1.2% y/y on April.\", metadata={'url': 'https://economics.td.com/ca-cpi', 'thumbnail_url': None, 'title': 'Canadian Consumer Price Index (April 2024)', 'description': \"But it wasn't entirely due to the increase in the federal carbon levy. Statistics Canada cited that higher oil prices and the switch to summer blends were also factors lifting prices at the pump. Excluding gasoline, all-items CPI slowed to 2.5% y/y in April, down from 2.8% in March.\"}),\n",
       " Document(page_content=\"But it wasn't entirely due to the increase in the federal carbon levy. Statistics Canada cited that higher oil prices and the switch to summer blends were also factors lifting prices at the pump. Excluding gasoline, all-items CPI slowed to 2.5% y/y in April, down from 2.8% in March.\", metadata={'url': 'https://economics.td.com/ca-cpi', 'thumbnail_url': None, 'title': 'Canadian Consumer Price Index (April 2024)', 'description': \"But it wasn't entirely due to the increase in the federal carbon levy. Statistics Canada cited that higher oil prices and the switch to summer blends were also factors lifting prices at the pump. Excluding gasoline, all-items CPI slowed to 2.5% y/y in April, down from 2.8% in March.\"}),\n",
       " Document(page_content='Headline CPI inflation edged lower in April to 2.7% year-on-year (y/y), matching expectations. The broad-based deceleration was led by food prices, services and durable goods.  · However, higher prices at the pump in April worked against the cooling in inflation.', metadata={'url': 'https://economics.td.com/ca-cpi', 'thumbnail_url': None, 'title': 'Canadian Consumer Price Index (April 2024)', 'description': \"But it wasn't entirely due to the increase in the federal carbon levy. Statistics Canada cited that higher oil prices and the switch to summer blends were also factors lifting prices at the pump. Excluding gasoline, all-items CPI slowed to 2.5% y/y in April, down from 2.8% in March.\"}),\n",
       " Document(page_content='Canadian Consumer Price Index (April 2024)', metadata={'url': 'https://economics.td.com/ca-cpi', 'thumbnail_url': None, 'title': 'Canadian Consumer Price Index (April 2024)', 'description': \"But it wasn't entirely due to the increase in the federal carbon levy. Statistics Canada cited that higher oil prices and the switch to summer blends were also factors lifting prices at the pump. Excluding gasoline, all-items CPI slowed to 2.5% y/y in April, down from 2.8% in March.\"}),\n",
       " Document(page_content='The prices of certain CPI components can be particularly volatile. These components, as well as changes in indirect taxes such as GST, can cause sizeable fluctuations in total CPI. In setting monetary policy, the Bank seeks to look through such transitory movements in total CPI inflation and focusses on “core” inflation measures that better reflect the underlying trend of inflation.', metadata={'url': 'https://www.bankofcanada.ca/rates/price-indexes/cpi/', 'thumbnail_url': None, 'title': 'Consumer price index - Bank of Canada', 'description': 'The prices of certain CPI components can be particularly volatile. These components, as well as changes in indirect taxes such as GST, can cause sizeable fluctuations in total CPI. In setting monetary policy, the Bank seeks to look through such transitory movements in total CPI inflation and focusses on “core” inflation measures that better reflect the underlying trend of inflation.'}),\n",
       " Document(page_content='CPI-trim is a measure of core inflation that excludes CPI components whose rates of change in a given month are located in the tails of the distribution of price changes. This measure helps filter out extreme price movements that might be caused by factors specific to certain components.', metadata={'url': 'https://www.bankofcanada.ca/rates/price-indexes/cpi/', 'thumbnail_url': None, 'title': 'Consumer price index - Bank of Canada', 'description': 'The prices of certain CPI components can be particularly volatile. These components, as well as changes in indirect taxes such as GST, can cause sizeable fluctuations in total CPI. In setting monetary policy, the Bank seeks to look through such transitory movements in total CPI inflation and focusses on “core” inflation measures that better reflect the underlying trend of inflation.'}),\n",
       " Document(page_content='In particular, CPI-trim excludes 20 per cent of the weighted monthly price variations at both the bottom and top of the distribution of price changes, and thus it always removes 40 per cent of the total CPI basket. These excluded components can change from month to month, depending on which are extreme at a given time.', metadata={'url': 'https://www.bankofcanada.ca/rates/price-indexes/cpi/', 'thumbnail_url': None, 'title': 'Consumer price index - Bank of Canada', 'description': 'The prices of certain CPI components can be particularly volatile. These components, as well as changes in indirect taxes such as GST, can cause sizeable fluctuations in total CPI. In setting monetary policy, the Bank seeks to look through such transitory movements in total CPI inflation and focusses on “core” inflation measures that better reflect the underlying trend of inflation.'}),\n",
       " Document(page_content='These excluded components can change from month to month, depending on which are extreme at a given time. A good example would be the impact of severe weather on the prices of certain food components. This approach differs from traditional a priori exclusion-based measures (e.g. CPIX), which every month omit a pre-specified list of components from the CPI basket.', metadata={'url': 'https://www.bankofcanada.ca/rates/price-indexes/cpi/', 'thumbnail_url': None, 'title': 'Consumer price index - Bank of Canada', 'description': 'The prices of certain CPI components can be particularly volatile. These components, as well as changes in indirect taxes such as GST, can cause sizeable fluctuations in total CPI. In setting monetary policy, the Bank seeks to look through such transitory movements in total CPI inflation and focusses on “core” inflation measures that better reflect the underlying trend of inflation.'}),\n",
       " Document(page_content='On June 18, 2024, updated basket weights for the goods and services used in the calculation of the CPI will be made available in table 18-10-0007-01. The new basket weight reference period will be 2023, based on the most recent household final consumption expenditure data and other alternative data. The methods and data sources used will be similar to the last basket update in June 2023. For general information on basket updates, consult The Canadian Consumer Price Index reference paper, chapter 8, \"Weights and basket updates.\"', metadata={'url': 'https://www.statcan.gc.ca/en/subjects-start/prices_and_price_indexes/consumer_price_indexes', 'thumbnail_url': None, 'title': 'Consumer price index portal', 'description': 'The CPI Data Visualization Tool will be temporarily unavailable from June 18 to 25, 2024, due to planned maintenance related to the updated basket. ... From Shelf to Statistic: An Overview of Food Price Measurement in the Consumer Price Index, a new technical paper that describes the collection ...'}),\n",
       " Document(page_content='The methods and data sources used will be similar to the last basket update in June 2023. For general information on basket updates, consult The Canadian Consumer Price Index reference paper, chapter 8, \"Weights and basket updates.\" ... The CPI Data Visualization Tool will be temporarily unavailable from June 18 to 25, 2024, due to planned maintenance related to the updated basket.', metadata={'url': 'https://www.statcan.gc.ca/en/subjects-start/prices_and_price_indexes/consumer_price_indexes', 'thumbnail_url': None, 'title': 'Consumer price index portal', 'description': 'The CPI Data Visualization Tool will be temporarily unavailable from June 18 to 25, 2024, due to planned maintenance related to the updated basket. ... From Shelf to Statistic: An Overview of Food Price Measurement in the Consumer Price Index, a new technical paper that describes the collection ...'}),\n",
       " Document(page_content='The CPI Data Visualization Tool will be temporarily unavailable from June 18 to 25, 2024, due to planned maintenance related to the updated basket. ... From Shelf to Statistic: An Overview of Food Price Measurement in the Consumer Price Index, a new technical paper that describes the collection of food price data and the methodologies that are used to provide Canadians with accurate and timely food inflation data in both the CPI and the monthly average retail prices table.', metadata={'url': 'https://www.statcan.gc.ca/en/subjects-start/prices_and_price_indexes/consumer_price_indexes', 'thumbnail_url': None, 'title': 'Consumer price index portal', 'description': 'The CPI Data Visualization Tool will be temporarily unavailable from June 18 to 25, 2024, due to planned maintenance related to the updated basket. ... From Shelf to Statistic: An Overview of Food Price Measurement in the Consumer Price Index, a new technical paper that describes the collection ...'}),\n",
       " Document(page_content='The CPI is based on a fixed basket of goods and services designed according to international standards and methods. On June 18, 2024, updated basket weights for the goods and services used in the calculation of the CPI will be made available in table 18-10-0007-01.', metadata={'url': 'https://www.statcan.gc.ca/en/subjects-start/prices_and_price_indexes/consumer_price_indexes', 'thumbnail_url': None, 'title': 'Consumer price index portal', 'description': 'The CPI Data Visualization Tool will be temporarily unavailable from June 18 to 25, 2024, due to planned maintenance related to the updated basket. ... From Shelf to Statistic: An Overview of Food Price Measurement in the Consumer Price Index, a new technical paper that describes the collection ...'}),\n",
       " Document(page_content='Every year, economists in the CPI calculate new seasonal factors for seasonally adjusted series and apply them to the last 5 years of data. Seasonally adjusted indexes beyond the last 5 years of data are considered to be final and not subject to revision. For January 2024, revised seasonal factors and seasonally adjusted indexes for 2019 to 2023 were calculated and published.', metadata={'url': 'https://www.bls.gov/news.release/cpi.nr0.htm', 'thumbnail_url': None, 'title': 'Consumer Price Index Summary - 2024 M04 Results', 'description': 'The following table shows an example of using index values to calculate percent changes: Item A Item B Item C Year I 112.500 225.000 110.000 Year II 121.500 243.000 128.000 Change in index points 9.000 18.000 18.000 Percent change 9.0/112.500 x 100 = 8.0 18.0/225.000 x 100 = 8.0 18.0/110.000 x 100 = 16.4 Use of Seasonally Adjusted and Unadjusted Data The Consumer Price Index (CPI) program produces both unadjusted and seasonally adjusted data. Seasonally adjusted data are computed using seasonal factors derived by the X-13ARIMA-SEATS seasonal adjustment method. These factors are updated each February, and the new factors are used to revise the previous 5 years of seasonally adjusted data. The factors are available at www.bls.gov/cpi/tables/seasonal-adjustment/seasonal-factors-2024.xlsx.'}),\n",
       " Document(page_content='The following table shows an example of using index values to calculate percent changes: Item A Item B Item C Year I 112.500 225.000 110.000 Year II 121.500 243.000 128.000 Change in index points 9.000 18.000 18.000 Percent change 9.0/112.500 x 100 = 8.0 18.0/225.000 x 100 = 8.0 18.0/110.000 x 100 = 16.4 Use of Seasonally Adjusted and Unadjusted Data The Consumer Price Index (CPI) program produces both unadjusted and seasonally adjusted data. Seasonally adjusted data are computed using seasonal factors derived by the X-13ARIMA-SEATS seasonal adjustment method. These factors are updated each February, and the new factors are used to revise the previous 5 years of seasonally adjusted data. The factors are available at www.bls.gov/cpi/tables/seasonal-adjustment/seasonal-factors-2024.xlsx.', metadata={'url': 'https://www.bls.gov/news.release/cpi.nr0.htm', 'thumbnail_url': None, 'title': 'Consumer Price Index Summary - 2024 M04 Results', 'description': 'The following table shows an example of using index values to calculate percent changes: Item A Item B Item C Year I 112.500 225.000 110.000 Year II 121.500 243.000 128.000 Change in index points 9.000 18.000 18.000 Percent change 9.0/112.500 x 100 = 8.0 18.0/225.000 x 100 = 8.0 18.0/110.000 x 100 = 16.4 Use of Seasonally Adjusted and Unadjusted Data The Consumer Price Index (CPI) program produces both unadjusted and seasonally adjusted data. Seasonally adjusted data are computed using seasonal factors derived by the X-13ARIMA-SEATS seasonal adjustment method. These factors are updated each February, and the new factors are used to revise the previous 5 years of seasonally adjusted data. The factors are available at www.bls.gov/cpi/tables/seasonal-adjustment/seasonal-factors-2024.xlsx.'}),\n",
       " Document(page_content='The last step is for motor fuel seasonal factors to be applied to the unadjusted data. For the seasonal factors introduced for January 2024, BLS adjusted 46 series using intervention analysis seasonal adjustment, including selected food and beverage items, motor fuels and vehicles. Revision of Seasonally Adjusted Indexes Seasonally adjusted data, including the U.S. city average all items index levels, are subject to revision for up to 5 years after their original release. Every year, economists in the CPI calculate new seasonal factors for seasonally adjusted series and apply them to the last 5 years of data.', metadata={'url': 'https://www.bls.gov/news.release/cpi.nr0.htm', 'thumbnail_url': None, 'title': 'Consumer Price Index Summary - 2024 M04 Results', 'description': 'The following table shows an example of using index values to calculate percent changes: Item A Item B Item C Year I 112.500 225.000 110.000 Year II 121.500 243.000 128.000 Change in index points 9.000 18.000 18.000 Percent change 9.0/112.500 x 100 = 8.0 18.0/225.000 x 100 = 8.0 18.0/110.000 x 100 = 16.4 Use of Seasonally Adjusted and Unadjusted Data The Consumer Price Index (CPI) program produces both unadjusted and seasonally adjusted data. Seasonally adjusted data are computed using seasonal factors derived by the X-13ARIMA-SEATS seasonal adjustment method. These factors are updated each February, and the new factors are used to revise the previous 5 years of seasonally adjusted data. The factors are available at www.bls.gov/cpi/tables/seasonal-adjustment/seasonal-factors-2024.xlsx.'}),\n",
       " Document(page_content='Transmission of material in this release is embargoed until 8:30 a.m. (ET) Wednesday, May 15, 2024 USDL-24-0944 Technical information: (202) 691-7000 * cpi_info@bls.gov * www.bls.gov/cpi Media contact: (202) 691-5902 * PressOffice@bls.gov CONSUMER PRICE INDEX - APRIL 2024 The Consumer Price Index for All Urban Consumers (CPI-U) increased 0.3 percent in April on a seasonally adjusted basis, after rising 0.4 percent in March, the U.S. Bureau of Labor Statistics reported today.', metadata={'url': 'https://www.bls.gov/news.release/cpi.nr0.htm', 'thumbnail_url': None, 'title': 'Consumer Price Index Summary - 2024 M04 Results', 'description': 'The following table shows an example of using index values to calculate percent changes: Item A Item B Item C Year I 112.500 225.000 110.000 Year II 121.500 243.000 128.000 Change in index points 9.000 18.000 18.000 Percent change 9.0/112.500 x 100 = 8.0 18.0/225.000 x 100 = 8.0 18.0/110.000 x 100 = 16.4 Use of Seasonally Adjusted and Unadjusted Data The Consumer Price Index (CPI) program produces both unadjusted and seasonally adjusted data. Seasonally adjusted data are computed using seasonal factors derived by the X-13ARIMA-SEATS seasonal adjustment method. These factors are updated each February, and the new factors are used to revise the previous 5 years of seasonally adjusted data. The factors are available at www.bls.gov/cpi/tables/seasonal-adjustment/seasonal-factors-2024.xlsx.'}),\n",
       " Document(page_content='Every year, economists in the CPI calculate new seasonal factors for seasonally adjusted series and apply them to the last 5 years of data. Seasonally adjusted indexes beyond the last 5 years of data are considered to be final and not subject to revision. For January 2024, revised seasonal factors and seasonally adjusted indexes for 2019 to 2023 were calculated and published.', metadata={'url': 'https://www.bls.gov/news.release/cpi.htm', 'thumbnail_url': None, 'title': 'Consumer Price Index News Release - 2024 M04 Results', 'description': 'The following table shows an example of using index values to calculate percent changes: Item A Item B Item C Year I 112.500 225.000 110.000 Year II 121.500 243.000 128.000 Change in index points 9.000 18.000 18.000 Percent change 9.0/112.500 x 100 = 8.0 18.0/225.000 x 100 = 8.0 18.0/110.000 x 100 = 16.4 Use of Seasonally Adjusted and Unadjusted Data The Consumer Price Index (CPI) program produces both unadjusted and seasonally adjusted data. Seasonally adjusted data are computed using seasonal factors derived by the X-13ARIMA-SEATS seasonal adjustment method. These factors are updated each February, and the new factors are used to revise the previous 5 years of seasonally adjusted data. The factors are available at www.bls.gov/cpi/tables/seasonal-adjustment/seasonal-factors-2024.xlsx.'}),\n",
       " Document(page_content='The following table shows an example of using index values to calculate percent changes: Item A Item B Item C Year I 112.500 225.000 110.000 Year II 121.500 243.000 128.000 Change in index points 9.000 18.000 18.000 Percent change 9.0/112.500 x 100 = 8.0 18.0/225.000 x 100 = 8.0 18.0/110.000 x 100 = 16.4 Use of Seasonally Adjusted and Unadjusted Data The Consumer Price Index (CPI) program produces both unadjusted and seasonally adjusted data. Seasonally adjusted data are computed using seasonal factors derived by the X-13ARIMA-SEATS seasonal adjustment method. These factors are updated each February, and the new factors are used to revise the previous 5 years of seasonally adjusted data. The factors are available at www.bls.gov/cpi/tables/seasonal-adjustment/seasonal-factors-2024.xlsx.', metadata={'url': 'https://www.bls.gov/news.release/cpi.htm', 'thumbnail_url': None, 'title': 'Consumer Price Index News Release - 2024 M04 Results', 'description': 'The following table shows an example of using index values to calculate percent changes: Item A Item B Item C Year I 112.500 225.000 110.000 Year II 121.500 243.000 128.000 Change in index points 9.000 18.000 18.000 Percent change 9.0/112.500 x 100 = 8.0 18.0/225.000 x 100 = 8.0 18.0/110.000 x 100 = 16.4 Use of Seasonally Adjusted and Unadjusted Data The Consumer Price Index (CPI) program produces both unadjusted and seasonally adjusted data. Seasonally adjusted data are computed using seasonal factors derived by the X-13ARIMA-SEATS seasonal adjustment method. These factors are updated each February, and the new factors are used to revise the previous 5 years of seasonally adjusted data. The factors are available at www.bls.gov/cpi/tables/seasonal-adjustment/seasonal-factors-2024.xlsx.'}),\n",
       " Document(page_content='The last step is for motor fuel seasonal factors to be applied to the unadjusted data. For the seasonal factors introduced for January 2024, BLS adjusted 46 series using intervention analysis seasonal adjustment, including selected food and beverage items, motor fuels and vehicles. Revision of Seasonally Adjusted Indexes Seasonally adjusted data, including the U.S. city average all items index levels, are subject to revision for up to 5 years after their original release. Every year, economists in the CPI calculate new seasonal factors for seasonally adjusted series and apply them to the last 5 years of data.', metadata={'url': 'https://www.bls.gov/news.release/cpi.htm', 'thumbnail_url': None, 'title': 'Consumer Price Index News Release - 2024 M04 Results', 'description': 'The following table shows an example of using index values to calculate percent changes: Item A Item B Item C Year I 112.500 225.000 110.000 Year II 121.500 243.000 128.000 Change in index points 9.000 18.000 18.000 Percent change 9.0/112.500 x 100 = 8.0 18.0/225.000 x 100 = 8.0 18.0/110.000 x 100 = 16.4 Use of Seasonally Adjusted and Unadjusted Data The Consumer Price Index (CPI) program produces both unadjusted and seasonally adjusted data. Seasonally adjusted data are computed using seasonal factors derived by the X-13ARIMA-SEATS seasonal adjustment method. These factors are updated each February, and the new factors are used to revise the previous 5 years of seasonally adjusted data. The factors are available at www.bls.gov/cpi/tables/seasonal-adjustment/seasonal-factors-2024.xlsx.'}),\n",
       " Document(page_content='Transmission of material in this release is embargoed until 8:30 a.m. (ET) Wednesday, May 15, 2024 USDL-24-0944 Technical information: (202) 691-7000 * cpi_info@bls.gov * www.bls.gov/cpi Media contact: (202) 691-5902 * PressOffice@bls.gov CONSUMER PRICE INDEX - APRIL 2024 The Consumer Price Index for All Urban Consumers (CPI-U) increased 0.3 percent in April on a seasonally adjusted basis, after rising 0.4 percent in March, the U.S. Bureau of Labor Statistics reported today.', metadata={'url': 'https://www.bls.gov/news.release/cpi.htm', 'thumbnail_url': None, 'title': 'Consumer Price Index News Release - 2024 M04 Results', 'description': 'The following table shows an example of using index values to calculate percent changes: Item A Item B Item C Year I 112.500 225.000 110.000 Year II 121.500 243.000 128.000 Change in index points 9.000 18.000 18.000 Percent change 9.0/112.500 x 100 = 8.0 18.0/225.000 x 100 = 8.0 18.0/110.000 x 100 = 16.4 Use of Seasonally Adjusted and Unadjusted Data The Consumer Price Index (CPI) program produces both unadjusted and seasonally adjusted data. Seasonally adjusted data are computed using seasonal factors derived by the X-13ARIMA-SEATS seasonal adjustment method. These factors are updated each February, and the new factors are used to revise the previous 5 years of seasonally adjusted data. The factors are available at www.bls.gov/cpi/tables/seasonal-adjustment/seasonal-factors-2024.xlsx.'}),\n",
       " Document(page_content='This statistic shows the Consumer Price Index (CPI) in British Columbia from 2000 to 2023. In 2023, the Consumer Price Index in British Columbia was 151.2.', metadata={'url': 'https://www.statista.com/statistics/587574/cpi-in-british-columbia/', 'thumbnail_url': None, 'title': 'Consumer Price Index (CPI) British Columbia 2023 | Statista', 'description': 'This statistic shows the Consumer Price Index (CPI) in British Columbia from 2000 to 2023. In 2023, the Consumer Price Index in British Columbia was 151.2.'}),\n",
       " Document(page_content='StatCan. \"Consumer Price Index in British Columbia from 2000 to 2023.\" Chart. January 17, 2024. Statista. Accessed May 06, 2024. https://www.statista.com/statistics/587574/cpi-in-british-columbia/', metadata={'url': 'https://www.statista.com/statistics/587574/cpi-in-british-columbia/', 'thumbnail_url': None, 'title': 'Consumer Price Index (CPI) British Columbia 2023 | Statista', 'description': 'This statistic shows the Consumer Price Index (CPI) in British Columbia from 2000 to 2023. In 2023, the Consumer Price Index in British Columbia was 151.2.'}),\n",
       " Document(page_content='StatCan. (2024). Consumer Price Index in British Columbia from 2000 to 2023. Statista. Statista Inc.. Accessed: May 06, 2024. https://www.statista.com/statistics/587574/cpi-in-british-columbia/', metadata={'url': 'https://www.statista.com/statistics/587574/cpi-in-british-columbia/', 'thumbnail_url': None, 'title': 'Consumer Price Index (CPI) British Columbia 2023 | Statista', 'description': 'This statistic shows the Consumer Price Index (CPI) in British Columbia from 2000 to 2023. In 2023, the Consumer Price Index in British Columbia was 151.2.'}),\n",
       " Document(page_content='StatCan. \"Consumer Price Index in British Columbia from 2000 to 2023.\" Statista, Statista Inc., 17 Jan 2024, https://www.statista.com/statistics/587574/cpi-in-british-columbia/', metadata={'url': 'https://www.statista.com/statistics/587574/cpi-in-british-columbia/', 'thumbnail_url': None, 'title': 'Consumer Price Index (CPI) British Columbia 2023 | Statista', 'description': 'This statistic shows the Consumer Price Index (CPI) in British Columbia from 2000 to 2023. In 2023, the Consumer Price Index in British Columbia was 151.2.'}),\n",
       " Document(page_content='The methods and data sources used will be similar to the last basket update in June 2023. One week later, on June 25, 2024, the May CPI will be released, based on the updated basket weights. For general information on basket updates, consult The Canadian Consumer Price Index reference paper, chapter 8, \"Weights and basket updates.\"', metadata={'url': 'https://www.princeedwardisland.ca/en/information/finance/consumer-price-index-monthly', 'thumbnail_url': None, 'title': 'Consumer Price Index Monthly | Government of Prince Edward Island', 'description': 'The cost for shelter increased at a faster pace in April than in March (+3.4%), while health and personal care costs increased at a slower pace than last month (+5.2%). Food prices increased 3.8 per cent year-over-year, a slow-down from the increase in March (4.5%). Food purchased from restaurants was up 6.7 per cent year-over-year in April, while food purchased from stores increased 2.1 per cent, up from a 1.9 per cent increase in March. Energy2 costs increased 5.8 per cent year-over-year. April 2024 Prince Edward Island CPI Eight Major Components and Energy'}),\n",
       " Document(page_content='Leading contributors to year-over-year price increases for P.E.I. were food purchased from restaurants (+6.7%), followed by mortgage interest cost1, rent (+4.1%), gasoline (+3.9%), and fuel oil and other fuels (+12.6%). These increases were partially offset by year-over-year declines for telephone services (-17.0%), traveler accommodation (-14.0%), household appliances (-7.2%), travel tours1, and home entertainment equipment, parts and services (-7.3%). The monthly change in the All-Items CPI for PEI in April 2024 was 0.7 per cent. Higher prices for gasoline (+6.0%), rent (2.1%), passenger vehicle insurance premiums (+6.0%), women’s clothing (6.6%), and furniture (+4.0%) were partially offset by lower prices for travel tours1, inter-city transportation (-5.4%), fuel oil and other fuels (-4.8%), home entertainment equipment, parts and services (-6.7%), and fresh vegetables (-4.7%).', metadata={'url': 'https://www.princeedwardisland.ca/en/information/finance/consumer-price-index-monthly', 'thumbnail_url': None, 'title': 'Consumer Price Index Monthly | Government of Prince Edward Island', 'description': 'The cost for shelter increased at a faster pace in April than in March (+3.4%), while health and personal care costs increased at a slower pace than last month (+5.2%). Food prices increased 3.8 per cent year-over-year, a slow-down from the increase in March (4.5%). Food purchased from restaurants was up 6.7 per cent year-over-year in April, while food purchased from stores increased 2.1 per cent, up from a 1.9 per cent increase in March. Energy2 costs increased 5.8 per cent year-over-year. April 2024 Prince Edward Island CPI Eight Major Components and Energy'}),\n",
       " Document(page_content='The cost for shelter increased at a faster pace in April than in March (+3.4%), while health and personal care costs increased at a slower pace than last month (+5.2%). Food prices increased 3.8 per cent year-over-year, a slow-down from the increase in March (4.5%). Food purchased from restaurants was up 6.7 per cent year-over-year in April, while food purchased from stores increased 2.1 per cent, up from a 1.9 per cent increase in March. Energy2 costs increased 5.8 per cent year-over-year. April 2024 Prince Edward Island CPI Eight Major Components and Energy', metadata={'url': 'https://www.princeedwardisland.ca/en/information/finance/consumer-price-index-monthly', 'thumbnail_url': None, 'title': 'Consumer Price Index Monthly | Government of Prince Edward Island', 'description': 'The cost for shelter increased at a faster pace in April than in March (+3.4%), while health and personal care costs increased at a slower pace than last month (+5.2%). Food prices increased 3.8 per cent year-over-year, a slow-down from the increase in March (4.5%). Food purchased from restaurants was up 6.7 per cent year-over-year in April, while food purchased from stores increased 2.1 per cent, up from a 1.9 per cent increase in March. Energy2 costs increased 5.8 per cent year-over-year. April 2024 Prince Edward Island CPI Eight Major Components and Energy'}),\n",
       " Document(page_content='April 2024 CPI All-Items and All-Items Excluding Energy, Year-over-Year Change, Canada and Provinces · Nationally, the All-Items CPI rose 2.7 per cent on a year-over-year basis in April, down from a 2.9 per cent increase in March. The headline CPI grew at a slower pace largely due to a deceleration of prices for food (+2.3%), services (+4.2%), and durable goods (+1.0%), while an acceleration in gasoline (+6.1%) prices put upward pressure on the All-Items CPI.', metadata={'url': 'https://www.princeedwardisland.ca/en/information/finance/consumer-price-index-monthly', 'thumbnail_url': None, 'title': 'Consumer Price Index Monthly | Government of Prince Edward Island', 'description': 'The cost for shelter increased at a faster pace in April than in March (+3.4%), while health and personal care costs increased at a slower pace than last month (+5.2%). Food prices increased 3.8 per cent year-over-year, a slow-down from the increase in March (4.5%). Food purchased from restaurants was up 6.7 per cent year-over-year in April, while food purchased from stores increased 2.1 per cent, up from a 1.9 per cent increase in March. Energy2 costs increased 5.8 per cent year-over-year. April 2024 Prince Edward Island CPI Eight Major Components and Energy'}),\n",
       " Document(page_content=\"For this reason, the CPI may not adequately reflect each individual's experience about costs and changes over time. In April 2024, the CPI rose 3.4% over the last 12 months before seasonal adjustment. The index rose 0.3% in April on a seasonally adjusted basis, which, was slightly lower than the 0.4% increase in March 2024.\", metadata={'url': 'https://www.investopedia.com/terms/c/consumerpriceindex.asp', 'thumbnail_url': None, 'title': \"Consumer Price Index (CPI): What It Is and How It's Used\", 'description': 'The index rose 0.3% in April on a seasonally adjusted basis, which, was slightly lower than the 0.4% increase in March 2024. The CPI Index is an inflation indicator closely watched by policymakers and financial markets. A related CPI measure is used to calculate cost-of-living adjustments for ...'}),\n",
       " Document(page_content='The index rose 0.3% in April 2024 on a seasonally adjusted basis—after increasing 0.4% in March. The BLS publishes two indexes each month. The Consumer Price Index for All Urban Consumers (CPI-U) represents 93% of the U.S. population not living in remote rural areas.', metadata={'url': 'https://www.investopedia.com/terms/c/consumerpriceindex.asp', 'thumbnail_url': None, 'title': \"Consumer Price Index (CPI): What It Is and How It's Used\", 'description': 'The index rose 0.3% in April on a seasonally adjusted basis, which, was slightly lower than the 0.4% increase in March 2024. The CPI Index is an inflation indicator closely watched by policymakers and financial markets. A related CPI measure is used to calculate cost-of-living adjustments for ...'}),\n",
       " Document(page_content='The index rose 0.3% in April on a seasonally adjusted basis, which, was slightly lower than the 0.4% increase in March 2024. The CPI Index is an inflation indicator closely watched by policymakers and financial markets. A related CPI measure is used to calculate cost-of-living adjustments for federal benefit payments.', metadata={'url': 'https://www.investopedia.com/terms/c/consumerpriceindex.asp', 'thumbnail_url': None, 'title': \"Consumer Price Index (CPI): What It Is and How It's Used\", 'description': 'The index rose 0.3% in April on a seasonally adjusted basis, which, was slightly lower than the 0.4% increase in March 2024. The CPI Index is an inflation indicator closely watched by policymakers and financial markets. A related CPI measure is used to calculate cost-of-living adjustments for ...'}),\n",
       " Document(page_content='The CPI-U increased 3.4% over the 12 months ending April 2024 before seasonal adjustment. The index rose 0.3% in April 2024 on a seasonally adjusted basis—after increasing 0.4% in March.', metadata={'url': 'https://www.investopedia.com/terms/c/consumerpriceindex.asp', 'thumbnail_url': None, 'title': \"Consumer Price Index (CPI): What It Is and How It's Used\", 'description': 'The index rose 0.3% in April on a seasonally adjusted basis, which, was slightly lower than the 0.4% increase in March 2024. The CPI Index is an inflation indicator closely watched by policymakers and financial markets. A related CPI measure is used to calculate cost-of-living adjustments for ...'})]"
      ]
     },
     "execution_count": 28,
     "metadata": {},
     "output_type": "execute_result"
    }
   ],
   "source": [
    "# Let's test it out\n",
    "response = ydc_retriever.invoke(\"British Columbia’s Consumer Price Index (CPI) in April 2024 was 2.9% higher (unadjusted) than in April 2023.  How does this compare to the Canadian CPI?\")\n",
    "response"
   ]
  },
  {
   "cell_type": "markdown",
   "metadata": {},
   "source": [
    "## Creating a Vector DB retriever based on data from a PDF File"
   ]
  },
  {
   "cell_type": "markdown",
   "metadata": {},
   "source": [
    "We are going to load a PDF file using the PyPDFLoader in Langchain.  We will then use the RecursiveTextSplitter in Langchain to split the documents into chuncks that can be vectorized.  The vectorized chunks of text will be stored in a Facebook AI Similarity Search (FAISS) vector store.  This vector store will be converted into a Langchain retriever."
   ]
  },
  {
   "cell_type": "code",
   "execution_count": 31,
   "metadata": {},
   "outputs": [],
   "source": [
    "from langchain_community.document_loaders import PyPDFLoader\n",
    "\n",
    "# The PDF file we are using can be downloaded from: https://www2.gov.bc.ca/assets/gov/data/statistics/economy/cpi/cpi_highlights.pdf\n",
    "# load the PDF file\n",
    "loader = PyPDFLoader(\"bc_cpi_highlights.pdf\")\n",
    "docs = loader.load()"
   ]
  },
  {
   "cell_type": "code",
   "execution_count": 32,
   "metadata": {},
   "outputs": [],
   "source": [
    "from langchain_community.vectorstores import FAISS\n",
    "from langchain_openai import OpenAIEmbeddings\n",
    "from langchain.text_splitter import RecursiveCharacterTextSplitter\n",
    "\n",
    "# split the document into chunks, and vectorize these chunks in a FAISS database\n",
    "text_splitter = RecursiveCharacterTextSplitter(chunk_size = 1000, chunk_overlap = 100)\n",
    "notes = text_splitter.split_documents(docs)\n",
    "embeddings = OpenAIEmbeddings()\n",
    "db = FAISS.from_documents(documents=notes, embedding=embeddings)"
   ]
  },
  {
   "cell_type": "code",
   "execution_count": 33,
   "metadata": {},
   "outputs": [
    {
     "data": {
      "text/plain": [
       "'(excluding fish, seafood, and other marine products) \\n(+2.1%). At the same time, fruit, fruit preparations, \\nand nut s was the only major food category to \\ndecrease in price (- 0.1%)  \\nBritish Columbians paid more for both  health (+2.7%) \\nand personal (+ 2.0%) care  when compared to \\n12-months ago. Services, instead of items within \\nthese categories, had the largest price increase. Personal services (such a hairdressing) cost 4.8% \\nmore when compared to 12 -months ago, while the \\ncost of health care services (such as eye and dental \\ncare) increased by 4.3%.  Consumer Price \\nIndex   \\n \\n \\nReference date:  April  2024  Issue:  #24-04 Released:  May 21 , 2024 \\n      \\n-5.8-1.91.92.22.32.62.82.96.8\\nClothing & FootwearHouseholdRecreationAlc., Tob., & CannabisHealth & PersonalFoodTransportationAll-itemsShelterInflation by Category\\n% change, same month previous year'"
      ]
     },
     "execution_count": 33,
     "metadata": {},
     "output_type": "execute_result"
    }
   ],
   "source": [
    "# test out the similarity search\n",
    "query = \"How much did food prices increase in April 2024?\"\n",
    "response = db.similarity_search(query, k=3)\n",
    "response[0].page_content"
   ]
  },
  {
   "cell_type": "code",
   "execution_count": 34,
   "metadata": {},
   "outputs": [],
   "source": [
    "# Create the retriever\n",
    "faiss_retriever = db.as_retriever()"
   ]
  },
  {
   "cell_type": "markdown",
   "metadata": {},
   "source": [
    "## Create an Ensemble Retriever using the You.Com Retriever and the FAISS Retriever"
   ]
  },
  {
   "cell_type": "markdown",
   "metadata": {},
   "source": [
    "The Ensemble Retriever in Langchain ensembles results from multiple retrievers.  We will create an Ensemble Retriever with the FAISS Vector store retriever and the You.com retriever that we defined above as constituent retrievers."
   ]
  },
  {
   "cell_type": "code",
   "execution_count": 35,
   "metadata": {},
   "outputs": [],
   "source": [
    "from langchain.retrievers import EnsembleRetriever\n",
    "\n",
    "ensemble_retriever = EnsembleRetriever(\n",
    "    retrievers = [ydc_retriever, faiss_retriever], weights = [0.5, 0.5]\n",
    ")"
   ]
  },
  {
   "cell_type": "markdown",
   "metadata": {},
   "source": [
    "## Instantiate the LLM"
   ]
  },
  {
   "cell_type": "code",
   "execution_count": 36,
   "metadata": {},
   "outputs": [],
   "source": [
    "from langchain_openai import ChatOpenAI\n",
    "llm = ChatOpenAI(model=\"gpt-4o\", temperature=0.5)"
   ]
  },
  {
   "cell_type": "markdown",
   "metadata": {},
   "source": [
    "## Create the Prompt Template"
   ]
  },
  {
   "cell_type": "code",
   "execution_count": 37,
   "metadata": {},
   "outputs": [],
   "source": [
    "system_prompt = \"\"\"\n",
    "You are an assistant that answers questions pertaining to CPI (Consumer Price Index).  Please utilize the following retrieved context from the web and from a proprietary\n",
    "datasource to provide an accurate answer to the question.  Please try and utilize numbers where applicable to substantiate your answer.  If you do not know the answer, simply say you do not \n",
    "know the answer.  Please keep the response concise.\n",
    "\n",
    "{context}\n",
    "\"\"\""
   ]
  },
  {
   "cell_type": "code",
   "execution_count": 38,
   "metadata": {},
   "outputs": [],
   "source": [
    "from langchain_core.prompts import ChatPromptTemplate, MessagesPlaceholder\n",
    "\n",
    "qa_prompt = ChatPromptTemplate.from_messages(\n",
    "    [\n",
    "        (\"system\", system_prompt),\n",
    "        (\"human\", \"{input}\"),\n",
    "    ]\n",
    ")"
   ]
  },
  {
   "cell_type": "markdown",
   "metadata": {},
   "source": [
    "## Create a basic chain without chat history"
   ]
  },
  {
   "cell_type": "markdown",
   "metadata": {},
   "source": [
    "We will test our chain first without chat history."
   ]
  },
  {
   "cell_type": "code",
   "execution_count": 39,
   "metadata": {},
   "outputs": [],
   "source": [
    "from langchain.chains.combine_documents import create_stuff_documents_chain\n",
    "from langchain.chains import create_retrieval_chain\n",
    "\n",
    "qa_chain = create_stuff_documents_chain(llm, qa_prompt)\n",
    "rag_chain = create_retrieval_chain(ensemble_retriever, qa_chain)"
   ]
  },
  {
   "cell_type": "code",
   "execution_count": 40,
   "metadata": {},
   "outputs": [],
   "source": [
    "response = rag_chain.invoke({\"input\": \"How did the CPI in April 2024 in BC compare to the national CPI in Canada?\"})"
   ]
  },
  {
   "cell_type": "code",
   "execution_count": 41,
   "metadata": {},
   "outputs": [
    {
     "data": {
      "text/plain": [
       "\"In April 2024, the Consumer Price Index (CPI) in British Columbia (BC) increased by 2.9% compared to April 2023. Nationally, Canada's CPI was up by 2.7% over the same period. Therefore, the CPI in BC rose slightly more than the national CPI.\""
      ]
     },
     "execution_count": 41,
     "metadata": {},
     "output_type": "execute_result"
    }
   ],
   "source": [
    "response[\"answer\"]"
   ]
  },
  {
   "cell_type": "markdown",
   "metadata": {},
   "source": [
    "## Add chat history to our chatbot"
   ]
  },
  {
   "cell_type": "markdown",
   "metadata": {},
   "source": [
    "Chat history is an integral component of any chat application, as the input query might require additional conversational context to be understood by the LLM.  We are going to add chat history to our chatbot, and contextualize the input prompts with chat history."
   ]
  },
  {
   "cell_type": "code",
   "execution_count": 42,
   "metadata": {},
   "outputs": [],
   "source": [
    "# Create a prompt that utilizes the chat history as context to reformulate the most recent input, as a standalone question that the LLM can comprehend\n",
    "from langchain.chains import create_history_aware_retriever\n",
    "\n",
    "contextualize_q_system_prompt = \"\"\"\n",
    "Given a chat history and the latest question, which might reference context in the chat history, formulate a standalone question, which can be understood without chat history.\n",
    "Do not answer the question, just reformulate the question if necessary and return it as it otherwise.\n",
    "\"\"\"\n",
    "\n",
    "contextualize_q_prompt = ChatPromptTemplate.from_messages(\n",
    "    [\n",
    "        (\"system\", contextualize_q_system_prompt),\n",
    "        MessagesPlaceholder(\"chat_history\"),\n",
    "        (\"human\", \"{input}\")\n",
    "    ]\n",
    ")"
   ]
  },
  {
   "cell_type": "code",
   "execution_count": 43,
   "metadata": {},
   "outputs": [],
   "source": [
    "# Create a chain that takes conversation history and contextualizes the prompt\n",
    "history_aware_retriever = create_history_aware_retriever(llm, ensemble_retriever, contextualize_q_prompt)"
   ]
  },
  {
   "cell_type": "code",
   "execution_count": 44,
   "metadata": {},
   "outputs": [],
   "source": [
    "# rejig qa prompt to include the chat history\n",
    "qa_prompt = ChatPromptTemplate.from_messages(\n",
    "    [\n",
    "        (\"system\", system_prompt),\n",
    "        MessagesPlaceholder(\"chat_history\"),\n",
    "        (\"human\", \"{input}\")\n",
    "    ]\n",
    ")"
   ]
  },
  {
   "cell_type": "code",
   "execution_count": 45,
   "metadata": {},
   "outputs": [],
   "source": [
    "from langchain_core.chat_history import BaseChatMessageHistory\n",
    "from langchain_community.chat_message_histories import ChatMessageHistory\n",
    "\n",
    "# statefully manage session history\n",
    "store = {}\n",
    "\n",
    "def get_session_history(session_id: str) -> BaseChatMessageHistory:\n",
    "    if session_id not in store:\n",
    "        store[session_id] = ChatMessageHistory()\n",
    "        \n",
    "    return store[session_id]"
   ]
  },
  {
   "cell_type": "code",
   "execution_count": 46,
   "metadata": {},
   "outputs": [],
   "source": [
    "# create chains that include message history\n",
    "qa_chain = create_stuff_documents_chain(llm, qa_prompt)\n",
    "rag_chain = create_retrieval_chain(history_aware_retriever, qa_chain)"
   ]
  },
  {
   "cell_type": "code",
   "execution_count": 47,
   "metadata": {},
   "outputs": [],
   "source": [
    "from langchain_core.runnables.history import RunnableWithMessageHistory\n",
    "\n",
    "# create final chain that ties everything together\n",
    "\n",
    "conversation_rag_chain = RunnableWithMessageHistory(\n",
    "    rag_chain,\n",
    "    get_session_history,\n",
    "    input_messages_key = \"input\",\n",
    "    history_messages_key = \"chat_history\",\n",
    "    output_messages_key = \"answer\"\n",
    ")"
   ]
  },
  {
   "cell_type": "markdown",
   "metadata": {},
   "source": [
    "## Let's try it out!"
   ]
  },
  {
   "cell_type": "code",
   "execution_count": 48,
   "metadata": {},
   "outputs": [
    {
     "data": {
      "text/plain": [
       "'Food prices in British Columbia increased by 2.6% in April 2024 compared to April 2023.'"
      ]
     },
     "execution_count": 48,
     "metadata": {},
     "output_type": "execute_result"
    }
   ],
   "source": [
    "conversation_rag_chain.invoke({\"input\": \"How much did food prices increase in April 2024 in BC compared to April 2023?\"}, config = {\"configurable\": {\"session_id\": \"xyz_789\"}})[\"answer\"]"
   ]
  },
  {
   "cell_type": "code",
   "execution_count": 49,
   "metadata": {},
   "outputs": [
    {
     "data": {
      "text/plain": [
       "'Across Canada, food prices increased by 2.3% in April 2024 compared to April 2023. Therefore, the increase in food prices in British Columbia (2.6%) was slightly higher than the national average.'"
      ]
     },
     "execution_count": 49,
     "metadata": {},
     "output_type": "execute_result"
    }
   ],
   "source": [
    "conversation_rag_chain.invoke({\"input\": \"How does that compare to the increase in food prices across the nation?\"}, config = {\"configurable\": {\"session_id\": \"xyz_789\"}})[\"answer\"]"
   ]
  },
  {
   "cell_type": "code",
   "execution_count": 50,
   "metadata": {},
   "outputs": [
    {
     "data": {
      "text/plain": [
       "'The rising food prices in British Columbia in April 2024 were influenced by several factors:\\n\\n1. **Beef and Veal Prices**: These saw significant increases, rising by 0.8% in April 2024 and being 7.0% higher than in April 2023 due to tight supplies and strong demand.\\n\\n2. **Pork Prices**: Wholesale pork prices increased by 2.9% in April 2024 and were 18.3% higher than in April 2023, driven by higher demand after declines in 2022 and 2023.\\n\\n3. **Poultry Prices**: These grew by 4.4% in April 2024, reversing the trend of declining prices in 2023.\\n\\n4. **General Food Inflation**: Overall food prices in Canada are predicted to rise by 2.5% to 4.5% in 2024, with specific categories such as meat, bakery items, and vegetables expected to see the biggest cost increases.\\n\\nThese factors, along with global events and supply chain issues, contributed to the rising food prices in BC in April 2024.'"
      ]
     },
     "execution_count": 50,
     "metadata": {},
     "output_type": "execute_result"
    }
   ],
   "source": [
    "conversation_rag_chain.invoke({\"input\": \"What contributed to the rising food prices in BC in April 2024?\"}, config = {\"configurable\": {\"session_id\": \"xyz_789\"}})[\"answer\"]"
   ]
  },
  {
   "cell_type": "code",
   "execution_count": 51,
   "metadata": {},
   "outputs": [
    {
     "data": {
      "text/plain": [
       "'In April 2024, the Consumer Price Index (CPI) in British Columbia increased by 2.9% compared to April 2023. Nationally, the CPI in Canada was up by 2.7% over the same period. Thus, the CPI increase in British Columbia was slightly higher than the national average.'"
      ]
     },
     "execution_count": 51,
     "metadata": {},
     "output_type": "execute_result"
    }
   ],
   "source": [
    "conversation_rag_chain.invoke({\"input\": \"How did the CPI in April 2024 in BC compare to the national CPI in Canada?\"}, config = {\"configurable\": {\"session_id\": \"xyz_789\"}})[\"answer\"]"
   ]
  }
 ],
 "metadata": {
  "kernelspec": {
   "display_name": "llm-practice",
   "language": "python",
   "name": "python3"
  },
  "language_info": {
   "codemirror_mode": {
    "name": "ipython",
    "version": 3
   },
   "file_extension": ".py",
   "mimetype": "text/x-python",
   "name": "python",
   "nbconvert_exporter": "python",
   "pygments_lexer": "ipython3",
   "version": "3.10.14"
  }
 },
 "nbformat": 4,
 "nbformat_minor": 2
}
