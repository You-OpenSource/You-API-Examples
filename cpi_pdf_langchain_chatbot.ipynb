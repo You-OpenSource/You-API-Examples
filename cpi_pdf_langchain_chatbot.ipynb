{
 "cells": [
  {
   "cell_type": "markdown",
   "metadata": {},
   "source": [
    "# CPI Q/A bot"
   ]
  },
  {
   "cell_type": "markdown",
   "metadata": {},
   "source": [
    "This chatbot retrieves context from a proprietary datasource and the web to answer questions about Consumer Price Index (CPI) changes in the province of British Columbia (BC) in April 2024.  The proprietary datasource is a PDF report highlighting CPI changes in BC in April 2024 over a 12-month period.  The web data needed to answer the question is being retrieved using the You.com API.  The chatbot is implemented as a parallel chain in Langchain."
   ]
  },
  {
   "cell_type": "markdown",
   "metadata": {},
   "source": [
    "## Install all required packages"
   ]
  },
  {
   "cell_type": "code",
   "execution_count": 176,
   "metadata": {},
   "outputs": [
    {
     "name": "stdout",
     "output_type": "stream",
     "text": [
      "Requirement already satisfied: openai==1.30.3 in /Users/khalidrajan/anaconda3/envs/llm-practice/lib/python3.10/site-packages (1.30.3)\n",
      "Requirement already satisfied: anyio<5,>=3.5.0 in /Users/khalidrajan/anaconda3/envs/llm-practice/lib/python3.10/site-packages (from openai==1.30.3) (4.3.0)\n",
      "Requirement already satisfied: distro<2,>=1.7.0 in /Users/khalidrajan/anaconda3/envs/llm-practice/lib/python3.10/site-packages (from openai==1.30.3) (1.9.0)\n",
      "Requirement already satisfied: httpx<1,>=0.23.0 in /Users/khalidrajan/anaconda3/envs/llm-practice/lib/python3.10/site-packages (from openai==1.30.3) (0.27.0)\n",
      "Requirement already satisfied: pydantic<3,>=1.9.0 in /Users/khalidrajan/anaconda3/envs/llm-practice/lib/python3.10/site-packages (from openai==1.30.3) (2.7.1)\n",
      "Requirement already satisfied: sniffio in /Users/khalidrajan/anaconda3/envs/llm-practice/lib/python3.10/site-packages (from openai==1.30.3) (1.3.1)\n",
      "Requirement already satisfied: tqdm>4 in /Users/khalidrajan/anaconda3/envs/llm-practice/lib/python3.10/site-packages (from openai==1.30.3) (4.66.4)\n",
      "Requirement already satisfied: typing-extensions<5,>=4.7 in /Users/khalidrajan/anaconda3/envs/llm-practice/lib/python3.10/site-packages (from openai==1.30.3) (4.11.0)\n",
      "Requirement already satisfied: idna>=2.8 in /Users/khalidrajan/anaconda3/envs/llm-practice/lib/python3.10/site-packages (from anyio<5,>=3.5.0->openai==1.30.3) (3.7)\n",
      "Requirement already satisfied: exceptiongroup>=1.0.2 in /Users/khalidrajan/anaconda3/envs/llm-practice/lib/python3.10/site-packages (from anyio<5,>=3.5.0->openai==1.30.3) (1.2.0)\n",
      "Requirement already satisfied: certifi in /Users/khalidrajan/anaconda3/envs/llm-practice/lib/python3.10/site-packages (from httpx<1,>=0.23.0->openai==1.30.3) (2024.2.2)\n",
      "Requirement already satisfied: httpcore==1.* in /Users/khalidrajan/anaconda3/envs/llm-practice/lib/python3.10/site-packages (from httpx<1,>=0.23.0->openai==1.30.3) (1.0.5)\n",
      "Requirement already satisfied: h11<0.15,>=0.13 in /Users/khalidrajan/anaconda3/envs/llm-practice/lib/python3.10/site-packages (from httpcore==1.*->httpx<1,>=0.23.0->openai==1.30.3) (0.14.0)\n",
      "Requirement already satisfied: annotated-types>=0.4.0 in /Users/khalidrajan/anaconda3/envs/llm-practice/lib/python3.10/site-packages (from pydantic<3,>=1.9.0->openai==1.30.3) (0.7.0)\n",
      "Requirement already satisfied: pydantic-core==2.18.2 in /Users/khalidrajan/anaconda3/envs/llm-practice/lib/python3.10/site-packages (from pydantic<3,>=1.9.0->openai==1.30.3) (2.18.2)\n",
      "Requirement already satisfied: langchain==0.2.1 in /Users/khalidrajan/anaconda3/envs/llm-practice/lib/python3.10/site-packages (0.2.1)\n",
      "Requirement already satisfied: PyYAML>=5.3 in /Users/khalidrajan/anaconda3/envs/llm-practice/lib/python3.10/site-packages (from langchain==0.2.1) (6.0.1)\n",
      "Requirement already satisfied: SQLAlchemy<3,>=1.4 in /Users/khalidrajan/anaconda3/envs/llm-practice/lib/python3.10/site-packages (from langchain==0.2.1) (2.0.30)\n",
      "Requirement already satisfied: aiohttp<4.0.0,>=3.8.3 in /Users/khalidrajan/anaconda3/envs/llm-practice/lib/python3.10/site-packages (from langchain==0.2.1) (3.9.5)\n",
      "Requirement already satisfied: async-timeout<5.0.0,>=4.0.0 in /Users/khalidrajan/anaconda3/envs/llm-practice/lib/python3.10/site-packages (from langchain==0.2.1) (4.0.3)\n",
      "Requirement already satisfied: langchain-core<0.3.0,>=0.2.0 in /Users/khalidrajan/anaconda3/envs/llm-practice/lib/python3.10/site-packages (from langchain==0.2.1) (0.2.1)\n",
      "Requirement already satisfied: langchain-text-splitters<0.3.0,>=0.2.0 in /Users/khalidrajan/anaconda3/envs/llm-practice/lib/python3.10/site-packages (from langchain==0.2.1) (0.2.0)\n",
      "Requirement already satisfied: langsmith<0.2.0,>=0.1.17 in /Users/khalidrajan/anaconda3/envs/llm-practice/lib/python3.10/site-packages (from langchain==0.2.1) (0.1.63)\n",
      "Requirement already satisfied: numpy<2,>=1 in /Users/khalidrajan/anaconda3/envs/llm-practice/lib/python3.10/site-packages (from langchain==0.2.1) (1.26.4)\n",
      "Requirement already satisfied: pydantic<3,>=1 in /Users/khalidrajan/anaconda3/envs/llm-practice/lib/python3.10/site-packages (from langchain==0.2.1) (2.7.1)\n",
      "Requirement already satisfied: requests<3,>=2 in /Users/khalidrajan/anaconda3/envs/llm-practice/lib/python3.10/site-packages (from langchain==0.2.1) (2.32.2)\n",
      "Requirement already satisfied: tenacity<9.0.0,>=8.1.0 in /Users/khalidrajan/anaconda3/envs/llm-practice/lib/python3.10/site-packages (from langchain==0.2.1) (8.3.0)\n",
      "Requirement already satisfied: aiosignal>=1.1.2 in /Users/khalidrajan/anaconda3/envs/llm-practice/lib/python3.10/site-packages (from aiohttp<4.0.0,>=3.8.3->langchain==0.2.1) (1.3.1)\n",
      "Requirement already satisfied: attrs>=17.3.0 in /Users/khalidrajan/anaconda3/envs/llm-practice/lib/python3.10/site-packages (from aiohttp<4.0.0,>=3.8.3->langchain==0.2.1) (23.2.0)\n",
      "Requirement already satisfied: frozenlist>=1.1.1 in /Users/khalidrajan/anaconda3/envs/llm-practice/lib/python3.10/site-packages (from aiohttp<4.0.0,>=3.8.3->langchain==0.2.1) (1.4.1)\n",
      "Requirement already satisfied: multidict<7.0,>=4.5 in /Users/khalidrajan/anaconda3/envs/llm-practice/lib/python3.10/site-packages (from aiohttp<4.0.0,>=3.8.3->langchain==0.2.1) (6.0.5)\n",
      "Requirement already satisfied: yarl<2.0,>=1.0 in /Users/khalidrajan/anaconda3/envs/llm-practice/lib/python3.10/site-packages (from aiohttp<4.0.0,>=3.8.3->langchain==0.2.1) (1.9.4)\n",
      "Requirement already satisfied: jsonpatch<2.0,>=1.33 in /Users/khalidrajan/anaconda3/envs/llm-practice/lib/python3.10/site-packages (from langchain-core<0.3.0,>=0.2.0->langchain==0.2.1) (1.33)\n",
      "Requirement already satisfied: packaging<24.0,>=23.2 in /Users/khalidrajan/anaconda3/envs/llm-practice/lib/python3.10/site-packages (from langchain-core<0.3.0,>=0.2.0->langchain==0.2.1) (23.2)\n",
      "Requirement already satisfied: orjson<4.0.0,>=3.9.14 in /Users/khalidrajan/anaconda3/envs/llm-practice/lib/python3.10/site-packages (from langsmith<0.2.0,>=0.1.17->langchain==0.2.1) (3.10.3)\n",
      "Requirement already satisfied: annotated-types>=0.4.0 in /Users/khalidrajan/anaconda3/envs/llm-practice/lib/python3.10/site-packages (from pydantic<3,>=1->langchain==0.2.1) (0.7.0)\n",
      "Requirement already satisfied: pydantic-core==2.18.2 in /Users/khalidrajan/anaconda3/envs/llm-practice/lib/python3.10/site-packages (from pydantic<3,>=1->langchain==0.2.1) (2.18.2)\n",
      "Requirement already satisfied: typing-extensions>=4.6.1 in /Users/khalidrajan/anaconda3/envs/llm-practice/lib/python3.10/site-packages (from pydantic<3,>=1->langchain==0.2.1) (4.11.0)\n",
      "Requirement already satisfied: charset-normalizer<4,>=2 in /Users/khalidrajan/anaconda3/envs/llm-practice/lib/python3.10/site-packages (from requests<3,>=2->langchain==0.2.1) (3.3.2)\n",
      "Requirement already satisfied: idna<4,>=2.5 in /Users/khalidrajan/anaconda3/envs/llm-practice/lib/python3.10/site-packages (from requests<3,>=2->langchain==0.2.1) (3.7)\n",
      "Requirement already satisfied: urllib3<3,>=1.21.1 in /Users/khalidrajan/anaconda3/envs/llm-practice/lib/python3.10/site-packages (from requests<3,>=2->langchain==0.2.1) (2.2.1)\n",
      "Requirement already satisfied: certifi>=2017.4.17 in /Users/khalidrajan/anaconda3/envs/llm-practice/lib/python3.10/site-packages (from requests<3,>=2->langchain==0.2.1) (2024.2.2)\n",
      "Requirement already satisfied: jsonpointer>=1.9 in /Users/khalidrajan/anaconda3/envs/llm-practice/lib/python3.10/site-packages (from jsonpatch<2.0,>=1.33->langchain-core<0.3.0,>=0.2.0->langchain==0.2.1) (2.4)\n",
      "Requirement already satisfied: langchain_community==0.2.1 in /Users/khalidrajan/anaconda3/envs/llm-practice/lib/python3.10/site-packages (0.2.1)\n",
      "Requirement already satisfied: PyYAML>=5.3 in /Users/khalidrajan/anaconda3/envs/llm-practice/lib/python3.10/site-packages (from langchain_community==0.2.1) (6.0.1)\n",
      "Requirement already satisfied: SQLAlchemy<3,>=1.4 in /Users/khalidrajan/anaconda3/envs/llm-practice/lib/python3.10/site-packages (from langchain_community==0.2.1) (2.0.30)\n",
      "Requirement already satisfied: aiohttp<4.0.0,>=3.8.3 in /Users/khalidrajan/anaconda3/envs/llm-practice/lib/python3.10/site-packages (from langchain_community==0.2.1) (3.9.5)\n",
      "Requirement already satisfied: dataclasses-json<0.7,>=0.5.7 in /Users/khalidrajan/anaconda3/envs/llm-practice/lib/python3.10/site-packages (from langchain_community==0.2.1) (0.6.6)\n",
      "Requirement already satisfied: langchain<0.3.0,>=0.2.0 in /Users/khalidrajan/anaconda3/envs/llm-practice/lib/python3.10/site-packages (from langchain_community==0.2.1) (0.2.1)\n",
      "Requirement already satisfied: langchain-core<0.3.0,>=0.2.0 in /Users/khalidrajan/anaconda3/envs/llm-practice/lib/python3.10/site-packages (from langchain_community==0.2.1) (0.2.1)\n",
      "Requirement already satisfied: langsmith<0.2.0,>=0.1.0 in /Users/khalidrajan/anaconda3/envs/llm-practice/lib/python3.10/site-packages (from langchain_community==0.2.1) (0.1.63)\n",
      "Requirement already satisfied: numpy<2,>=1 in /Users/khalidrajan/anaconda3/envs/llm-practice/lib/python3.10/site-packages (from langchain_community==0.2.1) (1.26.4)\n",
      "Requirement already satisfied: requests<3,>=2 in /Users/khalidrajan/anaconda3/envs/llm-practice/lib/python3.10/site-packages (from langchain_community==0.2.1) (2.32.2)\n",
      "Requirement already satisfied: tenacity<9.0.0,>=8.1.0 in /Users/khalidrajan/anaconda3/envs/llm-practice/lib/python3.10/site-packages (from langchain_community==0.2.1) (8.3.0)\n",
      "Requirement already satisfied: aiosignal>=1.1.2 in /Users/khalidrajan/anaconda3/envs/llm-practice/lib/python3.10/site-packages (from aiohttp<4.0.0,>=3.8.3->langchain_community==0.2.1) (1.3.1)\n",
      "Requirement already satisfied: attrs>=17.3.0 in /Users/khalidrajan/anaconda3/envs/llm-practice/lib/python3.10/site-packages (from aiohttp<4.0.0,>=3.8.3->langchain_community==0.2.1) (23.2.0)\n",
      "Requirement already satisfied: frozenlist>=1.1.1 in /Users/khalidrajan/anaconda3/envs/llm-practice/lib/python3.10/site-packages (from aiohttp<4.0.0,>=3.8.3->langchain_community==0.2.1) (1.4.1)\n",
      "Requirement already satisfied: multidict<7.0,>=4.5 in /Users/khalidrajan/anaconda3/envs/llm-practice/lib/python3.10/site-packages (from aiohttp<4.0.0,>=3.8.3->langchain_community==0.2.1) (6.0.5)\n",
      "Requirement already satisfied: yarl<2.0,>=1.0 in /Users/khalidrajan/anaconda3/envs/llm-practice/lib/python3.10/site-packages (from aiohttp<4.0.0,>=3.8.3->langchain_community==0.2.1) (1.9.4)\n",
      "Requirement already satisfied: async-timeout<5.0,>=4.0 in /Users/khalidrajan/anaconda3/envs/llm-practice/lib/python3.10/site-packages (from aiohttp<4.0.0,>=3.8.3->langchain_community==0.2.1) (4.0.3)\n",
      "Requirement already satisfied: marshmallow<4.0.0,>=3.18.0 in /Users/khalidrajan/anaconda3/envs/llm-practice/lib/python3.10/site-packages (from dataclasses-json<0.7,>=0.5.7->langchain_community==0.2.1) (3.21.2)\n",
      "Requirement already satisfied: typing-inspect<1,>=0.4.0 in /Users/khalidrajan/anaconda3/envs/llm-practice/lib/python3.10/site-packages (from dataclasses-json<0.7,>=0.5.7->langchain_community==0.2.1) (0.9.0)\n",
      "Requirement already satisfied: langchain-text-splitters<0.3.0,>=0.2.0 in /Users/khalidrajan/anaconda3/envs/llm-practice/lib/python3.10/site-packages (from langchain<0.3.0,>=0.2.0->langchain_community==0.2.1) (0.2.0)\n",
      "Requirement already satisfied: pydantic<3,>=1 in /Users/khalidrajan/anaconda3/envs/llm-practice/lib/python3.10/site-packages (from langchain<0.3.0,>=0.2.0->langchain_community==0.2.1) (2.7.1)\n",
      "Requirement already satisfied: jsonpatch<2.0,>=1.33 in /Users/khalidrajan/anaconda3/envs/llm-practice/lib/python3.10/site-packages (from langchain-core<0.3.0,>=0.2.0->langchain_community==0.2.1) (1.33)\n",
      "Requirement already satisfied: packaging<24.0,>=23.2 in /Users/khalidrajan/anaconda3/envs/llm-practice/lib/python3.10/site-packages (from langchain-core<0.3.0,>=0.2.0->langchain_community==0.2.1) (23.2)\n",
      "Requirement already satisfied: orjson<4.0.0,>=3.9.14 in /Users/khalidrajan/anaconda3/envs/llm-practice/lib/python3.10/site-packages (from langsmith<0.2.0,>=0.1.0->langchain_community==0.2.1) (3.10.3)\n",
      "Requirement already satisfied: charset-normalizer<4,>=2 in /Users/khalidrajan/anaconda3/envs/llm-practice/lib/python3.10/site-packages (from requests<3,>=2->langchain_community==0.2.1) (3.3.2)\n",
      "Requirement already satisfied: idna<4,>=2.5 in /Users/khalidrajan/anaconda3/envs/llm-practice/lib/python3.10/site-packages (from requests<3,>=2->langchain_community==0.2.1) (3.7)\n",
      "Requirement already satisfied: urllib3<3,>=1.21.1 in /Users/khalidrajan/anaconda3/envs/llm-practice/lib/python3.10/site-packages (from requests<3,>=2->langchain_community==0.2.1) (2.2.1)\n",
      "Requirement already satisfied: certifi>=2017.4.17 in /Users/khalidrajan/anaconda3/envs/llm-practice/lib/python3.10/site-packages (from requests<3,>=2->langchain_community==0.2.1) (2024.2.2)\n",
      "Requirement already satisfied: typing-extensions>=4.6.0 in /Users/khalidrajan/anaconda3/envs/llm-practice/lib/python3.10/site-packages (from SQLAlchemy<3,>=1.4->langchain_community==0.2.1) (4.11.0)\n",
      "Requirement already satisfied: jsonpointer>=1.9 in /Users/khalidrajan/anaconda3/envs/llm-practice/lib/python3.10/site-packages (from jsonpatch<2.0,>=1.33->langchain-core<0.3.0,>=0.2.0->langchain_community==0.2.1) (2.4)\n",
      "Requirement already satisfied: annotated-types>=0.4.0 in /Users/khalidrajan/anaconda3/envs/llm-practice/lib/python3.10/site-packages (from pydantic<3,>=1->langchain<0.3.0,>=0.2.0->langchain_community==0.2.1) (0.7.0)\n",
      "Requirement already satisfied: pydantic-core==2.18.2 in /Users/khalidrajan/anaconda3/envs/llm-practice/lib/python3.10/site-packages (from pydantic<3,>=1->langchain<0.3.0,>=0.2.0->langchain_community==0.2.1) (2.18.2)\n",
      "Requirement already satisfied: mypy-extensions>=0.3.0 in /Users/khalidrajan/anaconda3/envs/llm-practice/lib/python3.10/site-packages (from typing-inspect<1,>=0.4.0->dataclasses-json<0.7,>=0.5.7->langchain_community==0.2.1) (1.0.0)\n",
      "Requirement already satisfied: langchain_openai==0.1.7 in /Users/khalidrajan/anaconda3/envs/llm-practice/lib/python3.10/site-packages (0.1.7)\n",
      "Requirement already satisfied: langchain-core<0.3,>=0.1.46 in /Users/khalidrajan/anaconda3/envs/llm-practice/lib/python3.10/site-packages (from langchain_openai==0.1.7) (0.2.1)\n",
      "Requirement already satisfied: openai<2.0.0,>=1.24.0 in /Users/khalidrajan/anaconda3/envs/llm-practice/lib/python3.10/site-packages (from langchain_openai==0.1.7) (1.30.3)\n",
      "Requirement already satisfied: tiktoken<1,>=0.7 in /Users/khalidrajan/anaconda3/envs/llm-practice/lib/python3.10/site-packages (from langchain_openai==0.1.7) (0.7.0)\n",
      "Requirement already satisfied: PyYAML>=5.3 in /Users/khalidrajan/anaconda3/envs/llm-practice/lib/python3.10/site-packages (from langchain-core<0.3,>=0.1.46->langchain_openai==0.1.7) (6.0.1)\n",
      "Requirement already satisfied: jsonpatch<2.0,>=1.33 in /Users/khalidrajan/anaconda3/envs/llm-practice/lib/python3.10/site-packages (from langchain-core<0.3,>=0.1.46->langchain_openai==0.1.7) (1.33)\n",
      "Requirement already satisfied: langsmith<0.2.0,>=0.1.0 in /Users/khalidrajan/anaconda3/envs/llm-practice/lib/python3.10/site-packages (from langchain-core<0.3,>=0.1.46->langchain_openai==0.1.7) (0.1.63)\n",
      "Requirement already satisfied: packaging<24.0,>=23.2 in /Users/khalidrajan/anaconda3/envs/llm-practice/lib/python3.10/site-packages (from langchain-core<0.3,>=0.1.46->langchain_openai==0.1.7) (23.2)\n",
      "Requirement already satisfied: pydantic<3,>=1 in /Users/khalidrajan/anaconda3/envs/llm-practice/lib/python3.10/site-packages (from langchain-core<0.3,>=0.1.46->langchain_openai==0.1.7) (2.7.1)\n",
      "Requirement already satisfied: tenacity<9.0.0,>=8.1.0 in /Users/khalidrajan/anaconda3/envs/llm-practice/lib/python3.10/site-packages (from langchain-core<0.3,>=0.1.46->langchain_openai==0.1.7) (8.3.0)\n",
      "Requirement already satisfied: anyio<5,>=3.5.0 in /Users/khalidrajan/anaconda3/envs/llm-practice/lib/python3.10/site-packages (from openai<2.0.0,>=1.24.0->langchain_openai==0.1.7) (4.3.0)\n",
      "Requirement already satisfied: distro<2,>=1.7.0 in /Users/khalidrajan/anaconda3/envs/llm-practice/lib/python3.10/site-packages (from openai<2.0.0,>=1.24.0->langchain_openai==0.1.7) (1.9.0)\n",
      "Requirement already satisfied: httpx<1,>=0.23.0 in /Users/khalidrajan/anaconda3/envs/llm-practice/lib/python3.10/site-packages (from openai<2.0.0,>=1.24.0->langchain_openai==0.1.7) (0.27.0)\n",
      "Requirement already satisfied: sniffio in /Users/khalidrajan/anaconda3/envs/llm-practice/lib/python3.10/site-packages (from openai<2.0.0,>=1.24.0->langchain_openai==0.1.7) (1.3.1)\n",
      "Requirement already satisfied: tqdm>4 in /Users/khalidrajan/anaconda3/envs/llm-practice/lib/python3.10/site-packages (from openai<2.0.0,>=1.24.0->langchain_openai==0.1.7) (4.66.4)\n",
      "Requirement already satisfied: typing-extensions<5,>=4.7 in /Users/khalidrajan/anaconda3/envs/llm-practice/lib/python3.10/site-packages (from openai<2.0.0,>=1.24.0->langchain_openai==0.1.7) (4.11.0)\n",
      "Requirement already satisfied: regex>=2022.1.18 in /Users/khalidrajan/anaconda3/envs/llm-practice/lib/python3.10/site-packages (from tiktoken<1,>=0.7->langchain_openai==0.1.7) (2024.5.15)\n",
      "Requirement already satisfied: requests>=2.26.0 in /Users/khalidrajan/anaconda3/envs/llm-practice/lib/python3.10/site-packages (from tiktoken<1,>=0.7->langchain_openai==0.1.7) (2.32.2)\n",
      "Requirement already satisfied: idna>=2.8 in /Users/khalidrajan/anaconda3/envs/llm-practice/lib/python3.10/site-packages (from anyio<5,>=3.5.0->openai<2.0.0,>=1.24.0->langchain_openai==0.1.7) (3.7)\n",
      "Requirement already satisfied: exceptiongroup>=1.0.2 in /Users/khalidrajan/anaconda3/envs/llm-practice/lib/python3.10/site-packages (from anyio<5,>=3.5.0->openai<2.0.0,>=1.24.0->langchain_openai==0.1.7) (1.2.0)\n",
      "Requirement already satisfied: certifi in /Users/khalidrajan/anaconda3/envs/llm-practice/lib/python3.10/site-packages (from httpx<1,>=0.23.0->openai<2.0.0,>=1.24.0->langchain_openai==0.1.7) (2024.2.2)\n",
      "Requirement already satisfied: httpcore==1.* in /Users/khalidrajan/anaconda3/envs/llm-practice/lib/python3.10/site-packages (from httpx<1,>=0.23.0->openai<2.0.0,>=1.24.0->langchain_openai==0.1.7) (1.0.5)\n",
      "Requirement already satisfied: h11<0.15,>=0.13 in /Users/khalidrajan/anaconda3/envs/llm-practice/lib/python3.10/site-packages (from httpcore==1.*->httpx<1,>=0.23.0->openai<2.0.0,>=1.24.0->langchain_openai==0.1.7) (0.14.0)\n",
      "Requirement already satisfied: jsonpointer>=1.9 in /Users/khalidrajan/anaconda3/envs/llm-practice/lib/python3.10/site-packages (from jsonpatch<2.0,>=1.33->langchain-core<0.3,>=0.1.46->langchain_openai==0.1.7) (2.4)\n",
      "Requirement already satisfied: orjson<4.0.0,>=3.9.14 in /Users/khalidrajan/anaconda3/envs/llm-practice/lib/python3.10/site-packages (from langsmith<0.2.0,>=0.1.0->langchain-core<0.3,>=0.1.46->langchain_openai==0.1.7) (3.10.3)\n",
      "Requirement already satisfied: annotated-types>=0.4.0 in /Users/khalidrajan/anaconda3/envs/llm-practice/lib/python3.10/site-packages (from pydantic<3,>=1->langchain-core<0.3,>=0.1.46->langchain_openai==0.1.7) (0.7.0)\n",
      "Requirement already satisfied: pydantic-core==2.18.2 in /Users/khalidrajan/anaconda3/envs/llm-practice/lib/python3.10/site-packages (from pydantic<3,>=1->langchain-core<0.3,>=0.1.46->langchain_openai==0.1.7) (2.18.2)\n",
      "Requirement already satisfied: charset-normalizer<4,>=2 in /Users/khalidrajan/anaconda3/envs/llm-practice/lib/python3.10/site-packages (from requests>=2.26.0->tiktoken<1,>=0.7->langchain_openai==0.1.7) (3.3.2)\n",
      "Requirement already satisfied: urllib3<3,>=1.21.1 in /Users/khalidrajan/anaconda3/envs/llm-practice/lib/python3.10/site-packages (from requests>=2.26.0->tiktoken<1,>=0.7->langchain_openai==0.1.7) (2.2.1)\n",
      "Requirement already satisfied: langchain_text_splitters==0.2.0 in /Users/khalidrajan/anaconda3/envs/llm-practice/lib/python3.10/site-packages (0.2.0)\n",
      "Requirement already satisfied: langchain-core<0.3.0,>=0.2.0 in /Users/khalidrajan/anaconda3/envs/llm-practice/lib/python3.10/site-packages (from langchain_text_splitters==0.2.0) (0.2.1)\n",
      "Requirement already satisfied: PyYAML>=5.3 in /Users/khalidrajan/anaconda3/envs/llm-practice/lib/python3.10/site-packages (from langchain-core<0.3.0,>=0.2.0->langchain_text_splitters==0.2.0) (6.0.1)\n",
      "Requirement already satisfied: jsonpatch<2.0,>=1.33 in /Users/khalidrajan/anaconda3/envs/llm-practice/lib/python3.10/site-packages (from langchain-core<0.3.0,>=0.2.0->langchain_text_splitters==0.2.0) (1.33)\n",
      "Requirement already satisfied: langsmith<0.2.0,>=0.1.0 in /Users/khalidrajan/anaconda3/envs/llm-practice/lib/python3.10/site-packages (from langchain-core<0.3.0,>=0.2.0->langchain_text_splitters==0.2.0) (0.1.63)\n",
      "Requirement already satisfied: packaging<24.0,>=23.2 in /Users/khalidrajan/anaconda3/envs/llm-practice/lib/python3.10/site-packages (from langchain-core<0.3.0,>=0.2.0->langchain_text_splitters==0.2.0) (23.2)\n",
      "Requirement already satisfied: pydantic<3,>=1 in /Users/khalidrajan/anaconda3/envs/llm-practice/lib/python3.10/site-packages (from langchain-core<0.3.0,>=0.2.0->langchain_text_splitters==0.2.0) (2.7.1)\n",
      "Requirement already satisfied: tenacity<9.0.0,>=8.1.0 in /Users/khalidrajan/anaconda3/envs/llm-practice/lib/python3.10/site-packages (from langchain-core<0.3.0,>=0.2.0->langchain_text_splitters==0.2.0) (8.3.0)\n",
      "Requirement already satisfied: jsonpointer>=1.9 in /Users/khalidrajan/anaconda3/envs/llm-practice/lib/python3.10/site-packages (from jsonpatch<2.0,>=1.33->langchain-core<0.3.0,>=0.2.0->langchain_text_splitters==0.2.0) (2.4)\n",
      "Requirement already satisfied: orjson<4.0.0,>=3.9.14 in /Users/khalidrajan/anaconda3/envs/llm-practice/lib/python3.10/site-packages (from langsmith<0.2.0,>=0.1.0->langchain-core<0.3.0,>=0.2.0->langchain_text_splitters==0.2.0) (3.10.3)\n",
      "Requirement already satisfied: requests<3,>=2 in /Users/khalidrajan/anaconda3/envs/llm-practice/lib/python3.10/site-packages (from langsmith<0.2.0,>=0.1.0->langchain-core<0.3.0,>=0.2.0->langchain_text_splitters==0.2.0) (2.32.2)\n",
      "Requirement already satisfied: annotated-types>=0.4.0 in /Users/khalidrajan/anaconda3/envs/llm-practice/lib/python3.10/site-packages (from pydantic<3,>=1->langchain-core<0.3.0,>=0.2.0->langchain_text_splitters==0.2.0) (0.7.0)\n",
      "Requirement already satisfied: pydantic-core==2.18.2 in /Users/khalidrajan/anaconda3/envs/llm-practice/lib/python3.10/site-packages (from pydantic<3,>=1->langchain-core<0.3.0,>=0.2.0->langchain_text_splitters==0.2.0) (2.18.2)\n",
      "Requirement already satisfied: typing-extensions>=4.6.1 in /Users/khalidrajan/anaconda3/envs/llm-practice/lib/python3.10/site-packages (from pydantic<3,>=1->langchain-core<0.3.0,>=0.2.0->langchain_text_splitters==0.2.0) (4.11.0)\n",
      "Requirement already satisfied: charset-normalizer<4,>=2 in /Users/khalidrajan/anaconda3/envs/llm-practice/lib/python3.10/site-packages (from requests<3,>=2->langsmith<0.2.0,>=0.1.0->langchain-core<0.3.0,>=0.2.0->langchain_text_splitters==0.2.0) (3.3.2)\n",
      "Requirement already satisfied: idna<4,>=2.5 in /Users/khalidrajan/anaconda3/envs/llm-practice/lib/python3.10/site-packages (from requests<3,>=2->langsmith<0.2.0,>=0.1.0->langchain-core<0.3.0,>=0.2.0->langchain_text_splitters==0.2.0) (3.7)\n",
      "Requirement already satisfied: urllib3<3,>=1.21.1 in /Users/khalidrajan/anaconda3/envs/llm-practice/lib/python3.10/site-packages (from requests<3,>=2->langsmith<0.2.0,>=0.1.0->langchain-core<0.3.0,>=0.2.0->langchain_text_splitters==0.2.0) (2.2.1)\n",
      "Requirement already satisfied: certifi>=2017.4.17 in /Users/khalidrajan/anaconda3/envs/llm-practice/lib/python3.10/site-packages (from requests<3,>=2->langsmith<0.2.0,>=0.1.0->langchain-core<0.3.0,>=0.2.0->langchain_text_splitters==0.2.0) (2024.2.2)\n",
      "Requirement already satisfied: langchain_core==0.2.1 in /Users/khalidrajan/anaconda3/envs/llm-practice/lib/python3.10/site-packages (0.2.1)\n",
      "Requirement already satisfied: PyYAML>=5.3 in /Users/khalidrajan/anaconda3/envs/llm-practice/lib/python3.10/site-packages (from langchain_core==0.2.1) (6.0.1)\n",
      "Requirement already satisfied: jsonpatch<2.0,>=1.33 in /Users/khalidrajan/anaconda3/envs/llm-practice/lib/python3.10/site-packages (from langchain_core==0.2.1) (1.33)\n",
      "Requirement already satisfied: langsmith<0.2.0,>=0.1.0 in /Users/khalidrajan/anaconda3/envs/llm-practice/lib/python3.10/site-packages (from langchain_core==0.2.1) (0.1.63)\n",
      "Requirement already satisfied: packaging<24.0,>=23.2 in /Users/khalidrajan/anaconda3/envs/llm-practice/lib/python3.10/site-packages (from langchain_core==0.2.1) (23.2)\n",
      "Requirement already satisfied: pydantic<3,>=1 in /Users/khalidrajan/anaconda3/envs/llm-practice/lib/python3.10/site-packages (from langchain_core==0.2.1) (2.7.1)\n",
      "Requirement already satisfied: tenacity<9.0.0,>=8.1.0 in /Users/khalidrajan/anaconda3/envs/llm-practice/lib/python3.10/site-packages (from langchain_core==0.2.1) (8.3.0)\n",
      "Requirement already satisfied: jsonpointer>=1.9 in /Users/khalidrajan/anaconda3/envs/llm-practice/lib/python3.10/site-packages (from jsonpatch<2.0,>=1.33->langchain_core==0.2.1) (2.4)\n",
      "Requirement already satisfied: orjson<4.0.0,>=3.9.14 in /Users/khalidrajan/anaconda3/envs/llm-practice/lib/python3.10/site-packages (from langsmith<0.2.0,>=0.1.0->langchain_core==0.2.1) (3.10.3)\n",
      "Requirement already satisfied: requests<3,>=2 in /Users/khalidrajan/anaconda3/envs/llm-practice/lib/python3.10/site-packages (from langsmith<0.2.0,>=0.1.0->langchain_core==0.2.1) (2.32.2)\n",
      "Requirement already satisfied: annotated-types>=0.4.0 in /Users/khalidrajan/anaconda3/envs/llm-practice/lib/python3.10/site-packages (from pydantic<3,>=1->langchain_core==0.2.1) (0.7.0)\n",
      "Requirement already satisfied: pydantic-core==2.18.2 in /Users/khalidrajan/anaconda3/envs/llm-practice/lib/python3.10/site-packages (from pydantic<3,>=1->langchain_core==0.2.1) (2.18.2)\n",
      "Requirement already satisfied: typing-extensions>=4.6.1 in /Users/khalidrajan/anaconda3/envs/llm-practice/lib/python3.10/site-packages (from pydantic<3,>=1->langchain_core==0.2.1) (4.11.0)\n",
      "Requirement already satisfied: charset-normalizer<4,>=2 in /Users/khalidrajan/anaconda3/envs/llm-practice/lib/python3.10/site-packages (from requests<3,>=2->langsmith<0.2.0,>=0.1.0->langchain_core==0.2.1) (3.3.2)\n",
      "Requirement already satisfied: idna<4,>=2.5 in /Users/khalidrajan/anaconda3/envs/llm-practice/lib/python3.10/site-packages (from requests<3,>=2->langsmith<0.2.0,>=0.1.0->langchain_core==0.2.1) (3.7)\n",
      "Requirement already satisfied: urllib3<3,>=1.21.1 in /Users/khalidrajan/anaconda3/envs/llm-practice/lib/python3.10/site-packages (from requests<3,>=2->langsmith<0.2.0,>=0.1.0->langchain_core==0.2.1) (2.2.1)\n",
      "Requirement already satisfied: certifi>=2017.4.17 in /Users/khalidrajan/anaconda3/envs/llm-practice/lib/python3.10/site-packages (from requests<3,>=2->langsmith<0.2.0,>=0.1.0->langchain_core==0.2.1) (2024.2.2)\n",
      "Requirement already satisfied: numpy==1.26.4 in /Users/khalidrajan/anaconda3/envs/llm-practice/lib/python3.10/site-packages (1.26.4)\n",
      "Requirement already satisfied: pandas==2.2.2 in /Users/khalidrajan/anaconda3/envs/llm-practice/lib/python3.10/site-packages (2.2.2)\n",
      "Requirement already satisfied: numpy>=1.22.4 in /Users/khalidrajan/anaconda3/envs/llm-practice/lib/python3.10/site-packages (from pandas==2.2.2) (1.26.4)\n",
      "Requirement already satisfied: python-dateutil>=2.8.2 in /Users/khalidrajan/anaconda3/envs/llm-practice/lib/python3.10/site-packages (from pandas==2.2.2) (2.9.0)\n",
      "Requirement already satisfied: pytz>=2020.1 in /Users/khalidrajan/anaconda3/envs/llm-practice/lib/python3.10/site-packages (from pandas==2.2.2) (2024.1)\n",
      "Requirement already satisfied: tzdata>=2022.7 in /Users/khalidrajan/anaconda3/envs/llm-practice/lib/python3.10/site-packages (from pandas==2.2.2) (2024.1)\n",
      "Requirement already satisfied: six>=1.5 in /Users/khalidrajan/anaconda3/envs/llm-practice/lib/python3.10/site-packages (from python-dateutil>=2.8.2->pandas==2.2.2) (1.16.0)\n"
     ]
    }
   ],
   "source": [
    "! pip install openai==1.30.3\n",
    "! pip install langchain==0.2.1\n",
    "! pip install langchain_community==0.2.1\n",
    "! pip install langchain_openai==0.1.7\n",
    "! pip install langchain_text_splitters==0.2.0\n",
    "! pip install langchain_core==0.2.1\n",
    "! pip install numpy==1.26.4\n",
    "! pip install pandas==2.2.2"
   ]
  },
  {
   "cell_type": "code",
   "execution_count": 177,
   "metadata": {},
   "outputs": [],
   "source": [
    "import langchain\n",
    "import os"
   ]
  },
  {
   "cell_type": "code",
   "execution_count": 179,
   "metadata": {},
   "outputs": [],
   "source": [
    "os.environ[\"YDC_API_KEY\"] = \"<Insert your YDC API key here>\"\n",
    "os.environ[\"OPENAI_API_KEY\"] = \"<Insert your Open AI API key here>\""
   ]
  },
  {
   "cell_type": "markdown",
   "metadata": {},
   "source": [
    "## Instantiating the You.com Retriever in Langchain"
   ]
  },
  {
   "cell_type": "markdown",
   "metadata": {},
   "source": [
    "Langchain provides a You.com retriever.  For more information, please visit: https://python.langchain.com/v0.1/docs/integrations/retrievers/you-retriever/"
   ]
  },
  {
   "cell_type": "code",
   "execution_count": 180,
   "metadata": {},
   "outputs": [],
   "source": [
    "from langchain_community.retrievers.you import YouRetriever\n",
    "\n",
    "ydc_retriever = YouRetriever(num_web_results = 10)"
   ]
  },
  {
   "cell_type": "code",
   "execution_count": 181,
   "metadata": {},
   "outputs": [
    {
     "data": {
      "text/plain": [
       "[Document(page_content='Every year, economists in the CPI calculate new seasonal factors for seasonally adjusted series and apply them to the last 5 years of data. Seasonally adjusted indexes beyond the last 5 years of data are considered to be final and not subject to revision. For January 2024, revised seasonal factors and seasonally adjusted indexes for 2019 to 2023 were calculated and published.', metadata={'url': 'https://www.bls.gov/news.release/cpi.nr0.htm', 'thumbnail_url': None, 'title': 'Consumer Price Index Summary - 2024 M04 Results', 'description': 'The following table shows an example of using index values to calculate percent changes: Item A Item B Item C Year I 112.500 225.000 110.000 Year II 121.500 243.000 128.000 Change in index points 9.000 18.000 18.000 Percent change 9.0/112.500 x 100 = 8.0 18.0/225.000 x 100 = 8.0 18.0/110.000 x 100 = 16.4 Use of Seasonally Adjusted and Unadjusted Data The Consumer Price Index (CPI) program produces both unadjusted and seasonally adjusted data. Seasonally adjusted data are computed using seasonal factors derived by the X-13ARIMA-SEATS seasonal adjustment method. These factors are updated each February, and the new factors are used to revise the previous 5 years of seasonally adjusted data. The factors are available at www.bls.gov/cpi/tables/seasonal-adjustment/seasonal-factors-2024.xlsx.'}),\n",
       " Document(page_content='The following table shows an example of using index values to calculate percent changes: Item A Item B Item C Year I 112.500 225.000 110.000 Year II 121.500 243.000 128.000 Change in index points 9.000 18.000 18.000 Percent change 9.0/112.500 x 100 = 8.0 18.0/225.000 x 100 = 8.0 18.0/110.000 x 100 = 16.4 Use of Seasonally Adjusted and Unadjusted Data The Consumer Price Index (CPI) program produces both unadjusted and seasonally adjusted data. Seasonally adjusted data are computed using seasonal factors derived by the X-13ARIMA-SEATS seasonal adjustment method. These factors are updated each February, and the new factors are used to revise the previous 5 years of seasonally adjusted data. The factors are available at www.bls.gov/cpi/tables/seasonal-adjustment/seasonal-factors-2024.xlsx.', metadata={'url': 'https://www.bls.gov/news.release/cpi.nr0.htm', 'thumbnail_url': None, 'title': 'Consumer Price Index Summary - 2024 M04 Results', 'description': 'The following table shows an example of using index values to calculate percent changes: Item A Item B Item C Year I 112.500 225.000 110.000 Year II 121.500 243.000 128.000 Change in index points 9.000 18.000 18.000 Percent change 9.0/112.500 x 100 = 8.0 18.0/225.000 x 100 = 8.0 18.0/110.000 x 100 = 16.4 Use of Seasonally Adjusted and Unadjusted Data The Consumer Price Index (CPI) program produces both unadjusted and seasonally adjusted data. Seasonally adjusted data are computed using seasonal factors derived by the X-13ARIMA-SEATS seasonal adjustment method. These factors are updated each February, and the new factors are used to revise the previous 5 years of seasonally adjusted data. The factors are available at www.bls.gov/cpi/tables/seasonal-adjustment/seasonal-factors-2024.xlsx.'}),\n",
       " Document(page_content='The last step is for motor fuel seasonal factors to be applied to the unadjusted data. For the seasonal factors introduced for January 2024, BLS adjusted 46 series using intervention analysis seasonal adjustment, including selected food and beverage items, motor fuels and vehicles. Revision of Seasonally Adjusted Indexes Seasonally adjusted data, including the U.S. city average all items index levels, are subject to revision for up to 5 years after their original release. Every year, economists in the CPI calculate new seasonal factors for seasonally adjusted series and apply them to the last 5 years of data.', metadata={'url': 'https://www.bls.gov/news.release/cpi.nr0.htm', 'thumbnail_url': None, 'title': 'Consumer Price Index Summary - 2024 M04 Results', 'description': 'The following table shows an example of using index values to calculate percent changes: Item A Item B Item C Year I 112.500 225.000 110.000 Year II 121.500 243.000 128.000 Change in index points 9.000 18.000 18.000 Percent change 9.0/112.500 x 100 = 8.0 18.0/225.000 x 100 = 8.0 18.0/110.000 x 100 = 16.4 Use of Seasonally Adjusted and Unadjusted Data The Consumer Price Index (CPI) program produces both unadjusted and seasonally adjusted data. Seasonally adjusted data are computed using seasonal factors derived by the X-13ARIMA-SEATS seasonal adjustment method. These factors are updated each February, and the new factors are used to revise the previous 5 years of seasonally adjusted data. The factors are available at www.bls.gov/cpi/tables/seasonal-adjustment/seasonal-factors-2024.xlsx.'})]"
      ]
     },
     "execution_count": 181,
     "metadata": {},
     "output_type": "execute_result"
    }
   ],
   "source": [
    "# Let's test it out\n",
    "response = ydc_retriever.invoke(\"British Columbia’s Consumer Price Index (CPI) in April 2024 was 2.9% higher (unadjusted) than in April 2023.  How does this compare to the Canadian CPI?\")\n",
    "# Let's take a look at the first 3 responses\n",
    "response[:3]"
   ]
  },
  {
   "cell_type": "markdown",
   "metadata": {},
   "source": [
    "## Creating a Vector DB retriever based on data from a PDF File"
   ]
  },
  {
   "cell_type": "markdown",
   "metadata": {},
   "source": [
    "We are going to load a PDF file using the PyPDFLoader in Langchain.  We will then use the RecursiveTextSplitter in Langchain to split the documents into chuncks that can be vectorized.  The vectorized chunks of text will be stored in a Facebook AI Similarity Search (FAISS) vector store.  This vector store will be converted into a Langchain retriever."
   ]
  },
  {
   "cell_type": "code",
   "execution_count": 182,
   "metadata": {},
   "outputs": [],
   "source": [
    "from langchain_community.document_loaders import PyPDFLoader\n",
    "\n",
    "# The PDF file we are using can be downloaded from: https://www2.gov.bc.ca/assets/gov/data/statistics/economy/cpi/cpi_highlights.pdf\n",
    "# load the PDF file\n",
    "loader = PyPDFLoader(\"bc_cpi_highlights.pdf\")\n",
    "docs = loader.load()"
   ]
  },
  {
   "cell_type": "code",
   "execution_count": 183,
   "metadata": {},
   "outputs": [],
   "source": [
    "from langchain_community.vectorstores import FAISS\n",
    "from langchain_openai import OpenAIEmbeddings\n",
    "from langchain.text_splitter import RecursiveCharacterTextSplitter\n",
    "\n",
    "# split the document into chunks, and vectorize these chunks in a FAISS database\n",
    "text_splitter = RecursiveCharacterTextSplitter(chunk_size = 1000, chunk_overlap = 100)\n",
    "notes = text_splitter.split_documents(docs)\n",
    "embeddings = OpenAIEmbeddings()\n",
    "db = FAISS.from_documents(documents=notes, embedding=embeddings)"
   ]
  },
  {
   "cell_type": "code",
   "execution_count": 184,
   "metadata": {},
   "outputs": [
    {
     "data": {
      "text/plain": [
       "'(excluding fish, seafood, and other marine products) \\n(+2.1%). At the same time, fruit, fruit preparations, \\nand nut s was the only major food category to \\ndecrease in price (- 0.1%)  \\nBritish Columbians paid more for both  health (+2.7%) \\nand personal (+ 2.0%) care  when compared to \\n12-months ago. Services, instead of items within \\nthese categories, had the largest price increase. Personal services (such a hairdressing) cost 4.8% \\nmore when compared to 12 -months ago, while the \\ncost of health care services (such as eye and dental \\ncare) increased by 4.3%.  Consumer Price \\nIndex   \\n \\n \\nReference date:  April  2024  Issue:  #24-04 Released:  May 21 , 2024 \\n      \\n-5.8-1.91.92.22.32.62.82.96.8\\nClothing & FootwearHouseholdRecreationAlc., Tob., & CannabisHealth & PersonalFoodTransportationAll-itemsShelterInflation by Category\\n% change, same month previous year'"
      ]
     },
     "execution_count": 184,
     "metadata": {},
     "output_type": "execute_result"
    }
   ],
   "source": [
    "# test out the similarity search\n",
    "query = \"How much did food prices increase in April 2024?\"\n",
    "response = db.similarity_search(query, k=3)\n",
    "response[0].page_content"
   ]
  },
  {
   "cell_type": "code",
   "execution_count": 185,
   "metadata": {},
   "outputs": [],
   "source": [
    "# Create the retriever\n",
    "faiss_retriever = db.as_retriever()"
   ]
  },
  {
   "cell_type": "markdown",
   "metadata": {},
   "source": [
    "## Create an Ensemble Retriever using the You.Com Retriever and the FAISS Retriever"
   ]
  },
  {
   "cell_type": "markdown",
   "metadata": {},
   "source": [
    "The Ensemble Retriever in Langchain ensembles results from multiple retrievers.  We will create an Ensemble Retriever with the FAISS Vector store retriever and the You.com retriever that we defined above as constituent retrievers."
   ]
  },
  {
   "cell_type": "code",
   "execution_count": 186,
   "metadata": {},
   "outputs": [],
   "source": [
    "from langchain.retrievers import EnsembleRetriever\n",
    "\n",
    "ensemble_retriever = EnsembleRetriever(\n",
    "    retrievers = [ydc_retriever, faiss_retriever], weights = [0.5, 0.5]\n",
    ")"
   ]
  },
  {
   "cell_type": "markdown",
   "metadata": {},
   "source": [
    "## Instantiate the LLM"
   ]
  },
  {
   "cell_type": "code",
   "execution_count": 187,
   "metadata": {},
   "outputs": [],
   "source": [
    "from langchain_openai import ChatOpenAI\n",
    "llm = ChatOpenAI(model=\"gpt-4o\", temperature=0.5)"
   ]
  },
  {
   "cell_type": "markdown",
   "metadata": {},
   "source": [
    "## Create the Prompt Template"
   ]
  },
  {
   "cell_type": "code",
   "execution_count": 188,
   "metadata": {},
   "outputs": [],
   "source": [
    "system_prompt = \"\"\"\n",
    "You are an assistant that answers questions pertaining to CPI (Consumer Price Index).  Please utilize the following retrieved context from the web and from a proprietary\n",
    "datasource to provide an accurate answer to the question.  Please try and utilize numbers where applicable to substantiate your answer.  If you do not know the answer, simply say you do not \n",
    "know the answer.  Please keep the response concise.\n",
    "\n",
    "{context}\n",
    "\"\"\""
   ]
  },
  {
   "cell_type": "code",
   "execution_count": 189,
   "metadata": {},
   "outputs": [],
   "source": [
    "from langchain_core.prompts import ChatPromptTemplate, MessagesPlaceholder\n",
    "\n",
    "qa_prompt = ChatPromptTemplate.from_messages(\n",
    "    [\n",
    "        (\"system\", system_prompt),\n",
    "        (\"human\", \"{input}\"),\n",
    "    ]\n",
    ")"
   ]
  },
  {
   "cell_type": "markdown",
   "metadata": {},
   "source": [
    "## Create a basic chain without chat history"
   ]
  },
  {
   "cell_type": "markdown",
   "metadata": {},
   "source": [
    "We will test our chain first without chat history."
   ]
  },
  {
   "cell_type": "code",
   "execution_count": 190,
   "metadata": {},
   "outputs": [],
   "source": [
    "from langchain.chains.combine_documents import create_stuff_documents_chain\n",
    "from langchain.chains import create_retrieval_chain\n",
    "\n",
    "qa_chain = create_stuff_documents_chain(llm, qa_prompt)\n",
    "rag_chain = create_retrieval_chain(ensemble_retriever, qa_chain)"
   ]
  },
  {
   "cell_type": "code",
   "execution_count": 191,
   "metadata": {},
   "outputs": [],
   "source": [
    "response = rag_chain.invoke({\"input\": \"How did the CPI in April 2024 in BC compare to the national CPI in Canada?\"})"
   ]
  },
  {
   "cell_type": "code",
   "execution_count": 192,
   "metadata": {},
   "outputs": [
    {
     "data": {
      "text/plain": [
       "'In April 2024, the Consumer Price Index (CPI) in British Columbia increased by 2.9% compared to April 2023. Nationally, the CPI in Canada increased by 2.7% over the same period. Therefore, the CPI in British Columbia rose slightly more than the national average.'"
      ]
     },
     "execution_count": 192,
     "metadata": {},
     "output_type": "execute_result"
    }
   ],
   "source": [
    "response[\"answer\"]"
   ]
  },
  {
   "cell_type": "markdown",
   "metadata": {},
   "source": [
    "## Add chat history to our chatbot"
   ]
  },
  {
   "cell_type": "markdown",
   "metadata": {},
   "source": [
    "Chat history is an integral component of any chat application, as the input query might require additional conversational context to be understood by the LLM.  We are going to add chat history to our chatbot, and contextualize the input prompts with chat history."
   ]
  },
  {
   "cell_type": "code",
   "execution_count": 193,
   "metadata": {},
   "outputs": [],
   "source": [
    "# Create a prompt that utilizes the chat history as context to reformulate the most recent input, as a standalone question that the LLM can comprehend\n",
    "from langchain.chains import create_history_aware_retriever\n",
    "\n",
    "contextualize_q_system_prompt = \"\"\"\n",
    "Given a chat history and the latest question, which might reference context in the chat history, formulate a standalone question, which can be understood without chat history.\n",
    "Do not answer the question, just reformulate the question if necessary and return it as it otherwise.\n",
    "\"\"\"\n",
    "\n",
    "contextualize_q_prompt = ChatPromptTemplate.from_messages(\n",
    "    [\n",
    "        (\"system\", contextualize_q_system_prompt),\n",
    "        MessagesPlaceholder(\"chat_history\"),\n",
    "        (\"human\", \"{input}\")\n",
    "    ]\n",
    ")"
   ]
  },
  {
   "cell_type": "code",
   "execution_count": 194,
   "metadata": {},
   "outputs": [],
   "source": [
    "# Create a chain that takes conversation history and contextualizes the prompt\n",
    "history_aware_retriever = create_history_aware_retriever(llm, ensemble_retriever, contextualize_q_prompt)"
   ]
  },
  {
   "cell_type": "code",
   "execution_count": 195,
   "metadata": {},
   "outputs": [],
   "source": [
    "# rejig qa prompt to include the chat history\n",
    "qa_prompt = ChatPromptTemplate.from_messages(\n",
    "    [\n",
    "        (\"system\", system_prompt),\n",
    "        MessagesPlaceholder(\"chat_history\"),\n",
    "        (\"human\", \"{input}\")\n",
    "    ]\n",
    ")"
   ]
  },
  {
   "cell_type": "code",
   "execution_count": 196,
   "metadata": {},
   "outputs": [],
   "source": [
    "from langchain_core.chat_history import BaseChatMessageHistory\n",
    "from langchain_community.chat_message_histories import ChatMessageHistory\n",
    "\n",
    "# statefully manage session history\n",
    "store = {}\n",
    "\n",
    "def get_session_history(session_id: str) -> BaseChatMessageHistory:\n",
    "    if session_id not in store:\n",
    "        store[session_id] = ChatMessageHistory()\n",
    "        \n",
    "    return store[session_id]"
   ]
  },
  {
   "cell_type": "code",
   "execution_count": 197,
   "metadata": {},
   "outputs": [],
   "source": [
    "# create chains that include message history\n",
    "qa_chain = create_stuff_documents_chain(llm, qa_prompt)\n",
    "rag_chain = create_retrieval_chain(history_aware_retriever, qa_chain)"
   ]
  },
  {
   "cell_type": "code",
   "execution_count": 198,
   "metadata": {},
   "outputs": [],
   "source": [
    "from langchain_core.runnables.history import RunnableWithMessageHistory\n",
    "\n",
    "# create final chain that ties everything together\n",
    "\n",
    "conversation_rag_chain = RunnableWithMessageHistory(\n",
    "    rag_chain,\n",
    "    get_session_history,\n",
    "    input_messages_key = \"input\",\n",
    "    history_messages_key = \"chat_history\",\n",
    "    output_messages_key = \"answer\"\n",
    ")"
   ]
  },
  {
   "cell_type": "markdown",
   "metadata": {},
   "source": [
    "## Let's try it out!"
   ]
  },
  {
   "cell_type": "code",
   "execution_count": 199,
   "metadata": {},
   "outputs": [
    {
     "data": {
      "text/plain": [
       "'In April 2024, food prices in British Columbia increased by 2.6% compared to April 2023.'"
      ]
     },
     "execution_count": 199,
     "metadata": {},
     "output_type": "execute_result"
    }
   ],
   "source": [
    "conversation_rag_chain.invoke({\"input\": \"How much did food prices increase in April 2024 in BC compared to April 2023?\"}, config = {\"configurable\": {\"session_id\": \"xyz_789\"}})[\"answer\"]"
   ]
  },
  {
   "cell_type": "code",
   "execution_count": 200,
   "metadata": {},
   "outputs": [
    {
     "data": {
      "text/plain": [
       "'In April 2024, food prices in Canada increased by 2.3% compared to April 2023. Therefore, the increase in food prices in British Columbia (2.6%) was slightly higher than the national increase.'"
      ]
     },
     "execution_count": 200,
     "metadata": {},
     "output_type": "execute_result"
    }
   ],
   "source": [
    "conversation_rag_chain.invoke({\"input\": \"How does that compare to the increase in food prices across the nation?\"}, config = {\"configurable\": {\"session_id\": \"xyz_789\"}})[\"answer\"]"
   ]
  },
  {
   "cell_type": "code",
   "execution_count": 201,
   "metadata": {},
   "outputs": [
    {
     "data": {
      "text/plain": [
       "'Several factors contributed to the rising food prices in British Columbia in April 2024:\\n\\n1. **Climate Events:** Adverse climate events such as wildfires and flooding have negatively impacted harvests, contributing to higher food prices.\\n2. **Supply Constraints:** Ongoing supply constraints have affected the availability of certain food products, driving up prices.\\n3. **Geopolitical Conflicts:** Geopolitical conflicts, particularly in Ukraine and the Middle East, have disrupted supply chains and contributed to higher food costs.\\n4. **High Demand:** Specific categories like beef and veal saw significant price increases due to tight supplies and strong demand.\\n5. **Overall Inflation:** General inflationary pressures in the economy also played a role in driving up food prices.\\n\\nThese factors combined to create an environment where food prices rose more sharply in British Columbia than in some other regions.'"
      ]
     },
     "execution_count": 201,
     "metadata": {},
     "output_type": "execute_result"
    }
   ],
   "source": [
    "conversation_rag_chain.invoke({\"input\": \"What contributed to the rising food prices in BC in April 2024?\"}, config = {\"configurable\": {\"session_id\": \"xyz_789\"}})[\"answer\"]"
   ]
  },
  {
   "cell_type": "code",
   "execution_count": 202,
   "metadata": {},
   "outputs": [
    {
     "data": {
      "text/plain": [
       "'In April 2024, the Consumer Price Index (CPI) in British Columbia increased by 2.9% compared to April 2023. Nationally, the CPI in Canada rose by 2.7% over the same period. Therefore, the CPI increase in British Columbia was slightly higher than the national average.'"
      ]
     },
     "execution_count": 202,
     "metadata": {},
     "output_type": "execute_result"
    }
   ],
   "source": [
    "conversation_rag_chain.invoke({\"input\": \"How did the CPI in April 2024 in BC compare to the national CPI in Canada?\"}, config = {\"configurable\": {\"session_id\": \"xyz_789\"}})[\"answer\"]"
   ]
  },
  {
   "cell_type": "markdown",
   "metadata": {},
   "source": [
    "## Create a Python object that encapsulates the functionality of creating a chatbot that retrieves context from PDF files and the web"
   ]
  },
  {
   "cell_type": "markdown",
   "metadata": {},
   "source": [
    "Let's create a Python class that encapsulates the code above.  This will enable users to easily create chatbots for new use cases with custom PDF files and prompts."
   ]
  },
  {
   "cell_type": "code",
   "execution_count": 204,
   "metadata": {},
   "outputs": [],
   "source": [
    "import secrets\n",
    "class PDF_QA_Bot:\n",
    "    def __init__(self, llm: ChatOpenAI, pdf_files: list[str], system_prompt: str, num_web_results_to_fetch: int = 10):\n",
    "        \n",
    "        self._llm = llm\n",
    "        \n",
    "        docs = self._load_pdf_documents(pdf_files)\n",
    "        \n",
    "        # split the docs into chunks, vectorize the chunks and load them into a vector store\n",
    "        db = self._create_vector_store(docs)\n",
    "        \n",
    "        # create Langchain retriever from the vector store\n",
    "        self._faiss_retriever = db.as_retriever()\n",
    "        \n",
    "        # create YDC retriever\n",
    "        self._ydc_retriever = YouRetriever(num_web_results = num_web_results_to_fetch)\n",
    "\n",
    "        # create ensemble retriever \n",
    "        self._ensemble_retriever = EnsembleRetriever(\n",
    "            retrievers = [self._ydc_retriever, self._faiss_retriever], weights = [0.5, 0.5]\n",
    "        )\n",
    "\n",
    "        # create the system prompt from the user input\n",
    "        self._system_prompt = system_prompt + \"\\n\\n\" + \"{context}\"\n",
    "\n",
    "        self._contextualize_q_system_prompt = \"\"\"\n",
    "        Given a chat history and the latest question, which might reference context in the chat history, formulate a standalone question, which can be understood without chat history.\n",
    "        Do not answer the question, just reformulate the question if necessary and return it as it otherwise.\n",
    "        \"\"\"\n",
    "\n",
    "        # Create a prompt that utilizes the chat history as context to reformulate the most recent input, as a standalone question that the LLM can comprehend\n",
    "        self._contextualize_q_prompt = ChatPromptTemplate.from_messages(\n",
    "            [\n",
    "                (\"system\", contextualize_q_system_prompt),\n",
    "                MessagesPlaceholder(\"chat_history\"),\n",
    "                (\"human\", \"{input}\")\n",
    "            ]\n",
    "        )\n",
    "\n",
    "        self._history_aware_retriever = create_history_aware_retriever(self._llm, ensemble_retriever, contextualize_q_prompt)\n",
    "\n",
    "        self._qa_prompt = ChatPromptTemplate.from_messages(\n",
    "            [\n",
    "                (\"system\", system_prompt),\n",
    "                MessagesPlaceholder(\"chat_history\"),\n",
    "                (\"human\", \"{input}\")\n",
    "            ]\n",
    "        )\n",
    "\n",
    "        self._messages_store = {}\n",
    "        self._session_id = self._generate_session_id()\n",
    "\n",
    "        # create chains that include message history\n",
    "        self._qa_chain = create_stuff_documents_chain(self._llm, qa_prompt)\n",
    "        self._rag_chain = create_retrieval_chain(history_aware_retriever, qa_chain)\n",
    "\n",
    "        # create final chain that ties everything together\n",
    "        self._conversation_rag_chain = RunnableWithMessageHistory(\n",
    "            rag_chain,\n",
    "            self._get_session_history,\n",
    "            input_messages_key = \"input\",\n",
    "            history_messages_key = \"chat_history\",\n",
    "            output_messages_key = \"answer\"\n",
    "        )\n",
    "        \n",
    "    def _load_pdf_documents(self, pdf_files: list[str]) -> list:\n",
    "        docs = []\n",
    "        for file in pdf_files:\n",
    "            file_loader = PyPDFLoader(file)\n",
    "            docs.extend(file_loader.load())\n",
    "        return docs\n",
    "    \n",
    "    def _create_vector_store(self, docs: list):\n",
    "        text_splitter = RecursiveCharacterTextSplitter(chunk_size=1000, chunk_overlap=100)\n",
    "        chunked_docs = text_splitter.split_documents(docs)\n",
    "        embeddings = OpenAIEmbeddings()\n",
    "        return FAISS.from_documents(documents=chunked_docs, embedding=embeddings)\n",
    "    \n",
    "    \n",
    "    def _get_session_history(self, session_id) -> BaseChatMessageHistory:\n",
    "        \"\"\"Statefully manage chat history\"\"\"\n",
    "        if session_id not in store:\n",
    "            store[session_id] = ChatMessageHistory()\n",
    "            \n",
    "        return store[self._session_id]\n",
    "    \n",
    "    def _generate_session_id(self) -> str:\n",
    "        session_id = secrets.token_urlsafe(16)\n",
    "        return session_id\n",
    "    \n",
    "    def invoke_bot(self, input_str: str) -> str:\n",
    "        input = {\"input\": input_str}\n",
    "        config = {\"configurable\": {\"session_id\": self._session_id}}\n",
    "        output = self._conversation_rag_chain.invoke(input, config)\n",
    "        return output[\"answer\"]\n",
    "        \n",
    "\n",
    "        "
   ]
  },
  {
   "cell_type": "markdown",
   "metadata": {},
   "source": [
    "## Let's try it out!"
   ]
  },
  {
   "cell_type": "code",
   "execution_count": 205,
   "metadata": {},
   "outputs": [],
   "source": [
    "conversational_rag_system_prompt = \"\"\"You are an assistant that answers questions pertaining to CPI (Consumer Price Index).  Please utilize the following retrieved context from the web and from a proprietary\n",
    "datasource to provide an accurate answer to the question.  Please try and utilize numbers where applicable to substantiate your answer.  If you do not know the answer, simply say you do not \n",
    "know the answer.  Please keep the response concise.\"\"\"\n",
    "conversational_rag = PDF_QA_Bot(llm, pdf_files=[\"bc_cpi_highlights.pdf\"], system_prompt=conversational_rag_system_prompt, num_web_results_to_fetch=10)"
   ]
  },
  {
   "cell_type": "code",
   "execution_count": 206,
   "metadata": {},
   "outputs": [
    {
     "data": {
      "text/plain": [
       "'Food prices in British Columbia increased by 2.6% in April 2024 compared to April 2023.'"
      ]
     },
     "execution_count": 206,
     "metadata": {},
     "output_type": "execute_result"
    }
   ],
   "source": [
    "conversational_rag.invoke_bot(\"How much did food prices increase in April 2024 in BC compared to April 2023?\")"
   ]
  },
  {
   "cell_type": "code",
   "execution_count": 207,
   "metadata": {},
   "outputs": [
    {
     "data": {
      "text/plain": [
       "'Nationally, food prices in Canada increased by 2.3% in April 2024 compared to April 2023. Therefore, the increase in food prices in British Columbia (2.6%) was slightly higher than the national average.'"
      ]
     },
     "execution_count": 207,
     "metadata": {},
     "output_type": "execute_result"
    }
   ],
   "source": [
    "conversational_rag.invoke_bot(\"How does that compare to the increase in food prices across the nation?\")"
   ]
  },
  {
   "cell_type": "code",
   "execution_count": 208,
   "metadata": {},
   "outputs": [
    {
     "data": {
      "text/plain": [
       "'The rise in food prices in British Columbia in April 2024 can be attributed to several factors:\\n\\n1. **Meat Prices:** Beef and veal prices rose by 0.8% in April 2024 and were 7.0% higher than April 2023 due to tight supplies and strong demand. Beef and veal prices are predicted to increase by 4.0% in 2024. Pork prices increased by 2.9% in April 2024 and were 18.3% higher than April 2023 due to higher demand.\\n\\n2. **Bakery Goods and Vegetables:** These categories are expected to see significant cost increases, contributing to the overall rise in food prices.\\n\\n3. **Energy Costs:** Although the average price index for energy decreased by 3.9%, energy costs still play a role in the overall cost of food production and transportation.\\n\\n4. **Global Events:** Factors such as climate events (wildfires and flooding) and international market conditions have also impacted food prices.\\n\\n5. **Consumer Demand Trends:** Shifting consumer demand trends and supply constraints have further contributed to the rising food prices.\\n\\nThese combined factors have led to an overall increase in food prices in British Columbia.'"
      ]
     },
     "execution_count": 208,
     "metadata": {},
     "output_type": "execute_result"
    }
   ],
   "source": [
    "conversational_rag.invoke_bot(\"What contributed to the rising food prices in BC in April 2024?\")"
   ]
  }
 ],
 "metadata": {
  "kernelspec": {
   "display_name": "llm-practice",
   "language": "python",
   "name": "python3"
  },
  "language_info": {
   "codemirror_mode": {
    "name": "ipython",
    "version": 3
   },
   "file_extension": ".py",
   "mimetype": "text/x-python",
   "name": "python",
   "nbconvert_exporter": "python",
   "pygments_lexer": "ipython3",
   "version": "3.10.14"
  }
 },
 "nbformat": 4,
 "nbformat_minor": 2
}
